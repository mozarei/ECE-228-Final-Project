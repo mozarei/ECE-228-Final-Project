{
 "cells": [
  {
   "cell_type": "code",
   "execution_count": null,
   "metadata": {},
   "outputs": [],
   "source": [
    "import pandas as pd\n",
    "import numpy as np\n",
    "import seaborn as sns\n",
    "import matplotlib.pyplot as plt\n",
    "from matplotlib.pyplot import figure\n",
    "from sklearn.model_selection import train_test_split\n",
    "from sklearn.linear_model import LogisticRegression\n",
    "from sklearn.metrics import mean_squared_error\n",
    "from sklearn import svm\n",
    "from sklearn.tree import DecisionTreeRegressor\n",
    "from sklearn.ensemble import RandomForestRegressor\n",
    "from sklearn.neighbors import KNeighborsRegressor\n",
    "from sklearn import preprocessing\n",
    "import time\n",
    "import seaborn as sns\n",
    "import plotly.graph_objs as go\n",
    "from plotly.offline import init_notebook_mode, iplot\n",
    "from sklearn.utils import shuffle\n",
    "from sklearn import preprocessing\n",
    "from sklearn.preprocessing import LabelEncoder\n",
    "import os\n",
    "from sklearn.preprocessing import StandardScaler\n",
    "from sklearn.model_selection import train_test_split\n",
    "from sklearn.metrics import classification_report,confusion_matrix\n",
    "from sklearn.ensemble import RandomForestClassifier"
   ]
  },
  {
   "cell_type": "code",
   "execution_count": null,
   "metadata": {},
   "outputs": [],
   "source": [
    "data = pd.read_csv('weatherAUS.csv')"
   ]
  },
  {
   "cell_type": "code",
   "execution_count": null,
   "metadata": {},
   "outputs": [],
   "source": [
    "# removing features withg many null values\n",
    "data.drop(['Evaporation','Sunshine','Cloud9am','Cloud3pm'],axis=1,inplace=True)"
   ]
  },
  {
   "cell_type": "code",
   "execution_count": null,
   "metadata": {},
   "outputs": [],
   "source": [
    "#replace the nulls with mean values of each feature\n",
    "data['MinTemp'].fillna(data['MinTemp'].mean(),inplace=True)\n",
    "data['MaxTemp'].fillna(data['MaxTemp'].mean(),inplace=True)\n",
    "data['Rainfall'].fillna(data['Rainfall'].mean(),inplace=True)\n",
    "data['WindGustSpeed'].fillna(data['WindGustSpeed'].mean(),inplace=True)\n",
    "data['WindSpeed9am'].fillna(data['WindSpeed9am'].mean(),inplace=True)\n",
    "data['WindSpeed3pm'].fillna(data['WindSpeed3pm'].mean(),inplace=True)\n",
    "data['Humidity9am'].fillna(data['Humidity9am'].mean(),inplace=True)\n",
    "data['Humidity3pm'].fillna(data['Humidity3pm'].mean(),inplace=True)\n",
    "data['Pressure9am'].fillna(data['Pressure9am'].mean(),inplace=True)\n",
    "data['Pressure3pm'].fillna(data['Pressure3pm'].mean(),inplace=True)\n",
    "data['Temp9am'].fillna(data['Temp9am'].mean(),inplace=True)\n",
    "data['Temp3pm'].fillna(data['Temp3pm'].mean(),inplace=True)"
   ]
  },
  {
   "cell_type": "code",
   "execution_count": null,
   "metadata": {},
   "outputs": [],
   "source": [
    "data['WindGustDir'].replace(np.nan,  'W',inplace=True)\n",
    "data['WindDir9am'].replace(np.nan, 'N',inplace=True)\n",
    "data['WindDir3pm'].replace(np.nan, 'SE',inplace=True) \n",
    "data['RainToday'].replace(np.nan,  'Yes',inplace=True)\n",
    "data['RainTomorrow'].replace(np.nan, 'Yes',inplace=True)"
   ]
  },
  {
   "cell_type": "code",
   "execution_count": null,
   "metadata": {},
   "outputs": [],
   "source": [
    "# encode \n",
    "data['RainToday'] = data['RainToday'].map({'Yes':1,'No':0})\n",
    "data['RainTomorrow'] = data['RainTomorrow'].map({'Yes':1,'No':0})\n",
    "data['Date'] = pd.to_datetime(data['Date'])"
   ]
  },
  {
   "cell_type": "code",
   "execution_count": null,
   "metadata": {},
   "outputs": [],
   "source": [
    "from sklearn.preprocessing import LabelEncoder\n",
    "le = LabelEncoder()\n",
    "var_mod = ['Date','Location','WindGustDir','WindDir9am','WindDir3pm']\n",
    "for i in var_mod:\n",
    "    data[i] = le.fit_transform(data[i])"
   ]
  },
  {
   "cell_type": "code",
   "execution_count": null,
   "metadata": {},
   "outputs": [],
   "source": [
    "X = data.drop('RainTomorrow',axis=1)\n",
    "Y = data['RainTomorrow']"
   ]
  },
  {
   "cell_type": "code",
   "execution_count": null,
   "metadata": {},
   "outputs": [],
   "source": [
    "\n",
    "def run_rf(X,Y):\n",
    "    X_train,X_test, y_train, y_test = train_test_split(X, Y, stratify=Y, test_size=0.33)\n",
    "    start = time.process_time()\n",
    "    model = RandomForestClassifier(n_estimators=700)\n",
    "    model.fit(X_train,y_train)\n",
    "    print('Run Time is:', time.process_time() - start)\n",
    "    pred = model.predict(X_test)\n",
    "    print('\\n')\n",
    "    print('The confusion Matrix is:\\n',confusion_matrix(y_test,pred))\n",
    "    print('\\n')\n",
    "    print('The classification report is:\\n',classification_report(y_test,pred))\n"
   ]
  },
  {
   "cell_type": "code",
   "execution_count": null,
   "metadata": {},
   "outputs": [],
   "source": [
    "# run rf on original data\n",
    "run_rf(X[:1000],Y[:1000])"
   ]
  },
  {
   "cell_type": "markdown",
   "metadata": {},
   "source": [
    "."
   ]
  },
  {
   "cell_type": "markdown",
   "metadata": {},
   "source": [
    "."
   ]
  },
  {
   "cell_type": "markdown",
   "metadata": {},
   "source": [
    "Feature Extraction : PCA"
   ]
  },
  {
   "cell_type": "code",
   "execution_count": null,
   "metadata": {},
   "outputs": [],
   "source": [
    "df1 = data"
   ]
  },
  {
   "cell_type": "code",
   "execution_count": null,
   "metadata": {},
   "outputs": [],
   "source": [
    "from sklearn.decomposition import PCA\n",
    "pca = PCA(n_components=2)\n",
    "X_pca = pca.fit_transform(X)\n",
    "PCA_df = pd.DataFrame(data = X_pca, columns = ['PC1', 'PC2'])\n",
    "PCA_df = pd.concat([PCA_df, df1['RainTomorrow']], axis = 1)\n",
    "PCA_df['RainTomorrow'] = LabelEncoder().fit_transform(PCA_df['RainTomorrow'])\n",
    "PCA_df.head()"
   ]
  },
  {
   "cell_type": "code",
   "execution_count": null,
   "metadata": {},
   "outputs": [],
   "source": [
    "# run rf on PCA 2D\n",
    "run_rf(X_pca[:1000],Y[:1000])"
   ]
  },
  {
   "cell_type": "code",
   "execution_count": null,
   "metadata": {},
   "outputs": [],
   "source": [
    "figure(num=None, figsize=(8, 8), dpi=80, facecolor='w', edgecolor='k')\n",
    "\n",
    "classes = [1, 0]\n",
    "colors = ['r', 'b']\n",
    "for clas, color in zip(classes, colors):\n",
    "    plt.scatter(PCA_df.loc[PCA_df['RainTomorrow'] == clas, 'PC1'], PCA_df.loc[PCA_df['RainTomorrow'] == clas, 'PC2'], c = color)\n",
    "    \n",
    "plt.xlabel('Principal Component 1', fontsize = 12)\n",
    "plt.ylabel('Principal Component 2', fontsize = 12)\n",
    "plt.title('2D PCA', fontsize = 15)\n",
    "plt.legend(['will rain', 'wont rain'])\n",
    "plt.grid()\n"
   ]
  },
  {
   "cell_type": "code",
   "execution_count": null,
   "metadata": {},
   "outputs": [],
   "source": [
    "var_ratio = pca.explained_variance_ratio_\n",
    "cum_var_ratio = np.cumsum(var_ratio)\n",
    "\n",
    "trace1 = dict(\n",
    "    type='bar',\n",
    "    x=['PC %s' %i for i in range(1,5)],\n",
    "    y=var_ratio,\n",
    "    name='Each PC'\n",
    ")\n",
    "\n",
    "trace2 = dict(\n",
    "    type='scatter',\n",
    "    x=['PC %s' %i for i in range(1,5)], \n",
    "    y=cum_var_ratio,\n",
    "    name='Cumulative'\n",
    ")\n",
    "\n",
    "data = [trace1, trace2]\n",
    "\n",
    "layout=dict(\n",
    "    title='variance Ratio of each principal components in percent',\n",
    "    yaxis=dict(\n",
    "        title='variance ratio'\n",
    "    ),\n",
    "    annotations=list([\n",
    "        dict(\n",
    "            x=1.16,\n",
    "            y=1.05,\n",
    "            xref='paper',\n",
    "            yref='paper',\n",
    "            showarrow=False,\n",
    "        )\n",
    "    ])\n",
    ")\n",
    "\n",
    "fig = dict(data=data, layout=layout)\n",
    "iplot(fig)"
   ]
  },
  {
   "cell_type": "code",
   "execution_count": null,
   "metadata": {},
   "outputs": [],
   "source": [
    "pca = PCA(n_components=3)\n",
    "X_pca = pca.fit_transform(X)\n",
    "PCA_df = pd.DataFrame(data = X_pca, columns = ['PC1', 'PC2','PC3'])\n",
    "PCA_df = pd.concat([PCA_df, df1['RainTomorrow']], axis = 1)\n",
    "PCA_df['RainTomorrow'] = LabelEncoder().fit_transform(PCA_df['RainTomorrow'])\n",
    "PCA_df.head()"
   ]
  },
  {
   "cell_type": "code",
   "execution_count": null,
   "metadata": {},
   "outputs": [],
   "source": [
    "# run rf on PCA 3D\n",
    "run_rf(X_pca[:1000],Y[:1000])"
   ]
  },
  {
   "cell_type": "code",
   "execution_count": null,
   "metadata": {},
   "outputs": [],
   "source": [
    " data = []\n",
    "for clas, col, name in zip((1, 0), ['red', 'darkblue'], ['will rain', 'wont rain']):\n",
    "    trace = dict(\n",
    "        type='scatter3d',\n",
    "        x= PCA_df.loc[PCA_df['RainTomorrow'] == clas, 'PC1'],\n",
    "        y= PCA_df.loc[PCA_df['RainTomorrow'] == clas, 'PC2'],\n",
    "        z= PCA_df.loc[PCA_df['RainTomorrow'] == clas, 'PC3'],\n",
    "        mode= 'markers',\n",
    "        name= name\n",
    "    )\n",
    "    data.append(trace)\n",
    "layout = {\n",
    "    \"scene\": {\n",
    "      \"xaxis\": {\n",
    "        \"title\": \"PC1\", \n",
    "        \"showline\": False\n",
    "      }, \n",
    "      \"yaxis\": {\n",
    "        \"title\": \"PC2\", \n",
    "        \"showline\": False\n",
    "      }, \n",
    "      \"zaxis\": {\n",
    "        \"title\": \"PC3\", \n",
    "        \"showline\": False\n",
    "      }\n",
    "    }, \n",
    "    \"title\":  'PCA 3D Dimensionality Reduction'\n",
    "}\n",
    "fig = dict(data=data, layout=layout)\n",
    "iplot(fig)"
   ]
  },
  {
   "cell_type": "code",
   "execution_count": null,
   "metadata": {},
   "outputs": [],
   "source": [
    "var_ratio = pca.explained_variance_ratio_\n",
    "cum_var_ratio = np.cumsum(var_ratio)\n",
    "\n",
    "trace1 = dict(\n",
    "    type='bar',\n",
    "    x=['PC %s' %i for i in range(1,5)],\n",
    "    y=var_ratio,\n",
    "    name='Each PC'\n",
    ")\n",
    "\n",
    "trace2 = dict(\n",
    "    type='scatter',\n",
    "    x=['PC %s' %i for i in range(1,5)], \n",
    "    y=cum_var_ratio,\n",
    "    name='Cumulative'\n",
    ")\n",
    "\n",
    "data = [trace1, trace2]\n",
    "\n",
    "layout=dict(\n",
    "    title='variance Ratio of each principal components in percent',\n",
    "    yaxis=dict(\n",
    "        title='variance ratio'\n",
    "    ),\n",
    "    annotations=list([\n",
    "        dict(\n",
    "            x=1.16,\n",
    "            y=1.05,\n",
    "            xref='paper',\n",
    "            yref='paper',\n",
    "            showarrow=False,\n",
    "        )\n",
    "    ])\n",
    ")\n",
    "\n",
    "fig = dict(data=data, layout=layout)\n",
    "iplot(fig)"
   ]
  },
  {
   "cell_type": "markdown",
   "metadata": {},
   "source": [
    "Feature Extraction: ICA"
   ]
  },
  {
   "cell_type": "code",
   "execution_count": null,
   "metadata": {},
   "outputs": [],
   "source": [
    "from sklearn.decomposition import FastICA\n",
    "ica = FastICA(n_components=3)\n",
    "X_ica = ica.fit_transform(X)"
   ]
  },
  {
   "cell_type": "code",
   "execution_count": null,
   "metadata": {},
   "outputs": [],
   "source": [
    "# run rf on ICA 3D\n",
    "run_rf(X_ica[:1000],Y[:1000])"
   ]
  },
  {
   "cell_type": "code",
   "execution_count": null,
   "metadata": {},
   "outputs": [],
   "source": [
    "ICA_df = pd.DataFrame(data = X, columns = ['CA1', 'CA2', 'CA3'])\n",
    "ICA_df = pd.concat([ICA_df, df1['RainTomorrow']], axis = 1)\n",
    "ICA_df['RainTomorrow'] = LabelEncoder().fit_transform(ICA_df['RainTomorrow'])\n",
    "ICA_df.head()"
   ]
  },
  {
   "cell_type": "code",
   "execution_count": null,
   "metadata": {},
   "outputs": [],
   "source": [
    "data = []\n",
    "for clas, col, name in zip((1, 0), ['red', 'darkblue'], ['will rain', 'wont rain']):\n",
    "\n",
    "    trace = dict(\n",
    "        type='scatter3d',\n",
    "        x= ICA_df.loc[ICA_df['RainTomorrow'] == clas, 'CA1'],\n",
    "        y= ICA_df.loc[ICA_df['RainTomorrow'] == clas, 'CA2'],\n",
    "        z= ICA_df.loc[ICA_df['RainTomorrow'] == clas, 'CA3'],\n",
    "        mode= 'markers',\n",
    "        name= name\n",
    "    )\n",
    "    data.append(trace)\n",
    "\n",
    "layout = {\n",
    "    \"scene\": {\n",
    "      \"xaxis\": {\n",
    "        \"title\": \"CA1\", \n",
    "        \"showline\": False\n",
    "      }, \n",
    "      \"yaxis\": {\n",
    "        \"title\": \"CA2\", \n",
    "        \"showline\": False\n",
    "      }, \n",
    "      \"zaxis\": {\n",
    "        \"title\": \"CA3\", \n",
    "        \"showline\": False\n",
    "      }\n",
    "    }, \n",
    "    \"title\":  'ICA 3D Dimensionality Reduction'\n",
    "}\n",
    "# fig = dict(data=data, layout=layout)\n",
    "# iplot(fig)"
   ]
  },
  {
   "cell_type": "markdown",
   "metadata": {},
   "source": [
    "Feature Extraction : LDA "
   ]
  },
  {
   "cell_type": "code",
   "execution_count": null,
   "metadata": {},
   "outputs": [],
   "source": [
    "from sklearn.discriminant_analysis import LinearDiscriminantAnalysis\n",
    "lda = LinearDiscriminantAnalysis(n_components=1)\n",
    "\n",
    "# run an LDA and use it to transform the features\n",
    "X_lda = lda.fit(X, Y).transform(X)\n",
    "print('Original number of features:', X.shape[1])\n",
    "print('Reduced number of features:', X_lda.shape[1])"
   ]
  },
  {
   "cell_type": "code",
   "execution_count": null,
   "metadata": {},
   "outputs": [],
   "source": [
    "# run rf on PCA 3D\n",
    "run_rf(X_lda[:1000],Y[:1000])"
   ]
  },
  {
   "cell_type": "markdown",
   "metadata": {},
   "source": [
    "Feature Extraction :  Auto Encoder"
   ]
  },
  {
   "cell_type": "code",
   "execution_count": null,
   "metadata": {},
   "outputs": [],
   "source": [
    "from keras.layers import Input, Dense\n",
    "from keras.models import Model\n",
    "\n",
    "input_layer = Input(shape=(X.shape[1],))\n",
    "encoded = Dense(3, activation='relu')(input_layer)\n",
    "decoded = Dense(X.shape[1], activation='softmax')(encoded)\n",
    "autoencoder = Model(input_layer, decoded)\n",
    "autoencoder.compile(optimizer='adam', loss='binary_crossentropy')\n",
    "\n",
    "X1, X2, Y1, Y2 = train_test_split(X, X, test_size=0.3, random_state=101)\n",
    "\n",
    "autoencoder.fit(X1, Y1,\n",
    "                epochs=10,\n",
    "                batch_size=300,\n",
    "                shuffle=True,\n",
    "                verbose = 30,\n",
    "                validation_data=(X2, Y2))\n",
    "\n",
    "encoder = Model(input_layer, encoded)\n",
    "X_ae = encoder.predict(X)"
   ]
  },
  {
   "cell_type": "code",
   "execution_count": null,
   "metadata": {},
   "outputs": [],
   "source": [
    "# run rf on AE\n",
    "run_rf(X_ae[:1000],Y[:1000])"
   ]
  },
  {
   "cell_type": "code",
   "execution_count": null,
   "metadata": {},
   "outputs": [],
   "source": [
    "AE_df = pd.DataFrame(data = X, columns = ['AE1', 'AE2', 'AE3'])\n",
    "AE_df = pd.concat([AE_df, df1['RainTomorrow']], axis = 1)\n",
    "AE_df['RainTomorrow'] = LabelEncoder().fit_transform(AE_df['RainTomorrow'])\n",
    "AE_df.head()"
   ]
  },
  {
   "cell_type": "code",
   "execution_count": null,
   "metadata": {},
   "outputs": [],
   "source": [
    "data = []\n",
    "for clas, col, name in zip((1, 0), ['red', 'darkblue'], ['will rain', 'wont rain']):\n",
    "\n",
    "    trace = dict(\n",
    "        type='scatter3d',\n",
    "        x= AE_df.loc[AE_df['RainTomorrow'] == clas, 'AE1'],\n",
    "        y= AE_df.loc[AE_df['RainTomorrow'] == clas, 'AE2'],\n",
    "        z= AE_df.loc[AE_df['RainTomorrow'] == clas, 'AE3'],\n",
    "        mode= 'markers',\n",
    "        name= name\n",
    "    )\n",
    "    data.append(trace)\n",
    "\n",
    "layout = {\n",
    "    \"scene\": {\n",
    "      \"xaxis\": {\n",
    "        \"title\": \"AE1\", \n",
    "        \"showline\": False\n",
    "      }, \n",
    "      \"yaxis\": {\n",
    "        \"title\": \"AE2\", \n",
    "        \"showline\": False\n",
    "      }, \n",
    "      \"zaxis\": {\n",
    "        \"title\": \"AE3\", \n",
    "        \"showline\": False\n",
    "      }\n",
    "    }, \n",
    "    \"title\": 'AE 3D Dimensionality Reduction'\n",
    "}\n",
    "fig = dict(data=data, layout=layout)\n",
    "iplot(fig)"
   ]
  },
  {
   "cell_type": "code",
   "execution_count": null,
   "metadata": {},
   "outputs": [],
   "source": []
  }
 ],
 "metadata": {
  "kernelspec": {
   "display_name": "Python 3",
   "language": "python",
   "name": "python3"
  },
  "language_info": {
   "codemirror_mode": {
    "name": "ipython",
    "version": 3
   },
   "file_extension": ".py",
   "mimetype": "text/x-python",
   "name": "python",
   "nbconvert_exporter": "python",
   "pygments_lexer": "ipython3",
   "version": "3.8.3"
  }
 },
 "nbformat": 4,
 "nbformat_minor": 4
}
