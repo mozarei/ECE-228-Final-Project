{
 "cells": [
  {
   "cell_type": "code",
   "execution_count": 1,
   "metadata": {},
   "outputs": [],
   "source": [
    "import numpy as np\n",
    "import pandas as pd\n",
    "import seaborn as sns\n",
    "import matplotlib.pyplot as plt\n",
    "from sklearn.model_selection import train_test_split\n",
    "import category_encoders as ce\n",
    "from sklearn.preprocessing import MinMaxScaler\n",
    "from sklearn.linear_model import LogisticRegression\n",
    "from sklearn.metrics import accuracy_score\n",
    "from xgboost import XGBClassifier\n",
    "from sklearn.ensemble import RandomForestRegressor\n",
    "from sklearn.naive_bayes import BernoulliNB\n",
    "from sklearn.naive_bayes import GaussianNB\n",
    "from sklearn.ensemble import RandomForestClassifier\n",
    "from sklearn import preprocessing\n",
    "from sklearn.datasets import make_classification\n",
    "from sklearn import svm\n",
    "from sklearn.metrics import precision_score, recall_score, confusion_matrix,make_scorer, classification_report, accuracy_score, f1_score, cohen_kappa_score\n",
    "from sklearn.model_selection import cross_validate\n",
    "\n",
    "from tensorflow.keras.layers import Dense, BatchNormalization, Dropout, LSTM\n",
    "from tensorflow.keras.models import Sequential\n",
    "from tensorflow.keras.utils import to_categorical\n",
    "from tensorflow.keras import callbacks\n",
    "from tensorflow.keras.optimizers import Adam\n",
    "\n",
    "import catboost as cb\n",
    "import missingno as msno\n",
    "from sklearn.model_selection import cross_val_score\n",
    "import time"
   ]
  },
  {
   "cell_type": "code",
   "execution_count": 2,
   "metadata": {},
   "outputs": [],
   "source": [
    "import warnings\n",
    "warnings.filterwarnings(\"ignore\")"
   ]
  },
  {
   "cell_type": "code",
   "execution_count": 3,
   "metadata": {},
   "outputs": [],
   "source": [
    "data = pd.read_csv('weatherAUS.csv')"
   ]
  },
  {
   "cell_type": "code",
   "execution_count": 4,
   "metadata": {},
   "outputs": [
    {
     "data": {
      "text/plain": [
       "(145460, 23)"
      ]
     },
     "execution_count": 4,
     "metadata": {},
     "output_type": "execute_result"
    }
   ],
   "source": [
    "data.shape"
   ]
  },
  {
   "cell_type": "code",
   "execution_count": 5,
   "metadata": {},
   "outputs": [
    {
     "data": {
      "text/html": [
       "<div>\n",
       "<style scoped>\n",
       "    .dataframe tbody tr th:only-of-type {\n",
       "        vertical-align: middle;\n",
       "    }\n",
       "\n",
       "    .dataframe tbody tr th {\n",
       "        vertical-align: top;\n",
       "    }\n",
       "\n",
       "    .dataframe thead th {\n",
       "        text-align: right;\n",
       "    }\n",
       "</style>\n",
       "<table border=\"1\" class=\"dataframe\">\n",
       "  <thead>\n",
       "    <tr style=\"text-align: right;\">\n",
       "      <th></th>\n",
       "      <th>Date</th>\n",
       "      <th>Location</th>\n",
       "      <th>MinTemp</th>\n",
       "      <th>MaxTemp</th>\n",
       "      <th>Rainfall</th>\n",
       "      <th>Evaporation</th>\n",
       "      <th>Sunshine</th>\n",
       "      <th>WindGustDir</th>\n",
       "      <th>WindGustSpeed</th>\n",
       "      <th>WindDir9am</th>\n",
       "      <th>...</th>\n",
       "      <th>Humidity9am</th>\n",
       "      <th>Humidity3pm</th>\n",
       "      <th>Pressure9am</th>\n",
       "      <th>Pressure3pm</th>\n",
       "      <th>Cloud9am</th>\n",
       "      <th>Cloud3pm</th>\n",
       "      <th>Temp9am</th>\n",
       "      <th>Temp3pm</th>\n",
       "      <th>RainToday</th>\n",
       "      <th>RainTomorrow</th>\n",
       "    </tr>\n",
       "  </thead>\n",
       "  <tbody>\n",
       "    <tr>\n",
       "      <th>0</th>\n",
       "      <td>2008-12-01</td>\n",
       "      <td>Albury</td>\n",
       "      <td>13.4</td>\n",
       "      <td>22.9</td>\n",
       "      <td>0.6</td>\n",
       "      <td>NaN</td>\n",
       "      <td>NaN</td>\n",
       "      <td>W</td>\n",
       "      <td>44.0</td>\n",
       "      <td>W</td>\n",
       "      <td>...</td>\n",
       "      <td>71.0</td>\n",
       "      <td>22.0</td>\n",
       "      <td>1007.7</td>\n",
       "      <td>1007.1</td>\n",
       "      <td>8.0</td>\n",
       "      <td>NaN</td>\n",
       "      <td>16.9</td>\n",
       "      <td>21.8</td>\n",
       "      <td>No</td>\n",
       "      <td>No</td>\n",
       "    </tr>\n",
       "    <tr>\n",
       "      <th>1</th>\n",
       "      <td>2008-12-02</td>\n",
       "      <td>Albury</td>\n",
       "      <td>7.4</td>\n",
       "      <td>25.1</td>\n",
       "      <td>0.0</td>\n",
       "      <td>NaN</td>\n",
       "      <td>NaN</td>\n",
       "      <td>WNW</td>\n",
       "      <td>44.0</td>\n",
       "      <td>NNW</td>\n",
       "      <td>...</td>\n",
       "      <td>44.0</td>\n",
       "      <td>25.0</td>\n",
       "      <td>1010.6</td>\n",
       "      <td>1007.8</td>\n",
       "      <td>NaN</td>\n",
       "      <td>NaN</td>\n",
       "      <td>17.2</td>\n",
       "      <td>24.3</td>\n",
       "      <td>No</td>\n",
       "      <td>No</td>\n",
       "    </tr>\n",
       "    <tr>\n",
       "      <th>2</th>\n",
       "      <td>2008-12-03</td>\n",
       "      <td>Albury</td>\n",
       "      <td>12.9</td>\n",
       "      <td>25.7</td>\n",
       "      <td>0.0</td>\n",
       "      <td>NaN</td>\n",
       "      <td>NaN</td>\n",
       "      <td>WSW</td>\n",
       "      <td>46.0</td>\n",
       "      <td>W</td>\n",
       "      <td>...</td>\n",
       "      <td>38.0</td>\n",
       "      <td>30.0</td>\n",
       "      <td>1007.6</td>\n",
       "      <td>1008.7</td>\n",
       "      <td>NaN</td>\n",
       "      <td>2.0</td>\n",
       "      <td>21.0</td>\n",
       "      <td>23.2</td>\n",
       "      <td>No</td>\n",
       "      <td>No</td>\n",
       "    </tr>\n",
       "    <tr>\n",
       "      <th>3</th>\n",
       "      <td>2008-12-04</td>\n",
       "      <td>Albury</td>\n",
       "      <td>9.2</td>\n",
       "      <td>28.0</td>\n",
       "      <td>0.0</td>\n",
       "      <td>NaN</td>\n",
       "      <td>NaN</td>\n",
       "      <td>NE</td>\n",
       "      <td>24.0</td>\n",
       "      <td>SE</td>\n",
       "      <td>...</td>\n",
       "      <td>45.0</td>\n",
       "      <td>16.0</td>\n",
       "      <td>1017.6</td>\n",
       "      <td>1012.8</td>\n",
       "      <td>NaN</td>\n",
       "      <td>NaN</td>\n",
       "      <td>18.1</td>\n",
       "      <td>26.5</td>\n",
       "      <td>No</td>\n",
       "      <td>No</td>\n",
       "    </tr>\n",
       "    <tr>\n",
       "      <th>4</th>\n",
       "      <td>2008-12-05</td>\n",
       "      <td>Albury</td>\n",
       "      <td>17.5</td>\n",
       "      <td>32.3</td>\n",
       "      <td>1.0</td>\n",
       "      <td>NaN</td>\n",
       "      <td>NaN</td>\n",
       "      <td>W</td>\n",
       "      <td>41.0</td>\n",
       "      <td>ENE</td>\n",
       "      <td>...</td>\n",
       "      <td>82.0</td>\n",
       "      <td>33.0</td>\n",
       "      <td>1010.8</td>\n",
       "      <td>1006.0</td>\n",
       "      <td>7.0</td>\n",
       "      <td>8.0</td>\n",
       "      <td>17.8</td>\n",
       "      <td>29.7</td>\n",
       "      <td>No</td>\n",
       "      <td>No</td>\n",
       "    </tr>\n",
       "  </tbody>\n",
       "</table>\n",
       "<p>5 rows × 23 columns</p>\n",
       "</div>"
      ],
      "text/plain": [
       "         Date Location  MinTemp  MaxTemp  Rainfall  Evaporation  Sunshine  \\\n",
       "0  2008-12-01   Albury     13.4     22.9       0.6          NaN       NaN   \n",
       "1  2008-12-02   Albury      7.4     25.1       0.0          NaN       NaN   \n",
       "2  2008-12-03   Albury     12.9     25.7       0.0          NaN       NaN   \n",
       "3  2008-12-04   Albury      9.2     28.0       0.0          NaN       NaN   \n",
       "4  2008-12-05   Albury     17.5     32.3       1.0          NaN       NaN   \n",
       "\n",
       "  WindGustDir  WindGustSpeed WindDir9am  ... Humidity9am  Humidity3pm  \\\n",
       "0           W           44.0          W  ...        71.0         22.0   \n",
       "1         WNW           44.0        NNW  ...        44.0         25.0   \n",
       "2         WSW           46.0          W  ...        38.0         30.0   \n",
       "3          NE           24.0         SE  ...        45.0         16.0   \n",
       "4           W           41.0        ENE  ...        82.0         33.0   \n",
       "\n",
       "   Pressure9am  Pressure3pm  Cloud9am  Cloud3pm  Temp9am  Temp3pm  RainToday  \\\n",
       "0       1007.7       1007.1       8.0       NaN     16.9     21.8         No   \n",
       "1       1010.6       1007.8       NaN       NaN     17.2     24.3         No   \n",
       "2       1007.6       1008.7       NaN       2.0     21.0     23.2         No   \n",
       "3       1017.6       1012.8       NaN       NaN     18.1     26.5         No   \n",
       "4       1010.8       1006.0       7.0       8.0     17.8     29.7         No   \n",
       "\n",
       "   RainTomorrow  \n",
       "0            No  \n",
       "1            No  \n",
       "2            No  \n",
       "3            No  \n",
       "4            No  \n",
       "\n",
       "[5 rows x 23 columns]"
      ]
     },
     "execution_count": 5,
     "metadata": {},
     "output_type": "execute_result"
    }
   ],
   "source": [
    "data.head()"
   ]
  },
  {
   "cell_type": "code",
   "execution_count": 6,
   "metadata": {},
   "outputs": [
    {
     "data": {
      "text/plain": [
       "Index(['Date', 'Location', 'MinTemp', 'MaxTemp', 'Rainfall', 'Evaporation',\n",
       "       'Sunshine', 'WindGustDir', 'WindGustSpeed', 'WindDir9am', 'WindDir3pm',\n",
       "       'WindSpeed9am', 'WindSpeed3pm', 'Humidity9am', 'Humidity3pm',\n",
       "       'Pressure9am', 'Pressure3pm', 'Cloud9am', 'Cloud3pm', 'Temp9am',\n",
       "       'Temp3pm', 'RainToday', 'RainTomorrow'],\n",
       "      dtype='object')"
      ]
     },
     "execution_count": 6,
     "metadata": {},
     "output_type": "execute_result"
    }
   ],
   "source": [
    "col = data.columns\n",
    "col"
   ]
  },
  {
   "cell_type": "code",
   "execution_count": 7,
   "metadata": {},
   "outputs": [
    {
     "name": "stdout",
     "output_type": "stream",
     "text": [
      "<class 'pandas.core.frame.DataFrame'>\n",
      "RangeIndex: 145460 entries, 0 to 145459\n",
      "Data columns (total 23 columns):\n",
      " #   Column         Non-Null Count   Dtype  \n",
      "---  ------         --------------   -----  \n",
      " 0   Date           145460 non-null  object \n",
      " 1   Location       145460 non-null  object \n",
      " 2   MinTemp        143975 non-null  float64\n",
      " 3   MaxTemp        144199 non-null  float64\n",
      " 4   Rainfall       142199 non-null  float64\n",
      " 5   Evaporation    82670 non-null   float64\n",
      " 6   Sunshine       75625 non-null   float64\n",
      " 7   WindGustDir    135134 non-null  object \n",
      " 8   WindGustSpeed  135197 non-null  float64\n",
      " 9   WindDir9am     134894 non-null  object \n",
      " 10  WindDir3pm     141232 non-null  object \n",
      " 11  WindSpeed9am   143693 non-null  float64\n",
      " 12  WindSpeed3pm   142398 non-null  float64\n",
      " 13  Humidity9am    142806 non-null  float64\n",
      " 14  Humidity3pm    140953 non-null  float64\n",
      " 15  Pressure9am    130395 non-null  float64\n",
      " 16  Pressure3pm    130432 non-null  float64\n",
      " 17  Cloud9am       89572 non-null   float64\n",
      " 18  Cloud3pm       86102 non-null   float64\n",
      " 19  Temp9am        143693 non-null  float64\n",
      " 20  Temp3pm        141851 non-null  float64\n",
      " 21  RainToday      142199 non-null  object \n",
      " 22  RainTomorrow   142193 non-null  object \n",
      "dtypes: float64(16), object(7)\n",
      "memory usage: 25.5+ MB\n"
     ]
    }
   ],
   "source": [
    "data.info()"
   ]
  },
  {
   "cell_type": "code",
   "execution_count": 8,
   "metadata": {},
   "outputs": [
    {
     "name": "stdout",
     "output_type": "stream",
     "text": [
      "There are 7 Categorical Variables:\n",
      "\n",
      "['Date', 'Location', 'WindGustDir', 'WindDir9am', 'WindDir3pm', 'RainToday', 'RainTomorrow']\n"
     ]
    }
   ],
   "source": [
    "cat = [v for v in col if data[v].dtype == 'O']\n",
    "print('There are {} Categorical Variables:\\n'.format(len(cat)))\n",
    "print(cat)"
   ]
  },
  {
   "cell_type": "code",
   "execution_count": 9,
   "metadata": {},
   "outputs": [
    {
     "data": {
      "text/plain": [
       "Date                0\n",
       "Location            0\n",
       "WindGustDir     10326\n",
       "WindDir9am      10566\n",
       "WindDir3pm       4228\n",
       "RainToday        3261\n",
       "RainTomorrow     3267\n",
       "dtype: int64"
      ]
     },
     "execution_count": 9,
     "metadata": {},
     "output_type": "execute_result"
    }
   ],
   "source": [
    "data[cat].isnull().sum()"
   ]
  },
  {
   "cell_type": "code",
   "execution_count": 10,
   "metadata": {},
   "outputs": [
    {
     "name": "stdout",
     "output_type": "stream",
     "text": [
      "Date contains 3436 labesl\n",
      "Location contains 49 labesl\n",
      "WindGustDir contains 17 labesl\n",
      "WindDir9am contains 17 labesl\n",
      "WindDir3pm contains 17 labesl\n",
      "RainToday contains 3 labesl\n",
      "RainTomorrow contains 3 labesl\n"
     ]
    }
   ],
   "source": [
    "for v in cat:\n",
    "    print (v,'contains', len(data[v].unique()),'labesl')"
   ]
  },
  {
   "cell_type": "code",
   "execution_count": 11,
   "metadata": {},
   "outputs": [
    {
     "data": {
      "image/png": "[encoded data removed]",
      "text/plain": [
       "<Figure size 432x288 with 1 Axes>"
      ]
     },
     "metadata": {
      "needs_background": "light"
     },
     "output_type": "display_data"
    }
   ],
   "source": [
    "q = sns.countplot(x = data['RainToday'], palette = 'pastel')\n",
    "q.set(xlabel = 'Rain')\n",
    "q.set(ylabel = 'Count')\n",
    "q.set(title = 'Today precipitating and non-precipitation')\n",
    "plt.tight_layout()\n",
    "for p in q.patches:\n",
    "    width = p.get_width()\n",
    "    height = p.get_height()\n",
    "    x, y = p.get_xy() \n",
    "    q.annotate(f'{height}', (x + width/2, y + height*1.01), ha='center')"
   ]
  },
  {
   "cell_type": "code",
   "execution_count": 12,
   "metadata": {},
   "outputs": [
    {
     "data": {
      "image/png": "[encoded data removed]",
      "text/plain": [
       "<Figure size 432x288 with 1 Axes>"
      ]
     },
     "metadata": {
      "needs_background": "light"
     },
     "output_type": "display_data"
    }
   ],
   "source": [
    "q = sns.countplot(x = data['RainTomorrow'], palette = 'pastel')\n",
    "q.set(xlabel = 'Rain')\n",
    "q.set(ylabel = 'Count')\n",
    "q.set(title = 'Tommorow precipitating and non-precipitation ')\n",
    "plt.tight_layout()\n",
    "for p in q.patches:\n",
    "    width = p.get_width()\n",
    "    height = p.get_height()\n",
    "    x, y = p.get_xy() \n",
    "    q.annotate(f'{height}', (x + width/2, y + height*1.01), ha='center')"
   ]
  },
  {
   "cell_type": "code",
   "execution_count": 13,
   "metadata": {},
   "outputs": [
    {
     "data": {
      "text/plain": [
       "dtype('O')"
      ]
     },
     "execution_count": 13,
     "metadata": {},
     "output_type": "execute_result"
    }
   ],
   "source": [
    "data['Date'].dtypes"
   ]
  },
  {
   "cell_type": "code",
   "execution_count": 14,
   "metadata": {},
   "outputs": [],
   "source": [
    "data['Date'] = pd.to_datetime(data['Date'])"
   ]
  },
  {
   "cell_type": "code",
   "execution_count": 15,
   "metadata": {},
   "outputs": [],
   "source": [
    "data['Year'] = data['Date'].dt.year\n",
    "data['Month'] = data['Date'].dt.month\n",
    "data['Day'] = data['Date'].dt.day"
   ]
  },
  {
   "cell_type": "code",
   "execution_count": 16,
   "metadata": {},
   "outputs": [],
   "source": [
    "data.drop('Date', axis=1, inplace = True)"
   ]
  },
  {
   "cell_type": "code",
   "execution_count": 17,
   "metadata": {},
   "outputs": [
    {
     "name": "stdout",
     "output_type": "stream",
     "text": [
      "There are 6 Categorical Variables:\n",
      "\n",
      "['Location', 'WindGustDir', 'WindDir9am', 'WindDir3pm', 'RainToday', 'RainTomorrow']\n"
     ]
    }
   ],
   "source": [
    "cat = [v for v in data.columns if data[v].dtype == 'O']\n",
    "print('There are {} Categorical Variables:\\n'.format(len(cat)))\n",
    "print(cat)"
   ]
  },
  {
   "cell_type": "code",
   "execution_count": 18,
   "metadata": {},
   "outputs": [
    {
     "data": {
      "text/plain": [
       "Location            0\n",
       "WindGustDir     10326\n",
       "WindDir9am      10566\n",
       "WindDir3pm       4228\n",
       "RainToday        3261\n",
       "RainTomorrow     3267\n",
       "dtype: int64"
      ]
     },
     "execution_count": 18,
     "metadata": {},
     "output_type": "execute_result"
    }
   ],
   "source": [
    "data[cat].isnull().sum()"
   ]
  },
  {
   "cell_type": "code",
   "execution_count": 19,
   "metadata": {},
   "outputs": [],
   "source": [
    "data = data[data['RainTomorrow'].notnull()]"
   ]
  },
  {
   "cell_type": "code",
   "execution_count": 20,
   "metadata": {},
   "outputs": [
    {
     "data": {
      "text/plain": [
       "Location            0\n",
       "WindGustDir      9330\n",
       "WindDir9am      10013\n",
       "WindDir3pm       3778\n",
       "RainToday        1406\n",
       "RainTomorrow        0\n",
       "dtype: int64"
      ]
     },
     "execution_count": 20,
     "metadata": {},
     "output_type": "execute_result"
    }
   ],
   "source": [
    "data[cat].isnull().sum()"
   ]
  },
  {
   "cell_type": "code",
   "execution_count": 21,
   "metadata": {},
   "outputs": [
    {
     "name": "stdout",
     "output_type": "stream",
     "text": [
      "['MinTemp', 'MaxTemp', 'Rainfall', 'Evaporation', 'Sunshine', 'WindGustSpeed', 'WindSpeed9am', 'WindSpeed3pm', 'Humidity9am', 'Humidity3pm', 'Pressure9am', 'Pressure3pm', 'Cloud9am', 'Cloud3pm', 'Temp9am', 'Temp3pm', 'Year', 'Month', 'Day']\n"
     ]
    }
   ],
   "source": [
    "num =[v for v in data.columns if data[v].dtype !='O']\n",
    "print(num)"
   ]
  },
  {
   "cell_type": "code",
   "execution_count": 22,
   "metadata": {},
   "outputs": [
    {
     "data": {
      "text/plain": [
       "MinTemp            637\n",
       "MaxTemp            322\n",
       "Rainfall          1406\n",
       "Evaporation      60843\n",
       "Sunshine         67816\n",
       "WindGustSpeed     9270\n",
       "WindSpeed9am      1348\n",
       "WindSpeed3pm      2630\n",
       "Humidity9am       1774\n",
       "Humidity3pm       3610\n",
       "Pressure9am      14014\n",
       "Pressure3pm      13981\n",
       "Cloud9am         53657\n",
       "Cloud3pm         57094\n",
       "Temp9am            904\n",
       "Temp3pm           2726\n",
       "Year                 0\n",
       "Month                0\n",
       "Day                  0\n",
       "dtype: int64"
      ]
     },
     "execution_count": 22,
     "metadata": {},
     "output_type": "execute_result"
    }
   ],
   "source": [
    "data[num].isnull().sum()"
   ]
  },
  {
   "cell_type": "code",
   "execution_count": 23,
   "metadata": {},
   "outputs": [
    {
     "name": "stdout",
     "output_type": "stream",
     "text": [
      "        MinTemp   MaxTemp  Rainfall  Evaporation  Sunshine  WindGustSpeed  \\\n",
      "count  141556.0  141871.0  140787.0      81350.0   74377.0       132923.0   \n",
      "mean       12.0      23.0       2.0          5.0       8.0           40.0   \n",
      "std         6.0       7.0       8.0          4.0       4.0           14.0   \n",
      "min        -8.0      -5.0       0.0          0.0       0.0            6.0   \n",
      "25%         8.0      18.0       0.0          3.0       5.0           31.0   \n",
      "50%        12.0      23.0       0.0          5.0       8.0           39.0   \n",
      "75%        17.0      28.0       1.0          7.0      11.0           48.0   \n",
      "max        34.0      48.0     371.0        145.0      14.0          135.0   \n",
      "\n",
      "       WindSpeed9am  WindSpeed3pm  Humidity9am  Humidity3pm  Pressure9am  \\\n",
      "count      140845.0      139563.0     140419.0     138583.0     128179.0   \n",
      "mean           14.0          19.0         69.0         51.0       1018.0   \n",
      "std             9.0           9.0         19.0         21.0          7.0   \n",
      "min             0.0           0.0          0.0          0.0        980.0   \n",
      "25%             7.0          13.0         57.0         37.0       1013.0   \n",
      "50%            13.0          19.0         70.0         52.0       1018.0   \n",
      "75%            19.0          24.0         83.0         66.0       1022.0   \n",
      "max           130.0          87.0        100.0        100.0       1041.0   \n",
      "\n",
      "       Pressure3pm  Cloud9am  Cloud3pm   Temp9am   Temp3pm      Year  \\\n",
      "count     128212.0   88536.0   85099.0  141289.0  139467.0  142193.0   \n",
      "mean        1015.0       4.0       5.0      17.0      22.0    2013.0   \n",
      "std            7.0       3.0       3.0       6.0       7.0       3.0   \n",
      "min          977.0       0.0       0.0      -7.0      -5.0    2007.0   \n",
      "25%         1010.0       1.0       2.0      12.0      17.0    2011.0   \n",
      "50%         1015.0       5.0       5.0      17.0      21.0    2013.0   \n",
      "75%         1020.0       7.0       7.0      22.0      26.0    2015.0   \n",
      "max         1040.0       9.0       9.0      40.0      47.0    2017.0   \n",
      "\n",
      "          Month       Day  \n",
      "count  142193.0  142193.0  \n",
      "mean        6.0      16.0  \n",
      "std         3.0       9.0  \n",
      "min         1.0       1.0  \n",
      "25%         3.0       8.0  \n",
      "50%         6.0      16.0  \n",
      "75%         9.0      23.0  \n",
      "max        12.0      31.0   2\n"
     ]
    }
   ],
   "source": [
    "print(round(data[num].describe()),2) #Inspect for outliers"
   ]
  },
  {
   "cell_type": "code",
   "execution_count": 24,
   "metadata": {},
   "outputs": [
    {
     "data": {
      "text/plain": [
       "Text(0, 0.5, 'WindSpeed3pm')"
      ]
     },
     "execution_count": 24,
     "metadata": {},
     "output_type": "execute_result"
    },
    {
     "data": {
      "image/png": "[encoded data removed]",
      "text/plain": [
       "<Figure size 1080x720 with 4 Axes>"
      ]
     },
     "metadata": {
      "needs_background": "light"
     },
     "output_type": "display_data"
    }
   ],
   "source": [
    "plt.figure(figsize=(15,10))\n",
    "plt.subplot(2,2,1)\n",
    "fig=data.boxplot(column='Rainfall')\n",
    "fig.set_title('')\n",
    "fig.set_ylabel('Rainfall')\n",
    "\n",
    "plt.subplot(2, 2, 2)\n",
    "fig = data.boxplot(column='Evaporation')\n",
    "fig.set_title('')\n",
    "fig.set_ylabel('Evaporation')\n",
    "\n",
    "\n",
    "plt.subplot(2, 2, 3)\n",
    "fig = data.boxplot(column='WindSpeed9am')\n",
    "fig.set_title('')\n",
    "fig.set_ylabel('WindSpeed9am')\n",
    "\n",
    "\n",
    "plt.subplot(2, 2, 4)\n",
    "fig = data.boxplot(column='WindSpeed3pm')\n",
    "fig.set_title('')\n",
    "fig.set_ylabel('WindSpeed3pm')"
   ]
  },
  {
   "cell_type": "code",
   "execution_count": 25,
   "metadata": {},
   "outputs": [
    {
     "data": {
      "text/plain": [
       "Text(0, 0.5, 'RainTomorrow')"
      ]
     },
     "execution_count": 25,
     "metadata": {},
     "output_type": "execute_result"
    },
    {
     "data": {
      "image/png": "[encoded data removed]",
      "text/plain": [
       "<Figure size 1080x720 with 4 Axes>"
      ]
     },
     "metadata": {
      "needs_background": "light"
     },
     "output_type": "display_data"
    }
   ],
   "source": [
    "\n",
    "plt.figure(figsize=(15,10))\n",
    "\n",
    "\n",
    "plt.subplot(2, 2, 1)\n",
    "fig = data.Rainfall.hist(bins=10)\n",
    "fig.set_xlabel('Rainfall')\n",
    "fig.set_ylabel('RainTomorrow')\n",
    "\n",
    "\n",
    "plt.subplot(2, 2, 2)\n",
    "fig = data.Evaporation.hist(bins=10)\n",
    "fig.set_xlabel('Evaporation')\n",
    "fig.set_ylabel('RainTomorrow')\n",
    "\n",
    "\n",
    "plt.subplot(2, 2, 3)\n",
    "fig = data.WindSpeed9am.hist(bins=10)\n",
    "fig.set_xlabel('WindSpeed9am')\n",
    "fig.set_ylabel('RainTomorrow')\n",
    "\n",
    "\n",
    "plt.subplot(2, 2, 4)\n",
    "fig = data.WindSpeed3pm.hist(bins=10)\n",
    "fig.set_xlabel('WindSpeed3pm')\n",
    "fig.set_ylabel('RainTomorrow')"
   ]
  },
  {
   "cell_type": "code",
   "execution_count": 26,
   "metadata": {},
   "outputs": [
    {
     "name": "stdout",
     "output_type": "stream",
     "text": [
      "Rainfall outliers are values < -2.4000000000000004 or > 3.2\n"
     ]
    }
   ],
   "source": [
    "#Use interquantile range to find outliers\n",
    "IQR = data.Rainfall.quantile(0.75) - data.Rainfall.quantile(0.25)\n",
    "Lower_fence = data.Rainfall.quantile(0.25) - (IQR * 3)\n",
    "Upper_fence = data.Rainfall.quantile(0.75) + (IQR * 3)\n",
    "print('Rainfall outliers are values < {lowerboundary} or > {upperboundary}'.format(lowerboundary=Lower_fence, upperboundary=Upper_fence))"
   ]
  },
  {
   "cell_type": "code",
   "execution_count": 27,
   "metadata": {},
   "outputs": [
    {
     "name": "stdout",
     "output_type": "stream",
     "text": [
      "Evaporation outliers are values < -11.800000000000002 or > 21.800000000000004\n"
     ]
    }
   ],
   "source": [
    "IQR = data.Evaporation.quantile(0.75) - data.Evaporation.quantile(0.25)\n",
    "Lower_fence = data.Evaporation.quantile(0.25) - (IQR * 3)\n",
    "Upper_fence = data.Evaporation.quantile(0.75) + (IQR * 3)\n",
    "print('Evaporation outliers are values < {lowerboundary} or > {upperboundary}'.format(lowerboundary=Lower_fence, upperboundary=Upper_fence))"
   ]
  },
  {
   "cell_type": "code",
   "execution_count": 28,
   "metadata": {},
   "outputs": [
    {
     "name": "stdout",
     "output_type": "stream",
     "text": [
      "WindSpeed9am outliers are values < -29.0 or > 55.0\n"
     ]
    }
   ],
   "source": [
    "IQR = data.WindSpeed9am.quantile(0.75) - data.WindSpeed9am.quantile(0.25)\n",
    "Lower_fence = data.WindSpeed9am.quantile(0.25) - (IQR * 3)\n",
    "Upper_fence = data.WindSpeed9am.quantile(0.75) + (IQR * 3)\n",
    "print('WindSpeed9am outliers are values < {lowerboundary} or > {upperboundary}'.format(lowerboundary=Lower_fence, upperboundary=Upper_fence))"
   ]
  },
  {
   "cell_type": "code",
   "execution_count": 29,
   "metadata": {},
   "outputs": [
    {
     "name": "stdout",
     "output_type": "stream",
     "text": [
      "WindSpeed3pm outliers are values < -20.0 or > 57.0\n"
     ]
    }
   ],
   "source": [
    "# find outliers for WindSpeed3pm variable\n",
    "\n",
    "IQR = data.WindSpeed3pm.quantile(0.75) - data.WindSpeed3pm.quantile(0.25)\n",
    "Lower_fence = data.WindSpeed3pm.quantile(0.25) - (IQR * 3)\n",
    "Upper_fence = data.WindSpeed3pm.quantile(0.75) + (IQR * 3)\n",
    "print('WindSpeed3pm outliers are values < {lowerboundary} or > {upperboundary}'.format(lowerboundary=Lower_fence, upperboundary=Upper_fence))"
   ]
  },
  {
   "cell_type": "code",
   "execution_count": 30,
   "metadata": {},
   "outputs": [],
   "source": [
    "# Create features vector and target variable\n",
    "X= data.drop(['RainTomorrow'], axis=1)\n",
    "Y=data['RainTomorrow']"
   ]
  },
  {
   "cell_type": "code",
   "execution_count": 31,
   "metadata": {},
   "outputs": [],
   "source": [
    "# Split the dataset into Trainig and test\n",
    "X_train, X_test, Y_train, Y_test = train_test_split(X, Y, test_size=0.2, random_state=0)"
   ]
  },
  {
   "cell_type": "code",
   "execution_count": 32,
   "metadata": {},
   "outputs": [
    {
     "data": {
      "text/plain": [
       "((113754, 24), (28439, 24))"
      ]
     },
     "execution_count": 32,
     "metadata": {},
     "output_type": "execute_result"
    }
   ],
   "source": [
    "X_train.shape, X_test.shape"
   ]
  },
  {
   "cell_type": "code",
   "execution_count": 33,
   "metadata": {},
   "outputs": [],
   "source": [
    "cat = [v for v in X_train.columns if X_train[v].dtypes == 'O']\n",
    "num = [v for v in X_train.columns if X_train[v].dtypes != 'O']\n"
   ]
  },
  {
   "cell_type": "code",
   "execution_count": 34,
   "metadata": {},
   "outputs": [
    {
     "data": {
      "text/plain": [
       "MinTemp            495\n",
       "MaxTemp            264\n",
       "Rainfall          1139\n",
       "Evaporation      48718\n",
       "Sunshine         54314\n",
       "WindGustSpeed     7367\n",
       "WindSpeed9am      1086\n",
       "WindSpeed3pm      2094\n",
       "Humidity9am       1449\n",
       "Humidity3pm       2890\n",
       "Pressure9am      11212\n",
       "Pressure3pm      11186\n",
       "Cloud9am         43137\n",
       "Cloud3pm         45768\n",
       "Temp9am            740\n",
       "Temp3pm           2171\n",
       "Year                 0\n",
       "Month                0\n",
       "Day                  0\n",
       "dtype: int64"
      ]
     },
     "execution_count": 34,
     "metadata": {},
     "output_type": "execute_result"
    }
   ],
   "source": [
    "X_train[num].isnull().sum()"
   ]
  },
  {
   "cell_type": "code",
   "execution_count": 35,
   "metadata": {},
   "outputs": [
    {
     "data": {
      "text/plain": [
       "MinTemp            142\n",
       "MaxTemp             58\n",
       "Rainfall           267\n",
       "Evaporation      12125\n",
       "Sunshine         13502\n",
       "WindGustSpeed     1903\n",
       "WindSpeed9am       262\n",
       "WindSpeed3pm       536\n",
       "Humidity9am        325\n",
       "Humidity3pm        720\n",
       "Pressure9am       2802\n",
       "Pressure3pm       2795\n",
       "Cloud9am         10520\n",
       "Cloud3pm         11326\n",
       "Temp9am            164\n",
       "Temp3pm            555\n",
       "Year                 0\n",
       "Month                0\n",
       "Day                  0\n",
       "dtype: int64"
      ]
     },
     "execution_count": 35,
     "metadata": {},
     "output_type": "execute_result"
    }
   ],
   "source": [
    "X_test[num].isnull().sum()"
   ]
  },
  {
   "cell_type": "code",
   "execution_count": 36,
   "metadata": {},
   "outputs": [
    {
     "name": "stdout",
     "output_type": "stream",
     "text": [
      "MinTemp 0.0044\n",
      "MaxTemp 0.0023\n",
      "Rainfall 0.01\n",
      "Evaporation 0.4283\n",
      "Sunshine 0.4775\n",
      "WindGustSpeed 0.0648\n",
      "WindSpeed9am 0.0095\n",
      "WindSpeed3pm 0.0184\n",
      "Humidity9am 0.0127\n",
      "Humidity3pm 0.0254\n",
      "Pressure9am 0.0986\n",
      "Pressure3pm 0.0983\n",
      "Cloud9am 0.3792\n",
      "Cloud3pm 0.4023\n",
      "Temp9am 0.0065\n",
      "Temp3pm 0.0191\n"
     ]
    }
   ],
   "source": [
    "for col in num:\n",
    "    if X_train[col].isnull().mean()>0:\n",
    "        print(col, round(X_train[col].isnull().mean(),4))"
   ]
  },
  {
   "cell_type": "code",
   "execution_count": 37,
   "metadata": {},
   "outputs": [],
   "source": [
    "# impute missing values in X_train and X_test with respective column median in X_train\n",
    "for set in [X_train, X_test]:\n",
    "    for col in num:\n",
    "        col_median=X_train[col].median()\n",
    "        set[col].fillna(col_median, inplace=True)  "
   ]
  },
  {
   "cell_type": "code",
   "execution_count": 38,
   "metadata": {},
   "outputs": [
    {
     "data": {
      "text/plain": [
       "MinTemp          0\n",
       "MaxTemp          0\n",
       "Rainfall         0\n",
       "Evaporation      0\n",
       "Sunshine         0\n",
       "WindGustSpeed    0\n",
       "WindSpeed9am     0\n",
       "WindSpeed3pm     0\n",
       "Humidity9am      0\n",
       "Humidity3pm      0\n",
       "Pressure9am      0\n",
       "Pressure3pm      0\n",
       "Cloud9am         0\n",
       "Cloud3pm         0\n",
       "Temp9am          0\n",
       "Temp3pm          0\n",
       "Year             0\n",
       "Month            0\n",
       "Day              0\n",
       "dtype: int64"
      ]
     },
     "execution_count": 38,
     "metadata": {},
     "output_type": "execute_result"
    }
   ],
   "source": [
    "X_train[num].isnull().sum()\n"
   ]
  },
  {
   "cell_type": "code",
   "execution_count": 39,
   "metadata": {},
   "outputs": [
    {
     "data": {
      "text/plain": [
       "MinTemp          0\n",
       "MaxTemp          0\n",
       "Rainfall         0\n",
       "Evaporation      0\n",
       "Sunshine         0\n",
       "WindGustSpeed    0\n",
       "WindSpeed9am     0\n",
       "WindSpeed3pm     0\n",
       "Humidity9am      0\n",
       "Humidity3pm      0\n",
       "Pressure9am      0\n",
       "Pressure3pm      0\n",
       "Cloud9am         0\n",
       "Cloud3pm         0\n",
       "Temp9am          0\n",
       "Temp3pm          0\n",
       "Year             0\n",
       "Month            0\n",
       "Day              0\n",
       "dtype: int64"
      ]
     },
     "execution_count": 39,
     "metadata": {},
     "output_type": "execute_result"
    }
   ],
   "source": [
    "X_test[num].isnull().sum()\n"
   ]
  },
  {
   "cell_type": "code",
   "execution_count": 40,
   "metadata": {},
   "outputs": [
    {
     "data": {
      "text/plain": [
       "Location       0.000000\n",
       "WindGustDir    0.065114\n",
       "WindDir9am     0.070134\n",
       "WindDir3pm     0.026443\n",
       "RainToday      0.010013\n",
       "dtype: float64"
      ]
     },
     "execution_count": 40,
     "metadata": {},
     "output_type": "execute_result"
    }
   ],
   "source": [
    "X_train[cat].isnull().mean()\n"
   ]
  },
  {
   "cell_type": "code",
   "execution_count": 41,
   "metadata": {},
   "outputs": [
    {
     "name": "stdout",
     "output_type": "stream",
     "text": [
      "WindGustDir 0.06511419378659213\n",
      "WindDir9am 0.07013379749283542\n",
      "WindDir3pm 0.026443026179299188\n",
      "RainToday 0.01001283471350458\n"
     ]
    }
   ],
   "source": [
    "for col in cat:\n",
    "    if X_train[col].isnull().mean()>0:\n",
    "        print(col, (X_train[col].isnull().mean()))"
   ]
  },
  {
   "cell_type": "code",
   "execution_count": 42,
   "metadata": {},
   "outputs": [],
   "source": [
    "# Impute missing categorical variables with most frequent value\n",
    "\n",
    "for set in [X_train, X_test]:\n",
    "    set['WindGustDir'].fillna(X_train['WindGustDir'].mode()[0], inplace=True)\n",
    "    set['WindDir9am'].fillna(X_train['WindDir9am'].mode()[0], inplace=True)\n",
    "    set['WindDir3pm'].fillna(X_train['WindDir3pm'].mode()[0], inplace=True)\n",
    "    set['RainToday'].fillna(X_train['RainToday'].mode()[0], inplace=True)"
   ]
  },
  {
   "cell_type": "code",
   "execution_count": 43,
   "metadata": {},
   "outputs": [
    {
     "data": {
      "text/plain": [
       "Location         0\n",
       "MinTemp          0\n",
       "MaxTemp          0\n",
       "Rainfall         0\n",
       "Evaporation      0\n",
       "Sunshine         0\n",
       "WindGustDir      0\n",
       "WindGustSpeed    0\n",
       "WindDir9am       0\n",
       "WindDir3pm       0\n",
       "WindSpeed9am     0\n",
       "WindSpeed3pm     0\n",
       "Humidity9am      0\n",
       "Humidity3pm      0\n",
       "Pressure9am      0\n",
       "Pressure3pm      0\n",
       "Cloud9am         0\n",
       "Cloud3pm         0\n",
       "Temp9am          0\n",
       "Temp3pm          0\n",
       "RainToday        0\n",
       "Year             0\n",
       "Month            0\n",
       "Day              0\n",
       "dtype: int64"
      ]
     },
     "execution_count": 43,
     "metadata": {},
     "output_type": "execute_result"
    }
   ],
   "source": [
    "X_test.isnull().sum()"
   ]
  },
  {
   "cell_type": "code",
   "execution_count": 44,
   "metadata": {},
   "outputs": [],
   "source": [
    "# Replacing Outliers with Values found from IQR\n",
    "def max_val(tset, var, maximum):\n",
    "    return np.where(tset[var]>maximum, maximum, tset[var])\n",
    "\n",
    "for tset in [X_train, X_test]:\n",
    "    tset['Rainfall'] = max_val(tset, 'Rainfall', 3.2)\n",
    "    tset['Evaporation'] = max_val(tset, 'Evaporation', 21.8)\n",
    "    tset['WindSpeed9am'] = max_val(tset, 'WindSpeed9am', 55)\n",
    "    tset['WindSpeed3pm'] = max_val(tset, 'WindSpeed3pm', 57)"
   ]
  },
  {
   "cell_type": "code",
   "execution_count": 45,
   "metadata": {},
   "outputs": [
    {
     "data": {
      "text/plain": [
       "['Location', 'WindGustDir', 'WindDir9am', 'WindDir3pm', 'RainToday']"
      ]
     },
     "execution_count": 45,
     "metadata": {},
     "output_type": "execute_result"
    }
   ],
   "source": [
    "cat"
   ]
  },
  {
   "cell_type": "code",
   "execution_count": 46,
   "metadata": {},
   "outputs": [
    {
     "data": {
      "text/html": [
       "<div>\n",
       "<style scoped>\n",
       "    .dataframe tbody tr th:only-of-type {\n",
       "        vertical-align: middle;\n",
       "    }\n",
       "\n",
       "    .dataframe tbody tr th {\n",
       "        vertical-align: top;\n",
       "    }\n",
       "\n",
       "    .dataframe thead th {\n",
       "        text-align: right;\n",
       "    }\n",
       "</style>\n",
       "<table border=\"1\" class=\"dataframe\">\n",
       "  <thead>\n",
       "    <tr style=\"text-align: right;\">\n",
       "      <th></th>\n",
       "      <th>MinTemp</th>\n",
       "      <th>MaxTemp</th>\n",
       "      <th>Rainfall</th>\n",
       "      <th>Evaporation</th>\n",
       "      <th>Sunshine</th>\n",
       "      <th>WindGustSpeed</th>\n",
       "      <th>WindSpeed9am</th>\n",
       "      <th>WindSpeed3pm</th>\n",
       "      <th>Humidity9am</th>\n",
       "      <th>Humidity3pm</th>\n",
       "      <th>Pressure9am</th>\n",
       "      <th>Pressure3pm</th>\n",
       "      <th>Cloud9am</th>\n",
       "      <th>Cloud3pm</th>\n",
       "      <th>Temp9am</th>\n",
       "      <th>Temp3pm</th>\n",
       "      <th>Year</th>\n",
       "      <th>Month</th>\n",
       "      <th>Day</th>\n",
       "    </tr>\n",
       "  </thead>\n",
       "  <tbody>\n",
       "    <tr>\n",
       "      <th>count</th>\n",
       "      <td>113754.000000</td>\n",
       "      <td>113754.000000</td>\n",
       "      <td>113754.000000</td>\n",
       "      <td>113754.000000</td>\n",
       "      <td>113754.000000</td>\n",
       "      <td>113754.000000</td>\n",
       "      <td>113754.000000</td>\n",
       "      <td>113754.000000</td>\n",
       "      <td>113754.000000</td>\n",
       "      <td>113754.000000</td>\n",
       "      <td>113754.000000</td>\n",
       "      <td>113754.000000</td>\n",
       "      <td>113754.000000</td>\n",
       "      <td>113754.000000</td>\n",
       "      <td>113754.000000</td>\n",
       "      <td>113754.000000</td>\n",
       "      <td>113754.000000</td>\n",
       "      <td>113754.000000</td>\n",
       "      <td>113754.000000</td>\n",
       "    </tr>\n",
       "    <tr>\n",
       "      <th>mean</th>\n",
       "      <td>12.193497</td>\n",
       "      <td>23.237216</td>\n",
       "      <td>0.675080</td>\n",
       "      <td>5.151606</td>\n",
       "      <td>8.041154</td>\n",
       "      <td>39.884074</td>\n",
       "      <td>13.978155</td>\n",
       "      <td>18.614756</td>\n",
       "      <td>68.867486</td>\n",
       "      <td>51.509547</td>\n",
       "      <td>1017.640649</td>\n",
       "      <td>1015.241101</td>\n",
       "      <td>4.651801</td>\n",
       "      <td>4.703588</td>\n",
       "      <td>16.995062</td>\n",
       "      <td>21.688643</td>\n",
       "      <td>2012.759727</td>\n",
       "      <td>6.404021</td>\n",
       "      <td>15.710419</td>\n",
       "    </tr>\n",
       "    <tr>\n",
       "      <th>std</th>\n",
       "      <td>6.388279</td>\n",
       "      <td>7.094149</td>\n",
       "      <td>1.183837</td>\n",
       "      <td>2.823707</td>\n",
       "      <td>2.769480</td>\n",
       "      <td>13.116959</td>\n",
       "      <td>8.806558</td>\n",
       "      <td>8.685862</td>\n",
       "      <td>18.935587</td>\n",
       "      <td>20.530723</td>\n",
       "      <td>6.738680</td>\n",
       "      <td>6.675168</td>\n",
       "      <td>2.292726</td>\n",
       "      <td>2.117847</td>\n",
       "      <td>6.463772</td>\n",
       "      <td>6.855649</td>\n",
       "      <td>2.540419</td>\n",
       "      <td>3.427798</td>\n",
       "      <td>8.796821</td>\n",
       "    </tr>\n",
       "    <tr>\n",
       "      <th>min</th>\n",
       "      <td>-8.200000</td>\n",
       "      <td>-4.800000</td>\n",
       "      <td>0.000000</td>\n",
       "      <td>0.000000</td>\n",
       "      <td>0.000000</td>\n",
       "      <td>6.000000</td>\n",
       "      <td>0.000000</td>\n",
       "      <td>0.000000</td>\n",
       "      <td>0.000000</td>\n",
       "      <td>0.000000</td>\n",
       "      <td>980.500000</td>\n",
       "      <td>977.100000</td>\n",
       "      <td>0.000000</td>\n",
       "      <td>0.000000</td>\n",
       "      <td>-7.200000</td>\n",
       "      <td>-5.400000</td>\n",
       "      <td>2007.000000</td>\n",
       "      <td>1.000000</td>\n",
       "      <td>1.000000</td>\n",
       "    </tr>\n",
       "    <tr>\n",
       "      <th>25%</th>\n",
       "      <td>7.600000</td>\n",
       "      <td>18.000000</td>\n",
       "      <td>0.000000</td>\n",
       "      <td>4.000000</td>\n",
       "      <td>8.200000</td>\n",
       "      <td>31.000000</td>\n",
       "      <td>7.000000</td>\n",
       "      <td>13.000000</td>\n",
       "      <td>57.000000</td>\n",
       "      <td>37.000000</td>\n",
       "      <td>1013.500000</td>\n",
       "      <td>1011.000000</td>\n",
       "      <td>3.000000</td>\n",
       "      <td>4.000000</td>\n",
       "      <td>12.300000</td>\n",
       "      <td>16.700000</td>\n",
       "      <td>2011.000000</td>\n",
       "      <td>3.000000</td>\n",
       "      <td>8.000000</td>\n",
       "    </tr>\n",
       "    <tr>\n",
       "      <th>50%</th>\n",
       "      <td>12.000000</td>\n",
       "      <td>22.600000</td>\n",
       "      <td>0.000000</td>\n",
       "      <td>4.800000</td>\n",
       "      <td>8.500000</td>\n",
       "      <td>39.000000</td>\n",
       "      <td>13.000000</td>\n",
       "      <td>19.000000</td>\n",
       "      <td>70.000000</td>\n",
       "      <td>52.000000</td>\n",
       "      <td>1017.600000</td>\n",
       "      <td>1015.200000</td>\n",
       "      <td>5.000000</td>\n",
       "      <td>5.000000</td>\n",
       "      <td>16.700000</td>\n",
       "      <td>21.100000</td>\n",
       "      <td>2013.000000</td>\n",
       "      <td>6.000000</td>\n",
       "      <td>16.000000</td>\n",
       "    </tr>\n",
       "    <tr>\n",
       "      <th>75%</th>\n",
       "      <td>16.800000</td>\n",
       "      <td>28.200000</td>\n",
       "      <td>0.600000</td>\n",
       "      <td>5.400000</td>\n",
       "      <td>8.700000</td>\n",
       "      <td>46.000000</td>\n",
       "      <td>19.000000</td>\n",
       "      <td>24.000000</td>\n",
       "      <td>83.000000</td>\n",
       "      <td>65.000000</td>\n",
       "      <td>1021.800000</td>\n",
       "      <td>1019.400000</td>\n",
       "      <td>6.000000</td>\n",
       "      <td>6.000000</td>\n",
       "      <td>21.500000</td>\n",
       "      <td>26.300000</td>\n",
       "      <td>2015.000000</td>\n",
       "      <td>9.000000</td>\n",
       "      <td>23.000000</td>\n",
       "    </tr>\n",
       "    <tr>\n",
       "      <th>max</th>\n",
       "      <td>33.900000</td>\n",
       "      <td>48.100000</td>\n",
       "      <td>3.200000</td>\n",
       "      <td>21.800000</td>\n",
       "      <td>14.500000</td>\n",
       "      <td>135.000000</td>\n",
       "      <td>55.000000</td>\n",
       "      <td>57.000000</td>\n",
       "      <td>100.000000</td>\n",
       "      <td>100.000000</td>\n",
       "      <td>1041.000000</td>\n",
       "      <td>1039.600000</td>\n",
       "      <td>9.000000</td>\n",
       "      <td>8.000000</td>\n",
       "      <td>40.200000</td>\n",
       "      <td>46.700000</td>\n",
       "      <td>2017.000000</td>\n",
       "      <td>12.000000</td>\n",
       "      <td>31.000000</td>\n",
       "    </tr>\n",
       "  </tbody>\n",
       "</table>\n",
       "</div>"
      ],
      "text/plain": [
       "             MinTemp        MaxTemp       Rainfall    Evaporation  \\\n",
       "count  113754.000000  113754.000000  113754.000000  113754.000000   \n",
       "mean       12.193497      23.237216       0.675080       5.151606   \n",
       "std         6.388279       7.094149       1.183837       2.823707   \n",
       "min        -8.200000      -4.800000       0.000000       0.000000   \n",
       "25%         7.600000      18.000000       0.000000       4.000000   \n",
       "50%        12.000000      22.600000       0.000000       4.800000   \n",
       "75%        16.800000      28.200000       0.600000       5.400000   \n",
       "max        33.900000      48.100000       3.200000      21.800000   \n",
       "\n",
       "            Sunshine  WindGustSpeed   WindSpeed9am   WindSpeed3pm  \\\n",
       "count  113754.000000  113754.000000  113754.000000  113754.000000   \n",
       "mean        8.041154      39.884074      13.978155      18.614756   \n",
       "std         2.769480      13.116959       8.806558       8.685862   \n",
       "min         0.000000       6.000000       0.000000       0.000000   \n",
       "25%         8.200000      31.000000       7.000000      13.000000   \n",
       "50%         8.500000      39.000000      13.000000      19.000000   \n",
       "75%         8.700000      46.000000      19.000000      24.000000   \n",
       "max        14.500000     135.000000      55.000000      57.000000   \n",
       "\n",
       "         Humidity9am    Humidity3pm    Pressure9am    Pressure3pm  \\\n",
       "count  113754.000000  113754.000000  113754.000000  113754.000000   \n",
       "mean       68.867486      51.509547    1017.640649    1015.241101   \n",
       "std        18.935587      20.530723       6.738680       6.675168   \n",
       "min         0.000000       0.000000     980.500000     977.100000   \n",
       "25%        57.000000      37.000000    1013.500000    1011.000000   \n",
       "50%        70.000000      52.000000    1017.600000    1015.200000   \n",
       "75%        83.000000      65.000000    1021.800000    1019.400000   \n",
       "max       100.000000     100.000000    1041.000000    1039.600000   \n",
       "\n",
       "            Cloud9am       Cloud3pm        Temp9am        Temp3pm  \\\n",
       "count  113754.000000  113754.000000  113754.000000  113754.000000   \n",
       "mean        4.651801       4.703588      16.995062      21.688643   \n",
       "std         2.292726       2.117847       6.463772       6.855649   \n",
       "min         0.000000       0.000000      -7.200000      -5.400000   \n",
       "25%         3.000000       4.000000      12.300000      16.700000   \n",
       "50%         5.000000       5.000000      16.700000      21.100000   \n",
       "75%         6.000000       6.000000      21.500000      26.300000   \n",
       "max         9.000000       8.000000      40.200000      46.700000   \n",
       "\n",
       "                Year          Month            Day  \n",
       "count  113754.000000  113754.000000  113754.000000  \n",
       "mean     2012.759727       6.404021      15.710419  \n",
       "std         2.540419       3.427798       8.796821  \n",
       "min      2007.000000       1.000000       1.000000  \n",
       "25%      2011.000000       3.000000       8.000000  \n",
       "50%      2013.000000       6.000000      16.000000  \n",
       "75%      2015.000000       9.000000      23.000000  \n",
       "max      2017.000000      12.000000      31.000000  "
      ]
     },
     "execution_count": 46,
     "metadata": {},
     "output_type": "execute_result"
    }
   ],
   "source": [
    "X_train[num].describe()"
   ]
  },
  {
   "cell_type": "code",
   "execution_count": 47,
   "metadata": {},
   "outputs": [],
   "source": [
    "num2=X_train[num]\n"
   ]
  },
  {
   "cell_type": "code",
   "execution_count": 48,
   "metadata": {},
   "outputs": [],
   "source": [
    "num2.drop(\"Year\", axis=1, inplace = True)"
   ]
  },
  {
   "cell_type": "code",
   "execution_count": 49,
   "metadata": {},
   "outputs": [
    {
     "data": {
      "text/html": [
       "<div>\n",
       "<style scoped>\n",
       "    .dataframe tbody tr th:only-of-type {\n",
       "        vertical-align: middle;\n",
       "    }\n",
       "\n",
       "    .dataframe tbody tr th {\n",
       "        vertical-align: top;\n",
       "    }\n",
       "\n",
       "    .dataframe thead th {\n",
       "        text-align: right;\n",
       "    }\n",
       "</style>\n",
       "<table border=\"1\" class=\"dataframe\">\n",
       "  <thead>\n",
       "    <tr style=\"text-align: right;\">\n",
       "      <th></th>\n",
       "      <th>MinTemp</th>\n",
       "      <th>MaxTemp</th>\n",
       "      <th>Rainfall</th>\n",
       "      <th>Evaporation</th>\n",
       "      <th>Sunshine</th>\n",
       "      <th>WindGustSpeed</th>\n",
       "      <th>WindSpeed9am</th>\n",
       "      <th>WindSpeed3pm</th>\n",
       "      <th>Humidity9am</th>\n",
       "      <th>Humidity3pm</th>\n",
       "      <th>Pressure9am</th>\n",
       "      <th>Pressure3pm</th>\n",
       "      <th>Cloud9am</th>\n",
       "      <th>Cloud3pm</th>\n",
       "      <th>Temp9am</th>\n",
       "      <th>Temp3pm</th>\n",
       "    </tr>\n",
       "  </thead>\n",
       "  <tbody>\n",
       "    <tr>\n",
       "      <th>113462</th>\n",
       "      <td>13.9</td>\n",
       "      <td>22.6</td>\n",
       "      <td>0.2</td>\n",
       "      <td>4.8</td>\n",
       "      <td>8.5</td>\n",
       "      <td>41.0</td>\n",
       "      <td>20.0</td>\n",
       "      <td>28.0</td>\n",
       "      <td>65.0</td>\n",
       "      <td>55.0</td>\n",
       "      <td>1013.9</td>\n",
       "      <td>1013.4</td>\n",
       "      <td>5.0</td>\n",
       "      <td>5.0</td>\n",
       "      <td>18.8</td>\n",
       "      <td>20.4</td>\n",
       "    </tr>\n",
       "    <tr>\n",
       "      <th>89638</th>\n",
       "      <td>22.4</td>\n",
       "      <td>29.4</td>\n",
       "      <td>2.0</td>\n",
       "      <td>6.0</td>\n",
       "      <td>6.3</td>\n",
       "      <td>33.0</td>\n",
       "      <td>7.0</td>\n",
       "      <td>19.0</td>\n",
       "      <td>71.0</td>\n",
       "      <td>59.0</td>\n",
       "      <td>1016.9</td>\n",
       "      <td>1013.1</td>\n",
       "      <td>7.0</td>\n",
       "      <td>5.0</td>\n",
       "      <td>26.4</td>\n",
       "      <td>27.5</td>\n",
       "    </tr>\n",
       "    <tr>\n",
       "      <th>138130</th>\n",
       "      <td>9.7</td>\n",
       "      <td>36.2</td>\n",
       "      <td>0.0</td>\n",
       "      <td>11.4</td>\n",
       "      <td>12.3</td>\n",
       "      <td>31.0</td>\n",
       "      <td>15.0</td>\n",
       "      <td>11.0</td>\n",
       "      <td>6.0</td>\n",
       "      <td>2.0</td>\n",
       "      <td>1018.1</td>\n",
       "      <td>1013.6</td>\n",
       "      <td>1.0</td>\n",
       "      <td>1.0</td>\n",
       "      <td>28.5</td>\n",
       "      <td>35.0</td>\n",
       "    </tr>\n",
       "    <tr>\n",
       "      <th>87898</th>\n",
       "      <td>20.5</td>\n",
       "      <td>30.1</td>\n",
       "      <td>0.0</td>\n",
       "      <td>8.8</td>\n",
       "      <td>11.1</td>\n",
       "      <td>37.0</td>\n",
       "      <td>22.0</td>\n",
       "      <td>19.0</td>\n",
       "      <td>59.0</td>\n",
       "      <td>53.0</td>\n",
       "      <td>1014.1</td>\n",
       "      <td>1010.8</td>\n",
       "      <td>2.0</td>\n",
       "      <td>3.0</td>\n",
       "      <td>27.3</td>\n",
       "      <td>29.4</td>\n",
       "    </tr>\n",
       "    <tr>\n",
       "      <th>16484</th>\n",
       "      <td>16.8</td>\n",
       "      <td>29.2</td>\n",
       "      <td>0.0</td>\n",
       "      <td>4.8</td>\n",
       "      <td>8.5</td>\n",
       "      <td>39.0</td>\n",
       "      <td>0.0</td>\n",
       "      <td>7.0</td>\n",
       "      <td>72.0</td>\n",
       "      <td>53.0</td>\n",
       "      <td>1017.6</td>\n",
       "      <td>1015.2</td>\n",
       "      <td>5.0</td>\n",
       "      <td>8.0</td>\n",
       "      <td>22.2</td>\n",
       "      <td>27.0</td>\n",
       "    </tr>\n",
       "    <tr>\n",
       "      <th>...</th>\n",
       "      <td>...</td>\n",
       "      <td>...</td>\n",
       "      <td>...</td>\n",
       "      <td>...</td>\n",
       "      <td>...</td>\n",
       "      <td>...</td>\n",
       "      <td>...</td>\n",
       "      <td>...</td>\n",
       "      <td>...</td>\n",
       "      <td>...</td>\n",
       "      <td>...</td>\n",
       "      <td>...</td>\n",
       "      <td>...</td>\n",
       "      <td>...</td>\n",
       "      <td>...</td>\n",
       "      <td>...</td>\n",
       "    </tr>\n",
       "    <tr>\n",
       "      <th>43204</th>\n",
       "      <td>9.4</td>\n",
       "      <td>17.6</td>\n",
       "      <td>0.0</td>\n",
       "      <td>4.8</td>\n",
       "      <td>8.5</td>\n",
       "      <td>35.0</td>\n",
       "      <td>7.0</td>\n",
       "      <td>17.0</td>\n",
       "      <td>62.0</td>\n",
       "      <td>80.0</td>\n",
       "      <td>1022.2</td>\n",
       "      <td>1019.9</td>\n",
       "      <td>6.0</td>\n",
       "      <td>8.0</td>\n",
       "      <td>16.3</td>\n",
       "      <td>16.2</td>\n",
       "    </tr>\n",
       "    <tr>\n",
       "      <th>100206</th>\n",
       "      <td>1.2</td>\n",
       "      <td>20.2</td>\n",
       "      <td>0.0</td>\n",
       "      <td>2.0</td>\n",
       "      <td>12.4</td>\n",
       "      <td>33.0</td>\n",
       "      <td>13.0</td>\n",
       "      <td>13.0</td>\n",
       "      <td>69.0</td>\n",
       "      <td>33.0</td>\n",
       "      <td>1022.0</td>\n",
       "      <td>1017.9</td>\n",
       "      <td>0.0</td>\n",
       "      <td>1.0</td>\n",
       "      <td>11.2</td>\n",
       "      <td>19.7</td>\n",
       "    </tr>\n",
       "    <tr>\n",
       "      <th>98494</th>\n",
       "      <td>11.9</td>\n",
       "      <td>17.6</td>\n",
       "      <td>1.2</td>\n",
       "      <td>2.0</td>\n",
       "      <td>8.5</td>\n",
       "      <td>39.0</td>\n",
       "      <td>13.0</td>\n",
       "      <td>20.0</td>\n",
       "      <td>67.0</td>\n",
       "      <td>38.0</td>\n",
       "      <td>1022.2</td>\n",
       "      <td>1022.8</td>\n",
       "      <td>5.0</td>\n",
       "      <td>5.0</td>\n",
       "      <td>14.5</td>\n",
       "      <td>17.1</td>\n",
       "    </tr>\n",
       "    <tr>\n",
       "      <th>120883</th>\n",
       "      <td>7.7</td>\n",
       "      <td>26.0</td>\n",
       "      <td>0.0</td>\n",
       "      <td>10.4</td>\n",
       "      <td>11.2</td>\n",
       "      <td>31.0</td>\n",
       "      <td>11.0</td>\n",
       "      <td>13.0</td>\n",
       "      <td>58.0</td>\n",
       "      <td>25.0</td>\n",
       "      <td>1025.5</td>\n",
       "      <td>1023.0</td>\n",
       "      <td>0.0</td>\n",
       "      <td>0.0</td>\n",
       "      <td>14.4</td>\n",
       "      <td>24.6</td>\n",
       "    </tr>\n",
       "    <tr>\n",
       "      <th>44785</th>\n",
       "      <td>20.0</td>\n",
       "      <td>31.5</td>\n",
       "      <td>0.0</td>\n",
       "      <td>4.8</td>\n",
       "      <td>8.5</td>\n",
       "      <td>63.0</td>\n",
       "      <td>43.0</td>\n",
       "      <td>20.0</td>\n",
       "      <td>46.0</td>\n",
       "      <td>79.0</td>\n",
       "      <td>1021.1</td>\n",
       "      <td>1020.7</td>\n",
       "      <td>5.0</td>\n",
       "      <td>5.0</td>\n",
       "      <td>26.1</td>\n",
       "      <td>22.8</td>\n",
       "    </tr>\n",
       "  </tbody>\n",
       "</table>\n",
       "<p>113754 rows × 16 columns</p>\n",
       "</div>"
      ],
      "text/plain": [
       "        MinTemp  MaxTemp  Rainfall  Evaporation  Sunshine  WindGustSpeed  \\\n",
       "113462     13.9     22.6       0.2          4.8       8.5           41.0   \n",
       "89638      22.4     29.4       2.0          6.0       6.3           33.0   \n",
       "138130      9.7     36.2       0.0         11.4      12.3           31.0   \n",
       "87898      20.5     30.1       0.0          8.8      11.1           37.0   \n",
       "16484      16.8     29.2       0.0          4.8       8.5           39.0   \n",
       "...         ...      ...       ...          ...       ...            ...   \n",
       "43204       9.4     17.6       0.0          4.8       8.5           35.0   \n",
       "100206      1.2     20.2       0.0          2.0      12.4           33.0   \n",
       "98494      11.9     17.6       1.2          2.0       8.5           39.0   \n",
       "120883      7.7     26.0       0.0         10.4      11.2           31.0   \n",
       "44785      20.0     31.5       0.0          4.8       8.5           63.0   \n",
       "\n",
       "        WindSpeed9am  WindSpeed3pm  Humidity9am  Humidity3pm  Pressure9am  \\\n",
       "113462          20.0          28.0         65.0         55.0       1013.9   \n",
       "89638            7.0          19.0         71.0         59.0       1016.9   \n",
       "138130          15.0          11.0          6.0          2.0       1018.1   \n",
       "87898           22.0          19.0         59.0         53.0       1014.1   \n",
       "16484            0.0           7.0         72.0         53.0       1017.6   \n",
       "...              ...           ...          ...          ...          ...   \n",
       "43204            7.0          17.0         62.0         80.0       1022.2   \n",
       "100206          13.0          13.0         69.0         33.0       1022.0   \n",
       "98494           13.0          20.0         67.0         38.0       1022.2   \n",
       "120883          11.0          13.0         58.0         25.0       1025.5   \n",
       "44785           43.0          20.0         46.0         79.0       1021.1   \n",
       "\n",
       "        Pressure3pm  Cloud9am  Cloud3pm  Temp9am  Temp3pm  \n",
       "113462       1013.4       5.0       5.0     18.8     20.4  \n",
       "89638        1013.1       7.0       5.0     26.4     27.5  \n",
       "138130       1013.6       1.0       1.0     28.5     35.0  \n",
       "87898        1010.8       2.0       3.0     27.3     29.4  \n",
       "16484        1015.2       5.0       8.0     22.2     27.0  \n",
       "...             ...       ...       ...      ...      ...  \n",
       "43204        1019.9       6.0       8.0     16.3     16.2  \n",
       "100206       1017.9       0.0       1.0     11.2     19.7  \n",
       "98494        1022.8       5.0       5.0     14.5     17.1  \n",
       "120883       1023.0       0.0       0.0     14.4     24.6  \n",
       "44785        1020.7       5.0       5.0     26.1     22.8  \n",
       "\n",
       "[113754 rows x 16 columns]"
      ]
     },
     "execution_count": 49,
     "metadata": {},
     "output_type": "execute_result"
    }
   ],
   "source": [
    "num2.drop([\"Day\",\"Month\"], axis=1, inplace = True)\n",
    "num2"
   ]
  },
  {
   "cell_type": "code",
   "execution_count": 50,
   "metadata": {},
   "outputs": [
    {
     "data": {
      "text/plain": [
       "Text(69.0, 0.5, '')"
      ]
     },
     "execution_count": 50,
     "metadata": {},
     "output_type": "execute_result"
    },
    {
     "data": {
      "image/png": "[encoded data removed]",
      "text/plain": [
       "<Figure size 720x720 with 2 Axes>"
      ]
     },
     "metadata": {
      "needs_background": "light"
     },
     "output_type": "display_data"
    }
   ],
   "source": [
    "plt.figure(figsize = (10,10))\n",
    "mask = np.triu(np.ones_like(num2.corr(), dtype=np.bool))\n",
    "heatmap = sns.heatmap(num2.corr(), mask=mask, vmin=-1, vmax=1, annot=True,fmt='.1g')\n",
    "plt.title('Numerical Data Heatmap (16 features)',fontsize=15)\n",
    "plt.xlabel(\"\")\n",
    "plt.ylabel(\"\")\n"
   ]
  },
  {
   "cell_type": "code",
   "execution_count": 51,
   "metadata": {},
   "outputs": [],
   "source": [
    "#Encode categorical variables\n",
    "encoder = ce.BinaryEncoder(cols=['RainToday'])\n",
    "X_train = encoder.fit_transform(X_train)\n",
    "X_test = encoder.transform(X_test)"
   ]
  },
  {
   "cell_type": "code",
   "execution_count": 52,
   "metadata": {},
   "outputs": [
    {
     "data": {
      "text/html": [
       "<div>\n",
       "<style scoped>\n",
       "    .dataframe tbody tr th:only-of-type {\n",
       "        vertical-align: middle;\n",
       "    }\n",
       "\n",
       "    .dataframe tbody tr th {\n",
       "        vertical-align: top;\n",
       "    }\n",
       "\n",
       "    .dataframe thead th {\n",
       "        text-align: right;\n",
       "    }\n",
       "</style>\n",
       "<table border=\"1\" class=\"dataframe\">\n",
       "  <thead>\n",
       "    <tr style=\"text-align: right;\">\n",
       "      <th></th>\n",
       "      <th>Location</th>\n",
       "      <th>MinTemp</th>\n",
       "      <th>MaxTemp</th>\n",
       "      <th>Rainfall</th>\n",
       "      <th>Evaporation</th>\n",
       "      <th>Sunshine</th>\n",
       "      <th>WindGustDir</th>\n",
       "      <th>WindGustSpeed</th>\n",
       "      <th>WindDir9am</th>\n",
       "      <th>WindDir3pm</th>\n",
       "      <th>...</th>\n",
       "      <th>Pressure3pm</th>\n",
       "      <th>Cloud9am</th>\n",
       "      <th>Cloud3pm</th>\n",
       "      <th>Temp9am</th>\n",
       "      <th>Temp3pm</th>\n",
       "      <th>RainToday_0</th>\n",
       "      <th>RainToday_1</th>\n",
       "      <th>Year</th>\n",
       "      <th>Month</th>\n",
       "      <th>Day</th>\n",
       "    </tr>\n",
       "  </thead>\n",
       "  <tbody>\n",
       "    <tr>\n",
       "      <th>113462</th>\n",
       "      <td>Witchcliffe</td>\n",
       "      <td>13.9</td>\n",
       "      <td>22.6</td>\n",
       "      <td>0.2</td>\n",
       "      <td>4.8</td>\n",
       "      <td>8.5</td>\n",
       "      <td>S</td>\n",
       "      <td>41.0</td>\n",
       "      <td>SSE</td>\n",
       "      <td>S</td>\n",
       "      <td>...</td>\n",
       "      <td>1013.4</td>\n",
       "      <td>5.0</td>\n",
       "      <td>5.0</td>\n",
       "      <td>18.8</td>\n",
       "      <td>20.4</td>\n",
       "      <td>0</td>\n",
       "      <td>1</td>\n",
       "      <td>2014</td>\n",
       "      <td>4</td>\n",
       "      <td>25</td>\n",
       "    </tr>\n",
       "    <tr>\n",
       "      <th>89638</th>\n",
       "      <td>Cairns</td>\n",
       "      <td>22.4</td>\n",
       "      <td>29.4</td>\n",
       "      <td>2.0</td>\n",
       "      <td>6.0</td>\n",
       "      <td>6.3</td>\n",
       "      <td>ENE</td>\n",
       "      <td>33.0</td>\n",
       "      <td>SSE</td>\n",
       "      <td>SE</td>\n",
       "      <td>...</td>\n",
       "      <td>1013.1</td>\n",
       "      <td>7.0</td>\n",
       "      <td>5.0</td>\n",
       "      <td>26.4</td>\n",
       "      <td>27.5</td>\n",
       "      <td>1</td>\n",
       "      <td>0</td>\n",
       "      <td>2015</td>\n",
       "      <td>11</td>\n",
       "      <td>2</td>\n",
       "    </tr>\n",
       "    <tr>\n",
       "      <th>138130</th>\n",
       "      <td>AliceSprings</td>\n",
       "      <td>9.7</td>\n",
       "      <td>36.2</td>\n",
       "      <td>0.0</td>\n",
       "      <td>11.4</td>\n",
       "      <td>12.3</td>\n",
       "      <td>E</td>\n",
       "      <td>31.0</td>\n",
       "      <td>NE</td>\n",
       "      <td>N</td>\n",
       "      <td>...</td>\n",
       "      <td>1013.6</td>\n",
       "      <td>1.0</td>\n",
       "      <td>1.0</td>\n",
       "      <td>28.5</td>\n",
       "      <td>35.0</td>\n",
       "      <td>0</td>\n",
       "      <td>1</td>\n",
       "      <td>2014</td>\n",
       "      <td>10</td>\n",
       "      <td>19</td>\n",
       "    </tr>\n",
       "    <tr>\n",
       "      <th>87898</th>\n",
       "      <td>Cairns</td>\n",
       "      <td>20.5</td>\n",
       "      <td>30.1</td>\n",
       "      <td>0.0</td>\n",
       "      <td>8.8</td>\n",
       "      <td>11.1</td>\n",
       "      <td>ESE</td>\n",
       "      <td>37.0</td>\n",
       "      <td>SSE</td>\n",
       "      <td>E</td>\n",
       "      <td>...</td>\n",
       "      <td>1010.8</td>\n",
       "      <td>2.0</td>\n",
       "      <td>3.0</td>\n",
       "      <td>27.3</td>\n",
       "      <td>29.4</td>\n",
       "      <td>0</td>\n",
       "      <td>1</td>\n",
       "      <td>2010</td>\n",
       "      <td>10</td>\n",
       "      <td>30</td>\n",
       "    </tr>\n",
       "    <tr>\n",
       "      <th>16484</th>\n",
       "      <td>Newcastle</td>\n",
       "      <td>16.8</td>\n",
       "      <td>29.2</td>\n",
       "      <td>0.0</td>\n",
       "      <td>4.8</td>\n",
       "      <td>8.5</td>\n",
       "      <td>W</td>\n",
       "      <td>39.0</td>\n",
       "      <td>N</td>\n",
       "      <td>SE</td>\n",
       "      <td>...</td>\n",
       "      <td>1015.2</td>\n",
       "      <td>5.0</td>\n",
       "      <td>8.0</td>\n",
       "      <td>22.2</td>\n",
       "      <td>27.0</td>\n",
       "      <td>0</td>\n",
       "      <td>1</td>\n",
       "      <td>2012</td>\n",
       "      <td>11</td>\n",
       "      <td>8</td>\n",
       "    </tr>\n",
       "  </tbody>\n",
       "</table>\n",
       "<p>5 rows × 25 columns</p>\n",
       "</div>"
      ],
      "text/plain": [
       "            Location  MinTemp  MaxTemp  Rainfall  Evaporation  Sunshine  \\\n",
       "113462   Witchcliffe     13.9     22.6       0.2          4.8       8.5   \n",
       "89638         Cairns     22.4     29.4       2.0          6.0       6.3   \n",
       "138130  AliceSprings      9.7     36.2       0.0         11.4      12.3   \n",
       "87898         Cairns     20.5     30.1       0.0          8.8      11.1   \n",
       "16484      Newcastle     16.8     29.2       0.0          4.8       8.5   \n",
       "\n",
       "       WindGustDir  WindGustSpeed WindDir9am WindDir3pm  ...  Pressure3pm  \\\n",
       "113462           S           41.0        SSE          S  ...       1013.4   \n",
       "89638          ENE           33.0        SSE         SE  ...       1013.1   \n",
       "138130           E           31.0         NE          N  ...       1013.6   \n",
       "87898          ESE           37.0        SSE          E  ...       1010.8   \n",
       "16484            W           39.0          N         SE  ...       1015.2   \n",
       "\n",
       "        Cloud9am  Cloud3pm  Temp9am  Temp3pm  RainToday_0  RainToday_1  Year  \\\n",
       "113462       5.0       5.0     18.8     20.4            0            1  2014   \n",
       "89638        7.0       5.0     26.4     27.5            1            0  2015   \n",
       "138130       1.0       1.0     28.5     35.0            0            1  2014   \n",
       "87898        2.0       3.0     27.3     29.4            0            1  2010   \n",
       "16484        5.0       8.0     22.2     27.0            0            1  2012   \n",
       "\n",
       "        Month  Day  \n",
       "113462      4   25  \n",
       "89638      11    2  \n",
       "138130     10   19  \n",
       "87898      10   30  \n",
       "16484      11    8  \n",
       "\n",
       "[5 rows x 25 columns]"
      ]
     },
     "execution_count": 52,
     "metadata": {},
     "output_type": "execute_result"
    }
   ],
   "source": [
    "X_train.head()"
   ]
  },
  {
   "cell_type": "code",
   "execution_count": 53,
   "metadata": {},
   "outputs": [],
   "source": [
    "X_train['WindDir9am'] = '9pm' + X_train['WindDir9am'].astype(str)\n",
    "X_train['WindDir3pm'] = '3pm' + X_train['WindDir3pm'].astype(str)"
   ]
  },
  {
   "cell_type": "code",
   "execution_count": 54,
   "metadata": {},
   "outputs": [
    {
     "data": {
      "text/html": [
       "<div>\n",
       "<style scoped>\n",
       "    .dataframe tbody tr th:only-of-type {\n",
       "        vertical-align: middle;\n",
       "    }\n",
       "\n",
       "    .dataframe tbody tr th {\n",
       "        vertical-align: top;\n",
       "    }\n",
       "\n",
       "    .dataframe thead th {\n",
       "        text-align: right;\n",
       "    }\n",
       "</style>\n",
       "<table border=\"1\" class=\"dataframe\">\n",
       "  <thead>\n",
       "    <tr style=\"text-align: right;\">\n",
       "      <th></th>\n",
       "      <th>Location</th>\n",
       "      <th>MinTemp</th>\n",
       "      <th>MaxTemp</th>\n",
       "      <th>Rainfall</th>\n",
       "      <th>Evaporation</th>\n",
       "      <th>Sunshine</th>\n",
       "      <th>WindGustDir</th>\n",
       "      <th>WindGustSpeed</th>\n",
       "      <th>WindDir9am</th>\n",
       "      <th>WindDir3pm</th>\n",
       "      <th>...</th>\n",
       "      <th>Pressure3pm</th>\n",
       "      <th>Cloud9am</th>\n",
       "      <th>Cloud3pm</th>\n",
       "      <th>Temp9am</th>\n",
       "      <th>Temp3pm</th>\n",
       "      <th>RainToday_0</th>\n",
       "      <th>RainToday_1</th>\n",
       "      <th>Year</th>\n",
       "      <th>Month</th>\n",
       "      <th>Day</th>\n",
       "    </tr>\n",
       "  </thead>\n",
       "  <tbody>\n",
       "    <tr>\n",
       "      <th>113462</th>\n",
       "      <td>Witchcliffe</td>\n",
       "      <td>13.9</td>\n",
       "      <td>22.6</td>\n",
       "      <td>0.2</td>\n",
       "      <td>4.8</td>\n",
       "      <td>8.5</td>\n",
       "      <td>S</td>\n",
       "      <td>41.0</td>\n",
       "      <td>9pmSSE</td>\n",
       "      <td>3pmS</td>\n",
       "      <td>...</td>\n",
       "      <td>1013.4</td>\n",
       "      <td>5.0</td>\n",
       "      <td>5.0</td>\n",
       "      <td>18.8</td>\n",
       "      <td>20.4</td>\n",
       "      <td>0</td>\n",
       "      <td>1</td>\n",
       "      <td>2014</td>\n",
       "      <td>4</td>\n",
       "      <td>25</td>\n",
       "    </tr>\n",
       "    <tr>\n",
       "      <th>89638</th>\n",
       "      <td>Cairns</td>\n",
       "      <td>22.4</td>\n",
       "      <td>29.4</td>\n",
       "      <td>2.0</td>\n",
       "      <td>6.0</td>\n",
       "      <td>6.3</td>\n",
       "      <td>ENE</td>\n",
       "      <td>33.0</td>\n",
       "      <td>9pmSSE</td>\n",
       "      <td>3pmSE</td>\n",
       "      <td>...</td>\n",
       "      <td>1013.1</td>\n",
       "      <td>7.0</td>\n",
       "      <td>5.0</td>\n",
       "      <td>26.4</td>\n",
       "      <td>27.5</td>\n",
       "      <td>1</td>\n",
       "      <td>0</td>\n",
       "      <td>2015</td>\n",
       "      <td>11</td>\n",
       "      <td>2</td>\n",
       "    </tr>\n",
       "    <tr>\n",
       "      <th>138130</th>\n",
       "      <td>AliceSprings</td>\n",
       "      <td>9.7</td>\n",
       "      <td>36.2</td>\n",
       "      <td>0.0</td>\n",
       "      <td>11.4</td>\n",
       "      <td>12.3</td>\n",
       "      <td>E</td>\n",
       "      <td>31.0</td>\n",
       "      <td>9pmNE</td>\n",
       "      <td>3pmN</td>\n",
       "      <td>...</td>\n",
       "      <td>1013.6</td>\n",
       "      <td>1.0</td>\n",
       "      <td>1.0</td>\n",
       "      <td>28.5</td>\n",
       "      <td>35.0</td>\n",
       "      <td>0</td>\n",
       "      <td>1</td>\n",
       "      <td>2014</td>\n",
       "      <td>10</td>\n",
       "      <td>19</td>\n",
       "    </tr>\n",
       "    <tr>\n",
       "      <th>87898</th>\n",
       "      <td>Cairns</td>\n",
       "      <td>20.5</td>\n",
       "      <td>30.1</td>\n",
       "      <td>0.0</td>\n",
       "      <td>8.8</td>\n",
       "      <td>11.1</td>\n",
       "      <td>ESE</td>\n",
       "      <td>37.0</td>\n",
       "      <td>9pmSSE</td>\n",
       "      <td>3pmE</td>\n",
       "      <td>...</td>\n",
       "      <td>1010.8</td>\n",
       "      <td>2.0</td>\n",
       "      <td>3.0</td>\n",
       "      <td>27.3</td>\n",
       "      <td>29.4</td>\n",
       "      <td>0</td>\n",
       "      <td>1</td>\n",
       "      <td>2010</td>\n",
       "      <td>10</td>\n",
       "      <td>30</td>\n",
       "    </tr>\n",
       "    <tr>\n",
       "      <th>16484</th>\n",
       "      <td>Newcastle</td>\n",
       "      <td>16.8</td>\n",
       "      <td>29.2</td>\n",
       "      <td>0.0</td>\n",
       "      <td>4.8</td>\n",
       "      <td>8.5</td>\n",
       "      <td>W</td>\n",
       "      <td>39.0</td>\n",
       "      <td>9pmN</td>\n",
       "      <td>3pmSE</td>\n",
       "      <td>...</td>\n",
       "      <td>1015.2</td>\n",
       "      <td>5.0</td>\n",
       "      <td>8.0</td>\n",
       "      <td>22.2</td>\n",
       "      <td>27.0</td>\n",
       "      <td>0</td>\n",
       "      <td>1</td>\n",
       "      <td>2012</td>\n",
       "      <td>11</td>\n",
       "      <td>8</td>\n",
       "    </tr>\n",
       "  </tbody>\n",
       "</table>\n",
       "<p>5 rows × 25 columns</p>\n",
       "</div>"
      ],
      "text/plain": [
       "            Location  MinTemp  MaxTemp  Rainfall  Evaporation  Sunshine  \\\n",
       "113462   Witchcliffe     13.9     22.6       0.2          4.8       8.5   \n",
       "89638         Cairns     22.4     29.4       2.0          6.0       6.3   \n",
       "138130  AliceSprings      9.7     36.2       0.0         11.4      12.3   \n",
       "87898         Cairns     20.5     30.1       0.0          8.8      11.1   \n",
       "16484      Newcastle     16.8     29.2       0.0          4.8       8.5   \n",
       "\n",
       "       WindGustDir  WindGustSpeed WindDir9am WindDir3pm  ...  Pressure3pm  \\\n",
       "113462           S           41.0     9pmSSE       3pmS  ...       1013.4   \n",
       "89638          ENE           33.0     9pmSSE      3pmSE  ...       1013.1   \n",
       "138130           E           31.0      9pmNE       3pmN  ...       1013.6   \n",
       "87898          ESE           37.0     9pmSSE       3pmE  ...       1010.8   \n",
       "16484            W           39.0       9pmN      3pmSE  ...       1015.2   \n",
       "\n",
       "        Cloud9am  Cloud3pm  Temp9am  Temp3pm  RainToday_0  RainToday_1  Year  \\\n",
       "113462       5.0       5.0     18.8     20.4            0            1  2014   \n",
       "89638        7.0       5.0     26.4     27.5            1            0  2015   \n",
       "138130       1.0       1.0     28.5     35.0            0            1  2014   \n",
       "87898        2.0       3.0     27.3     29.4            0            1  2010   \n",
       "16484        5.0       8.0     22.2     27.0            0            1  2012   \n",
       "\n",
       "        Month  Day  \n",
       "113462      4   25  \n",
       "89638      11    2  \n",
       "138130     10   19  \n",
       "87898      10   30  \n",
       "16484      11    8  \n",
       "\n",
       "[5 rows x 25 columns]"
      ]
     },
     "execution_count": 54,
     "metadata": {},
     "output_type": "execute_result"
    }
   ],
   "source": [
    "X_train.head()"
   ]
  },
  {
   "cell_type": "code",
   "execution_count": 55,
   "metadata": {},
   "outputs": [],
   "source": [
    "X_train = pd.concat([X_train[num], X_train[['RainToday_0', 'RainToday_1']],\n",
    "                     pd.get_dummies(X_train.Location), \n",
    "                     pd.get_dummies(X_train.WindGustDir),\n",
    "                     pd.get_dummies(X_train.WindDir9am),\n",
    "                     pd.get_dummies(X_train.WindDir3pm)], axis=1)"
   ]
  },
  {
   "cell_type": "code",
   "execution_count": 56,
   "metadata": {},
   "outputs": [
    {
     "data": {
      "text/html": [
       "<div>\n",
       "<style scoped>\n",
       "    .dataframe tbody tr th:only-of-type {\n",
       "        vertical-align: middle;\n",
       "    }\n",
       "\n",
       "    .dataframe tbody tr th {\n",
       "        vertical-align: top;\n",
       "    }\n",
       "\n",
       "    .dataframe thead th {\n",
       "        text-align: right;\n",
       "    }\n",
       "</style>\n",
       "<table border=\"1\" class=\"dataframe\">\n",
       "  <thead>\n",
       "    <tr style=\"text-align: right;\">\n",
       "      <th></th>\n",
       "      <th>MinTemp</th>\n",
       "      <th>MaxTemp</th>\n",
       "      <th>Rainfall</th>\n",
       "      <th>Evaporation</th>\n",
       "      <th>Sunshine</th>\n",
       "      <th>WindGustSpeed</th>\n",
       "      <th>WindSpeed9am</th>\n",
       "      <th>WindSpeed3pm</th>\n",
       "      <th>Humidity9am</th>\n",
       "      <th>Humidity3pm</th>\n",
       "      <th>...</th>\n",
       "      <th>3pmNNW</th>\n",
       "      <th>3pmNW</th>\n",
       "      <th>3pmS</th>\n",
       "      <th>3pmSE</th>\n",
       "      <th>3pmSSE</th>\n",
       "      <th>3pmSSW</th>\n",
       "      <th>3pmSW</th>\n",
       "      <th>3pmW</th>\n",
       "      <th>3pmWNW</th>\n",
       "      <th>3pmWSW</th>\n",
       "    </tr>\n",
       "  </thead>\n",
       "  <tbody>\n",
       "    <tr>\n",
       "      <th>113462</th>\n",
       "      <td>13.9</td>\n",
       "      <td>22.6</td>\n",
       "      <td>0.2</td>\n",
       "      <td>4.8</td>\n",
       "      <td>8.5</td>\n",
       "      <td>41.0</td>\n",
       "      <td>20.0</td>\n",
       "      <td>28.0</td>\n",
       "      <td>65.0</td>\n",
       "      <td>55.0</td>\n",
       "      <td>...</td>\n",
       "      <td>0</td>\n",
       "      <td>0</td>\n",
       "      <td>1</td>\n",
       "      <td>0</td>\n",
       "      <td>0</td>\n",
       "      <td>0</td>\n",
       "      <td>0</td>\n",
       "      <td>0</td>\n",
       "      <td>0</td>\n",
       "      <td>0</td>\n",
       "    </tr>\n",
       "    <tr>\n",
       "      <th>89638</th>\n",
       "      <td>22.4</td>\n",
       "      <td>29.4</td>\n",
       "      <td>2.0</td>\n",
       "      <td>6.0</td>\n",
       "      <td>6.3</td>\n",
       "      <td>33.0</td>\n",
       "      <td>7.0</td>\n",
       "      <td>19.0</td>\n",
       "      <td>71.0</td>\n",
       "      <td>59.0</td>\n",
       "      <td>...</td>\n",
       "      <td>0</td>\n",
       "      <td>0</td>\n",
       "      <td>0</td>\n",
       "      <td>1</td>\n",
       "      <td>0</td>\n",
       "      <td>0</td>\n",
       "      <td>0</td>\n",
       "      <td>0</td>\n",
       "      <td>0</td>\n",
       "      <td>0</td>\n",
       "    </tr>\n",
       "    <tr>\n",
       "      <th>138130</th>\n",
       "      <td>9.7</td>\n",
       "      <td>36.2</td>\n",
       "      <td>0.0</td>\n",
       "      <td>11.4</td>\n",
       "      <td>12.3</td>\n",
       "      <td>31.0</td>\n",
       "      <td>15.0</td>\n",
       "      <td>11.0</td>\n",
       "      <td>6.0</td>\n",
       "      <td>2.0</td>\n",
       "      <td>...</td>\n",
       "      <td>0</td>\n",
       "      <td>0</td>\n",
       "      <td>0</td>\n",
       "      <td>0</td>\n",
       "      <td>0</td>\n",
       "      <td>0</td>\n",
       "      <td>0</td>\n",
       "      <td>0</td>\n",
       "      <td>0</td>\n",
       "      <td>0</td>\n",
       "    </tr>\n",
       "    <tr>\n",
       "      <th>87898</th>\n",
       "      <td>20.5</td>\n",
       "      <td>30.1</td>\n",
       "      <td>0.0</td>\n",
       "      <td>8.8</td>\n",
       "      <td>11.1</td>\n",
       "      <td>37.0</td>\n",
       "      <td>22.0</td>\n",
       "      <td>19.0</td>\n",
       "      <td>59.0</td>\n",
       "      <td>53.0</td>\n",
       "      <td>...</td>\n",
       "      <td>0</td>\n",
       "      <td>0</td>\n",
       "      <td>0</td>\n",
       "      <td>0</td>\n",
       "      <td>0</td>\n",
       "      <td>0</td>\n",
       "      <td>0</td>\n",
       "      <td>0</td>\n",
       "      <td>0</td>\n",
       "      <td>0</td>\n",
       "    </tr>\n",
       "    <tr>\n",
       "      <th>16484</th>\n",
       "      <td>16.8</td>\n",
       "      <td>29.2</td>\n",
       "      <td>0.0</td>\n",
       "      <td>4.8</td>\n",
       "      <td>8.5</td>\n",
       "      <td>39.0</td>\n",
       "      <td>0.0</td>\n",
       "      <td>7.0</td>\n",
       "      <td>72.0</td>\n",
       "      <td>53.0</td>\n",
       "      <td>...</td>\n",
       "      <td>0</td>\n",
       "      <td>0</td>\n",
       "      <td>0</td>\n",
       "      <td>1</td>\n",
       "      <td>0</td>\n",
       "      <td>0</td>\n",
       "      <td>0</td>\n",
       "      <td>0</td>\n",
       "      <td>0</td>\n",
       "      <td>0</td>\n",
       "    </tr>\n",
       "  </tbody>\n",
       "</table>\n",
       "<p>5 rows × 118 columns</p>\n",
       "</div>"
      ],
      "text/plain": [
       "        MinTemp  MaxTemp  Rainfall  Evaporation  Sunshine  WindGustSpeed  \\\n",
       "113462     13.9     22.6       0.2          4.8       8.5           41.0   \n",
       "89638      22.4     29.4       2.0          6.0       6.3           33.0   \n",
       "138130      9.7     36.2       0.0         11.4      12.3           31.0   \n",
       "87898      20.5     30.1       0.0          8.8      11.1           37.0   \n",
       "16484      16.8     29.2       0.0          4.8       8.5           39.0   \n",
       "\n",
       "        WindSpeed9am  WindSpeed3pm  Humidity9am  Humidity3pm  ...  3pmNNW  \\\n",
       "113462          20.0          28.0         65.0         55.0  ...       0   \n",
       "89638            7.0          19.0         71.0         59.0  ...       0   \n",
       "138130          15.0          11.0          6.0          2.0  ...       0   \n",
       "87898           22.0          19.0         59.0         53.0  ...       0   \n",
       "16484            0.0           7.0         72.0         53.0  ...       0   \n",
       "\n",
       "        3pmNW  3pmS  3pmSE  3pmSSE  3pmSSW  3pmSW  3pmW  3pmWNW  3pmWSW  \n",
       "113462      0     1      0       0       0      0     0       0       0  \n",
       "89638       0     0      1       0       0      0     0       0       0  \n",
       "138130      0     0      0       0       0      0     0       0       0  \n",
       "87898       0     0      0       0       0      0     0       0       0  \n",
       "16484       0     0      1       0       0      0     0       0       0  \n",
       "\n",
       "[5 rows x 118 columns]"
      ]
     },
     "execution_count": 56,
     "metadata": {},
     "output_type": "execute_result"
    }
   ],
   "source": [
    "X_train.head()"
   ]
  },
  {
   "cell_type": "code",
   "execution_count": 57,
   "metadata": {},
   "outputs": [
    {
     "data": {
      "text/plain": [
       "Index([], dtype='object')"
      ]
     },
     "execution_count": 57,
     "metadata": {},
     "output_type": "execute_result"
    }
   ],
   "source": [
    "# Check for duplicate columns if any\n",
    "duplicate_columns = X_train.columns[X_train.columns.duplicated()]\n",
    "duplicate_columns"
   ]
  },
  {
   "cell_type": "code",
   "execution_count": 58,
   "metadata": {},
   "outputs": [],
   "source": [
    "X_test['WindDir9am'] = '9pm' + X_test['WindDir9am'].astype(str)\n",
    "X_test['WindDir3pm'] = '3pm' + X_test['WindDir3pm'].astype(str)"
   ]
  },
  {
   "cell_type": "code",
   "execution_count": 59,
   "metadata": {},
   "outputs": [],
   "source": [
    "X_test = pd.concat([X_test[num], X_test[['RainToday_0', 'RainToday_1']],\n",
    "                     pd.get_dummies(X_test.Location), \n",
    "                     pd.get_dummies(X_test.WindGustDir),\n",
    "                     pd.get_dummies(X_test.WindDir9am),\n",
    "                     pd.get_dummies(X_test.WindDir3pm)], axis=1)"
   ]
  },
  {
   "cell_type": "code",
   "execution_count": 60,
   "metadata": {},
   "outputs": [
    {
     "data": {
      "text/html": [
       "<div>\n",
       "<style scoped>\n",
       "    .dataframe tbody tr th:only-of-type {\n",
       "        vertical-align: middle;\n",
       "    }\n",
       "\n",
       "    .dataframe tbody tr th {\n",
       "        vertical-align: top;\n",
       "    }\n",
       "\n",
       "    .dataframe thead th {\n",
       "        text-align: right;\n",
       "    }\n",
       "</style>\n",
       "<table border=\"1\" class=\"dataframe\">\n",
       "  <thead>\n",
       "    <tr style=\"text-align: right;\">\n",
       "      <th></th>\n",
       "      <th>MinTemp</th>\n",
       "      <th>MaxTemp</th>\n",
       "      <th>Rainfall</th>\n",
       "      <th>Evaporation</th>\n",
       "      <th>Sunshine</th>\n",
       "      <th>WindGustSpeed</th>\n",
       "      <th>WindSpeed9am</th>\n",
       "      <th>WindSpeed3pm</th>\n",
       "      <th>Humidity9am</th>\n",
       "      <th>Humidity3pm</th>\n",
       "      <th>...</th>\n",
       "      <th>3pmNNW</th>\n",
       "      <th>3pmNW</th>\n",
       "      <th>3pmS</th>\n",
       "      <th>3pmSE</th>\n",
       "      <th>3pmSSE</th>\n",
       "      <th>3pmSSW</th>\n",
       "      <th>3pmSW</th>\n",
       "      <th>3pmW</th>\n",
       "      <th>3pmWNW</th>\n",
       "      <th>3pmWSW</th>\n",
       "    </tr>\n",
       "  </thead>\n",
       "  <tbody>\n",
       "    <tr>\n",
       "      <th>count</th>\n",
       "      <td>113754.000000</td>\n",
       "      <td>113754.000000</td>\n",
       "      <td>113754.000000</td>\n",
       "      <td>113754.000000</td>\n",
       "      <td>113754.000000</td>\n",
       "      <td>113754.000000</td>\n",
       "      <td>113754.000000</td>\n",
       "      <td>113754.000000</td>\n",
       "      <td>113754.000000</td>\n",
       "      <td>113754.000000</td>\n",
       "      <td>...</td>\n",
       "      <td>113754.000000</td>\n",
       "      <td>113754.000000</td>\n",
       "      <td>113754.000000</td>\n",
       "      <td>113754.000000</td>\n",
       "      <td>113754.000000</td>\n",
       "      <td>113754.000000</td>\n",
       "      <td>113754.000000</td>\n",
       "      <td>113754.000000</td>\n",
       "      <td>113754.000000</td>\n",
       "      <td>113754.000000</td>\n",
       "    </tr>\n",
       "    <tr>\n",
       "      <th>mean</th>\n",
       "      <td>12.193497</td>\n",
       "      <td>23.237216</td>\n",
       "      <td>0.675080</td>\n",
       "      <td>5.151606</td>\n",
       "      <td>8.041154</td>\n",
       "      <td>39.884074</td>\n",
       "      <td>13.978155</td>\n",
       "      <td>18.614756</td>\n",
       "      <td>68.867486</td>\n",
       "      <td>51.509547</td>\n",
       "      <td>...</td>\n",
       "      <td>0.054530</td>\n",
       "      <td>0.060288</td>\n",
       "      <td>0.067259</td>\n",
       "      <td>0.101605</td>\n",
       "      <td>0.064059</td>\n",
       "      <td>0.056402</td>\n",
       "      <td>0.064464</td>\n",
       "      <td>0.069334</td>\n",
       "      <td>0.060798</td>\n",
       "      <td>0.065483</td>\n",
       "    </tr>\n",
       "    <tr>\n",
       "      <th>std</th>\n",
       "      <td>6.388279</td>\n",
       "      <td>7.094149</td>\n",
       "      <td>1.183837</td>\n",
       "      <td>2.823707</td>\n",
       "      <td>2.769480</td>\n",
       "      <td>13.116959</td>\n",
       "      <td>8.806558</td>\n",
       "      <td>8.685862</td>\n",
       "      <td>18.935587</td>\n",
       "      <td>20.530723</td>\n",
       "      <td>...</td>\n",
       "      <td>0.227061</td>\n",
       "      <td>0.238021</td>\n",
       "      <td>0.250471</td>\n",
       "      <td>0.302130</td>\n",
       "      <td>0.244860</td>\n",
       "      <td>0.230698</td>\n",
       "      <td>0.245578</td>\n",
       "      <td>0.254022</td>\n",
       "      <td>0.238960</td>\n",
       "      <td>0.247378</td>\n",
       "    </tr>\n",
       "    <tr>\n",
       "      <th>min</th>\n",
       "      <td>-8.200000</td>\n",
       "      <td>-4.800000</td>\n",
       "      <td>0.000000</td>\n",
       "      <td>0.000000</td>\n",
       "      <td>0.000000</td>\n",
       "      <td>6.000000</td>\n",
       "      <td>0.000000</td>\n",
       "      <td>0.000000</td>\n",
       "      <td>0.000000</td>\n",
       "      <td>0.000000</td>\n",
       "      <td>...</td>\n",
       "      <td>0.000000</td>\n",
       "      <td>0.000000</td>\n",
       "      <td>0.000000</td>\n",
       "      <td>0.000000</td>\n",
       "      <td>0.000000</td>\n",
       "      <td>0.000000</td>\n",
       "      <td>0.000000</td>\n",
       "      <td>0.000000</td>\n",
       "      <td>0.000000</td>\n",
       "      <td>0.000000</td>\n",
       "    </tr>\n",
       "    <tr>\n",
       "      <th>25%</th>\n",
       "      <td>7.600000</td>\n",
       "      <td>18.000000</td>\n",
       "      <td>0.000000</td>\n",
       "      <td>4.000000</td>\n",
       "      <td>8.200000</td>\n",
       "      <td>31.000000</td>\n",
       "      <td>7.000000</td>\n",
       "      <td>13.000000</td>\n",
       "      <td>57.000000</td>\n",
       "      <td>37.000000</td>\n",
       "      <td>...</td>\n",
       "      <td>0.000000</td>\n",
       "      <td>0.000000</td>\n",
       "      <td>0.000000</td>\n",
       "      <td>0.000000</td>\n",
       "      <td>0.000000</td>\n",
       "      <td>0.000000</td>\n",
       "      <td>0.000000</td>\n",
       "      <td>0.000000</td>\n",
       "      <td>0.000000</td>\n",
       "      <td>0.000000</td>\n",
       "    </tr>\n",
       "    <tr>\n",
       "      <th>50%</th>\n",
       "      <td>12.000000</td>\n",
       "      <td>22.600000</td>\n",
       "      <td>0.000000</td>\n",
       "      <td>4.800000</td>\n",
       "      <td>8.500000</td>\n",
       "      <td>39.000000</td>\n",
       "      <td>13.000000</td>\n",
       "      <td>19.000000</td>\n",
       "      <td>70.000000</td>\n",
       "      <td>52.000000</td>\n",
       "      <td>...</td>\n",
       "      <td>0.000000</td>\n",
       "      <td>0.000000</td>\n",
       "      <td>0.000000</td>\n",
       "      <td>0.000000</td>\n",
       "      <td>0.000000</td>\n",
       "      <td>0.000000</td>\n",
       "      <td>0.000000</td>\n",
       "      <td>0.000000</td>\n",
       "      <td>0.000000</td>\n",
       "      <td>0.000000</td>\n",
       "    </tr>\n",
       "    <tr>\n",
       "      <th>75%</th>\n",
       "      <td>16.800000</td>\n",
       "      <td>28.200000</td>\n",
       "      <td>0.600000</td>\n",
       "      <td>5.400000</td>\n",
       "      <td>8.700000</td>\n",
       "      <td>46.000000</td>\n",
       "      <td>19.000000</td>\n",
       "      <td>24.000000</td>\n",
       "      <td>83.000000</td>\n",
       "      <td>65.000000</td>\n",
       "      <td>...</td>\n",
       "      <td>0.000000</td>\n",
       "      <td>0.000000</td>\n",
       "      <td>0.000000</td>\n",
       "      <td>0.000000</td>\n",
       "      <td>0.000000</td>\n",
       "      <td>0.000000</td>\n",
       "      <td>0.000000</td>\n",
       "      <td>0.000000</td>\n",
       "      <td>0.000000</td>\n",
       "      <td>0.000000</td>\n",
       "    </tr>\n",
       "    <tr>\n",
       "      <th>max</th>\n",
       "      <td>33.900000</td>\n",
       "      <td>48.100000</td>\n",
       "      <td>3.200000</td>\n",
       "      <td>21.800000</td>\n",
       "      <td>14.500000</td>\n",
       "      <td>135.000000</td>\n",
       "      <td>55.000000</td>\n",
       "      <td>57.000000</td>\n",
       "      <td>100.000000</td>\n",
       "      <td>100.000000</td>\n",
       "      <td>...</td>\n",
       "      <td>1.000000</td>\n",
       "      <td>1.000000</td>\n",
       "      <td>1.000000</td>\n",
       "      <td>1.000000</td>\n",
       "      <td>1.000000</td>\n",
       "      <td>1.000000</td>\n",
       "      <td>1.000000</td>\n",
       "      <td>1.000000</td>\n",
       "      <td>1.000000</td>\n",
       "      <td>1.000000</td>\n",
       "    </tr>\n",
       "  </tbody>\n",
       "</table>\n",
       "<p>8 rows × 118 columns</p>\n",
       "</div>"
      ],
      "text/plain": [
       "             MinTemp        MaxTemp       Rainfall    Evaporation  \\\n",
       "count  113754.000000  113754.000000  113754.000000  113754.000000   \n",
       "mean       12.193497      23.237216       0.675080       5.151606   \n",
       "std         6.388279       7.094149       1.183837       2.823707   \n",
       "min        -8.200000      -4.800000       0.000000       0.000000   \n",
       "25%         7.600000      18.000000       0.000000       4.000000   \n",
       "50%        12.000000      22.600000       0.000000       4.800000   \n",
       "75%        16.800000      28.200000       0.600000       5.400000   \n",
       "max        33.900000      48.100000       3.200000      21.800000   \n",
       "\n",
       "            Sunshine  WindGustSpeed   WindSpeed9am   WindSpeed3pm  \\\n",
       "count  113754.000000  113754.000000  113754.000000  113754.000000   \n",
       "mean        8.041154      39.884074      13.978155      18.614756   \n",
       "std         2.769480      13.116959       8.806558       8.685862   \n",
       "min         0.000000       6.000000       0.000000       0.000000   \n",
       "25%         8.200000      31.000000       7.000000      13.000000   \n",
       "50%         8.500000      39.000000      13.000000      19.000000   \n",
       "75%         8.700000      46.000000      19.000000      24.000000   \n",
       "max        14.500000     135.000000      55.000000      57.000000   \n",
       "\n",
       "         Humidity9am    Humidity3pm  ...         3pmNNW          3pmNW  \\\n",
       "count  113754.000000  113754.000000  ...  113754.000000  113754.000000   \n",
       "mean       68.867486      51.509547  ...       0.054530       0.060288   \n",
       "std        18.935587      20.530723  ...       0.227061       0.238021   \n",
       "min         0.000000       0.000000  ...       0.000000       0.000000   \n",
       "25%        57.000000      37.000000  ...       0.000000       0.000000   \n",
       "50%        70.000000      52.000000  ...       0.000000       0.000000   \n",
       "75%        83.000000      65.000000  ...       0.000000       0.000000   \n",
       "max       100.000000     100.000000  ...       1.000000       1.000000   \n",
       "\n",
       "                3pmS          3pmSE         3pmSSE         3pmSSW  \\\n",
       "count  113754.000000  113754.000000  113754.000000  113754.000000   \n",
       "mean        0.067259       0.101605       0.064059       0.056402   \n",
       "std         0.250471       0.302130       0.244860       0.230698   \n",
       "min         0.000000       0.000000       0.000000       0.000000   \n",
       "25%         0.000000       0.000000       0.000000       0.000000   \n",
       "50%         0.000000       0.000000       0.000000       0.000000   \n",
       "75%         0.000000       0.000000       0.000000       0.000000   \n",
       "max         1.000000       1.000000       1.000000       1.000000   \n",
       "\n",
       "               3pmSW           3pmW         3pmWNW         3pmWSW  \n",
       "count  113754.000000  113754.000000  113754.000000  113754.000000  \n",
       "mean        0.064464       0.069334       0.060798       0.065483  \n",
       "std         0.245578       0.254022       0.238960       0.247378  \n",
       "min         0.000000       0.000000       0.000000       0.000000  \n",
       "25%         0.000000       0.000000       0.000000       0.000000  \n",
       "50%         0.000000       0.000000       0.000000       0.000000  \n",
       "75%         0.000000       0.000000       0.000000       0.000000  \n",
       "max         1.000000       1.000000       1.000000       1.000000  \n",
       "\n",
       "[8 rows x 118 columns]"
      ]
     },
     "execution_count": 60,
     "metadata": {},
     "output_type": "execute_result"
    }
   ],
   "source": [
    "X_train.describe()"
   ]
  },
  {
   "cell_type": "code",
   "execution_count": 61,
   "metadata": {},
   "outputs": [],
   "source": [
    "#Feature Scaling \n",
    "cols = X_train.columns\n",
    "scaler = MinMaxScaler()\n",
    "X_train = scaler.fit_transform(X_train)\n",
    "X_test = scaler.transform(X_test)"
   ]
  },
  {
   "cell_type": "code",
   "execution_count": 62,
   "metadata": {},
   "outputs": [
    {
     "data": {
      "text/html": [
       "<div>\n",
       "<style scoped>\n",
       "    .dataframe tbody tr th:only-of-type {\n",
       "        vertical-align: middle;\n",
       "    }\n",
       "\n",
       "    .dataframe tbody tr th {\n",
       "        vertical-align: top;\n",
       "    }\n",
       "\n",
       "    .dataframe thead tr th {\n",
       "        text-align: left;\n",
       "    }\n",
       "</style>\n",
       "<table border=\"1\" class=\"dataframe\">\n",
       "  <thead>\n",
       "    <tr>\n",
       "      <th></th>\n",
       "      <th>MinTemp</th>\n",
       "      <th>MaxTemp</th>\n",
       "      <th>Rainfall</th>\n",
       "      <th>Evaporation</th>\n",
       "      <th>Sunshine</th>\n",
       "      <th>WindGustSpeed</th>\n",
       "      <th>WindSpeed9am</th>\n",
       "      <th>WindSpeed3pm</th>\n",
       "      <th>Humidity9am</th>\n",
       "      <th>Humidity3pm</th>\n",
       "      <th>...</th>\n",
       "      <th>3pmNNW</th>\n",
       "      <th>3pmNW</th>\n",
       "      <th>3pmS</th>\n",
       "      <th>3pmSE</th>\n",
       "      <th>3pmSSE</th>\n",
       "      <th>3pmSSW</th>\n",
       "      <th>3pmSW</th>\n",
       "      <th>3pmW</th>\n",
       "      <th>3pmWNW</th>\n",
       "      <th>3pmWSW</th>\n",
       "    </tr>\n",
       "  </thead>\n",
       "  <tbody>\n",
       "    <tr>\n",
       "      <th>count</th>\n",
       "      <td>113754.000000</td>\n",
       "      <td>113754.000000</td>\n",
       "      <td>113754.000000</td>\n",
       "      <td>113754.000000</td>\n",
       "      <td>113754.000000</td>\n",
       "      <td>113754.000000</td>\n",
       "      <td>113754.000000</td>\n",
       "      <td>113754.000000</td>\n",
       "      <td>113754.000000</td>\n",
       "      <td>113754.000000</td>\n",
       "      <td>...</td>\n",
       "      <td>113754.000000</td>\n",
       "      <td>113754.000000</td>\n",
       "      <td>113754.000000</td>\n",
       "      <td>113754.000000</td>\n",
       "      <td>113754.000000</td>\n",
       "      <td>113754.000000</td>\n",
       "      <td>113754.000000</td>\n",
       "      <td>113754.000000</td>\n",
       "      <td>113754.000000</td>\n",
       "      <td>113754.000000</td>\n",
       "    </tr>\n",
       "    <tr>\n",
       "      <th>mean</th>\n",
       "      <td>0.484406</td>\n",
       "      <td>0.530004</td>\n",
       "      <td>0.210962</td>\n",
       "      <td>0.236312</td>\n",
       "      <td>0.554562</td>\n",
       "      <td>0.262667</td>\n",
       "      <td>0.254148</td>\n",
       "      <td>0.326575</td>\n",
       "      <td>0.688675</td>\n",
       "      <td>0.515095</td>\n",
       "      <td>...</td>\n",
       "      <td>0.054530</td>\n",
       "      <td>0.060288</td>\n",
       "      <td>0.067259</td>\n",
       "      <td>0.101605</td>\n",
       "      <td>0.064059</td>\n",
       "      <td>0.056402</td>\n",
       "      <td>0.064464</td>\n",
       "      <td>0.069334</td>\n",
       "      <td>0.060798</td>\n",
       "      <td>0.065483</td>\n",
       "    </tr>\n",
       "    <tr>\n",
       "      <th>std</th>\n",
       "      <td>0.151741</td>\n",
       "      <td>0.134105</td>\n",
       "      <td>0.369949</td>\n",
       "      <td>0.129528</td>\n",
       "      <td>0.190999</td>\n",
       "      <td>0.101682</td>\n",
       "      <td>0.160119</td>\n",
       "      <td>0.152384</td>\n",
       "      <td>0.189356</td>\n",
       "      <td>0.205307</td>\n",
       "      <td>...</td>\n",
       "      <td>0.227061</td>\n",
       "      <td>0.238021</td>\n",
       "      <td>0.250471</td>\n",
       "      <td>0.302130</td>\n",
       "      <td>0.244860</td>\n",
       "      <td>0.230698</td>\n",
       "      <td>0.245578</td>\n",
       "      <td>0.254022</td>\n",
       "      <td>0.238960</td>\n",
       "      <td>0.247378</td>\n",
       "    </tr>\n",
       "    <tr>\n",
       "      <th>min</th>\n",
       "      <td>0.000000</td>\n",
       "      <td>0.000000</td>\n",
       "      <td>0.000000</td>\n",
       "      <td>0.000000</td>\n",
       "      <td>0.000000</td>\n",
       "      <td>0.000000</td>\n",
       "      <td>0.000000</td>\n",
       "      <td>0.000000</td>\n",
       "      <td>0.000000</td>\n",
       "      <td>0.000000</td>\n",
       "      <td>...</td>\n",
       "      <td>0.000000</td>\n",
       "      <td>0.000000</td>\n",
       "      <td>0.000000</td>\n",
       "      <td>0.000000</td>\n",
       "      <td>0.000000</td>\n",
       "      <td>0.000000</td>\n",
       "      <td>0.000000</td>\n",
       "      <td>0.000000</td>\n",
       "      <td>0.000000</td>\n",
       "      <td>0.000000</td>\n",
       "    </tr>\n",
       "    <tr>\n",
       "      <th>25%</th>\n",
       "      <td>0.375297</td>\n",
       "      <td>0.431002</td>\n",
       "      <td>0.000000</td>\n",
       "      <td>0.183486</td>\n",
       "      <td>0.565517</td>\n",
       "      <td>0.193798</td>\n",
       "      <td>0.127273</td>\n",
       "      <td>0.228070</td>\n",
       "      <td>0.570000</td>\n",
       "      <td>0.370000</td>\n",
       "      <td>...</td>\n",
       "      <td>0.000000</td>\n",
       "      <td>0.000000</td>\n",
       "      <td>0.000000</td>\n",
       "      <td>0.000000</td>\n",
       "      <td>0.000000</td>\n",
       "      <td>0.000000</td>\n",
       "      <td>0.000000</td>\n",
       "      <td>0.000000</td>\n",
       "      <td>0.000000</td>\n",
       "      <td>0.000000</td>\n",
       "    </tr>\n",
       "    <tr>\n",
       "      <th>50%</th>\n",
       "      <td>0.479810</td>\n",
       "      <td>0.517958</td>\n",
       "      <td>0.000000</td>\n",
       "      <td>0.220183</td>\n",
       "      <td>0.586207</td>\n",
       "      <td>0.255814</td>\n",
       "      <td>0.236364</td>\n",
       "      <td>0.333333</td>\n",
       "      <td>0.700000</td>\n",
       "      <td>0.520000</td>\n",
       "      <td>...</td>\n",
       "      <td>0.000000</td>\n",
       "      <td>0.000000</td>\n",
       "      <td>0.000000</td>\n",
       "      <td>0.000000</td>\n",
       "      <td>0.000000</td>\n",
       "      <td>0.000000</td>\n",
       "      <td>0.000000</td>\n",
       "      <td>0.000000</td>\n",
       "      <td>0.000000</td>\n",
       "      <td>0.000000</td>\n",
       "    </tr>\n",
       "    <tr>\n",
       "      <th>75%</th>\n",
       "      <td>0.593824</td>\n",
       "      <td>0.623819</td>\n",
       "      <td>0.187500</td>\n",
       "      <td>0.247706</td>\n",
       "      <td>0.600000</td>\n",
       "      <td>0.310078</td>\n",
       "      <td>0.345455</td>\n",
       "      <td>0.421053</td>\n",
       "      <td>0.830000</td>\n",
       "      <td>0.650000</td>\n",
       "      <td>...</td>\n",
       "      <td>0.000000</td>\n",
       "      <td>0.000000</td>\n",
       "      <td>0.000000</td>\n",
       "      <td>0.000000</td>\n",
       "      <td>0.000000</td>\n",
       "      <td>0.000000</td>\n",
       "      <td>0.000000</td>\n",
       "      <td>0.000000</td>\n",
       "      <td>0.000000</td>\n",
       "      <td>0.000000</td>\n",
       "    </tr>\n",
       "    <tr>\n",
       "      <th>max</th>\n",
       "      <td>1.000000</td>\n",
       "      <td>1.000000</td>\n",
       "      <td>1.000000</td>\n",
       "      <td>1.000000</td>\n",
       "      <td>1.000000</td>\n",
       "      <td>1.000000</td>\n",
       "      <td>1.000000</td>\n",
       "      <td>1.000000</td>\n",
       "      <td>1.000000</td>\n",
       "      <td>1.000000</td>\n",
       "      <td>...</td>\n",
       "      <td>1.000000</td>\n",
       "      <td>1.000000</td>\n",
       "      <td>1.000000</td>\n",
       "      <td>1.000000</td>\n",
       "      <td>1.000000</td>\n",
       "      <td>1.000000</td>\n",
       "      <td>1.000000</td>\n",
       "      <td>1.000000</td>\n",
       "      <td>1.000000</td>\n",
       "      <td>1.000000</td>\n",
       "    </tr>\n",
       "  </tbody>\n",
       "</table>\n",
       "<p>8 rows × 118 columns</p>\n",
       "</div>"
      ],
      "text/plain": [
       "             MinTemp        MaxTemp       Rainfall    Evaporation  \\\n",
       "count  113754.000000  113754.000000  113754.000000  113754.000000   \n",
       "mean        0.484406       0.530004       0.210962       0.236312   \n",
       "std         0.151741       0.134105       0.369949       0.129528   \n",
       "min         0.000000       0.000000       0.000000       0.000000   \n",
       "25%         0.375297       0.431002       0.000000       0.183486   \n",
       "50%         0.479810       0.517958       0.000000       0.220183   \n",
       "75%         0.593824       0.623819       0.187500       0.247706   \n",
       "max         1.000000       1.000000       1.000000       1.000000   \n",
       "\n",
       "            Sunshine  WindGustSpeed   WindSpeed9am   WindSpeed3pm  \\\n",
       "count  113754.000000  113754.000000  113754.000000  113754.000000   \n",
       "mean        0.554562       0.262667       0.254148       0.326575   \n",
       "std         0.190999       0.101682       0.160119       0.152384   \n",
       "min         0.000000       0.000000       0.000000       0.000000   \n",
       "25%         0.565517       0.193798       0.127273       0.228070   \n",
       "50%         0.586207       0.255814       0.236364       0.333333   \n",
       "75%         0.600000       0.310078       0.345455       0.421053   \n",
       "max         1.000000       1.000000       1.000000       1.000000   \n",
       "\n",
       "         Humidity9am    Humidity3pm  ...         3pmNNW          3pmNW  \\\n",
       "count  113754.000000  113754.000000  ...  113754.000000  113754.000000   \n",
       "mean        0.688675       0.515095  ...       0.054530       0.060288   \n",
       "std         0.189356       0.205307  ...       0.227061       0.238021   \n",
       "min         0.000000       0.000000  ...       0.000000       0.000000   \n",
       "25%         0.570000       0.370000  ...       0.000000       0.000000   \n",
       "50%         0.700000       0.520000  ...       0.000000       0.000000   \n",
       "75%         0.830000       0.650000  ...       0.000000       0.000000   \n",
       "max         1.000000       1.000000  ...       1.000000       1.000000   \n",
       "\n",
       "                3pmS          3pmSE         3pmSSE         3pmSSW  \\\n",
       "count  113754.000000  113754.000000  113754.000000  113754.000000   \n",
       "mean        0.067259       0.101605       0.064059       0.056402   \n",
       "std         0.250471       0.302130       0.244860       0.230698   \n",
       "min         0.000000       0.000000       0.000000       0.000000   \n",
       "25%         0.000000       0.000000       0.000000       0.000000   \n",
       "50%         0.000000       0.000000       0.000000       0.000000   \n",
       "75%         0.000000       0.000000       0.000000       0.000000   \n",
       "max         1.000000       1.000000       1.000000       1.000000   \n",
       "\n",
       "               3pmSW           3pmW         3pmWNW         3pmWSW  \n",
       "count  113754.000000  113754.000000  113754.000000  113754.000000  \n",
       "mean        0.064464       0.069334       0.060798       0.065483  \n",
       "std         0.245578       0.254022       0.238960       0.247378  \n",
       "min         0.000000       0.000000       0.000000       0.000000  \n",
       "25%         0.000000       0.000000       0.000000       0.000000  \n",
       "50%         0.000000       0.000000       0.000000       0.000000  \n",
       "75%         0.000000       0.000000       0.000000       0.000000  \n",
       "max         1.000000       1.000000       1.000000       1.000000  \n",
       "\n",
       "[8 rows x 118 columns]"
      ]
     },
     "execution_count": 62,
     "metadata": {},
     "output_type": "execute_result"
    }
   ],
   "source": [
    "X_train = pd.DataFrame(X_train, columns=[cols])\n",
    "X_test = pd.DataFrame(X_test, columns=[cols])\n",
    "X_train.describe()"
   ]
  },
  {
   "cell_type": "code",
   "execution_count": 63,
   "metadata": {},
   "outputs": [
    {
     "data": {
      "image/png": "[encoded data removed]",
      "text/plain": [
       "<Figure size 1440x720 with 1 Axes>"
      ]
     },
     "metadata": {
      "needs_background": "light"
     },
     "output_type": "display_data"
    }
   ],
   "source": [
    "plt.figure(figsize = (20,10))\n",
    "sns.boxenplot(data = X_train.iloc[0:113749,0:15], palette = 'pastel')\n",
    "plt.xticks(rotation = 90)\n",
    "plt.show()"
   ]
  },
  {
   "cell_type": "code",
   "execution_count": 164,
   "metadata": {},
   "outputs": [],
   "source": [
    "aclist =[]\n",
    "f1list=[]\n",
    "cklist=[]"
   ]
  },
  {
   "cell_type": "code",
   "execution_count": 64,
   "metadata": {},
   "outputs": [
    {
     "name": "stdout",
     "output_type": "stream",
     "text": [
      "Time taken : 1.6418190002441406\n",
      "Logestic Regression Model accuracy score: is 0.8502\n",
      "F1 score for logistic regression is: 0.6067 \n",
      "Cohen Kappa score for logistic regression is: 0.5177 \n"
     ]
    }
   ],
   "source": [
    "# Train a logistic regression model on the training set\n",
    "t0=time.time()\n",
    "lreg = LogisticRegression(solver='liblinear', random_state=0)\n",
    "lreg.fit(X_train, Y_train)\n",
    "print('Time taken :' , time.time()-t0)\n",
    "Y_pred_test_lr = lreg.predict(X_test)\n",
    "acs_lr=accuracy_score(Y_test, Y_pred_test_lr)\n",
    "f1_lr=f1_score(Y_test, Y_pred_test_lr,pos_label=\"Yes\")\n",
    "ck_lr=cohen_kappa_score(Y_test, Y_pred_test_lr)\n",
    "print('Logestic Regression Model accuracy score: is {0:0.4f}'. format(acs_lr))\n",
    "print(\"F1 score for logistic regression is: {0:0.4f} \". format(f1_lr))\n",
    "print(\"Cohen Kappa score for logistic regression is: {0:0.4f} \". format(ck_lr))\n"
   ]
  },
  {
   "cell_type": "code",
   "execution_count": 165,
   "metadata": {},
   "outputs": [],
   "source": [
    "aclist.append(acs_lr)\n",
    "f1list.append(f1_lr)\n",
    "cklist.append(ck_lr)"
   ]
  },
  {
   "cell_type": "code",
   "execution_count": 65,
   "metadata": {},
   "outputs": [
    {
     "data": {
      "text/plain": [
       "<AxesSubplot:>"
      ]
     },
     "execution_count": 65,
     "metadata": {},
     "output_type": "execute_result"
    },
    {
     "data": {
      "image/png": "[encoded data removed]",
      "text/plain": [
       "<Figure size 864x576 with 2 Axes>"
      ]
     },
     "metadata": {
      "needs_background": "light"
     },
     "output_type": "display_data"
    }
   ],
   "source": [
    "# Logistic regression confusion matrix\n",
    "cmap1 = sns.diverging_palette(260,-10,s=50,l=75,n=5, as_cmap=True)\n",
    "plt.subplots(figsize=(12,8))\n",
    "cf_matrix = confusion_matrix(Y_test,Y_pred_test_lr)\n",
    "sns.heatmap(cf_matrix/np.sum(cf_matrix), cmap = cmap1, annot = True, annot_kws = {'size':25})"
   ]
  },
  {
   "cell_type": "code",
   "execution_count": 66,
   "metadata": {},
   "outputs": [
    {
     "name": "stdout",
     "output_type": "stream",
     "text": [
      "Time taken : 638.8185906410217\n",
      "Gradient Boosing Model accuracy score is 0.8679\n",
      "F1 score for Gradient Boosing Model is 0.6636\n",
      "Cohen Kappa score for Gradient Boosing Model is 0.5834\n"
     ]
    }
   ],
   "source": [
    "# Gradient Boosting Calssifer- Fit model no training data\n",
    "t0=time.time()\n",
    "XGBmodel = XGBClassifier(objective='binary:logistic',eta ='0.25',max_depth ='16',n_estimators=500)\n",
    "XGBmodel.fit(X_train, Y_train)\n",
    "print('Time taken :' , time.time()-t0)\n",
    "Y_pred_test_XGB = XGBmodel.predict(X_test)\n",
    "\n",
    "acs_xb=accuracy_score(Y_test, Y_pred_test_XGB)\n",
    "f1_xb=f1_score(Y_test, Y_pred_test_XGB,pos_label=\"Yes\")\n",
    "ck_xb=cohen_kappa_score(Y_test, Y_pred_test_XGB)\n",
    "print('Gradient Boosing Model accuracy score is {0:0.4f}'. format(acs_xb))\n",
    "print(\"F1 score for Gradient Boosing Model is {0:0.4f}\". format(f1_xb))\n",
    "print(\"Cohen Kappa score for Gradient Boosing Model is {0:0.4f}\". format(ck_xb))"
   ]
  },
  {
   "cell_type": "code",
   "execution_count": 166,
   "metadata": {},
   "outputs": [],
   "source": [
    "aclist.append(acs_xb)\n",
    "f1list.append(f1_xb)\n",
    "cklist.append(ck_xb)"
   ]
  },
  {
   "cell_type": "code",
   "execution_count": 67,
   "metadata": {},
   "outputs": [
    {
     "data": {
      "text/plain": [
       "<AxesSubplot:>"
      ]
     },
     "execution_count": 67,
     "metadata": {},
     "output_type": "execute_result"
    },
    {
     "data": {
      "image/png": "[encoded data removed]",
      "text/plain": [
       "<Figure size 864x576 with 2 Axes>"
      ]
     },
     "metadata": {
      "needs_background": "light"
     },
     "output_type": "display_data"
    }
   ],
   "source": [
    "# Gradient Boosting confusion matrix\n",
    "cmap1 = sns.diverging_palette(260,-10,s=50,l=75,n=5, as_cmap=True)\n",
    "plt.subplots(figsize=(12,8))\n",
    "cf_matrix = confusion_matrix(Y_test,Y_pred_test_XGB)\n",
    "sns.heatmap(cf_matrix/np.sum(cf_matrix), cmap = cmap1, annot = True, annot_kws = {'size':15})"
   ]
  },
  {
   "cell_type": "code",
   "execution_count": 123,
   "metadata": {},
   "outputs": [
    {
     "name": "stdout",
     "output_type": "stream",
     "text": [
      "Time taken : 0.701352596282959\n",
      "BernoulliNBModel accuracy score is 0.7635\n",
      "F1 score for BernoulliNBModel is 0.4769\n",
      "Cohen Kappa score for BernoulliNB Model is 0.3241\n"
     ]
    }
   ],
   "source": [
    "# Bernoulli Naive Bayes Model\n",
    "t0=time.time()\n",
    "BNBmodel = BernoulliNB()\n",
    "BNBmodel.fit(X_train, Y_train)\n",
    "print('Time taken :' , time.time()-t0)\n",
    "Y_pred_test_BNB = BNBmodel.predict(X_test)\n",
    "\n",
    "acs_bnb=accuracy_score(Y_test, Y_pred_test_BNB)\n",
    "f1_bnb=f1_score(Y_test, Y_pred_test_BNB,pos_label=\"Yes\")\n",
    "ck_bnb=cohen_kappa_score(Y_test, Y_pred_test_BNB)\n",
    "print('BernoulliNBModel accuracy score is {0:0.4f}'. format(acs_bnb))\n",
    "print(\"F1 score for BernoulliNBModel is {0:0.4f}\". format(f1_bnb))\n",
    "print(\"Cohen Kappa score for BernoulliNB Model is {0:0.4f}\". format(ck_bnb))"
   ]
  },
  {
   "cell_type": "code",
   "execution_count": 167,
   "metadata": {},
   "outputs": [],
   "source": [
    "aclist.append(acs_bnb)\n",
    "f1list.append(f1_bnb)\n",
    "cklist.append(ck_bnb)"
   ]
  },
  {
   "cell_type": "code",
   "execution_count": 69,
   "metadata": {},
   "outputs": [
    {
     "data": {
      "text/plain": [
       "<AxesSubplot:>"
      ]
     },
     "execution_count": 69,
     "metadata": {},
     "output_type": "execute_result"
    },
    {
     "data": {
      "image/png": "[encoded data removed]",
      "text/plain": [
       "<Figure size 864x576 with 2 Axes>"
      ]
     },
     "metadata": {
      "needs_background": "light"
     },
     "output_type": "display_data"
    }
   ],
   "source": [
    "# Bernoulli Naive Bayes confusion matrix\n",
    "cmap1 = sns.diverging_palette(260,-10,s=50,l=75,n=5, as_cmap=True)\n",
    "plt.subplots(figsize=(12,8))\n",
    "cf_matrix = confusion_matrix(Y_test,Y_pred_test_BNB )\n",
    "sns.heatmap(cf_matrix/np.sum(cf_matrix), cmap = cmap1, annot = True, annot_kws = {'size':25})"
   ]
  },
  {
   "cell_type": "code",
   "execution_count": 125,
   "metadata": {},
   "outputs": [
    {
     "name": "stdout",
     "output_type": "stream",
     "text": [
      "Time taken : 0.4830460548400879\n",
      "GaussianNB accuracy score is 0.6511\n",
      "F1 score for GaussianNB is 0.4856\n",
      "Cohen Kappa score for GaussianNB Model is 0.2651\n"
     ]
    }
   ],
   "source": [
    "# Gaussian Naive Bayes Model\n",
    "t0=time.time()\n",
    "GNBmodel = GaussianNB()\n",
    "GNBmodel.fit(X_train, Y_train)\n",
    "print('Time taken :' , time.time()-t0)\n",
    "Y_pred_test_GNB = GNBmodel.predict(X_test)\n",
    "\n",
    "acs_gnb=accuracy_score(Y_test, Y_pred_test_GNB)\n",
    "f1_gnb=f1_score(Y_test, Y_pred_test_GNB,pos_label=\"Yes\")\n",
    "ck_gnb=cohen_kappa_score(Y_test, Y_pred_test_GNB)\n",
    "print('GaussianNB accuracy score is {0:0.4f}'. format(acs_gnb))\n",
    "print(\"F1 score for GaussianNB is {0:0.4f}\". format(f1_gnb))\n",
    "print(\"Cohen Kappa score for GaussianNB Model is {0:0.4f}\". format(ck_gnb))"
   ]
  },
  {
   "cell_type": "code",
   "execution_count": 168,
   "metadata": {},
   "outputs": [],
   "source": [
    "aclist.append(acs_gnb)\n",
    "f1list.append(f1_gnb)\n",
    "cklist.append(ck_gnb)"
   ]
  },
  {
   "cell_type": "code",
   "execution_count": 71,
   "metadata": {},
   "outputs": [
    {
     "data": {
      "text/plain": [
       "<AxesSubplot:>"
      ]
     },
     "execution_count": 71,
     "metadata": {},
     "output_type": "execute_result"
    },
    {
     "data": {
      "image/png": "[encoded data removed]",
      "text/plain": [
       "<Figure size 864x576 with 2 Axes>"
      ]
     },
     "metadata": {
      "needs_background": "light"
     },
     "output_type": "display_data"
    }
   ],
   "source": [
    "# Gaussian Naive Bayes confusion matrix\n",
    "cmap1 = sns.diverging_palette(260,-10,s=50,l=75,n=5, as_cmap=True)\n",
    "plt.subplots(figsize=(12,8))\n",
    "cf_matrix = confusion_matrix(Y_test,Y_pred_test_GNB)\n",
    "sns.heatmap(cf_matrix/np.sum(cf_matrix), cmap = cmap1, annot = True, annot_kws = {'size':25})"
   ]
  },
  {
   "cell_type": "code",
   "execution_count": 72,
   "metadata": {},
   "outputs": [],
   "source": [
    "le = preprocessing.LabelEncoder()\n",
    "Y_train_0_1  = le.fit_transform(Y_train)\n",
    "Y_test_0_1 = le.fit_transform(Y_test)"
   ]
  },
  {
   "cell_type": "code",
   "execution_count": 74,
   "metadata": {},
   "outputs": [
    {
     "name": "stdout",
     "output_type": "stream",
     "text": [
      "Time taken : 186.1872375011444\n",
      "Random Forest Regressor accuracy score is 0.8587\n",
      "F1 score for Random Forest Regressor is 0.6269\n",
      "Cohen Kappa score for Random Forest Regressor Model is 0.5434\n"
     ]
    }
   ],
   "source": [
    "# Random Forest Regressor\n",
    "t0=time.time()\n",
    "RFRmodel = RandomForestRegressor(n_estimators = 100, random_state = 0)  \n",
    "RFRmodel.fit(X_train, Y_train_0_1)  \n",
    "print('Time taken :' , time.time()-t0)\n",
    "Y_pred_test_RFR = RFRmodel.predict(X_test)\n",
    "                                                                  \n",
    "acs_rfr=accuracy_score(Y_test_0_1, np.round(Y_pred_test_RFR,0))\n",
    "f1_rfr=f1_score(Y_test_0_1, np.round(Y_pred_test_RFR,0),)\n",
    "ck_rfr=cohen_kappa_score(Y_test_0_1, np.round(Y_pred_test_RFR,0))\n",
    "print('Random Forest Regressor accuracy score is {0:0.4f}'. format(acs_rfr))\n",
    "print(\"F1 score for Random Forest Regressor is {0:0.4f}\". format(f1_rfr))\n",
    "print(\"Cohen Kappa score for Random Forest Regressor Model is {0:0.4f}\". format(ck_rfr))"
   ]
  },
  {
   "cell_type": "code",
   "execution_count": 169,
   "metadata": {},
   "outputs": [],
   "source": [
    "aclist.append(acs_rfr)\n",
    "f1list.append(f1_rfr)\n",
    "cklist.append(ck_rfr)"
   ]
  },
  {
   "cell_type": "code",
   "execution_count": 75,
   "metadata": {},
   "outputs": [
    {
     "data": {
      "text/plain": [
       "<AxesSubplot:>"
      ]
     },
     "execution_count": 75,
     "metadata": {},
     "output_type": "execute_result"
    },
    {
     "data": {
      "image/png": "[encoded data removed]",
      "text/plain": [
       "<Figure size 864x576 with 2 Axes>"
      ]
     },
     "metadata": {
      "needs_background": "light"
     },
     "output_type": "display_data"
    }
   ],
   "source": [
    "# Random Forest Regressor confusion matrix\n",
    "cmap1 = sns.diverging_palette(260,-10,s=50,l=75,n=5, as_cmap=True)\n",
    "plt.subplots(figsize=(12,8))\n",
    "cf_matrix = confusion_matrix(Y_test_0_1,np.round(Y_pred_test_RFR,0))\n",
    "sns.heatmap(cf_matrix/np.sum(cf_matrix), cmap = cmap1, annot = True, annot_kws = {'size':25})"
   ]
  },
  {
   "cell_type": "code",
   "execution_count": 77,
   "metadata": {},
   "outputs": [
    {
     "name": "stdout",
     "output_type": "stream",
     "text": [
      "Time taken : 8.334259748458862\n",
      "Random Forest Regressor accuracy score is 0.8227\n",
      "F1 score for Random Forest Regressor is 0.3975\n",
      "Cohen Kappa score for Random Forest Regressor Model is 0.3254\n"
     ]
    }
   ],
   "source": [
    "# Random Forest Classifier Model\n",
    "t0=time.time()\n",
    "RFCmodel = RandomForestClassifier(n_estimators=150, max_depth=5,random_state=0)\n",
    "RFCmodel.fit(X_train,Y_train)\n",
    "print('Time taken :' , time.time()-t0)\n",
    "Y_pred_test_RFC = RFCmodel.predict(X_test)\n",
    "\n",
    "acs_rfc=accuracy_score(Y_test, Y_pred_test_RFC)\n",
    "f1_rfc=f1_score(Y_test, Y_pred_test_RFC,pos_label=\"Yes\")\n",
    "ck_rfc=cohen_kappa_score(Y_test, Y_pred_test_RFC)\n",
    "print('Random Forest Regressor accuracy score is {0:0.4f}'. format(acs_rfc))\n",
    "print(\"F1 score for Random Forest Regressor is {0:0.4f}\". format(f1_rfc))\n",
    "print(\"Cohen Kappa score for Random Forest Regressor Model is {0:0.4f}\". format(ck_rfc))"
   ]
  },
  {
   "cell_type": "code",
   "execution_count": 170,
   "metadata": {},
   "outputs": [],
   "source": [
    "aclist.append(acs_rfc)\n",
    "f1list.append(f1_rfc)\n",
    "cklist.append(ck_rfc)"
   ]
  },
  {
   "cell_type": "code",
   "execution_count": 78,
   "metadata": {},
   "outputs": [
    {
     "data": {
      "text/plain": [
       "<AxesSubplot:>"
      ]
     },
     "execution_count": 78,
     "metadata": {},
     "output_type": "execute_result"
    },
    {
     "data": {
      "image/png": "[encoded data removed]",
      "text/plain": [
       "<Figure size 864x576 with 2 Axes>"
      ]
     },
     "metadata": {
      "needs_background": "light"
     },
     "output_type": "display_data"
    }
   ],
   "source": [
    "# Random Forest Classifier confusion matrix\n",
    "cmap1 = sns.diverging_palette(260,-10,s=50,l=75,n=5, as_cmap=True)\n",
    "plt.subplots(figsize=(12,8))\n",
    "cf_matrix = confusion_matrix(Y_test,Y_pred_test_RFC)\n",
    "sns.heatmap(cf_matrix/np.sum(cf_matrix), cmap = cmap1, annot = True, annot_kws = {'size':25})"
   ]
  },
  {
   "cell_type": "code",
   "execution_count": 79,
   "metadata": {},
   "outputs": [
    {
     "name": "stdout",
     "output_type": "stream",
     "text": [
      "Time taken : 1660.7070891857147\n",
      "SVM accuracy score is 0.8505\n",
      "F1 score for SVM is 0.5939\n",
      "Cohen Kappa score for SVM Model is 0.5075\n"
     ]
    }
   ],
   "source": [
    "#Suppor Vector Machine Model\n",
    "t0=time.time()\n",
    "SVMmodel = svm.SVC(kernel='linear')\n",
    "SVMmodel.fit(X_train,Y_train)\n",
    "print('Time taken :' , time.time()-t0)\n",
    "Y_pred_test_SVM = SVMmodel.predict(X_test)\n",
    "\n",
    "acs_svm=accuracy_score(Y_test, Y_pred_test_SVM)\n",
    "f1_svm=f1_score(Y_test, Y_pred_test_SVM,pos_label=\"Yes\")\n",
    "ck_svm=cohen_kappa_score(Y_test, Y_pred_test_SVM)\n",
    "print('SVM accuracy score is {0:0.4f}'. format(acs_svm))\n",
    "print(\"F1 score for SVM is {0:0.4f}\". format(f1_svm))\n",
    "print(\"Cohen Kappa score for SVM Model is {0:0.4f}\". format(ck_svm))"
   ]
  },
  {
   "cell_type": "code",
   "execution_count": 171,
   "metadata": {},
   "outputs": [],
   "source": [
    "aclist.append(acs_svm)\n",
    "f1list.append(f1_svm)\n",
    "cklist.append(ck_svm)"
   ]
  },
  {
   "cell_type": "code",
   "execution_count": 80,
   "metadata": {},
   "outputs": [
    {
     "data": {
      "text/plain": [
       "<AxesSubplot:>"
      ]
     },
     "execution_count": 80,
     "metadata": {},
     "output_type": "execute_result"
    },
    {
     "data": {
      "image/png": "[encoded data removed]",
      "text/plain": [
       "<Figure size 864x576 with 2 Axes>"
      ]
     },
     "metadata": {
      "needs_background": "light"
     },
     "output_type": "display_data"
    }
   ],
   "source": [
    "# SVM confusion matrix\n",
    "cmap1 = sns.diverging_palette(260,-10,s=50,l=75,n=5, as_cmap=True)\n",
    "plt.subplots(figsize=(12,8))\n",
    "cf_matrix = confusion_matrix(Y_test,Y_pred_test_SVM)\n",
    "sns.heatmap(cf_matrix/np.sum(cf_matrix), cmap = cmap1, annot = True, annot_kws = {'size':15})\n"
   ]
  },
  {
   "cell_type": "code",
   "execution_count": 81,
   "metadata": {},
   "outputs": [],
   "source": [
    "early_stopping = callbacks.EarlyStopping(\n",
    "    min_delta=0.001, #minimum amount of change to count as an improvement\n",
    "    patience=20, # how many epochs to wait before stopping\n",
    "    restore_best_weights=True,\n",
    ")\n",
    "\n",
    "# Initialising the NN\n",
    "NNmodel = Sequential()\n",
    "\n",
    "# Layers\n",
    "NNmodel.add(Dense(units = 32, kernel_initializer = 'uniform', activation = 'relu', input_dim = 118))\n",
    "NNmodel.add(Dense(units = 32, kernel_initializer = 'uniform', activation = 'relu'))\n",
    "NNmodel.add(Dense(units = 16, kernel_initializer = 'uniform', activation = 'relu'))\n",
    "NNmodel.add(Dropout(0.25))\n",
    "NNmodel.add(Dense(units = 8, kernel_initializer = 'uniform', activation = 'relu'))\n",
    "NNmodel.add(Dropout(0.5))\n",
    "NNmodel.add(Dense(units = 1, kernel_initializer = 'uniform', activation = 'sigmoid'))\n",
    "\n",
    "# Compiling the ANN\n",
    "opt = Adam(learning_rate=0.00009)\n",
    "NNmodel.compile(optimizer = opt, loss = 'binary_crossentropy', metrics = ['accuracy'])"
   ]
  },
  {
   "cell_type": "code",
   "execution_count": 82,
   "metadata": {},
   "outputs": [
    {
     "data": {
      "text/plain": [
       "(113754, 118)"
      ]
     },
     "execution_count": 82,
     "metadata": {},
     "output_type": "execute_result"
    }
   ],
   "source": [
    "X_train.shape"
   ]
  },
  {
   "cell_type": "code",
   "execution_count": 83,
   "metadata": {},
   "outputs": [
    {
     "name": "stdout",
     "output_type": "stream",
     "text": [
      "Epoch 1/150\n",
      "2844/2844 [==============================] - 7s 2ms/step - loss: 0.5889 - accuracy: 0.7756 - val_loss: 0.4498 - val_accuracy: 0.7763\n",
      "Epoch 2/150\n",
      "2844/2844 [==============================] - 6s 2ms/step - loss: 0.4627 - accuracy: 0.7761 - val_loss: 0.4069 - val_accuracy: 0.7763\n",
      "Epoch 3/150\n",
      "2844/2844 [==============================] - 6s 2ms/step - loss: 0.4316 - accuracy: 0.7883 - val_loss: 0.3914 - val_accuracy: 0.8346\n",
      "Epoch 4/150\n",
      "2844/2844 [==============================] - 6s 2ms/step - loss: 0.4168 - accuracy: 0.8031 - val_loss: 0.3833 - val_accuracy: 0.8391\n",
      "Epoch 5/150\n",
      "2844/2844 [==============================] - 6s 2ms/step - loss: 0.4086 - accuracy: 0.8041 - val_loss: 0.3775 - val_accuracy: 0.8412\n",
      "Epoch 6/150\n",
      "2844/2844 [==============================] - 6s 2ms/step - loss: 0.4001 - accuracy: 0.8068 - val_loss: 0.3734 - val_accuracy: 0.8411\n",
      "Epoch 7/150\n",
      "2844/2844 [==============================] - 6s 2ms/step - loss: 0.3989 - accuracy: 0.8073 - val_loss: 0.3710 - val_accuracy: 0.8423\n",
      "Epoch 8/150\n",
      "2844/2844 [==============================] - 6s 2ms/step - loss: 0.3952 - accuracy: 0.8102 - val_loss: 0.3674 - val_accuracy: 0.8451\n",
      "Epoch 9/150\n",
      "2844/2844 [==============================] - 6s 2ms/step - loss: 0.3910 - accuracy: 0.8108 - val_loss: 0.3646 - val_accuracy: 0.8448\n",
      "Epoch 10/150\n",
      "2844/2844 [==============================] - 6s 2ms/step - loss: 0.3877 - accuracy: 0.8129 - val_loss: 0.3623 - val_accuracy: 0.8460\n",
      "Epoch 11/150\n",
      "2844/2844 [==============================] - 6s 2ms/step - loss: 0.3840 - accuracy: 0.8138 - val_loss: 0.3591 - val_accuracy: 0.8478\n",
      "Epoch 12/150\n",
      "2844/2844 [==============================] - 6s 2ms/step - loss: 0.3821 - accuracy: 0.8139 - val_loss: 0.3578 - val_accuracy: 0.8488\n",
      "Epoch 13/150\n",
      "2844/2844 [==============================] - 6s 2ms/step - loss: 0.3816 - accuracy: 0.8148 - val_loss: 0.3557 - val_accuracy: 0.8499\n",
      "Epoch 14/150\n",
      "2844/2844 [==============================] - 6s 2ms/step - loss: 0.3783 - accuracy: 0.8157 - val_loss: 0.3546 - val_accuracy: 0.8496\n",
      "Epoch 15/150\n",
      "2844/2844 [==============================] - 6s 2ms/step - loss: 0.3774 - accuracy: 0.8148 - val_loss: 0.3532 - val_accuracy: 0.8517\n",
      "Epoch 16/150\n",
      "2844/2844 [==============================] - 6s 2ms/step - loss: 0.3752 - accuracy: 0.8148 - val_loss: 0.3524 - val_accuracy: 0.8515\n",
      "Epoch 17/150\n",
      "2844/2844 [==============================] - 6s 2ms/step - loss: 0.3737 - accuracy: 0.8173 - val_loss: 0.3504 - val_accuracy: 0.8522\n",
      "Epoch 18/150\n",
      "2844/2844 [==============================] - 6s 2ms/step - loss: 0.3714 - accuracy: 0.8168 - val_loss: 0.3499 - val_accuracy: 0.8525\n",
      "Epoch 19/150\n",
      "2844/2844 [==============================] - 6s 2ms/step - loss: 0.3720 - accuracy: 0.8155 - val_loss: 0.3514 - val_accuracy: 0.8514\n",
      "Epoch 20/150\n",
      "2844/2844 [==============================] - 6s 2ms/step - loss: 0.3758 - accuracy: 0.8128 - val_loss: 0.3486 - val_accuracy: 0.8540\n",
      "Epoch 21/150\n",
      "2844/2844 [==============================] - 6s 2ms/step - loss: 0.3707 - accuracy: 0.8160 - val_loss: 0.3488 - val_accuracy: 0.8523\n",
      "Epoch 22/150\n",
      "2844/2844 [==============================] - 6s 2ms/step - loss: 0.3677 - accuracy: 0.8164 - val_loss: 0.3487 - val_accuracy: 0.8521\n",
      "Epoch 23/150\n",
      "2844/2844 [==============================] - 6s 2ms/step - loss: 0.3711 - accuracy: 0.8147 - val_loss: 0.3471 - val_accuracy: 0.8540\n",
      "Epoch 24/150\n",
      "2844/2844 [==============================] - 6s 2ms/step - loss: 0.3683 - accuracy: 0.8152 - val_loss: 0.3465 - val_accuracy: 0.8539\n",
      "Epoch 25/150\n",
      "2844/2844 [==============================] - 6s 2ms/step - loss: 0.3692 - accuracy: 0.8143 - val_loss: 0.3462 - val_accuracy: 0.8544\n",
      "Epoch 26/150\n",
      "2844/2844 [==============================] - 6s 2ms/step - loss: 0.3666 - accuracy: 0.8166 - val_loss: 0.3463 - val_accuracy: 0.8545\n",
      "Epoch 27/150\n",
      "2844/2844 [==============================] - 6s 2ms/step - loss: 0.3639 - accuracy: 0.8177 - val_loss: 0.3508 - val_accuracy: 0.8505\n",
      "Epoch 28/150\n",
      "2844/2844 [==============================] - 6s 2ms/step - loss: 0.3677 - accuracy: 0.8162 - val_loss: 0.3460 - val_accuracy: 0.8535\n",
      "Epoch 29/150\n",
      "2844/2844 [==============================] - 6s 2ms/step - loss: 0.3673 - accuracy: 0.8150 - val_loss: 0.3454 - val_accuracy: 0.8535\n",
      "Epoch 30/150\n",
      "2844/2844 [==============================] - 6s 2ms/step - loss: 0.3660 - accuracy: 0.8168 - val_loss: 0.3455 - val_accuracy: 0.8542\n",
      "Epoch 31/150\n",
      "2844/2844 [==============================] - 6s 2ms/step - loss: 0.3645 - accuracy: 0.8178 - val_loss: 0.3454 - val_accuracy: 0.8514\n",
      "Epoch 32/150\n",
      "2844/2844 [==============================] - 6s 2ms/step - loss: 0.3635 - accuracy: 0.8511 - val_loss: 0.3457 - val_accuracy: 0.8531\n",
      "Epoch 33/150\n",
      "2844/2844 [==============================] - 6s 2ms/step - loss: 0.3627 - accuracy: 0.8501 - val_loss: 0.3439 - val_accuracy: 0.8534\n",
      "Epoch 34/150\n",
      "2844/2844 [==============================] - 6s 2ms/step - loss: 0.3599 - accuracy: 0.8535 - val_loss: 0.3446 - val_accuracy: 0.8511\n",
      "Epoch 35/150\n",
      "2844/2844 [==============================] - 6s 2ms/step - loss: 0.3632 - accuracy: 0.8535 - val_loss: 0.3447 - val_accuracy: 0.8539\n",
      "Epoch 36/150\n",
      "2844/2844 [==============================] - 6s 2ms/step - loss: 0.3619 - accuracy: 0.8517 - val_loss: 0.3439 - val_accuracy: 0.8540\n",
      "Epoch 37/150\n",
      "2844/2844 [==============================] - 6s 2ms/step - loss: 0.3627 - accuracy: 0.8519 - val_loss: 0.3475 - val_accuracy: 0.8538\n",
      "Epoch 38/150\n",
      "2844/2844 [==============================] - 6s 2ms/step - loss: 0.3627 - accuracy: 0.8511 - val_loss: 0.3448 - val_accuracy: 0.8528\n",
      "Epoch 39/150\n",
      "2844/2844 [==============================] - 6s 2ms/step - loss: 0.3618 - accuracy: 0.8531 - val_loss: 0.3462 - val_accuracy: 0.8541\n",
      "Epoch 40/150\n",
      "2844/2844 [==============================] - 6s 2ms/step - loss: 0.3619 - accuracy: 0.8518 - val_loss: 0.3445 - val_accuracy: 0.8543\n",
      "Epoch 41/150\n",
      "2844/2844 [==============================] - 6s 2ms/step - loss: 0.3571 - accuracy: 0.8523 - val_loss: 0.3435 - val_accuracy: 0.8534\n",
      "Epoch 42/150\n",
      "2844/2844 [==============================] - 6s 2ms/step - loss: 0.3617 - accuracy: 0.8526 - val_loss: 0.3459 - val_accuracy: 0.8536\n",
      "Epoch 43/150\n",
      "2844/2844 [==============================] - 6s 2ms/step - loss: 0.3559 - accuracy: 0.8571 - val_loss: 0.3455 - val_accuracy: 0.8550\n",
      "Epoch 44/150\n",
      "2844/2844 [==============================] - 6s 2ms/step - loss: 0.3604 - accuracy: 0.8548 - val_loss: 0.3441 - val_accuracy: 0.8527\n",
      "Epoch 45/150\n",
      "2844/2844 [==============================] - 6s 2ms/step - loss: 0.3545 - accuracy: 0.8557 - val_loss: 0.3439 - val_accuracy: 0.8535\n",
      "Epoch 46/150\n",
      "2844/2844 [==============================] - 6s 2ms/step - loss: 0.3617 - accuracy: 0.8532 - val_loss: 0.3444 - val_accuracy: 0.8529\n",
      "Epoch 47/150\n",
      "2844/2844 [==============================] - 6s 2ms/step - loss: 0.3567 - accuracy: 0.8554 - val_loss: 0.3445 - val_accuracy: 0.8528\n",
      "Epoch 48/150\n",
      "2844/2844 [==============================] - 6s 2ms/step - loss: 0.3548 - accuracy: 0.8566 - val_loss: 0.3442 - val_accuracy: 0.8517\n",
      "Epoch 49/150\n",
      "2844/2844 [==============================] - 6s 2ms/step - loss: 0.3557 - accuracy: 0.8584 - val_loss: 0.3450 - val_accuracy: 0.8529\n",
      "Epoch 50/150\n",
      "2844/2844 [==============================] - 6s 2ms/step - loss: 0.3540 - accuracy: 0.8572 - val_loss: 0.3450 - val_accuracy: 0.8527\n",
      "Epoch 51/150\n",
      "2844/2844 [==============================] - 6s 2ms/step - loss: 0.3577 - accuracy: 0.8558 - val_loss: 0.3451 - val_accuracy: 0.8539\n",
      "Epoch 52/150\n",
      "2844/2844 [==============================] - 6s 2ms/step - loss: 0.3531 - accuracy: 0.8582 - val_loss: 0.3468 - val_accuracy: 0.8535\n",
      "Epoch 53/150\n",
      "2844/2844 [==============================] - 6s 2ms/step - loss: 0.3536 - accuracy: 0.8576 - val_loss: 0.3442 - val_accuracy: 0.8535\n",
      "Time taken : 323.3440365791321\n"
     ]
    }
   ],
   "source": [
    "t0=time.time()\n",
    "history = NNmodel.fit(X_train, Y_train_0_1, batch_size = 32, epochs = 150, callbacks=[early_stopping], validation_split=0.2)\n",
    "print('Time taken :' , time.time()-t0)"
   ]
  },
  {
   "cell_type": "code",
   "execution_count": 84,
   "metadata": {},
   "outputs": [
    {
     "data": {
      "image/png": "[encoded data removed]",
      "text/plain": [
       "<Figure size 432x288 with 1 Axes>"
      ]
     },
     "metadata": {
      "needs_background": "light"
     },
     "output_type": "display_data"
    }
   ],
   "source": [
    "history_df = pd.DataFrame(history.history)\n",
    "\n",
    "plt.plot(history_df.loc[:, ['loss']], \"#BDE2E2\", label='Training loss')\n",
    "plt.plot(history_df.loc[:, ['val_loss']],\"#C2C4E2\", label='Validation loss')\n",
    "plt.title('Training and Validation loss')\n",
    "plt.xlabel('Epochs')\n",
    "plt.ylabel('Loss')\n",
    "plt.legend(loc=\"best\")\n",
    "\n",
    "plt.show()"
   ]
  },
  {
   "cell_type": "code",
   "execution_count": 85,
   "metadata": {},
   "outputs": [
    {
     "data": {
      "image/png": "[encoded data removed]",
      "text/plain": [
       "<Figure size 432x288 with 1 Axes>"
      ]
     },
     "metadata": {
      "needs_background": "light"
     },
     "output_type": "display_data"
    }
   ],
   "source": [
    "history_df = pd.DataFrame(history.history)\n",
    "\n",
    "plt.plot(history_df.loc[:, ['accuracy']], \"#BDE2E2\", label='Training accuracy')\n",
    "plt.plot(history_df.loc[:, ['val_accuracy']], \"#C2C4E2\", label='Validation accuracy')\n",
    "\n",
    "plt.title('Training and Validation accuracy')\n",
    "plt.xlabel('Epochs')\n",
    "plt.ylabel('Accuracy')\n",
    "plt.legend()\n",
    "plt.show()"
   ]
  },
  {
   "cell_type": "code",
   "execution_count": 86,
   "metadata": {},
   "outputs": [],
   "source": [
    "Y_pred_test_NN = NNmodel.predict(X_test)"
   ]
  },
  {
   "cell_type": "code",
   "execution_count": 87,
   "metadata": {},
   "outputs": [
    {
     "data": {
      "text/plain": [
       "<AxesSubplot:>"
      ]
     },
     "execution_count": 87,
     "metadata": {},
     "output_type": "execute_result"
    },
    {
     "data": {
      "image/png": "[encoded data removed]",
      "text/plain": [
       "<Figure size 864x576 with 2 Axes>"
      ]
     },
     "metadata": {
      "needs_background": "light"
     },
     "output_type": "display_data"
    }
   ],
   "source": [
    "# NN confusion matrix\n",
    "cmap1 = sns.diverging_palette(260,-10,s=50,l=75,n=5, as_cmap=True)\n",
    "plt.subplots(figsize=(12,8))\n",
    "cf_matrix = confusion_matrix(Y_test_0_1,np.round(Y_pred_test_NN,0))\n",
    "sns.heatmap(cf_matrix/np.sum(cf_matrix), cmap = cmap1, annot = True, annot_kws = {'size':15})"
   ]
  },
  {
   "cell_type": "code",
   "execution_count": 88,
   "metadata": {},
   "outputs": [
    {
     "name": "stdout",
     "output_type": "stream",
     "text": [
      "              precision    recall  f1-score   support\n",
      "\n",
      "           0       0.88      0.94      0.91     22067\n",
      "           1       0.73      0.57      0.64      6372\n",
      "\n",
      "    accuracy                           0.86     28439\n",
      "   macro avg       0.81      0.76      0.78     28439\n",
      "weighted avg       0.85      0.86      0.85     28439\n",
      "\n"
     ]
    }
   ],
   "source": [
    "print(classification_report(Y_test_0_1, np.round(Y_pred_test_NN,0)))"
   ]
  },
  {
   "cell_type": "code",
   "execution_count": 89,
   "metadata": {},
   "outputs": [
    {
     "name": "stdout",
     "output_type": "stream",
     "text": [
      "NN Model  accuracy score is 0.8577\n",
      "F1 score for NN Model is 0.6434\n",
      "Cohen Kappa score for NN Model  is 0.5562\n"
     ]
    }
   ],
   "source": [
    "acs_nn=accuracy_score(Y_test_0_1,np.round(Y_pred_test_NN,0))\n",
    "f1_nn=f1_score(Y_test_0_1, np.round(Y_pred_test_NN,0),)\n",
    "ck_nn=cohen_kappa_score(Y_test_0_1, np.round(Y_pred_test_NN,0))\n",
    "print('NN Model  accuracy score is {0:0.4f}'. format(acs_nn))\n",
    "print(\"F1 score for NN Model is {0:0.4f}\". format(f1_nn))\n",
    "print(\"Cohen Kappa score for NN Model  is {0:0.4f}\". format(ck_nn))"
   ]
  },
  {
   "cell_type": "code",
   "execution_count": 172,
   "metadata": {},
   "outputs": [],
   "source": [
    "aclist.append(acs_nn)\n",
    "f1list.append(f1_nn)\n",
    "cklist.append(ck_nn)"
   ]
  },
  {
   "cell_type": "code",
   "execution_count": 90,
   "metadata": {},
   "outputs": [
    {
     "name": "stdout",
     "output_type": "stream",
     "text": [
      "Learning rate set to 0.5\n",
      "0:\tlearn: 0.4156320\ttotal: 3.04s\tremaining: 2m 29s\n",
      "1:\tlearn: 0.3396715\ttotal: 6.19s\tremaining: 2m 28s\n",
      "2:\tlearn: 0.3108002\ttotal: 9.32s\tremaining: 2m 25s\n",
      "3:\tlearn: 0.2964252\ttotal: 12.6s\tremaining: 2m 25s\n",
      "4:\tlearn: 0.2798230\ttotal: 15.7s\tremaining: 2m 21s\n",
      "5:\tlearn: 0.2711716\ttotal: 18.8s\tremaining: 2m 18s\n",
      "6:\tlearn: 0.2536914\ttotal: 22.2s\tremaining: 2m 16s\n",
      "7:\tlearn: 0.2443716\ttotal: 25.4s\tremaining: 2m 13s\n",
      "8:\tlearn: 0.2348222\ttotal: 28.8s\tremaining: 2m 10s\n",
      "9:\tlearn: 0.2268653\ttotal: 32.2s\tremaining: 2m 8s\n",
      "10:\tlearn: 0.2200568\ttotal: 35.6s\tremaining: 2m 6s\n",
      "11:\tlearn: 0.2076248\ttotal: 39.1s\tremaining: 2m 3s\n",
      "12:\tlearn: 0.2017805\ttotal: 43s\tremaining: 2m 2s\n",
      "13:\tlearn: 0.1940050\ttotal: 46.6s\tremaining: 1m 59s\n",
      "14:\tlearn: 0.1859581\ttotal: 50.1s\tremaining: 1m 56s\n",
      "15:\tlearn: 0.1779981\ttotal: 53.4s\tremaining: 1m 53s\n",
      "16:\tlearn: 0.1744344\ttotal: 56.8s\tremaining: 1m 50s\n",
      "17:\tlearn: 0.1682608\ttotal: 1m\tremaining: 1m 47s\n",
      "18:\tlearn: 0.1581309\ttotal: 1m 3s\tremaining: 1m 43s\n",
      "19:\tlearn: 0.1534915\ttotal: 1m 6s\tremaining: 1m 40s\n",
      "20:\tlearn: 0.1475285\ttotal: 1m 10s\tremaining: 1m 37s\n",
      "21:\tlearn: 0.1412801\ttotal: 1m 13s\tremaining: 1m 33s\n",
      "22:\tlearn: 0.1359882\ttotal: 1m 17s\tremaining: 1m 30s\n",
      "23:\tlearn: 0.1332943\ttotal: 1m 20s\tremaining: 1m 27s\n",
      "24:\tlearn: 0.1296730\ttotal: 1m 24s\tremaining: 1m 24s\n",
      "25:\tlearn: 0.1262681\ttotal: 1m 28s\tremaining: 1m 21s\n",
      "26:\tlearn: 0.1228789\ttotal: 1m 31s\tremaining: 1m 18s\n",
      "27:\tlearn: 0.1183444\ttotal: 1m 35s\tremaining: 1m 15s\n",
      "28:\tlearn: 0.1142295\ttotal: 1m 39s\tremaining: 1m 11s\n",
      "29:\tlearn: 0.1110252\ttotal: 1m 42s\tremaining: 1m 8s\n",
      "30:\tlearn: 0.1076449\ttotal: 1m 46s\tremaining: 1m 5s\n",
      "31:\tlearn: 0.1045449\ttotal: 1m 50s\tremaining: 1m 1s\n",
      "32:\tlearn: 0.1010375\ttotal: 1m 53s\tremaining: 58.6s\n",
      "33:\tlearn: 0.0983958\ttotal: 1m 57s\tremaining: 55.2s\n",
      "34:\tlearn: 0.0955570\ttotal: 2m\tremaining: 51.8s\n",
      "35:\tlearn: 0.0916352\ttotal: 2m 4s\tremaining: 48.4s\n",
      "36:\tlearn: 0.0888139\ttotal: 2m 7s\tremaining: 44.9s\n",
      "37:\tlearn: 0.0858824\ttotal: 2m 11s\tremaining: 41.4s\n",
      "38:\tlearn: 0.0831867\ttotal: 2m 15s\tremaining: 38.1s\n",
      "39:\tlearn: 0.0795902\ttotal: 2m 18s\tremaining: 34.7s\n",
      "40:\tlearn: 0.0774394\ttotal: 2m 22s\tremaining: 31.2s\n",
      "41:\tlearn: 0.0754837\ttotal: 2m 25s\tremaining: 27.7s\n",
      "42:\tlearn: 0.0728151\ttotal: 2m 28s\tremaining: 24.2s\n",
      "43:\tlearn: 0.0701026\ttotal: 2m 32s\tremaining: 20.8s\n",
      "44:\tlearn: 0.0677213\ttotal: 2m 36s\tremaining: 17.3s\n",
      "45:\tlearn: 0.0653809\ttotal: 2m 39s\tremaining: 13.9s\n",
      "46:\tlearn: 0.0638039\ttotal: 2m 43s\tremaining: 10.4s\n",
      "47:\tlearn: 0.0616660\ttotal: 2m 46s\tremaining: 6.96s\n",
      "48:\tlearn: 0.0606454\ttotal: 2m 50s\tremaining: 3.48s\n",
      "49:\tlearn: 0.0583379\ttotal: 2m 54s\tremaining: 0us\n",
      "Time taken : 175.55120539665222\n",
      "Cat Boost Model accuracy score is 0.8499\n",
      "CB Model  accuracy score is 0.8499\n",
      "F1 score for CB Model is 0.6215\n",
      "Cohen Kappa score for CB Model  is 0.5299\n"
     ]
    }
   ],
   "source": [
    "\n",
    "params_cb ={'iterations': 50,\n",
    "            'max_depth': 16}\n",
    "t0=time.time()\n",
    "model_cb = cb.CatBoostClassifier(**params_cb)\n",
    "model_cb.fit(X_train,Y_train)\n",
    "print('Time taken :' , time.time()-t0)\n",
    "Y_pred_test_CBOOST = model_cb.predict(X_test)\n",
    "\n",
    "print('Cat Boost Model accuracy score is {0:0.4f}'. format(accuracy_score(Y_test, Y_pred_test_CBOOST)))\n",
    "\n",
    "acs_cb=accuracy_score(Y_test,Y_pred_test_CBOOST)\n",
    "f1_cb=f1_score(Y_test, Y_pred_test_CBOOST,pos_label=\"Yes\")\n",
    "ck_cb=cohen_kappa_score(Y_test, Y_pred_test_CBOOST)\n",
    "print('CB Model  accuracy score is {0:0.4f}'. format(acs_cb))\n",
    "print(\"F1 score for CB Model is {0:0.4f}\". format(f1_cb))\n",
    "print(\"Cohen Kappa score for CB Model  is {0:0.4f}\". format(ck_cb))"
   ]
  },
  {
   "cell_type": "code",
   "execution_count": 173,
   "metadata": {},
   "outputs": [],
   "source": [
    "aclist.append(acs_cb)\n",
    "f1list.append(f1_cb)\n",
    "cklist.append(ck_cb)"
   ]
  },
  {
   "cell_type": "code",
   "execution_count": 91,
   "metadata": {},
   "outputs": [
    {
     "data": {
      "text/plain": [
       "<AxesSubplot:>"
      ]
     },
     "execution_count": 91,
     "metadata": {},
     "output_type": "execute_result"
    },
    {
     "data": {
      "image/png": "[encoded data removed]",
      "text/plain": [
       "<Figure size 864x576 with 2 Axes>"
      ]
     },
     "metadata": {
      "needs_background": "light"
     },
     "output_type": "display_data"
    }
   ],
   "source": [
    "# Cat Boost confusion matrix\n",
    "cmap1 = sns.diverging_palette(260,-10,s=50,l=75,n=5, as_cmap=True)\n",
    "plt.subplots(figsize=(12,8))\n",
    "cf_matrix = confusion_matrix(Y_test,Y_pred_test_CBOOST)\n",
    "sns.heatmap(cf_matrix/np.sum(cf_matrix), cmap = cmap1, annot = True, annot_kws = {'size':25})"
   ]
  },
  {
   "cell_type": "code",
   "execution_count": 92,
   "metadata": {},
   "outputs": [],
   "source": [
    "kappa_scorer = make_scorer(cohen_kappa_score)\n",
    "\n",
    "scoring = {'acc': 'accuracy',\n",
    "           'cohen_kappa': kappa_scorer}"
   ]
  },
  {
   "cell_type": "code",
   "execution_count": 93,
   "metadata": {},
   "outputs": [
    {
     "name": "stdout",
     "output_type": "stream",
     "text": [
      "Corss-vallidation scores for Logistic Regression model:{'fit_time': array([2.23629928, 2.22450709, 2.23787427, 2.43994331, 2.34749031]), 'score_time': array([0.29319477, 0.35131025, 0.34846473, 0.33257723, 0.33826208]), 'test_acc': array([0.84686387, 0.84624852, 0.84633642, 0.84963298, 0.84773626]), 'test_cohen_kappa': array([0.5087946 , 0.50443136, 0.50409467, 0.51408706, 0.51000911])}\n",
      "Mean accuracuy cross-validation score for Logistic Regression: 0.8474\n",
      "Mean cohen kappa cross-validation score for Logistic Regression: 0.5083\n"
     ]
    }
   ],
   "source": [
    "lregscores=cross_validate(lreg,X_train,Y_train,cv=5,scoring=scoring)\n",
    "print(\"Corss-vallidation scores for Logistic Regression model:{}\".format(lregscores))\n",
    "print(\"Mean accuracuy cross-validation score for Logistic Regression: {:.4f}\".format(lregscores[\"test_acc\"].mean()))\n",
    "print(\"Mean cohen kappa cross-validation score for Logistic Regression: {:.4f}\".format(lregscores[\"test_cohen_kappa\"].mean()))"
   ]
  },
  {
   "cell_type": "code",
   "execution_count": 95,
   "metadata": {},
   "outputs": [
    {
     "name": "stdout",
     "output_type": "stream",
     "text": [
      "Corss-vallidation scores for XGboost:{'fit_time': array([564.7874763 , 565.4431076 , 552.40778852, 569.7870512 ,\n",
      "       562.812186  ]), 'score_time': array([3.27343392, 4.30545473, 3.19017744, 3.76284933, 3.37657309]), 'test_acc': array([0.86374225, 0.862072  , 0.86150059, 0.86237968, 0.86698901]), 'test_cohen_kappa': array([0.56644086, 0.56455261, 0.5631833 , 0.56608857, 0.58021852])}\n",
      "Mean accuracuy cross-validation score for XGboost: 0.8633\n",
      "Mean cohen kappa cross-validation score for XGboost: 0.5681\n"
     ]
    }
   ],
   "source": [
    "xgbscores=cross_validate(XGBmodel,X_train,Y_train,cv=5,scoring=scoring)\n",
    "print(\"Corss-vallidation scores for XGboost:{}\".format(xgbscores))\n",
    "print(\"Mean accuracuy cross-validation score for XGboost: {:.4f}\".format(xgbscores[\"test_acc\"].mean()))\n",
    "print(\"Mean cohen kappa cross-validation score for XGboost: {:.4f}\".format(xgbscores[\"test_cohen_kappa\"].mean()))"
   ]
  },
  {
   "cell_type": "code",
   "execution_count": 96,
   "metadata": {},
   "outputs": [
    {
     "name": "stdout",
     "output_type": "stream",
     "text": [
      "Corss-vallidation scores for Beruli Naive Bayes:{'fit_time': array([0.47247267, 0.49603271, 0.45305347, 0.55089211, 0.48738217]), 'score_time': array([0.3630898 , 0.44829869, 0.4732635 , 0.41226459, 0.33225489]), 'test_acc': array([0.75996659, 0.76255989, 0.76154894, 0.76721902, 0.76123077]), 'train_acc': array([0.76326055, 0.76272211, 0.76283199, 0.76152435, 0.76263681]), 'test_cohen_kappa': array([0.30841974, 0.32049558, 0.31850086, 0.33151   , 0.32132768]), 'train_cohen_kappa': array([0.32278793, 0.32121236, 0.32030104, 0.31758473, 0.32046818])}\n",
      "Mean cross-validation score for Bernuli Naive Bayes: 0.7625\n",
      "Mean cohen kappa cross-validation score for Naive Bayes: 0.3201\n"
     ]
    }
   ],
   "source": [
    "bnbscores=cross_validate(BNBmodel,X_train.values,Y_train.values,cv=5,scoring=scoring, return_train_score=True)\n",
    "print(\"Corss-vallidation scores for Beruli Naive Bayes:{}\".format(bnbscores))\n",
    "print(\"Mean cross-validation score for Bernuli Naive Bayes: {:.4f}\".format(bnbscores[\"test_acc\"].mean()))\n",
    "print(\"Mean cohen kappa cross-validation score for Naive Bayes: {:.4f}\".format(bnbscores[\"test_cohen_kappa\"].mean()))"
   ]
  },
  {
   "cell_type": "code",
   "execution_count": 99,
   "metadata": {},
   "outputs": [
    {
     "name": "stdout",
     "output_type": "stream",
     "text": [
      "Corss-vallidation scores for Gaussian Naive Bayes:{'fit_time': array([0.45943403, 0.49515176, 0.44510007, 0.48368311, 0.46018076]), 'score_time': array([0.12822962, 0.14063382, 0.13431478, 0.14459896, 0.1532166 ]), 'test_acc': array([0.64379588, 0.64287284, 0.65500418, 0.64480682, 0.64584615]), 'test_cohen_kappa': array([0.25165016, 0.2482943 , 0.26942993, 0.25228877, 0.25258813])}\n",
      "Mean accuracuy cross-validation score for Gaussian Navive Bayes: 0.6465\n",
      "Mean cross-validation score for Gaussian Navive Bayes: 0.6465\n",
      "Mean cohen kappa cross-validation score for Gaussian Navive Bayes: 0.2549\n"
     ]
    }
   ],
   "source": [
    "gnbscores=cross_validate(GNBmodel,X_train,Y_train,cv=5,scoring=scoring)\n",
    "print(\"Corss-vallidation scores for Gaussian Naive Bayes:{}\".format(gnbscores))\n",
    "print(\"Mean accuracuy cross-validation score for Gaussian Navive Bayes: {:.4f}\".format(gnbscores[\"test_acc\"].mean()))\n",
    "print(\"Mean cross-validation score for Gaussian Navive Bayes: {:.4f}\".format(gnbscores[\"test_acc\"].mean()))\n",
    "print(\"Mean cohen kappa cross-validation score for Gaussian Navive Bayes: {:.4f}\".format(gnbscores[\"test_cohen_kappa\"].mean()))"
   ]
  },
  {
   "cell_type": "code",
   "execution_count": 100,
   "metadata": {},
   "outputs": [
    {
     "name": "stdout",
     "output_type": "stream",
     "text": [
      "Corss-vallidation scores for Random Forest Regressor:{'fit_time': array([153.74710298, 149.71659303, 154.07090735, 164.73782873,\n",
      "       163.92927694]), 'score_time': array([0.50242853, 0.50631356, 0.52263737, 0.61504817, 0.65453029]), 'test_acc': array([nan, nan, nan, nan, nan]), 'test_cohen_kappa': array([nan, nan, nan, nan, nan])}\n",
      "Mean cross-validation score for Random Forest Regressor: nan\n",
      "Mean cohen kappa cross-validation score for Random Forest Regressor: nan\n"
     ]
    }
   ],
   "source": [
    "rfrscores=cross_validate(RFRmodel,X_train,Y_train_0_1,cv=5,scoring=scoring)\n",
    "print(\"Corss-vallidation scores for Random Forest Regressor:{}\".format(rfrscores))\n",
    "print(\"Mean cross-validation score for Random Forest Regressor: {:.4f}\".format(rfrscores[\"test_acc\"].mean()))\n",
    "print(\"Mean cohen kappa cross-validation score for Random Forest Regressor: {:.4f}\".format(rfrscores[\"test_cohen_kappa\"].mean()))"
   ]
  },
  {
   "cell_type": "code",
   "execution_count": 101,
   "metadata": {},
   "outputs": [
    {
     "name": "stdout",
     "output_type": "stream",
     "text": [
      "Corss-vallidation scores for Random Forest Classifier:{'fit_time': array([7.30866885, 7.24420857, 7.59902906, 7.47861052, 7.46855426]), 'score_time': array([0.35246134, 0.31511903, 0.34846568, 0.34149814, 0.3130002 ]), 'test_acc': array([0.81987605, 0.82013977, 0.82009582, 0.82035954, 0.82404396]), 'test_cohen_kappa': array([0.31060773, 0.31441618, 0.3134238 , 0.31239442, 0.33160932])}\n",
      "Mean accuracuy cross-validation score for Random Forest Classifier: 0.8209\n",
      "Mean cohen kappa cross-validation score for Random Forest Classifier: 0.3165\n"
     ]
    }
   ],
   "source": [
    "rfcscores=cross_validate(RFCmodel,X_train,Y_train,cv=5,scoring=scoring)\n",
    "print(\"Corss-vallidation scores for Random Forest Classifier:{}\".format(rfcscores))\n",
    "print(\"Mean accuracuy cross-validation score for Random Forest Classifier: {:.4f}\".format(rfcscores[\"test_acc\"].mean()))\n",
    "print(\"Mean cohen kappa cross-validation score for Random Forest Classifier: {:.4f}\".format(rfcscores[\"test_cohen_kappa\"].mean()))"
   ]
  },
  {
   "cell_type": "code",
   "execution_count": 97,
   "metadata": {},
   "outputs": [
    {
     "name": "stdout",
     "output_type": "stream",
     "text": [
      "Corss-vallidation scores for SVM:{'fit_time': array([ 992.89647627, 1010.62539482,  966.18890166, 1122.86800194,\n",
      "       1049.45700693]), 'score_time': array([67.53274488, 65.92109871, 76.0853076 , 76.77732158, 85.09073329]), 'test_acc': array([0.84756714, 0.84686387, 0.84422663, 0.84919344, 0.84764835]), 'test_cohen_kappa': array([0.49953014, 0.49658002, 0.48594374, 0.50261292, 0.49941559])}\n",
      "Mean accuracuy cross-validation score for SVM: 0.8471\n",
      "Mean cohen kappa cross-validation score for SVM: 0.4968\n"
     ]
    }
   ],
   "source": [
    "svmscores=cross_validate(SVMmodel,X_train,Y_train,cv=5,scoring=scoring)\n",
    "print(\"Corss-vallidation scores for SVM:{}\".format(svmscores))\n",
    "print(\"Mean accuracuy cross-validation score for SVM: {:.4f}\".format(svmscores[\"test_acc\"].mean()))\n",
    "print(\"Mean cohen kappa cross-validation score for SVM: {:.4f}\".format(svmscores[\"test_cohen_kappa\"].mean()))"
   ]
  },
  {
   "cell_type": "code",
   "execution_count": 102,
   "metadata": {},
   "outputs": [
    {
     "ename": "TypeError",
     "evalue": "Cannot clone object '<tensorflow.python.keras.engine.sequential.Sequential object at 0x7fc67b810278>' (type <class 'tensorflow.python.keras.engine.sequential.Sequential'>): it does not seem to be a scikit-learn estimator as it does not implement a 'get_params' method.",
     "output_type": "error",
     "traceback": [
      "\u001b[0;31m---------------------------------------------------------------------------\u001b[0m",
      "\u001b[0;31mEmpty\u001b[0m                                     Traceback (most recent call last)",
      "\u001b[0;32m~/mykernel/lib/python3.7/site-packages/joblib/parallel.py\u001b[0m in \u001b[0;36mdispatch_one_batch\u001b[0;34m(self, iterator)\u001b[0m\n\u001b[1;32m    819\u001b[0m             \u001b[0;32mtry\u001b[0m\u001b[0;34m:\u001b[0m\u001b[0;34m\u001b[0m\u001b[0;34m\u001b[0m\u001b[0m\n\u001b[0;32m--> 820\u001b[0;31m                 \u001b[0mtasks\u001b[0m \u001b[0;34m=\u001b[0m \u001b[0mself\u001b[0m\u001b[0;34m.\u001b[0m\u001b[0m_ready_batches\u001b[0m\u001b[0;34m.\u001b[0m\u001b[0mget\u001b[0m\u001b[0;34m(\u001b[0m\u001b[0mblock\u001b[0m\u001b[0;34m=\u001b[0m\u001b[0;32mFalse\u001b[0m\u001b[0;34m)\u001b[0m\u001b[0;34m\u001b[0m\u001b[0;34m\u001b[0m\u001b[0m\n\u001b[0m\u001b[1;32m    821\u001b[0m             \u001b[0;32mexcept\u001b[0m \u001b[0mqueue\u001b[0m\u001b[0;34m.\u001b[0m\u001b[0mEmpty\u001b[0m\u001b[0;34m:\u001b[0m\u001b[0;34m\u001b[0m\u001b[0;34m\u001b[0m\u001b[0m\n",
      "\u001b[0;32m/opt/conda/lib/python3.7/queue.py\u001b[0m in \u001b[0;36mget\u001b[0;34m(self, block, timeout)\u001b[0m\n\u001b[1;32m    166\u001b[0m                 \u001b[0;32mif\u001b[0m \u001b[0;32mnot\u001b[0m \u001b[0mself\u001b[0m\u001b[0;34m.\u001b[0m\u001b[0m_qsize\u001b[0m\u001b[0;34m(\u001b[0m\u001b[0;34m)\u001b[0m\u001b[0;34m:\u001b[0m\u001b[0;34m\u001b[0m\u001b[0;34m\u001b[0m\u001b[0m\n\u001b[0;32m--> 167\u001b[0;31m                     \u001b[0;32mraise\u001b[0m \u001b[0mEmpty\u001b[0m\u001b[0;34m\u001b[0m\u001b[0;34m\u001b[0m\u001b[0m\n\u001b[0m\u001b[1;32m    168\u001b[0m             \u001b[0;32melif\u001b[0m \u001b[0mtimeout\u001b[0m \u001b[0;32mis\u001b[0m \u001b[0;32mNone\u001b[0m\u001b[0;34m:\u001b[0m\u001b[0;34m\u001b[0m\u001b[0;34m\u001b[0m\u001b[0m\n",
      "\u001b[0;31mEmpty\u001b[0m: ",
      "\nDuring handling of the above exception, another exception occurred:\n",
      "\u001b[0;31mTypeError\u001b[0m                                 Traceback (most recent call last)",
      "\u001b[0;32m<ipython-input-102-23fc81a61457>\u001b[0m in \u001b[0;36m<module>\u001b[0;34m\u001b[0m\n\u001b[0;32m----> 1\u001b[0;31m \u001b[0mnnscores\u001b[0m\u001b[0;34m=\u001b[0m\u001b[0mcross_validate\u001b[0m\u001b[0;34m(\u001b[0m\u001b[0mNNmodel\u001b[0m\u001b[0;34m,\u001b[0m\u001b[0mX_train\u001b[0m\u001b[0;34m,\u001b[0m\u001b[0mY_train_0_1\u001b[0m\u001b[0;34m,\u001b[0m\u001b[0mcv\u001b[0m\u001b[0;34m=\u001b[0m\u001b[0;36m5\u001b[0m\u001b[0;34m,\u001b[0m\u001b[0mscoring\u001b[0m\u001b[0;34m=\u001b[0m\u001b[0mscoring\u001b[0m\u001b[0;34m)\u001b[0m\u001b[0;34m\u001b[0m\u001b[0;34m\u001b[0m\u001b[0m\n\u001b[0m\u001b[1;32m      2\u001b[0m \u001b[0mprint\u001b[0m\u001b[0;34m(\u001b[0m\u001b[0;34m\"Corss-vallidation scores for Neural Networks:{}\"\u001b[0m\u001b[0;34m.\u001b[0m\u001b[0mformat\u001b[0m\u001b[0;34m(\u001b[0m\u001b[0mnnscores\u001b[0m\u001b[0;34m)\u001b[0m\u001b[0;34m)\u001b[0m\u001b[0;34m\u001b[0m\u001b[0;34m\u001b[0m\u001b[0m\n\u001b[1;32m      3\u001b[0m \u001b[0mprint\u001b[0m\u001b[0;34m(\u001b[0m\u001b[0;34m\"Mean accuracuy cross-validation score for Neural Networks: {:.4f}\"\u001b[0m\u001b[0;34m.\u001b[0m\u001b[0mformat\u001b[0m\u001b[0;34m(\u001b[0m\u001b[0mnnscores\u001b[0m\u001b[0;34m[\u001b[0m\u001b[0;34m\"test_acc\"\u001b[0m\u001b[0;34m]\u001b[0m\u001b[0;34m.\u001b[0m\u001b[0mmean\u001b[0m\u001b[0;34m(\u001b[0m\u001b[0;34m)\u001b[0m\u001b[0;34m)\u001b[0m\u001b[0;34m)\u001b[0m\u001b[0;34m\u001b[0m\u001b[0;34m\u001b[0m\u001b[0m\n\u001b[1;32m      4\u001b[0m \u001b[0mprint\u001b[0m\u001b[0;34m(\u001b[0m\u001b[0;34m\"Mean cohen kappa cross-validation score for Neural Networks: {:.4f}\"\u001b[0m\u001b[0;34m.\u001b[0m\u001b[0mformat\u001b[0m\u001b[0;34m(\u001b[0m\u001b[0mnnscores\u001b[0m\u001b[0;34m[\u001b[0m\u001b[0;34m\"test_cohen_kappa\"\u001b[0m\u001b[0;34m]\u001b[0m\u001b[0;34m.\u001b[0m\u001b[0mmean\u001b[0m\u001b[0;34m(\u001b[0m\u001b[0;34m)\u001b[0m\u001b[0;34m)\u001b[0m\u001b[0;34m)\u001b[0m\u001b[0;34m\u001b[0m\u001b[0;34m\u001b[0m\u001b[0m\n",
      "\u001b[0;32m~/mykernel/lib/python3.7/site-packages/sklearn/utils/validation.py\u001b[0m in \u001b[0;36minner_f\u001b[0;34m(*args, **kwargs)\u001b[0m\n\u001b[1;32m     61\u001b[0m             \u001b[0mextra_args\u001b[0m \u001b[0;34m=\u001b[0m \u001b[0mlen\u001b[0m\u001b[0;34m(\u001b[0m\u001b[0margs\u001b[0m\u001b[0;34m)\u001b[0m \u001b[0;34m-\u001b[0m \u001b[0mlen\u001b[0m\u001b[0;34m(\u001b[0m\u001b[0mall_args\u001b[0m\u001b[0;34m)\u001b[0m\u001b[0;34m\u001b[0m\u001b[0;34m\u001b[0m\u001b[0m\n\u001b[1;32m     62\u001b[0m             \u001b[0;32mif\u001b[0m \u001b[0mextra_args\u001b[0m \u001b[0;34m<=\u001b[0m \u001b[0;36m0\u001b[0m\u001b[0;34m:\u001b[0m\u001b[0;34m\u001b[0m\u001b[0;34m\u001b[0m\u001b[0m\n\u001b[0;32m---> 63\u001b[0;31m                 \u001b[0;32mreturn\u001b[0m \u001b[0mf\u001b[0m\u001b[0;34m(\u001b[0m\u001b[0;34m*\u001b[0m\u001b[0margs\u001b[0m\u001b[0;34m,\u001b[0m \u001b[0;34m**\u001b[0m\u001b[0mkwargs\u001b[0m\u001b[0;34m)\u001b[0m\u001b[0;34m\u001b[0m\u001b[0;34m\u001b[0m\u001b[0m\n\u001b[0m\u001b[1;32m     64\u001b[0m \u001b[0;34m\u001b[0m\u001b[0m\n\u001b[1;32m     65\u001b[0m             \u001b[0;31m# extra_args > 0\u001b[0m\u001b[0;34m\u001b[0m\u001b[0;34m\u001b[0m\u001b[0;34m\u001b[0m\u001b[0m\n",
      "\u001b[0;32m~/mykernel/lib/python3.7/site-packages/sklearn/model_selection/_validation.py\u001b[0m in \u001b[0;36mcross_validate\u001b[0;34m(estimator, X, y, groups, scoring, cv, n_jobs, verbose, fit_params, pre_dispatch, return_train_score, return_estimator, error_score)\u001b[0m\n\u001b[1;32m    254\u001b[0m             \u001b[0mreturn_times\u001b[0m\u001b[0;34m=\u001b[0m\u001b[0;32mTrue\u001b[0m\u001b[0;34m,\u001b[0m \u001b[0mreturn_estimator\u001b[0m\u001b[0;34m=\u001b[0m\u001b[0mreturn_estimator\u001b[0m\u001b[0;34m,\u001b[0m\u001b[0;34m\u001b[0m\u001b[0;34m\u001b[0m\u001b[0m\n\u001b[1;32m    255\u001b[0m             error_score=error_score)\n\u001b[0;32m--> 256\u001b[0;31m         for train, test in cv.split(X, y, groups))\n\u001b[0m\u001b[1;32m    257\u001b[0m \u001b[0;34m\u001b[0m\u001b[0m\n\u001b[1;32m    258\u001b[0m     \u001b[0;31m# For callabe scoring, the return type is only know after calling. If the\u001b[0m\u001b[0;34m\u001b[0m\u001b[0;34m\u001b[0m\u001b[0;34m\u001b[0m\u001b[0m\n",
      "\u001b[0;32m~/mykernel/lib/python3.7/site-packages/joblib/parallel.py\u001b[0m in \u001b[0;36m__call__\u001b[0;34m(self, iterable)\u001b[0m\n\u001b[1;32m   1039\u001b[0m             \u001b[0;31m# remaining jobs.\u001b[0m\u001b[0;34m\u001b[0m\u001b[0;34m\u001b[0m\u001b[0;34m\u001b[0m\u001b[0m\n\u001b[1;32m   1040\u001b[0m             \u001b[0mself\u001b[0m\u001b[0;34m.\u001b[0m\u001b[0m_iterating\u001b[0m \u001b[0;34m=\u001b[0m \u001b[0;32mFalse\u001b[0m\u001b[0;34m\u001b[0m\u001b[0;34m\u001b[0m\u001b[0m\n\u001b[0;32m-> 1041\u001b[0;31m             \u001b[0;32mif\u001b[0m \u001b[0mself\u001b[0m\u001b[0;34m.\u001b[0m\u001b[0mdispatch_one_batch\u001b[0m\u001b[0;34m(\u001b[0m\u001b[0miterator\u001b[0m\u001b[0;34m)\u001b[0m\u001b[0;34m:\u001b[0m\u001b[0;34m\u001b[0m\u001b[0;34m\u001b[0m\u001b[0m\n\u001b[0m\u001b[1;32m   1042\u001b[0m                 \u001b[0mself\u001b[0m\u001b[0;34m.\u001b[0m\u001b[0m_iterating\u001b[0m \u001b[0;34m=\u001b[0m \u001b[0mself\u001b[0m\u001b[0;34m.\u001b[0m\u001b[0m_original_iterator\u001b[0m \u001b[0;32mis\u001b[0m \u001b[0;32mnot\u001b[0m \u001b[0;32mNone\u001b[0m\u001b[0;34m\u001b[0m\u001b[0;34m\u001b[0m\u001b[0m\n\u001b[1;32m   1043\u001b[0m \u001b[0;34m\u001b[0m\u001b[0m\n",
      "\u001b[0;32m~/mykernel/lib/python3.7/site-packages/joblib/parallel.py\u001b[0m in \u001b[0;36mdispatch_one_batch\u001b[0;34m(self, iterator)\u001b[0m\n\u001b[1;32m    829\u001b[0m                 \u001b[0mbig_batch_size\u001b[0m \u001b[0;34m=\u001b[0m \u001b[0mbatch_size\u001b[0m \u001b[0;34m*\u001b[0m \u001b[0mn_jobs\u001b[0m\u001b[0;34m\u001b[0m\u001b[0;34m\u001b[0m\u001b[0m\n\u001b[1;32m    830\u001b[0m \u001b[0;34m\u001b[0m\u001b[0m\n\u001b[0;32m--> 831\u001b[0;31m                 \u001b[0mislice\u001b[0m \u001b[0;34m=\u001b[0m \u001b[0mlist\u001b[0m\u001b[0;34m(\u001b[0m\u001b[0mitertools\u001b[0m\u001b[0;34m.\u001b[0m\u001b[0mislice\u001b[0m\u001b[0;34m(\u001b[0m\u001b[0miterator\u001b[0m\u001b[0;34m,\u001b[0m \u001b[0mbig_batch_size\u001b[0m\u001b[0;34m)\u001b[0m\u001b[0;34m)\u001b[0m\u001b[0;34m\u001b[0m\u001b[0;34m\u001b[0m\u001b[0m\n\u001b[0m\u001b[1;32m    832\u001b[0m                 \u001b[0;32mif\u001b[0m \u001b[0mlen\u001b[0m\u001b[0;34m(\u001b[0m\u001b[0mislice\u001b[0m\u001b[0;34m)\u001b[0m \u001b[0;34m==\u001b[0m \u001b[0;36m0\u001b[0m\u001b[0;34m:\u001b[0m\u001b[0;34m\u001b[0m\u001b[0;34m\u001b[0m\u001b[0m\n\u001b[1;32m    833\u001b[0m                     \u001b[0;32mreturn\u001b[0m \u001b[0;32mFalse\u001b[0m\u001b[0;34m\u001b[0m\u001b[0;34m\u001b[0m\u001b[0m\n",
      "\u001b[0;32m~/mykernel/lib/python3.7/site-packages/sklearn/model_selection/_validation.py\u001b[0m in \u001b[0;36m<genexpr>\u001b[0;34m(.0)\u001b[0m\n\u001b[1;32m    254\u001b[0m             \u001b[0mreturn_times\u001b[0m\u001b[0;34m=\u001b[0m\u001b[0;32mTrue\u001b[0m\u001b[0;34m,\u001b[0m \u001b[0mreturn_estimator\u001b[0m\u001b[0;34m=\u001b[0m\u001b[0mreturn_estimator\u001b[0m\u001b[0;34m,\u001b[0m\u001b[0;34m\u001b[0m\u001b[0;34m\u001b[0m\u001b[0m\n\u001b[1;32m    255\u001b[0m             error_score=error_score)\n\u001b[0;32m--> 256\u001b[0;31m         for train, test in cv.split(X, y, groups))\n\u001b[0m\u001b[1;32m    257\u001b[0m \u001b[0;34m\u001b[0m\u001b[0m\n\u001b[1;32m    258\u001b[0m     \u001b[0;31m# For callabe scoring, the return type is only know after calling. If the\u001b[0m\u001b[0;34m\u001b[0m\u001b[0;34m\u001b[0m\u001b[0;34m\u001b[0m\u001b[0m\n",
      "\u001b[0;32m~/mykernel/lib/python3.7/site-packages/sklearn/utils/validation.py\u001b[0m in \u001b[0;36minner_f\u001b[0;34m(*args, **kwargs)\u001b[0m\n\u001b[1;32m     61\u001b[0m             \u001b[0mextra_args\u001b[0m \u001b[0;34m=\u001b[0m \u001b[0mlen\u001b[0m\u001b[0;34m(\u001b[0m\u001b[0margs\u001b[0m\u001b[0;34m)\u001b[0m \u001b[0;34m-\u001b[0m \u001b[0mlen\u001b[0m\u001b[0;34m(\u001b[0m\u001b[0mall_args\u001b[0m\u001b[0;34m)\u001b[0m\u001b[0;34m\u001b[0m\u001b[0;34m\u001b[0m\u001b[0m\n\u001b[1;32m     62\u001b[0m             \u001b[0;32mif\u001b[0m \u001b[0mextra_args\u001b[0m \u001b[0;34m<=\u001b[0m \u001b[0;36m0\u001b[0m\u001b[0;34m:\u001b[0m\u001b[0;34m\u001b[0m\u001b[0;34m\u001b[0m\u001b[0m\n\u001b[0;32m---> 63\u001b[0;31m                 \u001b[0;32mreturn\u001b[0m \u001b[0mf\u001b[0m\u001b[0;34m(\u001b[0m\u001b[0;34m*\u001b[0m\u001b[0margs\u001b[0m\u001b[0;34m,\u001b[0m \u001b[0;34m**\u001b[0m\u001b[0mkwargs\u001b[0m\u001b[0;34m)\u001b[0m\u001b[0;34m\u001b[0m\u001b[0;34m\u001b[0m\u001b[0m\n\u001b[0m\u001b[1;32m     64\u001b[0m \u001b[0;34m\u001b[0m\u001b[0m\n\u001b[1;32m     65\u001b[0m             \u001b[0;31m# extra_args > 0\u001b[0m\u001b[0;34m\u001b[0m\u001b[0;34m\u001b[0m\u001b[0;34m\u001b[0m\u001b[0m\n",
      "\u001b[0;32m~/mykernel/lib/python3.7/site-packages/sklearn/base.py\u001b[0m in \u001b[0;36mclone\u001b[0;34m(estimator, safe)\u001b[0m\n\u001b[1;32m     69\u001b[0m                                 \u001b[0;34m\"estimator as it does not implement a \"\u001b[0m\u001b[0;34m\u001b[0m\u001b[0;34m\u001b[0m\u001b[0m\n\u001b[1;32m     70\u001b[0m                                 \u001b[0;34m\"'get_params' method.\"\u001b[0m\u001b[0;34m\u001b[0m\u001b[0;34m\u001b[0m\u001b[0m\n\u001b[0;32m---> 71\u001b[0;31m                                 % (repr(estimator), type(estimator)))\n\u001b[0m\u001b[1;32m     72\u001b[0m \u001b[0;34m\u001b[0m\u001b[0m\n\u001b[1;32m     73\u001b[0m     \u001b[0mklass\u001b[0m \u001b[0;34m=\u001b[0m \u001b[0mestimator\u001b[0m\u001b[0;34m.\u001b[0m\u001b[0m__class__\u001b[0m\u001b[0;34m\u001b[0m\u001b[0;34m\u001b[0m\u001b[0m\n",
      "\u001b[0;31mTypeError\u001b[0m: Cannot clone object '<tensorflow.python.keras.engine.sequential.Sequential object at 0x7fc67b810278>' (type <class 'tensorflow.python.keras.engine.sequential.Sequential'>): it does not seem to be a scikit-learn estimator as it does not implement a 'get_params' method."
     ]
    }
   ],
   "source": [
    "nnscores=cross_validate(NNmodel,X_train,Y_train_0_1,cv=5,scoring=scoring)\n",
    "print(\"Corss-vallidation scores for Neural Networks:{}\".format(nnscores))\n",
    "print(\"Mean accuracuy cross-validation score for Neural Networks: {:.4f}\".format(nnscores[\"test_acc\"].mean()))\n",
    "print(\"Mean cohen kappa cross-validation score for Neural Networks: {:.4f}\".format(nnscores[\"test_cohen_kappa\"].mean()))"
   ]
  },
  {
   "cell_type": "code",
   "execution_count": 98,
   "metadata": {},
   "outputs": [
    {
     "name": "stdout",
     "output_type": "stream",
     "text": [
      "Learning rate set to 0.5\n",
      "0:\tlearn: 0.4220176\ttotal: 3.39s\tremaining: 2m 46s\n",
      "1:\tlearn: 0.3395678\ttotal: 6.72s\tremaining: 2m 41s\n",
      "2:\tlearn: 0.3013736\ttotal: 10.2s\tremaining: 2m 40s\n",
      "3:\tlearn: 0.2887865\ttotal: 13.7s\tremaining: 2m 37s\n",
      "4:\tlearn: 0.2715159\ttotal: 17.2s\tremaining: 2m 34s\n",
      "5:\tlearn: 0.2536162\ttotal: 20.6s\tremaining: 2m 31s\n",
      "6:\tlearn: 0.2436285\ttotal: 24.1s\tremaining: 2m 28s\n",
      "7:\tlearn: 0.2354606\ttotal: 27.5s\tremaining: 2m 24s\n",
      "8:\tlearn: 0.2229338\ttotal: 31s\tremaining: 2m 21s\n",
      "9:\tlearn: 0.2128845\ttotal: 34.2s\tremaining: 2m 16s\n",
      "10:\tlearn: 0.2082225\ttotal: 37.4s\tremaining: 2m 12s\n",
      "11:\tlearn: 0.1965758\ttotal: 40.9s\tremaining: 2m 9s\n",
      "12:\tlearn: 0.1877906\ttotal: 44.3s\tremaining: 2m 5s\n",
      "13:\tlearn: 0.1834421\ttotal: 47.5s\tremaining: 2m 2s\n",
      "14:\tlearn: 0.1757921\ttotal: 50.7s\tremaining: 1m 58s\n",
      "15:\tlearn: 0.1676494\ttotal: 53.9s\tremaining: 1m 54s\n",
      "16:\tlearn: 0.1629525\ttotal: 57.4s\tremaining: 1m 51s\n",
      "17:\tlearn: 0.1590837\ttotal: 1m\tremaining: 1m 48s\n",
      "18:\tlearn: 0.1541282\ttotal: 1m 4s\tremaining: 1m 44s\n",
      "19:\tlearn: 0.1484198\ttotal: 1m 8s\tremaining: 1m 42s\n",
      "20:\tlearn: 0.1441635\ttotal: 1m 11s\tremaining: 1m 38s\n",
      "21:\tlearn: 0.1362601\ttotal: 1m 15s\tremaining: 1m 35s\n",
      "22:\tlearn: 0.1332241\ttotal: 1m 18s\tremaining: 1m 32s\n",
      "23:\tlearn: 0.1273572\ttotal: 1m 21s\tremaining: 1m 28s\n",
      "24:\tlearn: 0.1209059\ttotal: 1m 25s\tremaining: 1m 25s\n",
      "25:\tlearn: 0.1153133\ttotal: 1m 28s\tremaining: 1m 21s\n",
      "26:\tlearn: 0.1104737\ttotal: 1m 32s\tremaining: 1m 18s\n",
      "27:\tlearn: 0.1050765\ttotal: 1m 35s\tremaining: 1m 14s\n",
      "28:\tlearn: 0.1029960\ttotal: 1m 38s\tremaining: 1m 11s\n",
      "29:\tlearn: 0.0986103\ttotal: 1m 41s\tremaining: 1m 7s\n",
      "30:\tlearn: 0.0944279\ttotal: 1m 45s\tremaining: 1m 4s\n",
      "31:\tlearn: 0.0916338\ttotal: 1m 48s\tremaining: 1m 1s\n",
      "32:\tlearn: 0.0879543\ttotal: 1m 52s\tremaining: 57.8s\n",
      "33:\tlearn: 0.0838199\ttotal: 1m 55s\tremaining: 54.4s\n",
      "34:\tlearn: 0.0818557\ttotal: 1m 58s\tremaining: 51s\n",
      "35:\tlearn: 0.0794160\ttotal: 2m 2s\tremaining: 47.6s\n",
      "36:\tlearn: 0.0775721\ttotal: 2m 5s\tremaining: 44.2s\n",
      "37:\tlearn: 0.0754494\ttotal: 2m 8s\tremaining: 40.7s\n",
      "38:\tlearn: 0.0722342\ttotal: 2m 12s\tremaining: 37.3s\n",
      "39:\tlearn: 0.0688185\ttotal: 2m 15s\tremaining: 33.9s\n",
      "40:\tlearn: 0.0662685\ttotal: 2m 18s\tremaining: 30.5s\n",
      "41:\tlearn: 0.0638784\ttotal: 2m 22s\tremaining: 27.1s\n",
      "42:\tlearn: 0.0612432\ttotal: 2m 25s\tremaining: 23.7s\n",
      "43:\tlearn: 0.0594587\ttotal: 2m 29s\tremaining: 20.3s\n",
      "44:\tlearn: 0.0574608\ttotal: 2m 32s\tremaining: 16.9s\n",
      "45:\tlearn: 0.0552614\ttotal: 2m 35s\tremaining: 13.5s\n",
      "46:\tlearn: 0.0537261\ttotal: 2m 38s\tremaining: 10.1s\n",
      "47:\tlearn: 0.0524392\ttotal: 2m 41s\tremaining: 6.75s\n",
      "48:\tlearn: 0.0512115\ttotal: 2m 45s\tremaining: 3.37s\n",
      "49:\tlearn: 0.0501501\ttotal: 2m 48s\tremaining: 0us\n",
      "Learning rate set to 0.5\n",
      "0:\tlearn: 0.4229975\ttotal: 3.06s\tremaining: 2m 30s\n",
      "1:\tlearn: 0.3538093\ttotal: 6.03s\tremaining: 2m 24s\n",
      "2:\tlearn: 0.3232258\ttotal: 9.05s\tremaining: 2m 21s\n",
      "3:\tlearn: 0.3035775\ttotal: 12.1s\tremaining: 2m 19s\n",
      "4:\tlearn: 0.2841146\ttotal: 15.2s\tremaining: 2m 17s\n",
      "5:\tlearn: 0.2642818\ttotal: 18.4s\tremaining: 2m 14s\n",
      "6:\tlearn: 0.2501842\ttotal: 22s\tremaining: 2m 15s\n",
      "7:\tlearn: 0.2396475\ttotal: 25.1s\tremaining: 2m 11s\n",
      "8:\tlearn: 0.2339338\ttotal: 28.2s\tremaining: 2m 8s\n",
      "9:\tlearn: 0.2255436\ttotal: 31.1s\tremaining: 2m 4s\n",
      "10:\tlearn: 0.2141081\ttotal: 34.1s\tremaining: 2m\n",
      "11:\tlearn: 0.2068007\ttotal: 36.8s\tremaining: 1m 56s\n",
      "12:\tlearn: 0.2015349\ttotal: 39.9s\tremaining: 1m 53s\n",
      "13:\tlearn: 0.1957467\ttotal: 43.3s\tremaining: 1m 51s\n",
      "14:\tlearn: 0.1817731\ttotal: 46.4s\tremaining: 1m 48s\n",
      "15:\tlearn: 0.1736743\ttotal: 49.6s\tremaining: 1m 45s\n",
      "16:\tlearn: 0.1702527\ttotal: 52.7s\tremaining: 1m 42s\n",
      "17:\tlearn: 0.1664577\ttotal: 56.3s\tremaining: 1m 40s\n",
      "18:\tlearn: 0.1620973\ttotal: 59.8s\tremaining: 1m 37s\n",
      "19:\tlearn: 0.1579503\ttotal: 1m 3s\tremaining: 1m 34s\n",
      "20:\tlearn: 0.1492043\ttotal: 1m 6s\tremaining: 1m 31s\n",
      "21:\tlearn: 0.1411068\ttotal: 1m 9s\tremaining: 1m 28s\n",
      "22:\tlearn: 0.1381904\ttotal: 1m 12s\tremaining: 1m 25s\n",
      "23:\tlearn: 0.1337315\ttotal: 1m 16s\tremaining: 1m 22s\n",
      "24:\tlearn: 0.1286194\ttotal: 1m 19s\tremaining: 1m 19s\n",
      "25:\tlearn: 0.1218128\ttotal: 1m 22s\tremaining: 1m 16s\n",
      "26:\tlearn: 0.1171919\ttotal: 1m 25s\tremaining: 1m 12s\n",
      "27:\tlearn: 0.1118091\ttotal: 1m 28s\tremaining: 1m 9s\n",
      "28:\tlearn: 0.1059912\ttotal: 1m 31s\tremaining: 1m 6s\n",
      "29:\tlearn: 0.1022480\ttotal: 1m 34s\tremaining: 1m 3s\n",
      "30:\tlearn: 0.0985112\ttotal: 1m 37s\tremaining: 59.9s\n",
      "31:\tlearn: 0.0954645\ttotal: 1m 41s\tremaining: 56.9s\n",
      "32:\tlearn: 0.0928385\ttotal: 1m 44s\tremaining: 53.7s\n",
      "33:\tlearn: 0.0897379\ttotal: 1m 47s\tremaining: 50.7s\n",
      "34:\tlearn: 0.0865316\ttotal: 1m 50s\tremaining: 47.5s\n",
      "35:\tlearn: 0.0816144\ttotal: 1m 54s\tremaining: 44.4s\n",
      "36:\tlearn: 0.0769686\ttotal: 1m 57s\tremaining: 41.3s\n",
      "37:\tlearn: 0.0747481\ttotal: 2m\tremaining: 38s\n",
      "38:\tlearn: 0.0724291\ttotal: 2m 3s\tremaining: 34.9s\n",
      "39:\tlearn: 0.0700523\ttotal: 2m 7s\tremaining: 31.8s\n",
      "40:\tlearn: 0.0674927\ttotal: 2m 10s\tremaining: 28.6s\n",
      "41:\tlearn: 0.0649482\ttotal: 2m 13s\tremaining: 25.4s\n",
      "42:\tlearn: 0.0634441\ttotal: 2m 16s\tremaining: 22.3s\n",
      "43:\tlearn: 0.0616304\ttotal: 2m 20s\tremaining: 19.1s\n",
      "44:\tlearn: 0.0601154\ttotal: 2m 23s\tremaining: 16s\n",
      "45:\tlearn: 0.0577417\ttotal: 2m 26s\tremaining: 12.8s\n",
      "46:\tlearn: 0.0559845\ttotal: 2m 29s\tremaining: 9.57s\n",
      "47:\tlearn: 0.0536330\ttotal: 2m 33s\tremaining: 6.38s\n",
      "48:\tlearn: 0.0513090\ttotal: 2m 36s\tremaining: 3.19s\n",
      "49:\tlearn: 0.0501810\ttotal: 2m 39s\tremaining: 0us\n",
      "Learning rate set to 0.5\n",
      "0:\tlearn: 0.4206552\ttotal: 3.28s\tremaining: 2m 40s\n",
      "1:\tlearn: 0.3502344\ttotal: 6.62s\tremaining: 2m 38s\n",
      "2:\tlearn: 0.3191598\ttotal: 9.88s\tremaining: 2m 34s\n",
      "3:\tlearn: 0.3009302\ttotal: 13.1s\tremaining: 2m 30s\n",
      "4:\tlearn: 0.2852971\ttotal: 16.7s\tremaining: 2m 30s\n",
      "5:\tlearn: 0.2707316\ttotal: 20s\tremaining: 2m 26s\n",
      "6:\tlearn: 0.2571249\ttotal: 23.5s\tremaining: 2m 24s\n",
      "7:\tlearn: 0.2486302\ttotal: 26.8s\tremaining: 2m 20s\n",
      "8:\tlearn: 0.2378174\ttotal: 30s\tremaining: 2m 16s\n",
      "9:\tlearn: 0.2280189\ttotal: 33.1s\tremaining: 2m 12s\n",
      "10:\tlearn: 0.2154919\ttotal: 36.5s\tremaining: 2m 9s\n",
      "11:\tlearn: 0.2050822\ttotal: 39.6s\tremaining: 2m 5s\n",
      "12:\tlearn: 0.1990466\ttotal: 43.1s\tremaining: 2m 2s\n",
      "13:\tlearn: 0.1923040\ttotal: 46.4s\tremaining: 1m 59s\n",
      "14:\tlearn: 0.1833492\ttotal: 49.5s\tremaining: 1m 55s\n",
      "15:\tlearn: 0.1765166\ttotal: 52.8s\tremaining: 1m 52s\n",
      "16:\tlearn: 0.1718643\ttotal: 56.2s\tremaining: 1m 49s\n",
      "17:\tlearn: 0.1679296\ttotal: 59.8s\tremaining: 1m 46s\n",
      "18:\tlearn: 0.1630712\ttotal: 1m 3s\tremaining: 1m 43s\n",
      "19:\tlearn: 0.1563048\ttotal: 1m 6s\tremaining: 1m 39s\n",
      "20:\tlearn: 0.1508126\ttotal: 1m 9s\tremaining: 1m 36s\n",
      "21:\tlearn: 0.1449118\ttotal: 1m 12s\tremaining: 1m 32s\n",
      "22:\tlearn: 0.1412524\ttotal: 1m 16s\tremaining: 1m 29s\n",
      "23:\tlearn: 0.1338319\ttotal: 1m 19s\tremaining: 1m 26s\n",
      "24:\tlearn: 0.1304938\ttotal: 1m 22s\tremaining: 1m 22s\n",
      "25:\tlearn: 0.1265773\ttotal: 1m 26s\tremaining: 1m 19s\n",
      "26:\tlearn: 0.1194633\ttotal: 1m 29s\tremaining: 1m 15s\n",
      "27:\tlearn: 0.1146804\ttotal: 1m 32s\tremaining: 1m 12s\n",
      "28:\tlearn: 0.1078277\ttotal: 1m 35s\tremaining: 1m 9s\n",
      "29:\tlearn: 0.1032691\ttotal: 1m 38s\tremaining: 1m 5s\n",
      "30:\tlearn: 0.0985941\ttotal: 1m 41s\tremaining: 1m 2s\n",
      "31:\tlearn: 0.0941189\ttotal: 1m 45s\tremaining: 59.1s\n",
      "32:\tlearn: 0.0900680\ttotal: 1m 48s\tremaining: 55.7s\n",
      "33:\tlearn: 0.0875158\ttotal: 1m 51s\tremaining: 52.4s\n",
      "34:\tlearn: 0.0840412\ttotal: 1m 54s\tremaining: 49.1s\n",
      "35:\tlearn: 0.0821194\ttotal: 1m 57s\tremaining: 45.7s\n",
      "36:\tlearn: 0.0796017\ttotal: 2m\tremaining: 42.5s\n",
      "37:\tlearn: 0.0763799\ttotal: 2m 3s\tremaining: 39.1s\n",
      "38:\tlearn: 0.0735379\ttotal: 2m 7s\tremaining: 35.9s\n",
      "39:\tlearn: 0.0719020\ttotal: 2m 10s\tremaining: 32.7s\n",
      "40:\tlearn: 0.0692000\ttotal: 2m 14s\tremaining: 29.5s\n",
      "41:\tlearn: 0.0667525\ttotal: 2m 18s\tremaining: 26.4s\n",
      "42:\tlearn: 0.0640611\ttotal: 2m 21s\tremaining: 23.1s\n",
      "43:\tlearn: 0.0621886\ttotal: 2m 25s\tremaining: 19.8s\n",
      "44:\tlearn: 0.0598750\ttotal: 2m 28s\tremaining: 16.5s\n",
      "45:\tlearn: 0.0580548\ttotal: 2m 31s\tremaining: 13.2s\n",
      "46:\tlearn: 0.0568045\ttotal: 2m 35s\tremaining: 9.9s\n",
      "47:\tlearn: 0.0554074\ttotal: 2m 39s\tremaining: 6.63s\n",
      "48:\tlearn: 0.0542827\ttotal: 2m 42s\tremaining: 3.32s\n",
      "49:\tlearn: 0.0527755\ttotal: 2m 45s\tremaining: 0us\n",
      "Learning rate set to 0.5\n",
      "0:\tlearn: 0.4232646\ttotal: 3.22s\tremaining: 2m 37s\n",
      "1:\tlearn: 0.3467434\ttotal: 6.39s\tremaining: 2m 33s\n",
      "2:\tlearn: 0.3168809\ttotal: 9.36s\tremaining: 2m 26s\n",
      "3:\tlearn: 0.2989879\ttotal: 12.5s\tremaining: 2m 24s\n",
      "4:\tlearn: 0.2844820\ttotal: 15.9s\tremaining: 2m 22s\n",
      "5:\tlearn: 0.2653349\ttotal: 19.2s\tremaining: 2m 20s\n",
      "6:\tlearn: 0.2501982\ttotal: 22.4s\tremaining: 2m 17s\n",
      "7:\tlearn: 0.2385390\ttotal: 25.7s\tremaining: 2m 14s\n",
      "8:\tlearn: 0.2215025\ttotal: 28.8s\tremaining: 2m 11s\n",
      "9:\tlearn: 0.2116504\ttotal: 32.2s\tremaining: 2m 8s\n",
      "10:\tlearn: 0.1983160\ttotal: 35.2s\tremaining: 2m 4s\n",
      "11:\tlearn: 0.1908364\ttotal: 38.5s\tremaining: 2m 1s\n",
      "12:\tlearn: 0.1859619\ttotal: 41.5s\tremaining: 1m 58s\n",
      "13:\tlearn: 0.1810135\ttotal: 45s\tremaining: 1m 55s\n",
      "14:\tlearn: 0.1737401\ttotal: 48.3s\tremaining: 1m 52s\n",
      "15:\tlearn: 0.1674613\ttotal: 51.6s\tremaining: 1m 49s\n",
      "16:\tlearn: 0.1613706\ttotal: 54.9s\tremaining: 1m 46s\n",
      "17:\tlearn: 0.1573860\ttotal: 57.8s\tremaining: 1m 42s\n",
      "18:\tlearn: 0.1525390\ttotal: 1m 1s\tremaining: 1m 39s\n",
      "19:\tlearn: 0.1476774\ttotal: 1m 4s\tremaining: 1m 36s\n",
      "20:\tlearn: 0.1401841\ttotal: 1m 7s\tremaining: 1m 33s\n",
      "21:\tlearn: 0.1364306\ttotal: 1m 10s\tremaining: 1m 30s\n",
      "22:\tlearn: 0.1305235\ttotal: 1m 14s\tremaining: 1m 27s\n",
      "23:\tlearn: 0.1254308\ttotal: 1m 17s\tremaining: 1m 24s\n",
      "24:\tlearn: 0.1204733\ttotal: 1m 20s\tremaining: 1m 20s\n",
      "25:\tlearn: 0.1143487\ttotal: 1m 23s\tremaining: 1m 17s\n",
      "26:\tlearn: 0.1098208\ttotal: 1m 27s\tremaining: 1m 14s\n",
      "27:\tlearn: 0.1052520\ttotal: 1m 30s\tremaining: 1m 10s\n",
      "28:\tlearn: 0.1024618\ttotal: 1m 34s\tremaining: 1m 8s\n",
      "29:\tlearn: 0.0992214\ttotal: 1m 37s\tremaining: 1m 5s\n",
      "30:\tlearn: 0.0942787\ttotal: 1m 40s\tremaining: 1m 1s\n",
      "31:\tlearn: 0.0913903\ttotal: 1m 44s\tremaining: 58.6s\n",
      "32:\tlearn: 0.0875749\ttotal: 1m 47s\tremaining: 55.3s\n",
      "33:\tlearn: 0.0845688\ttotal: 1m 50s\tremaining: 52s\n",
      "34:\tlearn: 0.0814152\ttotal: 1m 53s\tremaining: 48.8s\n",
      "35:\tlearn: 0.0786586\ttotal: 1m 56s\tremaining: 45.5s\n",
      "36:\tlearn: 0.0754188\ttotal: 2m\tremaining: 42.2s\n",
      "37:\tlearn: 0.0725379\ttotal: 2m 3s\tremaining: 38.9s\n",
      "38:\tlearn: 0.0712212\ttotal: 2m 6s\tremaining: 35.7s\n",
      "39:\tlearn: 0.0693920\ttotal: 2m 9s\tremaining: 32.5s\n",
      "40:\tlearn: 0.0668315\ttotal: 2m 13s\tremaining: 29.3s\n",
      "41:\tlearn: 0.0639649\ttotal: 2m 16s\tremaining: 26s\n",
      "42:\tlearn: 0.0626473\ttotal: 2m 19s\tremaining: 22.7s\n",
      "43:\tlearn: 0.0607543\ttotal: 2m 22s\tremaining: 19.5s\n",
      "44:\tlearn: 0.0576196\ttotal: 2m 26s\tremaining: 16.2s\n",
      "45:\tlearn: 0.0555110\ttotal: 2m 29s\tremaining: 13s\n",
      "46:\tlearn: 0.0536053\ttotal: 2m 32s\tremaining: 9.75s\n",
      "47:\tlearn: 0.0518582\ttotal: 2m 35s\tremaining: 6.5s\n",
      "48:\tlearn: 0.0504004\ttotal: 2m 39s\tremaining: 3.25s\n",
      "49:\tlearn: 0.0487528\ttotal: 2m 42s\tremaining: 0us\n",
      "Learning rate set to 0.5\n",
      "0:\tlearn: 0.4219758\ttotal: 3.21s\tremaining: 2m 37s\n",
      "1:\tlearn: 0.3515920\ttotal: 6.59s\tremaining: 2m 38s\n",
      "2:\tlearn: 0.3208507\ttotal: 9.84s\tremaining: 2m 34s\n",
      "3:\tlearn: 0.3038979\ttotal: 13.6s\tremaining: 2m 36s\n",
      "4:\tlearn: 0.2831136\ttotal: 17s\tremaining: 2m 33s\n",
      "5:\tlearn: 0.2651630\ttotal: 20.2s\tremaining: 2m 28s\n",
      "6:\tlearn: 0.2544740\ttotal: 23.4s\tremaining: 2m 23s\n",
      "7:\tlearn: 0.2493510\ttotal: 27s\tremaining: 2m 21s\n",
      "8:\tlearn: 0.2396282\ttotal: 30.3s\tremaining: 2m 18s\n",
      "9:\tlearn: 0.2276827\ttotal: 33.6s\tremaining: 2m 14s\n",
      "10:\tlearn: 0.2174419\ttotal: 37.1s\tremaining: 2m 11s\n",
      "11:\tlearn: 0.2081738\ttotal: 40.4s\tremaining: 2m 7s\n",
      "12:\tlearn: 0.1978841\ttotal: 43.6s\tremaining: 2m 3s\n",
      "13:\tlearn: 0.1907117\ttotal: 46.9s\tremaining: 2m\n",
      "14:\tlearn: 0.1846718\ttotal: 50.4s\tremaining: 1m 57s\n",
      "15:\tlearn: 0.1782153\ttotal: 53.6s\tremaining: 1m 54s\n",
      "16:\tlearn: 0.1736482\ttotal: 57.6s\tremaining: 1m 51s\n",
      "17:\tlearn: 0.1693375\ttotal: 1m\tremaining: 1m 48s\n",
      "18:\tlearn: 0.1630935\ttotal: 1m 4s\tremaining: 1m 44s\n",
      "19:\tlearn: 0.1570308\ttotal: 1m 7s\tremaining: 1m 41s\n",
      "20:\tlearn: 0.1527787\ttotal: 1m 10s\tremaining: 1m 37s\n",
      "21:\tlearn: 0.1498233\ttotal: 1m 14s\tremaining: 1m 34s\n",
      "22:\tlearn: 0.1437070\ttotal: 1m 17s\tremaining: 1m 31s\n",
      "23:\tlearn: 0.1362041\ttotal: 1m 20s\tremaining: 1m 27s\n",
      "24:\tlearn: 0.1300357\ttotal: 1m 24s\tremaining: 1m 24s\n",
      "25:\tlearn: 0.1249929\ttotal: 1m 27s\tremaining: 1m 21s\n",
      "26:\tlearn: 0.1190564\ttotal: 1m 31s\tremaining: 1m 17s\n",
      "27:\tlearn: 0.1146647\ttotal: 1m 34s\tremaining: 1m 14s\n",
      "28:\tlearn: 0.1102061\ttotal: 1m 37s\tremaining: 1m 10s\n",
      "29:\tlearn: 0.1047917\ttotal: 1m 41s\tremaining: 1m 7s\n",
      "30:\tlearn: 0.1033437\ttotal: 1m 45s\tremaining: 1m 4s\n",
      "31:\tlearn: 0.1000200\ttotal: 1m 48s\tremaining: 1m 1s\n",
      "32:\tlearn: 0.0971039\ttotal: 1m 52s\tremaining: 57.8s\n",
      "33:\tlearn: 0.0947282\ttotal: 1m 55s\tremaining: 54.3s\n",
      "34:\tlearn: 0.0906076\ttotal: 1m 59s\tremaining: 51s\n",
      "35:\tlearn: 0.0867866\ttotal: 2m 2s\tremaining: 47.6s\n",
      "36:\tlearn: 0.0833547\ttotal: 2m 6s\tremaining: 44.3s\n",
      "37:\tlearn: 0.0807774\ttotal: 2m 9s\tremaining: 40.8s\n",
      "38:\tlearn: 0.0784584\ttotal: 2m 12s\tremaining: 37.4s\n",
      "39:\tlearn: 0.0759076\ttotal: 2m 16s\tremaining: 34s\n",
      "40:\tlearn: 0.0730420\ttotal: 2m 19s\tremaining: 30.6s\n",
      "41:\tlearn: 0.0706832\ttotal: 2m 23s\tremaining: 27.3s\n",
      "42:\tlearn: 0.0685906\ttotal: 2m 26s\tremaining: 23.9s\n",
      "43:\tlearn: 0.0664557\ttotal: 2m 30s\tremaining: 20.5s\n",
      "44:\tlearn: 0.0648015\ttotal: 2m 33s\tremaining: 17s\n",
      "45:\tlearn: 0.0622353\ttotal: 2m 36s\tremaining: 13.6s\n",
      "46:\tlearn: 0.0605363\ttotal: 2m 39s\tremaining: 10.2s\n",
      "47:\tlearn: 0.0584489\ttotal: 2m 43s\tremaining: 6.79s\n",
      "48:\tlearn: 0.0566539\ttotal: 2m 46s\tremaining: 3.4s\n",
      "49:\tlearn: 0.0552007\ttotal: 2m 49s\tremaining: 0us\n",
      "Corss-vallidation scores for Cat boost:{'fit_time': array([169.16728234, 160.64483666, 166.85029078, 162.83020973,\n",
      "       170.75595117]), 'score_time': array([0.16229272, 0.14969158, 0.15595102, 0.15708756, 0.18740797]), 'test_acc': array([0.84097402, 0.84466617, 0.84303987, 0.84506176, 0.84496703]), 'test_cohen_kappa': array([0.49932457, 0.51005132, 0.50699521, 0.51356812, 0.51557301])}\n",
      "Mean accuracuy cross-validation score for CatBoost: 0.8437\n",
      "Mean cohen kappa cross-validation score for CatBoost: 0.5681\n"
     ]
    }
   ],
   "source": [
    "cbscores=cross_validate(model_cb,X_train,Y_train,cv=5,scoring=scoring)\n",
    "print(\"Corss-vallidation scores for Cat boost:{}\".format(cbscores))\n",
    "print(\"Mean accuracuy cross-validation score for CatBoost: {:.4f}\".format(cbscores[\"test_acc\"].mean()))\n",
    "print(\"Mean cohen kappa cross-validation score for CatBoost: {:.4f}\".format(xgbscores[\"test_cohen_kappa\"].mean()))"
   ]
  },
  {
   "cell_type": "code",
   "execution_count": 209,
   "metadata": {},
   "outputs": [
    {
     "data": {
      "image/png": "[encoded data removed]",
      "text/plain": [
       "<Figure size 1080x720 with 1 Axes>"
      ]
     },
     "metadata": {
      "needs_background": "light"
     },
     "output_type": "display_data"
    }
   ],
   "source": [
    "data = [aclist,\n",
    "        f1list,\n",
    "        cklist]\n",
    "labels = ['Logistic Regression', 'Gradient Boosting', 'Naive Bayes (Bernoulli)', 'Naive Bayes (Gaussian)', 'Random Forest Regressor'\n",
    "         , 'Random Forest Classifier', 'SVM', 'Neural Networks','Cat Boost']\n",
    "\n",
    "X = np.arange(len(labels))\n",
    "ind = range(2, len(labels))\n",
    "fig = plt.figure()\n",
    "ax = fig.add_axes([0,0,1,1])\n",
    "rects1 = ax.bar(X - 0.25, data[0], color = 'tab:blue', width = 0.25, align=\"center\")\n",
    "rects2 = ax.bar(X + 0.00, data[1], color = 'tab:green', width = 0.25, align=\"center\")\n",
    "rects3 = ax.bar(X + 0.25, data[2], color = 'tab:red', width = 0.25, align=\"center\")\n",
    "ax.legend(labels=[\"Accuracy\",'F1 Score','Cohen Kappa'], fontsize='medium')\n",
    "ax.set_ylabel('Scores')\n",
    "ax.set_xlabel('Models')\n",
    "ax.set_title('Models Performance by Evaluation Measures')\n",
    "\n",
    "# ax.bar_label(rects1, padding=3)\n",
    "# ax.bar_label(rects2, padding=3)\n",
    "# ax.bar_label(rects3, padding=3)\n",
    "\n",
    "ax.set_xticks(X)\n",
    "ax.set_xticklabels(labels,rotation=-45)\n",
    "\n",
    "fig.set_size_inches(15, 10)\n"
   ]
  },
  {
   "cell_type": "code",
   "execution_count": 211,
   "metadata": {},
   "outputs": [],
   "source": [
    "tlist=[1.64,638.82,0.57,0.32,186.19,8.33,1660.7,1031.64,175.55]"
   ]
  },
  {
   "cell_type": "code",
   "execution_count": 231,
   "metadata": {},
   "outputs": [
    {
     "data": {
      "image/png": "[encoded data removed]",
      "text/plain": [
       "<Figure size 1080x720 with 1 Axes>"
      ]
     },
     "metadata": {
      "needs_background": "light"
     },
     "output_type": "display_data"
    }
   ],
   "source": [
    "x1 = tlist[0]\n",
    "y1 = aclist[0]\n",
    "x2 = tlist[1]\n",
    "y2 = aclist[1]\n",
    "x3 = tlist[2]\n",
    "y3 = aclist[2]\n",
    "x4 = tlist[3]\n",
    "y4 = aclist[3]\n",
    "x5 = tlist[4]\n",
    "y5 = aclist[4]\n",
    "x6 = tlist[5]\n",
    "y6 = aclist[5]\n",
    "x7 = tlist[6]\n",
    "y7 = aclist[6]\n",
    "x8 = tlist[7]\n",
    "y8 = aclist[7]\n",
    "x9 = tlist[8]\n",
    "y9 = aclist[8]\n",
    "\n",
    "plt.scatter(x1,y1, label=labels[0],color='r')\n",
    "plt.scatter(x2,y2,label=labels[1],color='b')\n",
    "plt.scatter(x3,y3,label=labels[2],color='g')\n",
    "plt.scatter(x4,y4,label=labels[3],color='c')\n",
    "plt.scatter(x5,y5,label=labels[4],color='m')\n",
    "plt.scatter(x6,y6,label=labels[5],color='y')\n",
    "plt.scatter(x7,y7,label=labels[6],color='k')\n",
    "plt.scatter(x8,y8,label=labels[7],color='purple')\n",
    "plt.scatter(x9,y9,label=labels[8],color='darkred')\n",
    "\n",
    "\n",
    "plt.title('Accuracy - Training Time Comparison')\n",
    "plt.xlabel('Training Time (s)')\n",
    "plt.ylabel('Accuracy')\n",
    "plt.legend()\n",
    "plt.rcParams[\"figure.figsize\"]=(15,10)\n",
    "\n",
    "plt.show()"
   ]
  },
  {
   "cell_type": "code",
   "execution_count": 232,
   "metadata": {},
   "outputs": [],
   "source": [
    "fivefoldaclist=[.8474,.8633,.7625,.6465,.8209,.8471,.8437]\n",
    "fivefoldcklist=[.5083,.5681,.3201,.2449,.3165,.4968,.5681]"
   ]
  },
  {
   "cell_type": "code",
   "execution_count": 235,
   "metadata": {},
   "outputs": [
    {
     "data": {
      "image/png": "[encoded data removed]",
      "text/plain": [
       "<Figure size 1080x720 with 1 Axes>"
      ]
     },
     "metadata": {
      "needs_background": "light"
     },
     "output_type": "display_data"
    }
   ],
   "source": [
    "\n",
    "data = [fivefoldaclist,\n",
    "        fivefoldcklist]\n",
    "labels = ['Logistic Regression', 'Gradient Boosting', 'Naive Bayes (Bernoulli)', 'Naive Bayes (Gaussian)'\n",
    "         ,'Random Forest Classifier', 'SVM','Cat Boost']\n",
    "\n",
    "X = np.arange(len(labels))\n",
    "ind = range(2, len(labels))\n",
    "fig = plt.figure()\n",
    "ax = fig.add_axes([0,0,1,1])\n",
    "rects2 = ax.bar(X + 0.00, data[0], color = 'tab:blue', width = 0.25, align=\"center\")\n",
    "rects3 = ax.bar(X + 0.25, data[1], color = 'tab:red', width = 0.25, align=\"center\")\n",
    "ax.legend(labels=['Accuracy','Cohen Kappa'], fontsize='medium')\n",
    "ax.set_ylabel('Scores')\n",
    "ax.set_xlabel('Models')\n",
    "ax.set_title('5-Fold Cross Validation Accuracy')\n",
    "\n",
    "ax.set_xticks(X)\n",
    "ax.set_xticklabels(labels,rotation=-45)\n",
    "\n",
    "fig.set_size_inches(15, 10)\n"
   ]
  }
 ],
 "metadata": {
  "kernelspec": {
   "display_name": "mykernel",
   "language": "python",
   "name": "mykernel"
  },
  "language_info": {
   "codemirror_mode": {
    "name": "ipython",
    "version": 3
   },
   "file_extension": ".py",
   "mimetype": "text/x-python",
   "name": "python",
   "nbconvert_exporter": "python",
   "pygments_lexer": "ipython3",
   "version": "3.7.3"
  }
 },
 "nbformat": 4,
 "nbformat_minor": 2
}
