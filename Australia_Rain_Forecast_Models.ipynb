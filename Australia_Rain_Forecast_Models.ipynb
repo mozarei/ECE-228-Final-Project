{
 "cells": [
  {
   "cell_type": "code",
   "execution_count": 1,
   "metadata": {},
   "outputs": [],
   "source": [
    "import numpy as np\n",
    "import pandas as pd\n",
    "import seaborn as sns\n",
    "import matplotlib.pyplot as plt\n",
    "from sklearn.model_selection import train_test_split\n",
    "import category_encoders as ce\n",
    "from sklearn.preprocessing import MinMaxScaler\n",
    "from sklearn.linear_model import LogisticRegression\n",
    "from sklearn.metrics import accuracy_score\n",
    "from xgboost import XGBClassifier\n",
    "from sklearn.ensemble import RandomForestRegressor\n",
    "from sklearn.naive_bayes import BernoulliNB\n",
    "from sklearn.naive_bayes import GaussianNB\n",
    "from sklearn.ensemble import RandomForestClassifier\n",
    "from sklearn import preprocessing\n",
    "from sklearn.datasets import make_classification\n",
    "from sklearn import svm\n",
    "from sklearn.metrics import precision_score, recall_score, confusion_matrix,make_scorer, classification_report, accuracy_score, f1_score, cohen_kappa_score\n",
    "from sklearn.model_selection import cross_validate\n",
    "\n",
    "from tensorflow.keras.layers import Dense, BatchNormalization, Dropout, LSTM\n",
    "from tensorflow.keras.models import Sequential\n",
    "from tensorflow.keras.utils import to_categorical\n",
    "from tensorflow.keras import callbacks\n",
    "from tensorflow.keras.optimizers import Adam\n",
    "from mpl_toolkits.basemap import Basemap\n",
    "from datetime import datetime\n",
    "\n",
    "import catboost as cb\n",
    "import missingno as msno\n",
    "from sklearn.model_selection import cross_val_score\n",
    "import time"
   ]
  },
  {
   "cell_type": "code",
   "execution_count": 2,
   "metadata": {},
   "outputs": [],
   "source": [
    "import warnings\n",
    "warnings.filterwarnings(\"ignore\")"
   ]
  },
  {
   "cell_type": "code",
   "execution_count": 3,
   "metadata": {},
   "outputs": [],
   "source": [
    "data = pd.read_csv('C:/Users/hamed/ECE 228/Project/weatherAUS.csv')"
   ]
  },
  {
   "cell_type": "code",
   "execution_count": 4,
   "metadata": {},
   "outputs": [
    {
     "data": {
      "text/plain": [
       "(145460, 23)"
      ]
     },
     "execution_count": 4,
     "metadata": {},
     "output_type": "execute_result"
    }
   ],
   "source": [
    "data.shape"
   ]
  },
  {
   "cell_type": "code",
   "execution_count": 5,
   "metadata": {},
   "outputs": [
    {
     "data": {
      "text/html": [
       "<div>\n",
       "<style scoped>\n",
       "    .dataframe tbody tr th:only-of-type {\n",
       "        vertical-align: middle;\n",
       "    }\n",
       "\n",
       "    .dataframe tbody tr th {\n",
       "        vertical-align: top;\n",
       "    }\n",
       "\n",
       "    .dataframe thead th {\n",
       "        text-align: right;\n",
       "    }\n",
       "</style>\n",
       "<table border=\"1\" class=\"dataframe\">\n",
       "  <thead>\n",
       "    <tr style=\"text-align: right;\">\n",
       "      <th></th>\n",
       "      <th>Date</th>\n",
       "      <th>Location</th>\n",
       "      <th>MinTemp</th>\n",
       "      <th>MaxTemp</th>\n",
       "      <th>Rainfall</th>\n",
       "      <th>Evaporation</th>\n",
       "      <th>Sunshine</th>\n",
       "      <th>WindGustDir</th>\n",
       "      <th>WindGustSpeed</th>\n",
       "      <th>WindDir9am</th>\n",
       "      <th>...</th>\n",
       "      <th>Humidity9am</th>\n",
       "      <th>Humidity3pm</th>\n",
       "      <th>Pressure9am</th>\n",
       "      <th>Pressure3pm</th>\n",
       "      <th>Cloud9am</th>\n",
       "      <th>Cloud3pm</th>\n",
       "      <th>Temp9am</th>\n",
       "      <th>Temp3pm</th>\n",
       "      <th>RainToday</th>\n",
       "      <th>RainTomorrow</th>\n",
       "    </tr>\n",
       "  </thead>\n",
       "  <tbody>\n",
       "    <tr>\n",
       "      <th>0</th>\n",
       "      <td>2008-12-01</td>\n",
       "      <td>Albury</td>\n",
       "      <td>13.4</td>\n",
       "      <td>22.9</td>\n",
       "      <td>0.6</td>\n",
       "      <td>NaN</td>\n",
       "      <td>NaN</td>\n",
       "      <td>W</td>\n",
       "      <td>44.0</td>\n",
       "      <td>W</td>\n",
       "      <td>...</td>\n",
       "      <td>71.0</td>\n",
       "      <td>22.0</td>\n",
       "      <td>1007.7</td>\n",
       "      <td>1007.1</td>\n",
       "      <td>8.0</td>\n",
       "      <td>NaN</td>\n",
       "      <td>16.9</td>\n",
       "      <td>21.8</td>\n",
       "      <td>No</td>\n",
       "      <td>No</td>\n",
       "    </tr>\n",
       "    <tr>\n",
       "      <th>1</th>\n",
       "      <td>2008-12-02</td>\n",
       "      <td>Albury</td>\n",
       "      <td>7.4</td>\n",
       "      <td>25.1</td>\n",
       "      <td>0.0</td>\n",
       "      <td>NaN</td>\n",
       "      <td>NaN</td>\n",
       "      <td>WNW</td>\n",
       "      <td>44.0</td>\n",
       "      <td>NNW</td>\n",
       "      <td>...</td>\n",
       "      <td>44.0</td>\n",
       "      <td>25.0</td>\n",
       "      <td>1010.6</td>\n",
       "      <td>1007.8</td>\n",
       "      <td>NaN</td>\n",
       "      <td>NaN</td>\n",
       "      <td>17.2</td>\n",
       "      <td>24.3</td>\n",
       "      <td>No</td>\n",
       "      <td>No</td>\n",
       "    </tr>\n",
       "    <tr>\n",
       "      <th>2</th>\n",
       "      <td>2008-12-03</td>\n",
       "      <td>Albury</td>\n",
       "      <td>12.9</td>\n",
       "      <td>25.7</td>\n",
       "      <td>0.0</td>\n",
       "      <td>NaN</td>\n",
       "      <td>NaN</td>\n",
       "      <td>WSW</td>\n",
       "      <td>46.0</td>\n",
       "      <td>W</td>\n",
       "      <td>...</td>\n",
       "      <td>38.0</td>\n",
       "      <td>30.0</td>\n",
       "      <td>1007.6</td>\n",
       "      <td>1008.7</td>\n",
       "      <td>NaN</td>\n",
       "      <td>2.0</td>\n",
       "      <td>21.0</td>\n",
       "      <td>23.2</td>\n",
       "      <td>No</td>\n",
       "      <td>No</td>\n",
       "    </tr>\n",
       "    <tr>\n",
       "      <th>3</th>\n",
       "      <td>2008-12-04</td>\n",
       "      <td>Albury</td>\n",
       "      <td>9.2</td>\n",
       "      <td>28.0</td>\n",
       "      <td>0.0</td>\n",
       "      <td>NaN</td>\n",
       "      <td>NaN</td>\n",
       "      <td>NE</td>\n",
       "      <td>24.0</td>\n",
       "      <td>SE</td>\n",
       "      <td>...</td>\n",
       "      <td>45.0</td>\n",
       "      <td>16.0</td>\n",
       "      <td>1017.6</td>\n",
       "      <td>1012.8</td>\n",
       "      <td>NaN</td>\n",
       "      <td>NaN</td>\n",
       "      <td>18.1</td>\n",
       "      <td>26.5</td>\n",
       "      <td>No</td>\n",
       "      <td>No</td>\n",
       "    </tr>\n",
       "    <tr>\n",
       "      <th>4</th>\n",
       "      <td>2008-12-05</td>\n",
       "      <td>Albury</td>\n",
       "      <td>17.5</td>\n",
       "      <td>32.3</td>\n",
       "      <td>1.0</td>\n",
       "      <td>NaN</td>\n",
       "      <td>NaN</td>\n",
       "      <td>W</td>\n",
       "      <td>41.0</td>\n",
       "      <td>ENE</td>\n",
       "      <td>...</td>\n",
       "      <td>82.0</td>\n",
       "      <td>33.0</td>\n",
       "      <td>1010.8</td>\n",
       "      <td>1006.0</td>\n",
       "      <td>7.0</td>\n",
       "      <td>8.0</td>\n",
       "      <td>17.8</td>\n",
       "      <td>29.7</td>\n",
       "      <td>No</td>\n",
       "      <td>No</td>\n",
       "    </tr>\n",
       "  </tbody>\n",
       "</table>\n",
       "<p>5 rows × 23 columns</p>\n",
       "</div>"
      ],
      "text/plain": [
       "         Date Location  MinTemp  MaxTemp  Rainfall  Evaporation  Sunshine  \\\n",
       "0  2008-12-01   Albury     13.4     22.9       0.6          NaN       NaN   \n",
       "1  2008-12-02   Albury      7.4     25.1       0.0          NaN       NaN   \n",
       "2  2008-12-03   Albury     12.9     25.7       0.0          NaN       NaN   \n",
       "3  2008-12-04   Albury      9.2     28.0       0.0          NaN       NaN   \n",
       "4  2008-12-05   Albury     17.5     32.3       1.0          NaN       NaN   \n",
       "\n",
       "  WindGustDir  WindGustSpeed WindDir9am  ... Humidity9am  Humidity3pm  \\\n",
       "0           W           44.0          W  ...        71.0         22.0   \n",
       "1         WNW           44.0        NNW  ...        44.0         25.0   \n",
       "2         WSW           46.0          W  ...        38.0         30.0   \n",
       "3          NE           24.0         SE  ...        45.0         16.0   \n",
       "4           W           41.0        ENE  ...        82.0         33.0   \n",
       "\n",
       "   Pressure9am  Pressure3pm  Cloud9am  Cloud3pm  Temp9am  Temp3pm  RainToday  \\\n",
       "0       1007.7       1007.1       8.0       NaN     16.9     21.8         No   \n",
       "1       1010.6       1007.8       NaN       NaN     17.2     24.3         No   \n",
       "2       1007.6       1008.7       NaN       2.0     21.0     23.2         No   \n",
       "3       1017.6       1012.8       NaN       NaN     18.1     26.5         No   \n",
       "4       1010.8       1006.0       7.0       8.0     17.8     29.7         No   \n",
       "\n",
       "   RainTomorrow  \n",
       "0            No  \n",
       "1            No  \n",
       "2            No  \n",
       "3            No  \n",
       "4            No  \n",
       "\n",
       "[5 rows x 23 columns]"
      ]
     },
     "execution_count": 5,
     "metadata": {},
     "output_type": "execute_result"
    }
   ],
   "source": [
    "data.head()"
   ]
  },
  {
   "cell_type": "code",
   "execution_count": 6,
   "metadata": {},
   "outputs": [
    {
     "data": {
      "text/plain": [
       "Index(['Date', 'Location', 'MinTemp', 'MaxTemp', 'Rainfall', 'Evaporation',\n",
       "       'Sunshine', 'WindGustDir', 'WindGustSpeed', 'WindDir9am', 'WindDir3pm',\n",
       "       'WindSpeed9am', 'WindSpeed3pm', 'Humidity9am', 'Humidity3pm',\n",
       "       'Pressure9am', 'Pressure3pm', 'Cloud9am', 'Cloud3pm', 'Temp9am',\n",
       "       'Temp3pm', 'RainToday', 'RainTomorrow'],\n",
       "      dtype='object')"
      ]
     },
     "execution_count": 6,
     "metadata": {},
     "output_type": "execute_result"
    }
   ],
   "source": [
    "col = data.columns\n",
    "col"
   ]
  },
  {
   "cell_type": "code",
   "execution_count": 7,
   "metadata": {},
   "outputs": [
    {
     "name": "stdout",
     "output_type": "stream",
     "text": [
      "<class 'pandas.core.frame.DataFrame'>\n",
      "RangeIndex: 145460 entries, 0 to 145459\n",
      "Data columns (total 23 columns):\n",
      " #   Column         Non-Null Count   Dtype  \n",
      "---  ------         --------------   -----  \n",
      " 0   Date           145460 non-null  object \n",
      " 1   Location       145460 non-null  object \n",
      " 2   MinTemp        143975 non-null  float64\n",
      " 3   MaxTemp        144199 non-null  float64\n",
      " 4   Rainfall       142199 non-null  float64\n",
      " 5   Evaporation    82670 non-null   float64\n",
      " 6   Sunshine       75625 non-null   float64\n",
      " 7   WindGustDir    135134 non-null  object \n",
      " 8   WindGustSpeed  135197 non-null  float64\n",
      " 9   WindDir9am     134894 non-null  object \n",
      " 10  WindDir3pm     141232 non-null  object \n",
      " 11  WindSpeed9am   143693 non-null  float64\n",
      " 12  WindSpeed3pm   142398 non-null  float64\n",
      " 13  Humidity9am    142806 non-null  float64\n",
      " 14  Humidity3pm    140953 non-null  float64\n",
      " 15  Pressure9am    130395 non-null  float64\n",
      " 16  Pressure3pm    130432 non-null  float64\n",
      " 17  Cloud9am       89572 non-null   float64\n",
      " 18  Cloud3pm       86102 non-null   float64\n",
      " 19  Temp9am        143693 non-null  float64\n",
      " 20  Temp3pm        141851 non-null  float64\n",
      " 21  RainToday      142199 non-null  object \n",
      " 22  RainTomorrow   142193 non-null  object \n",
      "dtypes: float64(16), object(7)\n",
      "memory usage: 25.5+ MB\n"
     ]
    }
   ],
   "source": [
    "data.info()"
   ]
  },
  {
   "cell_type": "code",
   "execution_count": 8,
   "metadata": {},
   "outputs": [
    {
     "name": "stdout",
     "output_type": "stream",
     "text": [
      "There are 7 Categorical Variables:\n",
      "\n",
      "['Date', 'Location', 'WindGustDir', 'WindDir9am', 'WindDir3pm', 'RainToday', 'RainTomorrow']\n"
     ]
    }
   ],
   "source": [
    "cat = [v for v in col if data[v].dtype == 'O']\n",
    "print('There are {} Categorical Variables:\\n'.format(len(cat)))\n",
    "print(cat)"
   ]
  },
  {
   "cell_type": "code",
   "execution_count": 9,
   "metadata": {},
   "outputs": [
    {
     "data": {
      "text/plain": [
       "Date                0\n",
       "Location            0\n",
       "WindGustDir     10326\n",
       "WindDir9am      10566\n",
       "WindDir3pm       4228\n",
       "RainToday        3261\n",
       "RainTomorrow     3267\n",
       "dtype: int64"
      ]
     },
     "execution_count": 9,
     "metadata": {},
     "output_type": "execute_result"
    }
   ],
   "source": [
    "data[cat].isnull().sum()"
   ]
  },
  {
   "cell_type": "code",
   "execution_count": 10,
   "metadata": {},
   "outputs": [
    {
     "name": "stdout",
     "output_type": "stream",
     "text": [
      "Date contains 3436 labesl\n",
      "Location contains 49 labesl\n",
      "WindGustDir contains 17 labesl\n",
      "WindDir9am contains 17 labesl\n",
      "WindDir3pm contains 17 labesl\n",
      "RainToday contains 3 labesl\n",
      "RainTomorrow contains 3 labesl\n"
     ]
    }
   ],
   "source": [
    "for v in cat:\n",
    "    print (v,'contains', len(data[v].unique()),'labesl')"
   ]
  },
  {
   "cell_type": "code",
   "execution_count": 11,
   "metadata": {},
   "outputs": [
    {
     "data": {
      "image/png": "[encoded data removed]",
      "text/plain": [
       "<Figure size 432x288 with 1 Axes>"
      ]
     },
     "metadata": {
      "needs_background": "light"
     },
     "output_type": "display_data"
    }
   ],
   "source": [
    "q = sns.countplot(x = data['RainToday'], palette = 'pastel')\n",
    "q.set(xlabel = 'Rain')\n",
    "q.set(ylabel = 'Count')\n",
    "q.set(title = 'Today Precipitating and Non-Precipitating Days Count')\n",
    "plt.tight_layout()\n",
    "for p in q.patches:\n",
    "    width = p.get_width()\n",
    "    height = p.get_height()\n",
    "    x, y = p.get_xy() \n",
    "    q.annotate(f'{height}', (x + width/2, y + height*1.01), ha='center')"
   ]
  },
  {
   "cell_type": "code",
   "execution_count": 12,
   "metadata": {},
   "outputs": [
    {
     "data": {
      "image/png": "[encoded data removed]",
      "text/plain": [
       "<Figure size 432x288 with 1 Axes>"
      ]
     },
     "metadata": {
      "needs_background": "light"
     },
     "output_type": "display_data"
    }
   ],
   "source": [
    "q = sns.countplot(x = data['RainTomorrow'], palette = 'pastel')\n",
    "q.set(xlabel = 'Rain')\n",
    "q.set(ylabel = 'Count')\n",
    "q.set(title = 'Tommorow Precipitating and Non-Precipitating Days Count')\n",
    "plt.tight_layout()\n",
    "for p in q.patches:\n",
    "    width = p.get_width()\n",
    "    height = p.get_height()\n",
    "    x, y = p.get_xy() \n",
    "    q.annotate(f'{height}', (x + width/2, y + height*1.01), ha='center')"
   ]
  },
  {
   "cell_type": "code",
   "execution_count": 13,
   "metadata": {},
   "outputs": [
    {
     "data": {
      "text/plain": [
       "dtype('O')"
      ]
     },
     "execution_count": 13,
     "metadata": {},
     "output_type": "execute_result"
    }
   ],
   "source": [
    "data['Date'].dtypes"
   ]
  },
  {
   "cell_type": "code",
   "execution_count": 14,
   "metadata": {},
   "outputs": [],
   "source": [
    "data['Date'] = pd.to_datetime(data['Date'])"
   ]
  },
  {
   "cell_type": "code",
   "execution_count": 15,
   "metadata": {},
   "outputs": [],
   "source": [
    "data['Year'] = data['Date'].dt.year\n",
    "data['Month'] = data['Date'].dt.month\n",
    "data['Day'] = data['Date'].dt.day"
   ]
  },
  {
   "cell_type": "code",
   "execution_count": 16,
   "metadata": {},
   "outputs": [],
   "source": [
    "data.drop('Date', axis=1, inplace = True)"
   ]
  },
  {
   "cell_type": "code",
   "execution_count": 17,
   "metadata": {},
   "outputs": [
    {
     "name": "stdout",
     "output_type": "stream",
     "text": [
      "There are 6 Categorical Variables:\n",
      "\n",
      "['Location', 'WindGustDir', 'WindDir9am', 'WindDir3pm', 'RainToday', 'RainTomorrow']\n"
     ]
    }
   ],
   "source": [
    "cat = [v for v in data.columns if data[v].dtype == 'O']\n",
    "print('There are {} Categorical Variables:\\n'.format(len(cat)))\n",
    "print(cat)"
   ]
  },
  {
   "cell_type": "code",
   "execution_count": 18,
   "metadata": {},
   "outputs": [
    {
     "data": {
      "text/plain": [
       "Location            0\n",
       "WindGustDir     10326\n",
       "WindDir9am      10566\n",
       "WindDir3pm       4228\n",
       "RainToday        3261\n",
       "RainTomorrow     3267\n",
       "dtype: int64"
      ]
     },
     "execution_count": 18,
     "metadata": {},
     "output_type": "execute_result"
    }
   ],
   "source": [
    "data[cat].isnull().sum()"
   ]
  },
  {
   "cell_type": "code",
   "execution_count": 19,
   "metadata": {},
   "outputs": [],
   "source": [
    "data = data[data['RainTomorrow'].notnull()]"
   ]
  },
  {
   "cell_type": "code",
   "execution_count": 20,
   "metadata": {},
   "outputs": [
    {
     "data": {
      "text/plain": [
       "Location            0\n",
       "WindGustDir      9330\n",
       "WindDir9am      10013\n",
       "WindDir3pm       3778\n",
       "RainToday        1406\n",
       "RainTomorrow        0\n",
       "dtype: int64"
      ]
     },
     "execution_count": 20,
     "metadata": {},
     "output_type": "execute_result"
    }
   ],
   "source": [
    "data[cat].isnull().sum()"
   ]
  },
  {
   "cell_type": "code",
   "execution_count": 21,
   "metadata": {},
   "outputs": [
    {
     "name": "stdout",
     "output_type": "stream",
     "text": [
      "['MinTemp', 'MaxTemp', 'Rainfall', 'Evaporation', 'Sunshine', 'WindGustSpeed', 'WindSpeed9am', 'WindSpeed3pm', 'Humidity9am', 'Humidity3pm', 'Pressure9am', 'Pressure3pm', 'Cloud9am', 'Cloud3pm', 'Temp9am', 'Temp3pm', 'Year', 'Month', 'Day']\n"
     ]
    }
   ],
   "source": [
    "num =[v for v in data.columns if data[v].dtype !='O']\n",
    "print(num)"
   ]
  },
  {
   "cell_type": "code",
   "execution_count": 22,
   "metadata": {},
   "outputs": [
    {
     "data": {
      "text/plain": [
       "MinTemp            637\n",
       "MaxTemp            322\n",
       "Rainfall          1406\n",
       "Evaporation      60843\n",
       "Sunshine         67816\n",
       "WindGustSpeed     9270\n",
       "WindSpeed9am      1348\n",
       "WindSpeed3pm      2630\n",
       "Humidity9am       1774\n",
       "Humidity3pm       3610\n",
       "Pressure9am      14014\n",
       "Pressure3pm      13981\n",
       "Cloud9am         53657\n",
       "Cloud3pm         57094\n",
       "Temp9am            904\n",
       "Temp3pm           2726\n",
       "Year                 0\n",
       "Month                0\n",
       "Day                  0\n",
       "dtype: int64"
      ]
     },
     "execution_count": 22,
     "metadata": {},
     "output_type": "execute_result"
    }
   ],
   "source": [
    "data[num].isnull().sum()"
   ]
  },
  {
   "cell_type": "code",
   "execution_count": 23,
   "metadata": {},
   "outputs": [
    {
     "name": "stdout",
     "output_type": "stream",
     "text": [
      "        MinTemp   MaxTemp  Rainfall  Evaporation  Sunshine  WindGustSpeed  \\\n",
      "count  141556.0  141871.0  140787.0      81350.0   74377.0       132923.0   \n",
      "mean       12.0      23.0       2.0          5.0       8.0           40.0   \n",
      "std         6.0       7.0       8.0          4.0       4.0           14.0   \n",
      "min        -8.0      -5.0       0.0          0.0       0.0            6.0   \n",
      "25%         8.0      18.0       0.0          3.0       5.0           31.0   \n",
      "50%        12.0      23.0       0.0          5.0       8.0           39.0   \n",
      "75%        17.0      28.0       1.0          7.0      11.0           48.0   \n",
      "max        34.0      48.0     371.0        145.0      14.0          135.0   \n",
      "\n",
      "       WindSpeed9am  WindSpeed3pm  Humidity9am  Humidity3pm  Pressure9am  \\\n",
      "count      140845.0      139563.0     140419.0     138583.0     128179.0   \n",
      "mean           14.0          19.0         69.0         51.0       1018.0   \n",
      "std             9.0           9.0         19.0         21.0          7.0   \n",
      "min             0.0           0.0          0.0          0.0        980.0   \n",
      "25%             7.0          13.0         57.0         37.0       1013.0   \n",
      "50%            13.0          19.0         70.0         52.0       1018.0   \n",
      "75%            19.0          24.0         83.0         66.0       1022.0   \n",
      "max           130.0          87.0        100.0        100.0       1041.0   \n",
      "\n",
      "       Pressure3pm  Cloud9am  Cloud3pm   Temp9am   Temp3pm      Year  \\\n",
      "count     128212.0   88536.0   85099.0  141289.0  139467.0  142193.0   \n",
      "mean        1015.0       4.0       5.0      17.0      22.0    2013.0   \n",
      "std            7.0       3.0       3.0       6.0       7.0       3.0   \n",
      "min          977.0       0.0       0.0      -7.0      -5.0    2007.0   \n",
      "25%         1010.0       1.0       2.0      12.0      17.0    2011.0   \n",
      "50%         1015.0       5.0       5.0      17.0      21.0    2013.0   \n",
      "75%         1020.0       7.0       7.0      22.0      26.0    2015.0   \n",
      "max         1040.0       9.0       9.0      40.0      47.0    2017.0   \n",
      "\n",
      "          Month       Day  \n",
      "count  142193.0  142193.0  \n",
      "mean        6.0      16.0  \n",
      "std         3.0       9.0  \n",
      "min         1.0       1.0  \n",
      "25%         3.0       8.0  \n",
      "50%         6.0      16.0  \n",
      "75%         9.0      23.0  \n",
      "max        12.0      31.0   2\n"
     ]
    }
   ],
   "source": [
    "print(round(data[num].describe()),2) #Inspect for outliers"
   ]
  },
  {
   "cell_type": "code",
   "execution_count": 24,
   "metadata": {},
   "outputs": [
    {
     "data": {
      "text/plain": [
       "Text(0, 0.5, 'WindSpeed3pm')"
      ]
     },
     "execution_count": 24,
     "metadata": {},
     "output_type": "execute_result"
    },
    {
     "data": {
      "image/png": "[encoded data removed]",
      "text/plain": [
       "<Figure size 1080x720 with 4 Axes>"
      ]
     },
     "metadata": {
      "needs_background": "light"
     },
     "output_type": "display_data"
    }
   ],
   "source": [
    "plt.figure(figsize=(15,10))\n",
    "plt.subplot(2,2,1)\n",
    "fig=data.boxplot(column='Rainfall')\n",
    "fig.set_title('')\n",
    "fig.set_ylabel('Rainfall')\n",
    "\n",
    "plt.subplot(2, 2, 2)\n",
    "fig = data.boxplot(column='Evaporation')\n",
    "fig.set_title('')\n",
    "fig.set_ylabel('Evaporation')\n",
    "\n",
    "\n",
    "plt.subplot(2, 2, 3)\n",
    "fig = data.boxplot(column='WindSpeed9am')\n",
    "fig.set_title('')\n",
    "fig.set_ylabel('WindSpeed9am')\n",
    "\n",
    "\n",
    "plt.subplot(2, 2, 4)\n",
    "fig = data.boxplot(column='WindSpeed3pm')\n",
    "fig.set_title('')\n",
    "fig.set_ylabel('WindSpeed3pm')"
   ]
  },
  {
   "cell_type": "code",
   "execution_count": 25,
   "metadata": {},
   "outputs": [
    {
     "data": {
      "text/plain": [
       "Text(0, 0.5, 'Count')"
      ]
     },
     "execution_count": 25,
     "metadata": {},
     "output_type": "execute_result"
    },
    {
     "data": {
      "image/png": "[encoded data removed]",
      "text/plain": [
       "<Figure size 1080x720 with 4 Axes>"
      ]
     },
     "metadata": {
      "needs_background": "light"
     },
     "output_type": "display_data"
    }
   ],
   "source": [
    "\n",
    "plt.figure(figsize=(15,10))\n",
    "\n",
    "\n",
    "plt.subplot(2, 2, 1)\n",
    "fig = data.Rainfall.hist(bins=10)\n",
    "fig.set_xlabel('Rainfall')\n",
    "fig.set_ylabel('Count')\n",
    "\n",
    "\n",
    "plt.subplot(2, 2, 2)\n",
    "fig = data.Evaporation.hist(bins=10)\n",
    "fig.set_xlabel('Evaporation')\n",
    "fig.set_ylabel('Count')\n",
    "\n",
    "\n",
    "plt.subplot(2, 2, 3)\n",
    "fig = data.WindSpeed9am.hist(bins=10)\n",
    "fig.set_xlabel('WindSpeed9am')\n",
    "fig.set_ylabel('Count')\n",
    "\n",
    "\n",
    "plt.subplot(2, 2, 4)\n",
    "fig = data.WindSpeed3pm.hist(bins=10)\n",
    "fig.set_xlabel('WindSpeed3pm')\n",
    "fig.set_ylabel('Count')"
   ]
  },
  {
   "cell_type": "code",
   "execution_count": 26,
   "metadata": {},
   "outputs": [
    {
     "name": "stdout",
     "output_type": "stream",
     "text": [
      "Rainfall outliers are values < -2.4000000000000004 or > 3.2\n"
     ]
    }
   ],
   "source": [
    "#Use interquantile range to find outliers\n",
    "IQR = data.Rainfall.quantile(0.75) - data.Rainfall.quantile(0.25)\n",
    "Lower_fence = data.Rainfall.quantile(0.25) - (IQR * 3)\n",
    "Upper_fence = data.Rainfall.quantile(0.75) + (IQR * 3)\n",
    "print('Rainfall outliers are values < {lowerboundary} or > {upperboundary}'.format(lowerboundary=Lower_fence, upperboundary=Upper_fence))"
   ]
  },
  {
   "cell_type": "code",
   "execution_count": 27,
   "metadata": {},
   "outputs": [
    {
     "name": "stdout",
     "output_type": "stream",
     "text": [
      "Evaporation outliers are values < -11.800000000000002 or > 21.800000000000004\n"
     ]
    }
   ],
   "source": [
    "IQR = data.Evaporation.quantile(0.75) - data.Evaporation.quantile(0.25)\n",
    "Lower_fence = data.Evaporation.quantile(0.25) - (IQR * 3)\n",
    "Upper_fence = data.Evaporation.quantile(0.75) + (IQR * 3)\n",
    "print('Evaporation outliers are values < {lowerboundary} or > {upperboundary}'.format(lowerboundary=Lower_fence, upperboundary=Upper_fence))"
   ]
  },
  {
   "cell_type": "code",
   "execution_count": 28,
   "metadata": {},
   "outputs": [
    {
     "name": "stdout",
     "output_type": "stream",
     "text": [
      "WindSpeed9am outliers are values < -29.0 or > 55.0\n"
     ]
    }
   ],
   "source": [
    "IQR = data.WindSpeed9am.quantile(0.75) - data.WindSpeed9am.quantile(0.25)\n",
    "Lower_fence = data.WindSpeed9am.quantile(0.25) - (IQR * 3)\n",
    "Upper_fence = data.WindSpeed9am.quantile(0.75) + (IQR * 3)\n",
    "print('WindSpeed9am outliers are values < {lowerboundary} or > {upperboundary}'.format(lowerboundary=Lower_fence, upperboundary=Upper_fence))"
   ]
  },
  {
   "cell_type": "code",
   "execution_count": 29,
   "metadata": {},
   "outputs": [
    {
     "name": "stdout",
     "output_type": "stream",
     "text": [
      "WindSpeed3pm outliers are values < -20.0 or > 57.0\n"
     ]
    }
   ],
   "source": [
    "# find outliers for WindSpeed3pm variable\n",
    "\n",
    "IQR = data.WindSpeed3pm.quantile(0.75) - data.WindSpeed3pm.quantile(0.25)\n",
    "Lower_fence = data.WindSpeed3pm.quantile(0.25) - (IQR * 3)\n",
    "Upper_fence = data.WindSpeed3pm.quantile(0.75) + (IQR * 3)\n",
    "print('WindSpeed3pm outliers are values < {lowerboundary} or > {upperboundary}'.format(lowerboundary=Lower_fence, upperboundary=Upper_fence))"
   ]
  },
  {
   "cell_type": "code",
   "execution_count": 30,
   "metadata": {},
   "outputs": [],
   "source": [
    "# Create features vector and target variable\n",
    "X= data.drop(['RainTomorrow'], axis=1)\n",
    "Y=data['RainTomorrow']"
   ]
  },
  {
   "cell_type": "code",
   "execution_count": 31,
   "metadata": {},
   "outputs": [],
   "source": [
    "# Split the dataset into Trainig and test\n",
    "X_train, X_test, Y_train, Y_test = train_test_split(X, Y, test_size=0.2, random_state=0)"
   ]
  },
  {
   "cell_type": "code",
   "execution_count": 32,
   "metadata": {},
   "outputs": [
    {
     "data": {
      "text/plain": [
       "((113754, 24), (28439, 24))"
      ]
     },
     "execution_count": 32,
     "metadata": {},
     "output_type": "execute_result"
    }
   ],
   "source": [
    "X_train.shape, X_test.shape"
   ]
  },
  {
   "cell_type": "code",
   "execution_count": 33,
   "metadata": {},
   "outputs": [],
   "source": [
    "cat = [v for v in X_train.columns if X_train[v].dtypes == 'O']\n",
    "num = [v for v in X_train.columns if X_train[v].dtypes != 'O']\n"
   ]
  },
  {
   "cell_type": "code",
   "execution_count": 34,
   "metadata": {},
   "outputs": [
    {
     "data": {
      "text/plain": [
       "MinTemp            495\n",
       "MaxTemp            264\n",
       "Rainfall          1139\n",
       "Evaporation      48718\n",
       "Sunshine         54314\n",
       "WindGustSpeed     7367\n",
       "WindSpeed9am      1086\n",
       "WindSpeed3pm      2094\n",
       "Humidity9am       1449\n",
       "Humidity3pm       2890\n",
       "Pressure9am      11212\n",
       "Pressure3pm      11186\n",
       "Cloud9am         43137\n",
       "Cloud3pm         45768\n",
       "Temp9am            740\n",
       "Temp3pm           2171\n",
       "Year                 0\n",
       "Month                0\n",
       "Day                  0\n",
       "dtype: int64"
      ]
     },
     "execution_count": 34,
     "metadata": {},
     "output_type": "execute_result"
    }
   ],
   "source": [
    "X_train[num].isnull().sum()"
   ]
  },
  {
   "cell_type": "code",
   "execution_count": 35,
   "metadata": {},
   "outputs": [
    {
     "data": {
      "text/plain": [
       "MinTemp            142\n",
       "MaxTemp             58\n",
       "Rainfall           267\n",
       "Evaporation      12125\n",
       "Sunshine         13502\n",
       "WindGustSpeed     1903\n",
       "WindSpeed9am       262\n",
       "WindSpeed3pm       536\n",
       "Humidity9am        325\n",
       "Humidity3pm        720\n",
       "Pressure9am       2802\n",
       "Pressure3pm       2795\n",
       "Cloud9am         10520\n",
       "Cloud3pm         11326\n",
       "Temp9am            164\n",
       "Temp3pm            555\n",
       "Year                 0\n",
       "Month                0\n",
       "Day                  0\n",
       "dtype: int64"
      ]
     },
     "execution_count": 35,
     "metadata": {},
     "output_type": "execute_result"
    }
   ],
   "source": [
    "X_test[num].isnull().sum()"
   ]
  },
  {
   "cell_type": "code",
   "execution_count": 36,
   "metadata": {},
   "outputs": [
    {
     "name": "stdout",
     "output_type": "stream",
     "text": [
      "MinTemp 0.0044\n",
      "MaxTemp 0.0023\n",
      "Rainfall 0.01\n",
      "Evaporation 0.4283\n",
      "Sunshine 0.4775\n",
      "WindGustSpeed 0.0648\n",
      "WindSpeed9am 0.0095\n",
      "WindSpeed3pm 0.0184\n",
      "Humidity9am 0.0127\n",
      "Humidity3pm 0.0254\n",
      "Pressure9am 0.0986\n",
      "Pressure3pm 0.0983\n",
      "Cloud9am 0.3792\n",
      "Cloud3pm 0.4023\n",
      "Temp9am 0.0065\n",
      "Temp3pm 0.0191\n"
     ]
    }
   ],
   "source": [
    "for col in num:\n",
    "    if X_train[col].isnull().mean()>0:\n",
    "        print(col, round(X_train[col].isnull().mean(),4))"
   ]
  },
  {
   "cell_type": "code",
   "execution_count": 37,
   "metadata": {},
   "outputs": [],
   "source": [
    "# impute missing values in X_train and X_test with respective column median in X_train\n",
    "for set in [X_train, X_test]:\n",
    "    for col in num:\n",
    "        col_median=X_train[col].median()\n",
    "        set[col].fillna(col_median, inplace=True)  "
   ]
  },
  {
   "cell_type": "code",
   "execution_count": 38,
   "metadata": {},
   "outputs": [
    {
     "data": {
      "text/plain": [
       "MinTemp          0\n",
       "MaxTemp          0\n",
       "Rainfall         0\n",
       "Evaporation      0\n",
       "Sunshine         0\n",
       "WindGustSpeed    0\n",
       "WindSpeed9am     0\n",
       "WindSpeed3pm     0\n",
       "Humidity9am      0\n",
       "Humidity3pm      0\n",
       "Pressure9am      0\n",
       "Pressure3pm      0\n",
       "Cloud9am         0\n",
       "Cloud3pm         0\n",
       "Temp9am          0\n",
       "Temp3pm          0\n",
       "Year             0\n",
       "Month            0\n",
       "Day              0\n",
       "dtype: int64"
      ]
     },
     "execution_count": 38,
     "metadata": {},
     "output_type": "execute_result"
    }
   ],
   "source": [
    "X_train[num].isnull().sum()\n"
   ]
  },
  {
   "cell_type": "code",
   "execution_count": 39,
   "metadata": {},
   "outputs": [
    {
     "data": {
      "text/plain": [
       "MinTemp          0\n",
       "MaxTemp          0\n",
       "Rainfall         0\n",
       "Evaporation      0\n",
       "Sunshine         0\n",
       "WindGustSpeed    0\n",
       "WindSpeed9am     0\n",
       "WindSpeed3pm     0\n",
       "Humidity9am      0\n",
       "Humidity3pm      0\n",
       "Pressure9am      0\n",
       "Pressure3pm      0\n",
       "Cloud9am         0\n",
       "Cloud3pm         0\n",
       "Temp9am          0\n",
       "Temp3pm          0\n",
       "Year             0\n",
       "Month            0\n",
       "Day              0\n",
       "dtype: int64"
      ]
     },
     "execution_count": 39,
     "metadata": {},
     "output_type": "execute_result"
    }
   ],
   "source": [
    "X_test[num].isnull().sum()\n"
   ]
  },
  {
   "cell_type": "code",
   "execution_count": 40,
   "metadata": {},
   "outputs": [
    {
     "data": {
      "text/plain": [
       "Location       0.000000\n",
       "WindGustDir    0.065114\n",
       "WindDir9am     0.070134\n",
       "WindDir3pm     0.026443\n",
       "RainToday      0.010013\n",
       "dtype: float64"
      ]
     },
     "execution_count": 40,
     "metadata": {},
     "output_type": "execute_result"
    }
   ],
   "source": [
    "X_train[cat].isnull().mean()\n"
   ]
  },
  {
   "cell_type": "code",
   "execution_count": 41,
   "metadata": {},
   "outputs": [
    {
     "name": "stdout",
     "output_type": "stream",
     "text": [
      "WindGustDir 0.06511419378659213\n",
      "WindDir9am 0.07013379749283542\n",
      "WindDir3pm 0.026443026179299188\n",
      "RainToday 0.01001283471350458\n"
     ]
    }
   ],
   "source": [
    "for col in cat:\n",
    "    if X_train[col].isnull().mean()>0:\n",
    "        print(col, (X_train[col].isnull().mean()))"
   ]
  },
  {
   "cell_type": "code",
   "execution_count": 42,
   "metadata": {},
   "outputs": [],
   "source": [
    "# Impute missing categorical variables with most frequent value\n",
    "\n",
    "for set in [X_train, X_test]:\n",
    "    set['WindGustDir'].fillna(X_train['WindGustDir'].mode()[0], inplace=True)\n",
    "    set['WindDir9am'].fillna(X_train['WindDir9am'].mode()[0], inplace=True)\n",
    "    set['WindDir3pm'].fillna(X_train['WindDir3pm'].mode()[0], inplace=True)\n",
    "    set['RainToday'].fillna(X_train['RainToday'].mode()[0], inplace=True)"
   ]
  },
  {
   "cell_type": "code",
   "execution_count": 43,
   "metadata": {},
   "outputs": [
    {
     "data": {
      "text/plain": [
       "Location         0\n",
       "MinTemp          0\n",
       "MaxTemp          0\n",
       "Rainfall         0\n",
       "Evaporation      0\n",
       "Sunshine         0\n",
       "WindGustDir      0\n",
       "WindGustSpeed    0\n",
       "WindDir9am       0\n",
       "WindDir3pm       0\n",
       "WindSpeed9am     0\n",
       "WindSpeed3pm     0\n",
       "Humidity9am      0\n",
       "Humidity3pm      0\n",
       "Pressure9am      0\n",
       "Pressure3pm      0\n",
       "Cloud9am         0\n",
       "Cloud3pm         0\n",
       "Temp9am          0\n",
       "Temp3pm          0\n",
       "RainToday        0\n",
       "Year             0\n",
       "Month            0\n",
       "Day              0\n",
       "dtype: int64"
      ]
     },
     "execution_count": 43,
     "metadata": {},
     "output_type": "execute_result"
    }
   ],
   "source": [
    "X_test.isnull().sum()"
   ]
  },
  {
   "cell_type": "code",
   "execution_count": 44,
   "metadata": {},
   "outputs": [],
   "source": [
    "# Replacing Outliers with Values found from IQR\n",
    "def max_val(tset, var, maximum):\n",
    "    return np.where(tset[var]>maximum, maximum, tset[var])\n",
    "\n",
    "for tset in [X_train, X_test]:\n",
    "    tset['Rainfall'] = max_val(tset, 'Rainfall', 3.2)\n",
    "    tset['Evaporation'] = max_val(tset, 'Evaporation', 21.8)\n",
    "    tset['WindSpeed9am'] = max_val(tset, 'WindSpeed9am', 55)\n",
    "    tset['WindSpeed3pm'] = max_val(tset, 'WindSpeed3pm', 57)"
   ]
  },
  {
   "cell_type": "code",
   "execution_count": 45,
   "metadata": {},
   "outputs": [
    {
     "data": {
      "text/plain": [
       "['Location', 'WindGustDir', 'WindDir9am', 'WindDir3pm', 'RainToday']"
      ]
     },
     "execution_count": 45,
     "metadata": {},
     "output_type": "execute_result"
    }
   ],
   "source": [
    "cat"
   ]
  },
  {
   "cell_type": "code",
   "execution_count": 46,
   "metadata": {},
   "outputs": [
    {
     "data": {
      "text/html": [
       "<div>\n",
       "<style scoped>\n",
       "    .dataframe tbody tr th:only-of-type {\n",
       "        vertical-align: middle;\n",
       "    }\n",
       "\n",
       "    .dataframe tbody tr th {\n",
       "        vertical-align: top;\n",
       "    }\n",
       "\n",
       "    .dataframe thead th {\n",
       "        text-align: right;\n",
       "    }\n",
       "</style>\n",
       "<table border=\"1\" class=\"dataframe\">\n",
       "  <thead>\n",
       "    <tr style=\"text-align: right;\">\n",
       "      <th></th>\n",
       "      <th>MinTemp</th>\n",
       "      <th>MaxTemp</th>\n",
       "      <th>Rainfall</th>\n",
       "      <th>Evaporation</th>\n",
       "      <th>Sunshine</th>\n",
       "      <th>WindGustSpeed</th>\n",
       "      <th>WindSpeed9am</th>\n",
       "      <th>WindSpeed3pm</th>\n",
       "      <th>Humidity9am</th>\n",
       "      <th>Humidity3pm</th>\n",
       "      <th>Pressure9am</th>\n",
       "      <th>Pressure3pm</th>\n",
       "      <th>Cloud9am</th>\n",
       "      <th>Cloud3pm</th>\n",
       "      <th>Temp9am</th>\n",
       "      <th>Temp3pm</th>\n",
       "      <th>Year</th>\n",
       "      <th>Month</th>\n",
       "      <th>Day</th>\n",
       "    </tr>\n",
       "  </thead>\n",
       "  <tbody>\n",
       "    <tr>\n",
       "      <th>count</th>\n",
       "      <td>113754.000000</td>\n",
       "      <td>113754.000000</td>\n",
       "      <td>113754.000000</td>\n",
       "      <td>113754.000000</td>\n",
       "      <td>113754.000000</td>\n",
       "      <td>113754.000000</td>\n",
       "      <td>113754.000000</td>\n",
       "      <td>113754.000000</td>\n",
       "      <td>113754.000000</td>\n",
       "      <td>113754.000000</td>\n",
       "      <td>113754.000000</td>\n",
       "      <td>113754.000000</td>\n",
       "      <td>113754.000000</td>\n",
       "      <td>113754.000000</td>\n",
       "      <td>113754.000000</td>\n",
       "      <td>113754.000000</td>\n",
       "      <td>113754.000000</td>\n",
       "      <td>113754.000000</td>\n",
       "      <td>113754.000000</td>\n",
       "    </tr>\n",
       "    <tr>\n",
       "      <th>mean</th>\n",
       "      <td>12.193497</td>\n",
       "      <td>23.237216</td>\n",
       "      <td>0.675080</td>\n",
       "      <td>5.151606</td>\n",
       "      <td>8.041154</td>\n",
       "      <td>39.884074</td>\n",
       "      <td>13.978155</td>\n",
       "      <td>18.614756</td>\n",
       "      <td>68.867486</td>\n",
       "      <td>51.509547</td>\n",
       "      <td>1017.640649</td>\n",
       "      <td>1015.241101</td>\n",
       "      <td>4.651801</td>\n",
       "      <td>4.703588</td>\n",
       "      <td>16.995062</td>\n",
       "      <td>21.688643</td>\n",
       "      <td>2012.759727</td>\n",
       "      <td>6.404021</td>\n",
       "      <td>15.710419</td>\n",
       "    </tr>\n",
       "    <tr>\n",
       "      <th>std</th>\n",
       "      <td>6.388279</td>\n",
       "      <td>7.094149</td>\n",
       "      <td>1.183837</td>\n",
       "      <td>2.823707</td>\n",
       "      <td>2.769480</td>\n",
       "      <td>13.116959</td>\n",
       "      <td>8.806558</td>\n",
       "      <td>8.685862</td>\n",
       "      <td>18.935587</td>\n",
       "      <td>20.530723</td>\n",
       "      <td>6.738680</td>\n",
       "      <td>6.675168</td>\n",
       "      <td>2.292726</td>\n",
       "      <td>2.117847</td>\n",
       "      <td>6.463772</td>\n",
       "      <td>6.855649</td>\n",
       "      <td>2.540419</td>\n",
       "      <td>3.427798</td>\n",
       "      <td>8.796821</td>\n",
       "    </tr>\n",
       "    <tr>\n",
       "      <th>min</th>\n",
       "      <td>-8.200000</td>\n",
       "      <td>-4.800000</td>\n",
       "      <td>0.000000</td>\n",
       "      <td>0.000000</td>\n",
       "      <td>0.000000</td>\n",
       "      <td>6.000000</td>\n",
       "      <td>0.000000</td>\n",
       "      <td>0.000000</td>\n",
       "      <td>0.000000</td>\n",
       "      <td>0.000000</td>\n",
       "      <td>980.500000</td>\n",
       "      <td>977.100000</td>\n",
       "      <td>0.000000</td>\n",
       "      <td>0.000000</td>\n",
       "      <td>-7.200000</td>\n",
       "      <td>-5.400000</td>\n",
       "      <td>2007.000000</td>\n",
       "      <td>1.000000</td>\n",
       "      <td>1.000000</td>\n",
       "    </tr>\n",
       "    <tr>\n",
       "      <th>25%</th>\n",
       "      <td>7.600000</td>\n",
       "      <td>18.000000</td>\n",
       "      <td>0.000000</td>\n",
       "      <td>4.000000</td>\n",
       "      <td>8.200000</td>\n",
       "      <td>31.000000</td>\n",
       "      <td>7.000000</td>\n",
       "      <td>13.000000</td>\n",
       "      <td>57.000000</td>\n",
       "      <td>37.000000</td>\n",
       "      <td>1013.500000</td>\n",
       "      <td>1011.000000</td>\n",
       "      <td>3.000000</td>\n",
       "      <td>4.000000</td>\n",
       "      <td>12.300000</td>\n",
       "      <td>16.700000</td>\n",
       "      <td>2011.000000</td>\n",
       "      <td>3.000000</td>\n",
       "      <td>8.000000</td>\n",
       "    </tr>\n",
       "    <tr>\n",
       "      <th>50%</th>\n",
       "      <td>12.000000</td>\n",
       "      <td>22.600000</td>\n",
       "      <td>0.000000</td>\n",
       "      <td>4.800000</td>\n",
       "      <td>8.500000</td>\n",
       "      <td>39.000000</td>\n",
       "      <td>13.000000</td>\n",
       "      <td>19.000000</td>\n",
       "      <td>70.000000</td>\n",
       "      <td>52.000000</td>\n",
       "      <td>1017.600000</td>\n",
       "      <td>1015.200000</td>\n",
       "      <td>5.000000</td>\n",
       "      <td>5.000000</td>\n",
       "      <td>16.700000</td>\n",
       "      <td>21.100000</td>\n",
       "      <td>2013.000000</td>\n",
       "      <td>6.000000</td>\n",
       "      <td>16.000000</td>\n",
       "    </tr>\n",
       "    <tr>\n",
       "      <th>75%</th>\n",
       "      <td>16.800000</td>\n",
       "      <td>28.200000</td>\n",
       "      <td>0.600000</td>\n",
       "      <td>5.400000</td>\n",
       "      <td>8.700000</td>\n",
       "      <td>46.000000</td>\n",
       "      <td>19.000000</td>\n",
       "      <td>24.000000</td>\n",
       "      <td>83.000000</td>\n",
       "      <td>65.000000</td>\n",
       "      <td>1021.800000</td>\n",
       "      <td>1019.400000</td>\n",
       "      <td>6.000000</td>\n",
       "      <td>6.000000</td>\n",
       "      <td>21.500000</td>\n",
       "      <td>26.300000</td>\n",
       "      <td>2015.000000</td>\n",
       "      <td>9.000000</td>\n",
       "      <td>23.000000</td>\n",
       "    </tr>\n",
       "    <tr>\n",
       "      <th>max</th>\n",
       "      <td>33.900000</td>\n",
       "      <td>48.100000</td>\n",
       "      <td>3.200000</td>\n",
       "      <td>21.800000</td>\n",
       "      <td>14.500000</td>\n",
       "      <td>135.000000</td>\n",
       "      <td>55.000000</td>\n",
       "      <td>57.000000</td>\n",
       "      <td>100.000000</td>\n",
       "      <td>100.000000</td>\n",
       "      <td>1041.000000</td>\n",
       "      <td>1039.600000</td>\n",
       "      <td>9.000000</td>\n",
       "      <td>8.000000</td>\n",
       "      <td>40.200000</td>\n",
       "      <td>46.700000</td>\n",
       "      <td>2017.000000</td>\n",
       "      <td>12.000000</td>\n",
       "      <td>31.000000</td>\n",
       "    </tr>\n",
       "  </tbody>\n",
       "</table>\n",
       "</div>"
      ],
      "text/plain": [
       "             MinTemp        MaxTemp       Rainfall    Evaporation  \\\n",
       "count  113754.000000  113754.000000  113754.000000  113754.000000   \n",
       "mean       12.193497      23.237216       0.675080       5.151606   \n",
       "std         6.388279       7.094149       1.183837       2.823707   \n",
       "min        -8.200000      -4.800000       0.000000       0.000000   \n",
       "25%         7.600000      18.000000       0.000000       4.000000   \n",
       "50%        12.000000      22.600000       0.000000       4.800000   \n",
       "75%        16.800000      28.200000       0.600000       5.400000   \n",
       "max        33.900000      48.100000       3.200000      21.800000   \n",
       "\n",
       "            Sunshine  WindGustSpeed   WindSpeed9am   WindSpeed3pm  \\\n",
       "count  113754.000000  113754.000000  113754.000000  113754.000000   \n",
       "mean        8.041154      39.884074      13.978155      18.614756   \n",
       "std         2.769480      13.116959       8.806558       8.685862   \n",
       "min         0.000000       6.000000       0.000000       0.000000   \n",
       "25%         8.200000      31.000000       7.000000      13.000000   \n",
       "50%         8.500000      39.000000      13.000000      19.000000   \n",
       "75%         8.700000      46.000000      19.000000      24.000000   \n",
       "max        14.500000     135.000000      55.000000      57.000000   \n",
       "\n",
       "         Humidity9am    Humidity3pm    Pressure9am    Pressure3pm  \\\n",
       "count  113754.000000  113754.000000  113754.000000  113754.000000   \n",
       "mean       68.867486      51.509547    1017.640649    1015.241101   \n",
       "std        18.935587      20.530723       6.738680       6.675168   \n",
       "min         0.000000       0.000000     980.500000     977.100000   \n",
       "25%        57.000000      37.000000    1013.500000    1011.000000   \n",
       "50%        70.000000      52.000000    1017.600000    1015.200000   \n",
       "75%        83.000000      65.000000    1021.800000    1019.400000   \n",
       "max       100.000000     100.000000    1041.000000    1039.600000   \n",
       "\n",
       "            Cloud9am       Cloud3pm        Temp9am        Temp3pm  \\\n",
       "count  113754.000000  113754.000000  113754.000000  113754.000000   \n",
       "mean        4.651801       4.703588      16.995062      21.688643   \n",
       "std         2.292726       2.117847       6.463772       6.855649   \n",
       "min         0.000000       0.000000      -7.200000      -5.400000   \n",
       "25%         3.000000       4.000000      12.300000      16.700000   \n",
       "50%         5.000000       5.000000      16.700000      21.100000   \n",
       "75%         6.000000       6.000000      21.500000      26.300000   \n",
       "max         9.000000       8.000000      40.200000      46.700000   \n",
       "\n",
       "                Year          Month            Day  \n",
       "count  113754.000000  113754.000000  113754.000000  \n",
       "mean     2012.759727       6.404021      15.710419  \n",
       "std         2.540419       3.427798       8.796821  \n",
       "min      2007.000000       1.000000       1.000000  \n",
       "25%      2011.000000       3.000000       8.000000  \n",
       "50%      2013.000000       6.000000      16.000000  \n",
       "75%      2015.000000       9.000000      23.000000  \n",
       "max      2017.000000      12.000000      31.000000  "
      ]
     },
     "execution_count": 46,
     "metadata": {},
     "output_type": "execute_result"
    }
   ],
   "source": [
    "X_train[num].describe()"
   ]
  },
  {
   "cell_type": "code",
   "execution_count": 47,
   "metadata": {},
   "outputs": [],
   "source": [
    "num2=X_train[num]\n"
   ]
  },
  {
   "cell_type": "code",
   "execution_count": 48,
   "metadata": {},
   "outputs": [],
   "source": [
    "num2.drop(\"Year\", axis=1, inplace = True)"
   ]
  },
  {
   "cell_type": "code",
   "execution_count": 49,
   "metadata": {},
   "outputs": [
    {
     "data": {
      "text/html": [
       "<div>\n",
       "<style scoped>\n",
       "    .dataframe tbody tr th:only-of-type {\n",
       "        vertical-align: middle;\n",
       "    }\n",
       "\n",
       "    .dataframe tbody tr th {\n",
       "        vertical-align: top;\n",
       "    }\n",
       "\n",
       "    .dataframe thead th {\n",
       "        text-align: right;\n",
       "    }\n",
       "</style>\n",
       "<table border=\"1\" class=\"dataframe\">\n",
       "  <thead>\n",
       "    <tr style=\"text-align: right;\">\n",
       "      <th></th>\n",
       "      <th>MinTemp</th>\n",
       "      <th>MaxTemp</th>\n",
       "      <th>Rainfall</th>\n",
       "      <th>Evaporation</th>\n",
       "      <th>Sunshine</th>\n",
       "      <th>WindGustSpeed</th>\n",
       "      <th>WindSpeed9am</th>\n",
       "      <th>WindSpeed3pm</th>\n",
       "      <th>Humidity9am</th>\n",
       "      <th>Humidity3pm</th>\n",
       "      <th>Pressure9am</th>\n",
       "      <th>Pressure3pm</th>\n",
       "      <th>Cloud9am</th>\n",
       "      <th>Cloud3pm</th>\n",
       "      <th>Temp9am</th>\n",
       "      <th>Temp3pm</th>\n",
       "    </tr>\n",
       "  </thead>\n",
       "  <tbody>\n",
       "    <tr>\n",
       "      <th>113462</th>\n",
       "      <td>13.9</td>\n",
       "      <td>22.6</td>\n",
       "      <td>0.2</td>\n",
       "      <td>4.8</td>\n",
       "      <td>8.5</td>\n",
       "      <td>41.0</td>\n",
       "      <td>20.0</td>\n",
       "      <td>28.0</td>\n",
       "      <td>65.0</td>\n",
       "      <td>55.0</td>\n",
       "      <td>1013.9</td>\n",
       "      <td>1013.4</td>\n",
       "      <td>5.0</td>\n",
       "      <td>5.0</td>\n",
       "      <td>18.8</td>\n",
       "      <td>20.4</td>\n",
       "    </tr>\n",
       "    <tr>\n",
       "      <th>89638</th>\n",
       "      <td>22.4</td>\n",
       "      <td>29.4</td>\n",
       "      <td>2.0</td>\n",
       "      <td>6.0</td>\n",
       "      <td>6.3</td>\n",
       "      <td>33.0</td>\n",
       "      <td>7.0</td>\n",
       "      <td>19.0</td>\n",
       "      <td>71.0</td>\n",
       "      <td>59.0</td>\n",
       "      <td>1016.9</td>\n",
       "      <td>1013.1</td>\n",
       "      <td>7.0</td>\n",
       "      <td>5.0</td>\n",
       "      <td>26.4</td>\n",
       "      <td>27.5</td>\n",
       "    </tr>\n",
       "    <tr>\n",
       "      <th>138130</th>\n",
       "      <td>9.7</td>\n",
       "      <td>36.2</td>\n",
       "      <td>0.0</td>\n",
       "      <td>11.4</td>\n",
       "      <td>12.3</td>\n",
       "      <td>31.0</td>\n",
       "      <td>15.0</td>\n",
       "      <td>11.0</td>\n",
       "      <td>6.0</td>\n",
       "      <td>2.0</td>\n",
       "      <td>1018.1</td>\n",
       "      <td>1013.6</td>\n",
       "      <td>1.0</td>\n",
       "      <td>1.0</td>\n",
       "      <td>28.5</td>\n",
       "      <td>35.0</td>\n",
       "    </tr>\n",
       "    <tr>\n",
       "      <th>87898</th>\n",
       "      <td>20.5</td>\n",
       "      <td>30.1</td>\n",
       "      <td>0.0</td>\n",
       "      <td>8.8</td>\n",
       "      <td>11.1</td>\n",
       "      <td>37.0</td>\n",
       "      <td>22.0</td>\n",
       "      <td>19.0</td>\n",
       "      <td>59.0</td>\n",
       "      <td>53.0</td>\n",
       "      <td>1014.1</td>\n",
       "      <td>1010.8</td>\n",
       "      <td>2.0</td>\n",
       "      <td>3.0</td>\n",
       "      <td>27.3</td>\n",
       "      <td>29.4</td>\n",
       "    </tr>\n",
       "    <tr>\n",
       "      <th>16484</th>\n",
       "      <td>16.8</td>\n",
       "      <td>29.2</td>\n",
       "      <td>0.0</td>\n",
       "      <td>4.8</td>\n",
       "      <td>8.5</td>\n",
       "      <td>39.0</td>\n",
       "      <td>0.0</td>\n",
       "      <td>7.0</td>\n",
       "      <td>72.0</td>\n",
       "      <td>53.0</td>\n",
       "      <td>1017.6</td>\n",
       "      <td>1015.2</td>\n",
       "      <td>5.0</td>\n",
       "      <td>8.0</td>\n",
       "      <td>22.2</td>\n",
       "      <td>27.0</td>\n",
       "    </tr>\n",
       "    <tr>\n",
       "      <th>...</th>\n",
       "      <td>...</td>\n",
       "      <td>...</td>\n",
       "      <td>...</td>\n",
       "      <td>...</td>\n",
       "      <td>...</td>\n",
       "      <td>...</td>\n",
       "      <td>...</td>\n",
       "      <td>...</td>\n",
       "      <td>...</td>\n",
       "      <td>...</td>\n",
       "      <td>...</td>\n",
       "      <td>...</td>\n",
       "      <td>...</td>\n",
       "      <td>...</td>\n",
       "      <td>...</td>\n",
       "      <td>...</td>\n",
       "    </tr>\n",
       "    <tr>\n",
       "      <th>43204</th>\n",
       "      <td>9.4</td>\n",
       "      <td>17.6</td>\n",
       "      <td>0.0</td>\n",
       "      <td>4.8</td>\n",
       "      <td>8.5</td>\n",
       "      <td>35.0</td>\n",
       "      <td>7.0</td>\n",
       "      <td>17.0</td>\n",
       "      <td>62.0</td>\n",
       "      <td>80.0</td>\n",
       "      <td>1022.2</td>\n",
       "      <td>1019.9</td>\n",
       "      <td>6.0</td>\n",
       "      <td>8.0</td>\n",
       "      <td>16.3</td>\n",
       "      <td>16.2</td>\n",
       "    </tr>\n",
       "    <tr>\n",
       "      <th>100206</th>\n",
       "      <td>1.2</td>\n",
       "      <td>20.2</td>\n",
       "      <td>0.0</td>\n",
       "      <td>2.0</td>\n",
       "      <td>12.4</td>\n",
       "      <td>33.0</td>\n",
       "      <td>13.0</td>\n",
       "      <td>13.0</td>\n",
       "      <td>69.0</td>\n",
       "      <td>33.0</td>\n",
       "      <td>1022.0</td>\n",
       "      <td>1017.9</td>\n",
       "      <td>0.0</td>\n",
       "      <td>1.0</td>\n",
       "      <td>11.2</td>\n",
       "      <td>19.7</td>\n",
       "    </tr>\n",
       "    <tr>\n",
       "      <th>98494</th>\n",
       "      <td>11.9</td>\n",
       "      <td>17.6</td>\n",
       "      <td>1.2</td>\n",
       "      <td>2.0</td>\n",
       "      <td>8.5</td>\n",
       "      <td>39.0</td>\n",
       "      <td>13.0</td>\n",
       "      <td>20.0</td>\n",
       "      <td>67.0</td>\n",
       "      <td>38.0</td>\n",
       "      <td>1022.2</td>\n",
       "      <td>1022.8</td>\n",
       "      <td>5.0</td>\n",
       "      <td>5.0</td>\n",
       "      <td>14.5</td>\n",
       "      <td>17.1</td>\n",
       "    </tr>\n",
       "    <tr>\n",
       "      <th>120883</th>\n",
       "      <td>7.7</td>\n",
       "      <td>26.0</td>\n",
       "      <td>0.0</td>\n",
       "      <td>10.4</td>\n",
       "      <td>11.2</td>\n",
       "      <td>31.0</td>\n",
       "      <td>11.0</td>\n",
       "      <td>13.0</td>\n",
       "      <td>58.0</td>\n",
       "      <td>25.0</td>\n",
       "      <td>1025.5</td>\n",
       "      <td>1023.0</td>\n",
       "      <td>0.0</td>\n",
       "      <td>0.0</td>\n",
       "      <td>14.4</td>\n",
       "      <td>24.6</td>\n",
       "    </tr>\n",
       "    <tr>\n",
       "      <th>44785</th>\n",
       "      <td>20.0</td>\n",
       "      <td>31.5</td>\n",
       "      <td>0.0</td>\n",
       "      <td>4.8</td>\n",
       "      <td>8.5</td>\n",
       "      <td>63.0</td>\n",
       "      <td>43.0</td>\n",
       "      <td>20.0</td>\n",
       "      <td>46.0</td>\n",
       "      <td>79.0</td>\n",
       "      <td>1021.1</td>\n",
       "      <td>1020.7</td>\n",
       "      <td>5.0</td>\n",
       "      <td>5.0</td>\n",
       "      <td>26.1</td>\n",
       "      <td>22.8</td>\n",
       "    </tr>\n",
       "  </tbody>\n",
       "</table>\n",
       "<p>113754 rows × 16 columns</p>\n",
       "</div>"
      ],
      "text/plain": [
       "        MinTemp  MaxTemp  Rainfall  Evaporation  Sunshine  WindGustSpeed  \\\n",
       "113462     13.9     22.6       0.2          4.8       8.5           41.0   \n",
       "89638      22.4     29.4       2.0          6.0       6.3           33.0   \n",
       "138130      9.7     36.2       0.0         11.4      12.3           31.0   \n",
       "87898      20.5     30.1       0.0          8.8      11.1           37.0   \n",
       "16484      16.8     29.2       0.0          4.8       8.5           39.0   \n",
       "...         ...      ...       ...          ...       ...            ...   \n",
       "43204       9.4     17.6       0.0          4.8       8.5           35.0   \n",
       "100206      1.2     20.2       0.0          2.0      12.4           33.0   \n",
       "98494      11.9     17.6       1.2          2.0       8.5           39.0   \n",
       "120883      7.7     26.0       0.0         10.4      11.2           31.0   \n",
       "44785      20.0     31.5       0.0          4.8       8.5           63.0   \n",
       "\n",
       "        WindSpeed9am  WindSpeed3pm  Humidity9am  Humidity3pm  Pressure9am  \\\n",
       "113462          20.0          28.0         65.0         55.0       1013.9   \n",
       "89638            7.0          19.0         71.0         59.0       1016.9   \n",
       "138130          15.0          11.0          6.0          2.0       1018.1   \n",
       "87898           22.0          19.0         59.0         53.0       1014.1   \n",
       "16484            0.0           7.0         72.0         53.0       1017.6   \n",
       "...              ...           ...          ...          ...          ...   \n",
       "43204            7.0          17.0         62.0         80.0       1022.2   \n",
       "100206          13.0          13.0         69.0         33.0       1022.0   \n",
       "98494           13.0          20.0         67.0         38.0       1022.2   \n",
       "120883          11.0          13.0         58.0         25.0       1025.5   \n",
       "44785           43.0          20.0         46.0         79.0       1021.1   \n",
       "\n",
       "        Pressure3pm  Cloud9am  Cloud3pm  Temp9am  Temp3pm  \n",
       "113462       1013.4       5.0       5.0     18.8     20.4  \n",
       "89638        1013.1       7.0       5.0     26.4     27.5  \n",
       "138130       1013.6       1.0       1.0     28.5     35.0  \n",
       "87898        1010.8       2.0       3.0     27.3     29.4  \n",
       "16484        1015.2       5.0       8.0     22.2     27.0  \n",
       "...             ...       ...       ...      ...      ...  \n",
       "43204        1019.9       6.0       8.0     16.3     16.2  \n",
       "100206       1017.9       0.0       1.0     11.2     19.7  \n",
       "98494        1022.8       5.0       5.0     14.5     17.1  \n",
       "120883       1023.0       0.0       0.0     14.4     24.6  \n",
       "44785        1020.7       5.0       5.0     26.1     22.8  \n",
       "\n",
       "[113754 rows x 16 columns]"
      ]
     },
     "execution_count": 49,
     "metadata": {},
     "output_type": "execute_result"
    }
   ],
   "source": [
    "num2.drop([\"Day\",\"Month\"], axis=1, inplace = True)\n",
    "num2"
   ]
  },
  {
   "cell_type": "code",
   "execution_count": 50,
   "metadata": {},
   "outputs": [
    {
     "data": {
      "text/plain": [
       "Text(69.0, 0.5, '')"
      ]
     },
     "execution_count": 50,
     "metadata": {},
     "output_type": "execute_result"
    },
    {
     "data": {
      "image/png": "[encoded data removed]",
      "text/plain": [
       "<Figure size 720x720 with 2 Axes>"
      ]
     },
     "metadata": {
      "needs_background": "light"
     },
     "output_type": "display_data"
    }
   ],
   "source": [
    "plt.figure(figsize = (10,10))\n",
    "mask = np.triu(np.ones_like(num2.corr(), dtype=np.bool))\n",
    "heatmap = sns.heatmap(num2.corr(), mask=mask, vmin=-1, vmax=1, annot=True,fmt='.1g')\n",
    "plt.title('Numerical Data Heatmap (16 features)',fontsize=15)\n",
    "plt.xlabel(\"\")\n",
    "plt.ylabel(\"\")\n"
   ]
  },
  {
   "cell_type": "code",
   "execution_count": 51,
   "metadata": {},
   "outputs": [],
   "source": [
    "#Encode categorical variables\n",
    "encoder = ce.BinaryEncoder(cols=['RainToday'])\n",
    "X_train = encoder.fit_transform(X_train)\n",
    "X_test = encoder.transform(X_test)"
   ]
  },
  {
   "cell_type": "code",
   "execution_count": 52,
   "metadata": {},
   "outputs": [
    {
     "data": {
      "text/html": [
       "<div>\n",
       "<style scoped>\n",
       "    .dataframe tbody tr th:only-of-type {\n",
       "        vertical-align: middle;\n",
       "    }\n",
       "\n",
       "    .dataframe tbody tr th {\n",
       "        vertical-align: top;\n",
       "    }\n",
       "\n",
       "    .dataframe thead th {\n",
       "        text-align: right;\n",
       "    }\n",
       "</style>\n",
       "<table border=\"1\" class=\"dataframe\">\n",
       "  <thead>\n",
       "    <tr style=\"text-align: right;\">\n",
       "      <th></th>\n",
       "      <th>Location</th>\n",
       "      <th>MinTemp</th>\n",
       "      <th>MaxTemp</th>\n",
       "      <th>Rainfall</th>\n",
       "      <th>Evaporation</th>\n",
       "      <th>Sunshine</th>\n",
       "      <th>WindGustDir</th>\n",
       "      <th>WindGustSpeed</th>\n",
       "      <th>WindDir9am</th>\n",
       "      <th>WindDir3pm</th>\n",
       "      <th>...</th>\n",
       "      <th>Pressure3pm</th>\n",
       "      <th>Cloud9am</th>\n",
       "      <th>Cloud3pm</th>\n",
       "      <th>Temp9am</th>\n",
       "      <th>Temp3pm</th>\n",
       "      <th>RainToday_0</th>\n",
       "      <th>RainToday_1</th>\n",
       "      <th>Year</th>\n",
       "      <th>Month</th>\n",
       "      <th>Day</th>\n",
       "    </tr>\n",
       "  </thead>\n",
       "  <tbody>\n",
       "    <tr>\n",
       "      <th>113462</th>\n",
       "      <td>Witchcliffe</td>\n",
       "      <td>13.9</td>\n",
       "      <td>22.6</td>\n",
       "      <td>0.2</td>\n",
       "      <td>4.8</td>\n",
       "      <td>8.5</td>\n",
       "      <td>S</td>\n",
       "      <td>41.0</td>\n",
       "      <td>SSE</td>\n",
       "      <td>S</td>\n",
       "      <td>...</td>\n",
       "      <td>1013.4</td>\n",
       "      <td>5.0</td>\n",
       "      <td>5.0</td>\n",
       "      <td>18.8</td>\n",
       "      <td>20.4</td>\n",
       "      <td>0</td>\n",
       "      <td>1</td>\n",
       "      <td>2014</td>\n",
       "      <td>4</td>\n",
       "      <td>25</td>\n",
       "    </tr>\n",
       "    <tr>\n",
       "      <th>89638</th>\n",
       "      <td>Cairns</td>\n",
       "      <td>22.4</td>\n",
       "      <td>29.4</td>\n",
       "      <td>2.0</td>\n",
       "      <td>6.0</td>\n",
       "      <td>6.3</td>\n",
       "      <td>ENE</td>\n",
       "      <td>33.0</td>\n",
       "      <td>SSE</td>\n",
       "      <td>SE</td>\n",
       "      <td>...</td>\n",
       "      <td>1013.1</td>\n",
       "      <td>7.0</td>\n",
       "      <td>5.0</td>\n",
       "      <td>26.4</td>\n",
       "      <td>27.5</td>\n",
       "      <td>1</td>\n",
       "      <td>0</td>\n",
       "      <td>2015</td>\n",
       "      <td>11</td>\n",
       "      <td>2</td>\n",
       "    </tr>\n",
       "    <tr>\n",
       "      <th>138130</th>\n",
       "      <td>AliceSprings</td>\n",
       "      <td>9.7</td>\n",
       "      <td>36.2</td>\n",
       "      <td>0.0</td>\n",
       "      <td>11.4</td>\n",
       "      <td>12.3</td>\n",
       "      <td>E</td>\n",
       "      <td>31.0</td>\n",
       "      <td>NE</td>\n",
       "      <td>N</td>\n",
       "      <td>...</td>\n",
       "      <td>1013.6</td>\n",
       "      <td>1.0</td>\n",
       "      <td>1.0</td>\n",
       "      <td>28.5</td>\n",
       "      <td>35.0</td>\n",
       "      <td>0</td>\n",
       "      <td>1</td>\n",
       "      <td>2014</td>\n",
       "      <td>10</td>\n",
       "      <td>19</td>\n",
       "    </tr>\n",
       "    <tr>\n",
       "      <th>87898</th>\n",
       "      <td>Cairns</td>\n",
       "      <td>20.5</td>\n",
       "      <td>30.1</td>\n",
       "      <td>0.0</td>\n",
       "      <td>8.8</td>\n",
       "      <td>11.1</td>\n",
       "      <td>ESE</td>\n",
       "      <td>37.0</td>\n",
       "      <td>SSE</td>\n",
       "      <td>E</td>\n",
       "      <td>...</td>\n",
       "      <td>1010.8</td>\n",
       "      <td>2.0</td>\n",
       "      <td>3.0</td>\n",
       "      <td>27.3</td>\n",
       "      <td>29.4</td>\n",
       "      <td>0</td>\n",
       "      <td>1</td>\n",
       "      <td>2010</td>\n",
       "      <td>10</td>\n",
       "      <td>30</td>\n",
       "    </tr>\n",
       "    <tr>\n",
       "      <th>16484</th>\n",
       "      <td>Newcastle</td>\n",
       "      <td>16.8</td>\n",
       "      <td>29.2</td>\n",
       "      <td>0.0</td>\n",
       "      <td>4.8</td>\n",
       "      <td>8.5</td>\n",
       "      <td>W</td>\n",
       "      <td>39.0</td>\n",
       "      <td>N</td>\n",
       "      <td>SE</td>\n",
       "      <td>...</td>\n",
       "      <td>1015.2</td>\n",
       "      <td>5.0</td>\n",
       "      <td>8.0</td>\n",
       "      <td>22.2</td>\n",
       "      <td>27.0</td>\n",
       "      <td>0</td>\n",
       "      <td>1</td>\n",
       "      <td>2012</td>\n",
       "      <td>11</td>\n",
       "      <td>8</td>\n",
       "    </tr>\n",
       "  </tbody>\n",
       "</table>\n",
       "<p>5 rows × 25 columns</p>\n",
       "</div>"
      ],
      "text/plain": [
       "            Location  MinTemp  MaxTemp  Rainfall  Evaporation  Sunshine  \\\n",
       "113462   Witchcliffe     13.9     22.6       0.2          4.8       8.5   \n",
       "89638         Cairns     22.4     29.4       2.0          6.0       6.3   \n",
       "138130  AliceSprings      9.7     36.2       0.0         11.4      12.3   \n",
       "87898         Cairns     20.5     30.1       0.0          8.8      11.1   \n",
       "16484      Newcastle     16.8     29.2       0.0          4.8       8.5   \n",
       "\n",
       "       WindGustDir  WindGustSpeed WindDir9am WindDir3pm  ...  Pressure3pm  \\\n",
       "113462           S           41.0        SSE          S  ...       1013.4   \n",
       "89638          ENE           33.0        SSE         SE  ...       1013.1   \n",
       "138130           E           31.0         NE          N  ...       1013.6   \n",
       "87898          ESE           37.0        SSE          E  ...       1010.8   \n",
       "16484            W           39.0          N         SE  ...       1015.2   \n",
       "\n",
       "        Cloud9am  Cloud3pm  Temp9am  Temp3pm  RainToday_0  RainToday_1  Year  \\\n",
       "113462       5.0       5.0     18.8     20.4            0            1  2014   \n",
       "89638        7.0       5.0     26.4     27.5            1            0  2015   \n",
       "138130       1.0       1.0     28.5     35.0            0            1  2014   \n",
       "87898        2.0       3.0     27.3     29.4            0            1  2010   \n",
       "16484        5.0       8.0     22.2     27.0            0            1  2012   \n",
       "\n",
       "        Month  Day  \n",
       "113462      4   25  \n",
       "89638      11    2  \n",
       "138130     10   19  \n",
       "87898      10   30  \n",
       "16484      11    8  \n",
       "\n",
       "[5 rows x 25 columns]"
      ]
     },
     "execution_count": 52,
     "metadata": {},
     "output_type": "execute_result"
    }
   ],
   "source": [
    "X_train.head()"
   ]
  },
  {
   "cell_type": "code",
   "execution_count": 53,
   "metadata": {},
   "outputs": [],
   "source": [
    "X_train['WindDir9am'] = '9pm' + X_train['WindDir9am'].astype(str)\n",
    "X_train['WindDir3pm'] = '3pm' + X_train['WindDir3pm'].astype(str)"
   ]
  },
  {
   "cell_type": "code",
   "execution_count": 54,
   "metadata": {},
   "outputs": [
    {
     "data": {
      "text/html": [
       "<div>\n",
       "<style scoped>\n",
       "    .dataframe tbody tr th:only-of-type {\n",
       "        vertical-align: middle;\n",
       "    }\n",
       "\n",
       "    .dataframe tbody tr th {\n",
       "        vertical-align: top;\n",
       "    }\n",
       "\n",
       "    .dataframe thead th {\n",
       "        text-align: right;\n",
       "    }\n",
       "</style>\n",
       "<table border=\"1\" class=\"dataframe\">\n",
       "  <thead>\n",
       "    <tr style=\"text-align: right;\">\n",
       "      <th></th>\n",
       "      <th>Location</th>\n",
       "      <th>MinTemp</th>\n",
       "      <th>MaxTemp</th>\n",
       "      <th>Rainfall</th>\n",
       "      <th>Evaporation</th>\n",
       "      <th>Sunshine</th>\n",
       "      <th>WindGustDir</th>\n",
       "      <th>WindGustSpeed</th>\n",
       "      <th>WindDir9am</th>\n",
       "      <th>WindDir3pm</th>\n",
       "      <th>...</th>\n",
       "      <th>Pressure3pm</th>\n",
       "      <th>Cloud9am</th>\n",
       "      <th>Cloud3pm</th>\n",
       "      <th>Temp9am</th>\n",
       "      <th>Temp3pm</th>\n",
       "      <th>RainToday_0</th>\n",
       "      <th>RainToday_1</th>\n",
       "      <th>Year</th>\n",
       "      <th>Month</th>\n",
       "      <th>Day</th>\n",
       "    </tr>\n",
       "  </thead>\n",
       "  <tbody>\n",
       "    <tr>\n",
       "      <th>113462</th>\n",
       "      <td>Witchcliffe</td>\n",
       "      <td>13.9</td>\n",
       "      <td>22.6</td>\n",
       "      <td>0.2</td>\n",
       "      <td>4.8</td>\n",
       "      <td>8.5</td>\n",
       "      <td>S</td>\n",
       "      <td>41.0</td>\n",
       "      <td>9pmSSE</td>\n",
       "      <td>3pmS</td>\n",
       "      <td>...</td>\n",
       "      <td>1013.4</td>\n",
       "      <td>5.0</td>\n",
       "      <td>5.0</td>\n",
       "      <td>18.8</td>\n",
       "      <td>20.4</td>\n",
       "      <td>0</td>\n",
       "      <td>1</td>\n",
       "      <td>2014</td>\n",
       "      <td>4</td>\n",
       "      <td>25</td>\n",
       "    </tr>\n",
       "    <tr>\n",
       "      <th>89638</th>\n",
       "      <td>Cairns</td>\n",
       "      <td>22.4</td>\n",
       "      <td>29.4</td>\n",
       "      <td>2.0</td>\n",
       "      <td>6.0</td>\n",
       "      <td>6.3</td>\n",
       "      <td>ENE</td>\n",
       "      <td>33.0</td>\n",
       "      <td>9pmSSE</td>\n",
       "      <td>3pmSE</td>\n",
       "      <td>...</td>\n",
       "      <td>1013.1</td>\n",
       "      <td>7.0</td>\n",
       "      <td>5.0</td>\n",
       "      <td>26.4</td>\n",
       "      <td>27.5</td>\n",
       "      <td>1</td>\n",
       "      <td>0</td>\n",
       "      <td>2015</td>\n",
       "      <td>11</td>\n",
       "      <td>2</td>\n",
       "    </tr>\n",
       "    <tr>\n",
       "      <th>138130</th>\n",
       "      <td>AliceSprings</td>\n",
       "      <td>9.7</td>\n",
       "      <td>36.2</td>\n",
       "      <td>0.0</td>\n",
       "      <td>11.4</td>\n",
       "      <td>12.3</td>\n",
       "      <td>E</td>\n",
       "      <td>31.0</td>\n",
       "      <td>9pmNE</td>\n",
       "      <td>3pmN</td>\n",
       "      <td>...</td>\n",
       "      <td>1013.6</td>\n",
       "      <td>1.0</td>\n",
       "      <td>1.0</td>\n",
       "      <td>28.5</td>\n",
       "      <td>35.0</td>\n",
       "      <td>0</td>\n",
       "      <td>1</td>\n",
       "      <td>2014</td>\n",
       "      <td>10</td>\n",
       "      <td>19</td>\n",
       "    </tr>\n",
       "    <tr>\n",
       "      <th>87898</th>\n",
       "      <td>Cairns</td>\n",
       "      <td>20.5</td>\n",
       "      <td>30.1</td>\n",
       "      <td>0.0</td>\n",
       "      <td>8.8</td>\n",
       "      <td>11.1</td>\n",
       "      <td>ESE</td>\n",
       "      <td>37.0</td>\n",
       "      <td>9pmSSE</td>\n",
       "      <td>3pmE</td>\n",
       "      <td>...</td>\n",
       "      <td>1010.8</td>\n",
       "      <td>2.0</td>\n",
       "      <td>3.0</td>\n",
       "      <td>27.3</td>\n",
       "      <td>29.4</td>\n",
       "      <td>0</td>\n",
       "      <td>1</td>\n",
       "      <td>2010</td>\n",
       "      <td>10</td>\n",
       "      <td>30</td>\n",
       "    </tr>\n",
       "    <tr>\n",
       "      <th>16484</th>\n",
       "      <td>Newcastle</td>\n",
       "      <td>16.8</td>\n",
       "      <td>29.2</td>\n",
       "      <td>0.0</td>\n",
       "      <td>4.8</td>\n",
       "      <td>8.5</td>\n",
       "      <td>W</td>\n",
       "      <td>39.0</td>\n",
       "      <td>9pmN</td>\n",
       "      <td>3pmSE</td>\n",
       "      <td>...</td>\n",
       "      <td>1015.2</td>\n",
       "      <td>5.0</td>\n",
       "      <td>8.0</td>\n",
       "      <td>22.2</td>\n",
       "      <td>27.0</td>\n",
       "      <td>0</td>\n",
       "      <td>1</td>\n",
       "      <td>2012</td>\n",
       "      <td>11</td>\n",
       "      <td>8</td>\n",
       "    </tr>\n",
       "  </tbody>\n",
       "</table>\n",
       "<p>5 rows × 25 columns</p>\n",
       "</div>"
      ],
      "text/plain": [
       "            Location  MinTemp  MaxTemp  Rainfall  Evaporation  Sunshine  \\\n",
       "113462   Witchcliffe     13.9     22.6       0.2          4.8       8.5   \n",
       "89638         Cairns     22.4     29.4       2.0          6.0       6.3   \n",
       "138130  AliceSprings      9.7     36.2       0.0         11.4      12.3   \n",
       "87898         Cairns     20.5     30.1       0.0          8.8      11.1   \n",
       "16484      Newcastle     16.8     29.2       0.0          4.8       8.5   \n",
       "\n",
       "       WindGustDir  WindGustSpeed WindDir9am WindDir3pm  ...  Pressure3pm  \\\n",
       "113462           S           41.0     9pmSSE       3pmS  ...       1013.4   \n",
       "89638          ENE           33.0     9pmSSE      3pmSE  ...       1013.1   \n",
       "138130           E           31.0      9pmNE       3pmN  ...       1013.6   \n",
       "87898          ESE           37.0     9pmSSE       3pmE  ...       1010.8   \n",
       "16484            W           39.0       9pmN      3pmSE  ...       1015.2   \n",
       "\n",
       "        Cloud9am  Cloud3pm  Temp9am  Temp3pm  RainToday_0  RainToday_1  Year  \\\n",
       "113462       5.0       5.0     18.8     20.4            0            1  2014   \n",
       "89638        7.0       5.0     26.4     27.5            1            0  2015   \n",
       "138130       1.0       1.0     28.5     35.0            0            1  2014   \n",
       "87898        2.0       3.0     27.3     29.4            0            1  2010   \n",
       "16484        5.0       8.0     22.2     27.0            0            1  2012   \n",
       "\n",
       "        Month  Day  \n",
       "113462      4   25  \n",
       "89638      11    2  \n",
       "138130     10   19  \n",
       "87898      10   30  \n",
       "16484      11    8  \n",
       "\n",
       "[5 rows x 25 columns]"
      ]
     },
     "execution_count": 54,
     "metadata": {},
     "output_type": "execute_result"
    }
   ],
   "source": [
    "X_train.head()"
   ]
  },
  {
   "cell_type": "code",
   "execution_count": 55,
   "metadata": {},
   "outputs": [],
   "source": [
    "X_train = pd.concat([X_train[num], X_train[['RainToday_0', 'RainToday_1']],\n",
    "                     pd.get_dummies(X_train.Location), \n",
    "                     pd.get_dummies(X_train.WindGustDir),\n",
    "                     pd.get_dummies(X_train.WindDir9am),\n",
    "                     pd.get_dummies(X_train.WindDir3pm)], axis=1)"
   ]
  },
  {
   "cell_type": "code",
   "execution_count": 56,
   "metadata": {},
   "outputs": [
    {
     "data": {
      "text/html": [
       "<div>\n",
       "<style scoped>\n",
       "    .dataframe tbody tr th:only-of-type {\n",
       "        vertical-align: middle;\n",
       "    }\n",
       "\n",
       "    .dataframe tbody tr th {\n",
       "        vertical-align: top;\n",
       "    }\n",
       "\n",
       "    .dataframe thead th {\n",
       "        text-align: right;\n",
       "    }\n",
       "</style>\n",
       "<table border=\"1\" class=\"dataframe\">\n",
       "  <thead>\n",
       "    <tr style=\"text-align: right;\">\n",
       "      <th></th>\n",
       "      <th>MinTemp</th>\n",
       "      <th>MaxTemp</th>\n",
       "      <th>Rainfall</th>\n",
       "      <th>Evaporation</th>\n",
       "      <th>Sunshine</th>\n",
       "      <th>WindGustSpeed</th>\n",
       "      <th>WindSpeed9am</th>\n",
       "      <th>WindSpeed3pm</th>\n",
       "      <th>Humidity9am</th>\n",
       "      <th>Humidity3pm</th>\n",
       "      <th>...</th>\n",
       "      <th>3pmNNW</th>\n",
       "      <th>3pmNW</th>\n",
       "      <th>3pmS</th>\n",
       "      <th>3pmSE</th>\n",
       "      <th>3pmSSE</th>\n",
       "      <th>3pmSSW</th>\n",
       "      <th>3pmSW</th>\n",
       "      <th>3pmW</th>\n",
       "      <th>3pmWNW</th>\n",
       "      <th>3pmWSW</th>\n",
       "    </tr>\n",
       "  </thead>\n",
       "  <tbody>\n",
       "    <tr>\n",
       "      <th>113462</th>\n",
       "      <td>13.9</td>\n",
       "      <td>22.6</td>\n",
       "      <td>0.2</td>\n",
       "      <td>4.8</td>\n",
       "      <td>8.5</td>\n",
       "      <td>41.0</td>\n",
       "      <td>20.0</td>\n",
       "      <td>28.0</td>\n",
       "      <td>65.0</td>\n",
       "      <td>55.0</td>\n",
       "      <td>...</td>\n",
       "      <td>0</td>\n",
       "      <td>0</td>\n",
       "      <td>1</td>\n",
       "      <td>0</td>\n",
       "      <td>0</td>\n",
       "      <td>0</td>\n",
       "      <td>0</td>\n",
       "      <td>0</td>\n",
       "      <td>0</td>\n",
       "      <td>0</td>\n",
       "    </tr>\n",
       "    <tr>\n",
       "      <th>89638</th>\n",
       "      <td>22.4</td>\n",
       "      <td>29.4</td>\n",
       "      <td>2.0</td>\n",
       "      <td>6.0</td>\n",
       "      <td>6.3</td>\n",
       "      <td>33.0</td>\n",
       "      <td>7.0</td>\n",
       "      <td>19.0</td>\n",
       "      <td>71.0</td>\n",
       "      <td>59.0</td>\n",
       "      <td>...</td>\n",
       "      <td>0</td>\n",
       "      <td>0</td>\n",
       "      <td>0</td>\n",
       "      <td>1</td>\n",
       "      <td>0</td>\n",
       "      <td>0</td>\n",
       "      <td>0</td>\n",
       "      <td>0</td>\n",
       "      <td>0</td>\n",
       "      <td>0</td>\n",
       "    </tr>\n",
       "    <tr>\n",
       "      <th>138130</th>\n",
       "      <td>9.7</td>\n",
       "      <td>36.2</td>\n",
       "      <td>0.0</td>\n",
       "      <td>11.4</td>\n",
       "      <td>12.3</td>\n",
       "      <td>31.0</td>\n",
       "      <td>15.0</td>\n",
       "      <td>11.0</td>\n",
       "      <td>6.0</td>\n",
       "      <td>2.0</td>\n",
       "      <td>...</td>\n",
       "      <td>0</td>\n",
       "      <td>0</td>\n",
       "      <td>0</td>\n",
       "      <td>0</td>\n",
       "      <td>0</td>\n",
       "      <td>0</td>\n",
       "      <td>0</td>\n",
       "      <td>0</td>\n",
       "      <td>0</td>\n",
       "      <td>0</td>\n",
       "    </tr>\n",
       "    <tr>\n",
       "      <th>87898</th>\n",
       "      <td>20.5</td>\n",
       "      <td>30.1</td>\n",
       "      <td>0.0</td>\n",
       "      <td>8.8</td>\n",
       "      <td>11.1</td>\n",
       "      <td>37.0</td>\n",
       "      <td>22.0</td>\n",
       "      <td>19.0</td>\n",
       "      <td>59.0</td>\n",
       "      <td>53.0</td>\n",
       "      <td>...</td>\n",
       "      <td>0</td>\n",
       "      <td>0</td>\n",
       "      <td>0</td>\n",
       "      <td>0</td>\n",
       "      <td>0</td>\n",
       "      <td>0</td>\n",
       "      <td>0</td>\n",
       "      <td>0</td>\n",
       "      <td>0</td>\n",
       "      <td>0</td>\n",
       "    </tr>\n",
       "    <tr>\n",
       "      <th>16484</th>\n",
       "      <td>16.8</td>\n",
       "      <td>29.2</td>\n",
       "      <td>0.0</td>\n",
       "      <td>4.8</td>\n",
       "      <td>8.5</td>\n",
       "      <td>39.0</td>\n",
       "      <td>0.0</td>\n",
       "      <td>7.0</td>\n",
       "      <td>72.0</td>\n",
       "      <td>53.0</td>\n",
       "      <td>...</td>\n",
       "      <td>0</td>\n",
       "      <td>0</td>\n",
       "      <td>0</td>\n",
       "      <td>1</td>\n",
       "      <td>0</td>\n",
       "      <td>0</td>\n",
       "      <td>0</td>\n",
       "      <td>0</td>\n",
       "      <td>0</td>\n",
       "      <td>0</td>\n",
       "    </tr>\n",
       "  </tbody>\n",
       "</table>\n",
       "<p>5 rows × 118 columns</p>\n",
       "</div>"
      ],
      "text/plain": [
       "        MinTemp  MaxTemp  Rainfall  Evaporation  Sunshine  WindGustSpeed  \\\n",
       "113462     13.9     22.6       0.2          4.8       8.5           41.0   \n",
       "89638      22.4     29.4       2.0          6.0       6.3           33.0   \n",
       "138130      9.7     36.2       0.0         11.4      12.3           31.0   \n",
       "87898      20.5     30.1       0.0          8.8      11.1           37.0   \n",
       "16484      16.8     29.2       0.0          4.8       8.5           39.0   \n",
       "\n",
       "        WindSpeed9am  WindSpeed3pm  Humidity9am  Humidity3pm  ...  3pmNNW  \\\n",
       "113462          20.0          28.0         65.0         55.0  ...       0   \n",
       "89638            7.0          19.0         71.0         59.0  ...       0   \n",
       "138130          15.0          11.0          6.0          2.0  ...       0   \n",
       "87898           22.0          19.0         59.0         53.0  ...       0   \n",
       "16484            0.0           7.0         72.0         53.0  ...       0   \n",
       "\n",
       "        3pmNW  3pmS  3pmSE  3pmSSE  3pmSSW  3pmSW  3pmW  3pmWNW  3pmWSW  \n",
       "113462      0     1      0       0       0      0     0       0       0  \n",
       "89638       0     0      1       0       0      0     0       0       0  \n",
       "138130      0     0      0       0       0      0     0       0       0  \n",
       "87898       0     0      0       0       0      0     0       0       0  \n",
       "16484       0     0      1       0       0      0     0       0       0  \n",
       "\n",
       "[5 rows x 118 columns]"
      ]
     },
     "execution_count": 56,
     "metadata": {},
     "output_type": "execute_result"
    }
   ],
   "source": [
    "X_train.head()"
   ]
  },
  {
   "cell_type": "code",
   "execution_count": 57,
   "metadata": {},
   "outputs": [
    {
     "data": {
      "text/plain": [
       "Index([], dtype='object')"
      ]
     },
     "execution_count": 57,
     "metadata": {},
     "output_type": "execute_result"
    }
   ],
   "source": [
    "# Check for duplicate columns if any\n",
    "duplicate_columns = X_train.columns[X_train.columns.duplicated()]\n",
    "duplicate_columns"
   ]
  },
  {
   "cell_type": "code",
   "execution_count": 58,
   "metadata": {},
   "outputs": [],
   "source": [
    "X_test['WindDir9am'] = '9pm' + X_test['WindDir9am'].astype(str)\n",
    "X_test['WindDir3pm'] = '3pm' + X_test['WindDir3pm'].astype(str)"
   ]
  },
  {
   "cell_type": "code",
   "execution_count": 59,
   "metadata": {},
   "outputs": [],
   "source": [
    "X_test = pd.concat([X_test[num], X_test[['RainToday_0', 'RainToday_1']],\n",
    "                     pd.get_dummies(X_test.Location), \n",
    "                     pd.get_dummies(X_test.WindGustDir),\n",
    "                     pd.get_dummies(X_test.WindDir9am),\n",
    "                     pd.get_dummies(X_test.WindDir3pm)], axis=1)"
   ]
  },
  {
   "cell_type": "code",
   "execution_count": 60,
   "metadata": {},
   "outputs": [
    {
     "data": {
      "text/html": [
       "<div>\n",
       "<style scoped>\n",
       "    .dataframe tbody tr th:only-of-type {\n",
       "        vertical-align: middle;\n",
       "    }\n",
       "\n",
       "    .dataframe tbody tr th {\n",
       "        vertical-align: top;\n",
       "    }\n",
       "\n",
       "    .dataframe thead th {\n",
       "        text-align: right;\n",
       "    }\n",
       "</style>\n",
       "<table border=\"1\" class=\"dataframe\">\n",
       "  <thead>\n",
       "    <tr style=\"text-align: right;\">\n",
       "      <th></th>\n",
       "      <th>MinTemp</th>\n",
       "      <th>MaxTemp</th>\n",
       "      <th>Rainfall</th>\n",
       "      <th>Evaporation</th>\n",
       "      <th>Sunshine</th>\n",
       "      <th>WindGustSpeed</th>\n",
       "      <th>WindSpeed9am</th>\n",
       "      <th>WindSpeed3pm</th>\n",
       "      <th>Humidity9am</th>\n",
       "      <th>Humidity3pm</th>\n",
       "      <th>...</th>\n",
       "      <th>3pmNNW</th>\n",
       "      <th>3pmNW</th>\n",
       "      <th>3pmS</th>\n",
       "      <th>3pmSE</th>\n",
       "      <th>3pmSSE</th>\n",
       "      <th>3pmSSW</th>\n",
       "      <th>3pmSW</th>\n",
       "      <th>3pmW</th>\n",
       "      <th>3pmWNW</th>\n",
       "      <th>3pmWSW</th>\n",
       "    </tr>\n",
       "  </thead>\n",
       "  <tbody>\n",
       "    <tr>\n",
       "      <th>count</th>\n",
       "      <td>113754.000000</td>\n",
       "      <td>113754.000000</td>\n",
       "      <td>113754.000000</td>\n",
       "      <td>113754.000000</td>\n",
       "      <td>113754.000000</td>\n",
       "      <td>113754.000000</td>\n",
       "      <td>113754.000000</td>\n",
       "      <td>113754.000000</td>\n",
       "      <td>113754.000000</td>\n",
       "      <td>113754.000000</td>\n",
       "      <td>...</td>\n",
       "      <td>113754.000000</td>\n",
       "      <td>113754.000000</td>\n",
       "      <td>113754.000000</td>\n",
       "      <td>113754.000000</td>\n",
       "      <td>113754.000000</td>\n",
       "      <td>113754.000000</td>\n",
       "      <td>113754.000000</td>\n",
       "      <td>113754.000000</td>\n",
       "      <td>113754.000000</td>\n",
       "      <td>113754.000000</td>\n",
       "    </tr>\n",
       "    <tr>\n",
       "      <th>mean</th>\n",
       "      <td>12.193497</td>\n",
       "      <td>23.237216</td>\n",
       "      <td>0.675080</td>\n",
       "      <td>5.151606</td>\n",
       "      <td>8.041154</td>\n",
       "      <td>39.884074</td>\n",
       "      <td>13.978155</td>\n",
       "      <td>18.614756</td>\n",
       "      <td>68.867486</td>\n",
       "      <td>51.509547</td>\n",
       "      <td>...</td>\n",
       "      <td>0.054530</td>\n",
       "      <td>0.060288</td>\n",
       "      <td>0.067259</td>\n",
       "      <td>0.101605</td>\n",
       "      <td>0.064059</td>\n",
       "      <td>0.056402</td>\n",
       "      <td>0.064464</td>\n",
       "      <td>0.069334</td>\n",
       "      <td>0.060798</td>\n",
       "      <td>0.065483</td>\n",
       "    </tr>\n",
       "    <tr>\n",
       "      <th>std</th>\n",
       "      <td>6.388279</td>\n",
       "      <td>7.094149</td>\n",
       "      <td>1.183837</td>\n",
       "      <td>2.823707</td>\n",
       "      <td>2.769480</td>\n",
       "      <td>13.116959</td>\n",
       "      <td>8.806558</td>\n",
       "      <td>8.685862</td>\n",
       "      <td>18.935587</td>\n",
       "      <td>20.530723</td>\n",
       "      <td>...</td>\n",
       "      <td>0.227061</td>\n",
       "      <td>0.238021</td>\n",
       "      <td>0.250471</td>\n",
       "      <td>0.302130</td>\n",
       "      <td>0.244860</td>\n",
       "      <td>0.230698</td>\n",
       "      <td>0.245578</td>\n",
       "      <td>0.254022</td>\n",
       "      <td>0.238960</td>\n",
       "      <td>0.247378</td>\n",
       "    </tr>\n",
       "    <tr>\n",
       "      <th>min</th>\n",
       "      <td>-8.200000</td>\n",
       "      <td>-4.800000</td>\n",
       "      <td>0.000000</td>\n",
       "      <td>0.000000</td>\n",
       "      <td>0.000000</td>\n",
       "      <td>6.000000</td>\n",
       "      <td>0.000000</td>\n",
       "      <td>0.000000</td>\n",
       "      <td>0.000000</td>\n",
       "      <td>0.000000</td>\n",
       "      <td>...</td>\n",
       "      <td>0.000000</td>\n",
       "      <td>0.000000</td>\n",
       "      <td>0.000000</td>\n",
       "      <td>0.000000</td>\n",
       "      <td>0.000000</td>\n",
       "      <td>0.000000</td>\n",
       "      <td>0.000000</td>\n",
       "      <td>0.000000</td>\n",
       "      <td>0.000000</td>\n",
       "      <td>0.000000</td>\n",
       "    </tr>\n",
       "    <tr>\n",
       "      <th>25%</th>\n",
       "      <td>7.600000</td>\n",
       "      <td>18.000000</td>\n",
       "      <td>0.000000</td>\n",
       "      <td>4.000000</td>\n",
       "      <td>8.200000</td>\n",
       "      <td>31.000000</td>\n",
       "      <td>7.000000</td>\n",
       "      <td>13.000000</td>\n",
       "      <td>57.000000</td>\n",
       "      <td>37.000000</td>\n",
       "      <td>...</td>\n",
       "      <td>0.000000</td>\n",
       "      <td>0.000000</td>\n",
       "      <td>0.000000</td>\n",
       "      <td>0.000000</td>\n",
       "      <td>0.000000</td>\n",
       "      <td>0.000000</td>\n",
       "      <td>0.000000</td>\n",
       "      <td>0.000000</td>\n",
       "      <td>0.000000</td>\n",
       "      <td>0.000000</td>\n",
       "    </tr>\n",
       "    <tr>\n",
       "      <th>50%</th>\n",
       "      <td>12.000000</td>\n",
       "      <td>22.600000</td>\n",
       "      <td>0.000000</td>\n",
       "      <td>4.800000</td>\n",
       "      <td>8.500000</td>\n",
       "      <td>39.000000</td>\n",
       "      <td>13.000000</td>\n",
       "      <td>19.000000</td>\n",
       "      <td>70.000000</td>\n",
       "      <td>52.000000</td>\n",
       "      <td>...</td>\n",
       "      <td>0.000000</td>\n",
       "      <td>0.000000</td>\n",
       "      <td>0.000000</td>\n",
       "      <td>0.000000</td>\n",
       "      <td>0.000000</td>\n",
       "      <td>0.000000</td>\n",
       "      <td>0.000000</td>\n",
       "      <td>0.000000</td>\n",
       "      <td>0.000000</td>\n",
       "      <td>0.000000</td>\n",
       "    </tr>\n",
       "    <tr>\n",
       "      <th>75%</th>\n",
       "      <td>16.800000</td>\n",
       "      <td>28.200000</td>\n",
       "      <td>0.600000</td>\n",
       "      <td>5.400000</td>\n",
       "      <td>8.700000</td>\n",
       "      <td>46.000000</td>\n",
       "      <td>19.000000</td>\n",
       "      <td>24.000000</td>\n",
       "      <td>83.000000</td>\n",
       "      <td>65.000000</td>\n",
       "      <td>...</td>\n",
       "      <td>0.000000</td>\n",
       "      <td>0.000000</td>\n",
       "      <td>0.000000</td>\n",
       "      <td>0.000000</td>\n",
       "      <td>0.000000</td>\n",
       "      <td>0.000000</td>\n",
       "      <td>0.000000</td>\n",
       "      <td>0.000000</td>\n",
       "      <td>0.000000</td>\n",
       "      <td>0.000000</td>\n",
       "    </tr>\n",
       "    <tr>\n",
       "      <th>max</th>\n",
       "      <td>33.900000</td>\n",
       "      <td>48.100000</td>\n",
       "      <td>3.200000</td>\n",
       "      <td>21.800000</td>\n",
       "      <td>14.500000</td>\n",
       "      <td>135.000000</td>\n",
       "      <td>55.000000</td>\n",
       "      <td>57.000000</td>\n",
       "      <td>100.000000</td>\n",
       "      <td>100.000000</td>\n",
       "      <td>...</td>\n",
       "      <td>1.000000</td>\n",
       "      <td>1.000000</td>\n",
       "      <td>1.000000</td>\n",
       "      <td>1.000000</td>\n",
       "      <td>1.000000</td>\n",
       "      <td>1.000000</td>\n",
       "      <td>1.000000</td>\n",
       "      <td>1.000000</td>\n",
       "      <td>1.000000</td>\n",
       "      <td>1.000000</td>\n",
       "    </tr>\n",
       "  </tbody>\n",
       "</table>\n",
       "<p>8 rows × 118 columns</p>\n",
       "</div>"
      ],
      "text/plain": [
       "             MinTemp        MaxTemp       Rainfall    Evaporation  \\\n",
       "count  113754.000000  113754.000000  113754.000000  113754.000000   \n",
       "mean       12.193497      23.237216       0.675080       5.151606   \n",
       "std         6.388279       7.094149       1.183837       2.823707   \n",
       "min        -8.200000      -4.800000       0.000000       0.000000   \n",
       "25%         7.600000      18.000000       0.000000       4.000000   \n",
       "50%        12.000000      22.600000       0.000000       4.800000   \n",
       "75%        16.800000      28.200000       0.600000       5.400000   \n",
       "max        33.900000      48.100000       3.200000      21.800000   \n",
       "\n",
       "            Sunshine  WindGustSpeed   WindSpeed9am   WindSpeed3pm  \\\n",
       "count  113754.000000  113754.000000  113754.000000  113754.000000   \n",
       "mean        8.041154      39.884074      13.978155      18.614756   \n",
       "std         2.769480      13.116959       8.806558       8.685862   \n",
       "min         0.000000       6.000000       0.000000       0.000000   \n",
       "25%         8.200000      31.000000       7.000000      13.000000   \n",
       "50%         8.500000      39.000000      13.000000      19.000000   \n",
       "75%         8.700000      46.000000      19.000000      24.000000   \n",
       "max        14.500000     135.000000      55.000000      57.000000   \n",
       "\n",
       "         Humidity9am    Humidity3pm  ...         3pmNNW          3pmNW  \\\n",
       "count  113754.000000  113754.000000  ...  113754.000000  113754.000000   \n",
       "mean       68.867486      51.509547  ...       0.054530       0.060288   \n",
       "std        18.935587      20.530723  ...       0.227061       0.238021   \n",
       "min         0.000000       0.000000  ...       0.000000       0.000000   \n",
       "25%        57.000000      37.000000  ...       0.000000       0.000000   \n",
       "50%        70.000000      52.000000  ...       0.000000       0.000000   \n",
       "75%        83.000000      65.000000  ...       0.000000       0.000000   \n",
       "max       100.000000     100.000000  ...       1.000000       1.000000   \n",
       "\n",
       "                3pmS          3pmSE         3pmSSE         3pmSSW  \\\n",
       "count  113754.000000  113754.000000  113754.000000  113754.000000   \n",
       "mean        0.067259       0.101605       0.064059       0.056402   \n",
       "std         0.250471       0.302130       0.244860       0.230698   \n",
       "min         0.000000       0.000000       0.000000       0.000000   \n",
       "25%         0.000000       0.000000       0.000000       0.000000   \n",
       "50%         0.000000       0.000000       0.000000       0.000000   \n",
       "75%         0.000000       0.000000       0.000000       0.000000   \n",
       "max         1.000000       1.000000       1.000000       1.000000   \n",
       "\n",
       "               3pmSW           3pmW         3pmWNW         3pmWSW  \n",
       "count  113754.000000  113754.000000  113754.000000  113754.000000  \n",
       "mean        0.064464       0.069334       0.060798       0.065483  \n",
       "std         0.245578       0.254022       0.238960       0.247378  \n",
       "min         0.000000       0.000000       0.000000       0.000000  \n",
       "25%         0.000000       0.000000       0.000000       0.000000  \n",
       "50%         0.000000       0.000000       0.000000       0.000000  \n",
       "75%         0.000000       0.000000       0.000000       0.000000  \n",
       "max         1.000000       1.000000       1.000000       1.000000  \n",
       "\n",
       "[8 rows x 118 columns]"
      ]
     },
     "execution_count": 60,
     "metadata": {},
     "output_type": "execute_result"
    }
   ],
   "source": [
    "X_train.describe()"
   ]
  },
  {
   "cell_type": "code",
   "execution_count": 61,
   "metadata": {},
   "outputs": [],
   "source": [
    "#Feature Scaling \n",
    "cols = X_train.columns\n",
    "scaler = MinMaxScaler()\n",
    "X_train = scaler.fit_transform(X_train)\n",
    "X_test = scaler.transform(X_test)"
   ]
  },
  {
   "cell_type": "code",
   "execution_count": 62,
   "metadata": {},
   "outputs": [
    {
     "data": {
      "text/html": [
       "<div>\n",
       "<style scoped>\n",
       "    .dataframe tbody tr th:only-of-type {\n",
       "        vertical-align: middle;\n",
       "    }\n",
       "\n",
       "    .dataframe tbody tr th {\n",
       "        vertical-align: top;\n",
       "    }\n",
       "\n",
       "    .dataframe thead tr th {\n",
       "        text-align: left;\n",
       "    }\n",
       "</style>\n",
       "<table border=\"1\" class=\"dataframe\">\n",
       "  <thead>\n",
       "    <tr>\n",
       "      <th></th>\n",
       "      <th>MinTemp</th>\n",
       "      <th>MaxTemp</th>\n",
       "      <th>Rainfall</th>\n",
       "      <th>Evaporation</th>\n",
       "      <th>Sunshine</th>\n",
       "      <th>WindGustSpeed</th>\n",
       "      <th>WindSpeed9am</th>\n",
       "      <th>WindSpeed3pm</th>\n",
       "      <th>Humidity9am</th>\n",
       "      <th>Humidity3pm</th>\n",
       "      <th>...</th>\n",
       "      <th>3pmNNW</th>\n",
       "      <th>3pmNW</th>\n",
       "      <th>3pmS</th>\n",
       "      <th>3pmSE</th>\n",
       "      <th>3pmSSE</th>\n",
       "      <th>3pmSSW</th>\n",
       "      <th>3pmSW</th>\n",
       "      <th>3pmW</th>\n",
       "      <th>3pmWNW</th>\n",
       "      <th>3pmWSW</th>\n",
       "    </tr>\n",
       "  </thead>\n",
       "  <tbody>\n",
       "    <tr>\n",
       "      <th>count</th>\n",
       "      <td>113754.000000</td>\n",
       "      <td>113754.000000</td>\n",
       "      <td>113754.000000</td>\n",
       "      <td>113754.000000</td>\n",
       "      <td>113754.000000</td>\n",
       "      <td>113754.000000</td>\n",
       "      <td>113754.000000</td>\n",
       "      <td>113754.000000</td>\n",
       "      <td>113754.000000</td>\n",
       "      <td>113754.000000</td>\n",
       "      <td>...</td>\n",
       "      <td>113754.000000</td>\n",
       "      <td>113754.000000</td>\n",
       "      <td>113754.000000</td>\n",
       "      <td>113754.000000</td>\n",
       "      <td>113754.000000</td>\n",
       "      <td>113754.000000</td>\n",
       "      <td>113754.000000</td>\n",
       "      <td>113754.000000</td>\n",
       "      <td>113754.000000</td>\n",
       "      <td>113754.000000</td>\n",
       "    </tr>\n",
       "    <tr>\n",
       "      <th>mean</th>\n",
       "      <td>0.484406</td>\n",
       "      <td>0.530004</td>\n",
       "      <td>0.210962</td>\n",
       "      <td>0.236312</td>\n",
       "      <td>0.554562</td>\n",
       "      <td>0.262667</td>\n",
       "      <td>0.254148</td>\n",
       "      <td>0.326575</td>\n",
       "      <td>0.688675</td>\n",
       "      <td>0.515095</td>\n",
       "      <td>...</td>\n",
       "      <td>0.054530</td>\n",
       "      <td>0.060288</td>\n",
       "      <td>0.067259</td>\n",
       "      <td>0.101605</td>\n",
       "      <td>0.064059</td>\n",
       "      <td>0.056402</td>\n",
       "      <td>0.064464</td>\n",
       "      <td>0.069334</td>\n",
       "      <td>0.060798</td>\n",
       "      <td>0.065483</td>\n",
       "    </tr>\n",
       "    <tr>\n",
       "      <th>std</th>\n",
       "      <td>0.151741</td>\n",
       "      <td>0.134105</td>\n",
       "      <td>0.369949</td>\n",
       "      <td>0.129528</td>\n",
       "      <td>0.190999</td>\n",
       "      <td>0.101682</td>\n",
       "      <td>0.160119</td>\n",
       "      <td>0.152384</td>\n",
       "      <td>0.189356</td>\n",
       "      <td>0.205307</td>\n",
       "      <td>...</td>\n",
       "      <td>0.227061</td>\n",
       "      <td>0.238021</td>\n",
       "      <td>0.250471</td>\n",
       "      <td>0.302130</td>\n",
       "      <td>0.244860</td>\n",
       "      <td>0.230698</td>\n",
       "      <td>0.245578</td>\n",
       "      <td>0.254022</td>\n",
       "      <td>0.238960</td>\n",
       "      <td>0.247378</td>\n",
       "    </tr>\n",
       "    <tr>\n",
       "      <th>min</th>\n",
       "      <td>0.000000</td>\n",
       "      <td>0.000000</td>\n",
       "      <td>0.000000</td>\n",
       "      <td>0.000000</td>\n",
       "      <td>0.000000</td>\n",
       "      <td>0.000000</td>\n",
       "      <td>0.000000</td>\n",
       "      <td>0.000000</td>\n",
       "      <td>0.000000</td>\n",
       "      <td>0.000000</td>\n",
       "      <td>...</td>\n",
       "      <td>0.000000</td>\n",
       "      <td>0.000000</td>\n",
       "      <td>0.000000</td>\n",
       "      <td>0.000000</td>\n",
       "      <td>0.000000</td>\n",
       "      <td>0.000000</td>\n",
       "      <td>0.000000</td>\n",
       "      <td>0.000000</td>\n",
       "      <td>0.000000</td>\n",
       "      <td>0.000000</td>\n",
       "    </tr>\n",
       "    <tr>\n",
       "      <th>25%</th>\n",
       "      <td>0.375297</td>\n",
       "      <td>0.431002</td>\n",
       "      <td>0.000000</td>\n",
       "      <td>0.183486</td>\n",
       "      <td>0.565517</td>\n",
       "      <td>0.193798</td>\n",
       "      <td>0.127273</td>\n",
       "      <td>0.228070</td>\n",
       "      <td>0.570000</td>\n",
       "      <td>0.370000</td>\n",
       "      <td>...</td>\n",
       "      <td>0.000000</td>\n",
       "      <td>0.000000</td>\n",
       "      <td>0.000000</td>\n",
       "      <td>0.000000</td>\n",
       "      <td>0.000000</td>\n",
       "      <td>0.000000</td>\n",
       "      <td>0.000000</td>\n",
       "      <td>0.000000</td>\n",
       "      <td>0.000000</td>\n",
       "      <td>0.000000</td>\n",
       "    </tr>\n",
       "    <tr>\n",
       "      <th>50%</th>\n",
       "      <td>0.479810</td>\n",
       "      <td>0.517958</td>\n",
       "      <td>0.000000</td>\n",
       "      <td>0.220183</td>\n",
       "      <td>0.586207</td>\n",
       "      <td>0.255814</td>\n",
       "      <td>0.236364</td>\n",
       "      <td>0.333333</td>\n",
       "      <td>0.700000</td>\n",
       "      <td>0.520000</td>\n",
       "      <td>...</td>\n",
       "      <td>0.000000</td>\n",
       "      <td>0.000000</td>\n",
       "      <td>0.000000</td>\n",
       "      <td>0.000000</td>\n",
       "      <td>0.000000</td>\n",
       "      <td>0.000000</td>\n",
       "      <td>0.000000</td>\n",
       "      <td>0.000000</td>\n",
       "      <td>0.000000</td>\n",
       "      <td>0.000000</td>\n",
       "    </tr>\n",
       "    <tr>\n",
       "      <th>75%</th>\n",
       "      <td>0.593824</td>\n",
       "      <td>0.623819</td>\n",
       "      <td>0.187500</td>\n",
       "      <td>0.247706</td>\n",
       "      <td>0.600000</td>\n",
       "      <td>0.310078</td>\n",
       "      <td>0.345455</td>\n",
       "      <td>0.421053</td>\n",
       "      <td>0.830000</td>\n",
       "      <td>0.650000</td>\n",
       "      <td>...</td>\n",
       "      <td>0.000000</td>\n",
       "      <td>0.000000</td>\n",
       "      <td>0.000000</td>\n",
       "      <td>0.000000</td>\n",
       "      <td>0.000000</td>\n",
       "      <td>0.000000</td>\n",
       "      <td>0.000000</td>\n",
       "      <td>0.000000</td>\n",
       "      <td>0.000000</td>\n",
       "      <td>0.000000</td>\n",
       "    </tr>\n",
       "    <tr>\n",
       "      <th>max</th>\n",
       "      <td>1.000000</td>\n",
       "      <td>1.000000</td>\n",
       "      <td>1.000000</td>\n",
       "      <td>1.000000</td>\n",
       "      <td>1.000000</td>\n",
       "      <td>1.000000</td>\n",
       "      <td>1.000000</td>\n",
       "      <td>1.000000</td>\n",
       "      <td>1.000000</td>\n",
       "      <td>1.000000</td>\n",
       "      <td>...</td>\n",
       "      <td>1.000000</td>\n",
       "      <td>1.000000</td>\n",
       "      <td>1.000000</td>\n",
       "      <td>1.000000</td>\n",
       "      <td>1.000000</td>\n",
       "      <td>1.000000</td>\n",
       "      <td>1.000000</td>\n",
       "      <td>1.000000</td>\n",
       "      <td>1.000000</td>\n",
       "      <td>1.000000</td>\n",
       "    </tr>\n",
       "  </tbody>\n",
       "</table>\n",
       "<p>8 rows × 118 columns</p>\n",
       "</div>"
      ],
      "text/plain": [
       "             MinTemp        MaxTemp       Rainfall    Evaporation  \\\n",
       "count  113754.000000  113754.000000  113754.000000  113754.000000   \n",
       "mean        0.484406       0.530004       0.210962       0.236312   \n",
       "std         0.151741       0.134105       0.369949       0.129528   \n",
       "min         0.000000       0.000000       0.000000       0.000000   \n",
       "25%         0.375297       0.431002       0.000000       0.183486   \n",
       "50%         0.479810       0.517958       0.000000       0.220183   \n",
       "75%         0.593824       0.623819       0.187500       0.247706   \n",
       "max         1.000000       1.000000       1.000000       1.000000   \n",
       "\n",
       "            Sunshine  WindGustSpeed   WindSpeed9am   WindSpeed3pm  \\\n",
       "count  113754.000000  113754.000000  113754.000000  113754.000000   \n",
       "mean        0.554562       0.262667       0.254148       0.326575   \n",
       "std         0.190999       0.101682       0.160119       0.152384   \n",
       "min         0.000000       0.000000       0.000000       0.000000   \n",
       "25%         0.565517       0.193798       0.127273       0.228070   \n",
       "50%         0.586207       0.255814       0.236364       0.333333   \n",
       "75%         0.600000       0.310078       0.345455       0.421053   \n",
       "max         1.000000       1.000000       1.000000       1.000000   \n",
       "\n",
       "         Humidity9am    Humidity3pm  ...         3pmNNW          3pmNW  \\\n",
       "count  113754.000000  113754.000000  ...  113754.000000  113754.000000   \n",
       "mean        0.688675       0.515095  ...       0.054530       0.060288   \n",
       "std         0.189356       0.205307  ...       0.227061       0.238021   \n",
       "min         0.000000       0.000000  ...       0.000000       0.000000   \n",
       "25%         0.570000       0.370000  ...       0.000000       0.000000   \n",
       "50%         0.700000       0.520000  ...       0.000000       0.000000   \n",
       "75%         0.830000       0.650000  ...       0.000000       0.000000   \n",
       "max         1.000000       1.000000  ...       1.000000       1.000000   \n",
       "\n",
       "                3pmS          3pmSE         3pmSSE         3pmSSW  \\\n",
       "count  113754.000000  113754.000000  113754.000000  113754.000000   \n",
       "mean        0.067259       0.101605       0.064059       0.056402   \n",
       "std         0.250471       0.302130       0.244860       0.230698   \n",
       "min         0.000000       0.000000       0.000000       0.000000   \n",
       "25%         0.000000       0.000000       0.000000       0.000000   \n",
       "50%         0.000000       0.000000       0.000000       0.000000   \n",
       "75%         0.000000       0.000000       0.000000       0.000000   \n",
       "max         1.000000       1.000000       1.000000       1.000000   \n",
       "\n",
       "               3pmSW           3pmW         3pmWNW         3pmWSW  \n",
       "count  113754.000000  113754.000000  113754.000000  113754.000000  \n",
       "mean        0.064464       0.069334       0.060798       0.065483  \n",
       "std         0.245578       0.254022       0.238960       0.247378  \n",
       "min         0.000000       0.000000       0.000000       0.000000  \n",
       "25%         0.000000       0.000000       0.000000       0.000000  \n",
       "50%         0.000000       0.000000       0.000000       0.000000  \n",
       "75%         0.000000       0.000000       0.000000       0.000000  \n",
       "max         1.000000       1.000000       1.000000       1.000000  \n",
       "\n",
       "[8 rows x 118 columns]"
      ]
     },
     "execution_count": 62,
     "metadata": {},
     "output_type": "execute_result"
    }
   ],
   "source": [
    "X_train = pd.DataFrame(X_train, columns=[cols])\n",
    "X_test = pd.DataFrame(X_test, columns=[cols])\n",
    "X_train.describe()"
   ]
  },
  {
   "cell_type": "code",
   "execution_count": 63,
   "metadata": {},
   "outputs": [
    {
     "data": {
      "image/png": "[encoded data removed]",
      "text/plain": [
       "<Figure size 1440x720 with 1 Axes>"
      ]
     },
     "metadata": {
      "needs_background": "light"
     },
     "output_type": "display_data"
    }
   ],
   "source": [
    "plt.figure(figsize = (20,10))\n",
    "sns.boxenplot(data = X_train.iloc[0:113749,0:15], palette = 'pastel')\n",
    "plt.xticks(rotation = 90)\n",
    "plt.show()"
   ]
  },
  {
   "cell_type": "code",
   "execution_count": 64,
   "metadata": {},
   "outputs": [],
   "source": [
    "aclist =[]\n",
    "f1list=[]\n",
    "cklist=[]"
   ]
  },
  {
   "cell_type": "code",
   "execution_count": 65,
   "metadata": {},
   "outputs": [
    {
     "name": "stdout",
     "output_type": "stream",
     "text": [
      "Time taken : 2.182896614074707\n",
      "Logestic Regression Model accuracy score: is 0.8502\n",
      "F1 score for logistic regression is: 0.6067 \n",
      "Cohen Kappa score for logistic regression is: 0.5177 \n"
     ]
    }
   ],
   "source": [
    "# Train a logistic regression model on the training set\n",
    "t0=time.time()\n",
    "lreg = LogisticRegression(solver='liblinear', random_state=0)\n",
    "lreg.fit(X_train, Y_train)\n",
    "print('Time taken :' , time.time()-t0)\n",
    "Y_pred_test_lr = lreg.predict(X_test)\n",
    "acs_lr=accuracy_score(Y_test, Y_pred_test_lr)\n",
    "f1_lr=f1_score(Y_test, Y_pred_test_lr,pos_label=\"Yes\")\n",
    "ck_lr=cohen_kappa_score(Y_test, Y_pred_test_lr)\n",
    "print('Logestic Regression Model accuracy score: is {0:0.4f}'. format(acs_lr))\n",
    "print(\"F1 score for logistic regression is: {0:0.4f} \". format(f1_lr))\n",
    "print(\"Cohen Kappa score for logistic regression is: {0:0.4f} \". format(ck_lr))\n"
   ]
  },
  {
   "cell_type": "code",
   "execution_count": 66,
   "metadata": {},
   "outputs": [],
   "source": [
    "aclist.append(acs_lr)\n",
    "f1list.append(f1_lr)\n",
    "cklist.append(ck_lr)"
   ]
  },
  {
   "cell_type": "code",
   "execution_count": 67,
   "metadata": {},
   "outputs": [
    {
     "data": {
      "text/plain": [
       "<AxesSubplot:>"
      ]
     },
     "execution_count": 67,
     "metadata": {},
     "output_type": "execute_result"
    },
    {
     "data": {
      "image/png": "[encoded data removed]",
      "text/plain": [
       "<Figure size 864x576 with 2 Axes>"
      ]
     },
     "metadata": {
      "needs_background": "light"
     },
     "output_type": "display_data"
    }
   ],
   "source": [
    "# Logistic regression confusion matrix\n",
    "cmap1 = sns.diverging_palette(260,-10,s=50,l=75,n=5, as_cmap=True)\n",
    "plt.subplots(figsize=(12,8))\n",
    "cf_matrix = confusion_matrix(Y_test,Y_pred_test_lr)\n",
    "sns.heatmap(cf_matrix/np.sum(cf_matrix), cmap = cmap1, annot = True, annot_kws = {'size':25})"
   ]
  },
  {
   "cell_type": "code",
   "execution_count": 68,
   "metadata": {},
   "outputs": [
    {
     "name": "stdout",
     "output_type": "stream",
     "text": [
      "Time taken : 762.6322002410889\n",
      "Gradient Boosing Model accuracy score is 0.8679\n",
      "F1 score for Gradient Boosing Model is 0.6636\n",
      "Cohen Kappa score for Gradient Boosing Model is 0.5834\n"
     ]
    }
   ],
   "source": [
    "# Gradient Boosting Calssifer- Fit model no training data\n",
    "t0=time.time()\n",
    "XGBmodel = XGBClassifier(objective='binary:logistic',eta ='0.25',max_depth ='16',n_estimators=500)\n",
    "XGBmodel.fit(X_train, Y_train)\n",
    "print('Time taken :' , time.time()-t0)\n",
    "Y_pred_test_XGB = XGBmodel.predict(X_test)\n",
    "\n",
    "acs_xb=accuracy_score(Y_test, Y_pred_test_XGB)\n",
    "f1_xb=f1_score(Y_test, Y_pred_test_XGB,pos_label=\"Yes\")\n",
    "ck_xb=cohen_kappa_score(Y_test, Y_pred_test_XGB)\n",
    "print('Gradient Boosing Model accuracy score is {0:0.4f}'. format(acs_xb))\n",
    "print(\"F1 score for Gradient Boosing Model is {0:0.4f}\". format(f1_xb))\n",
    "print(\"Cohen Kappa score for Gradient Boosing Model is {0:0.4f}\". format(ck_xb))"
   ]
  },
  {
   "cell_type": "code",
   "execution_count": 69,
   "metadata": {},
   "outputs": [],
   "source": [
    "aclist.append(acs_xb)\n",
    "f1list.append(f1_xb)\n",
    "cklist.append(ck_xb)"
   ]
  },
  {
   "cell_type": "code",
   "execution_count": 125,
   "metadata": {},
   "outputs": [
    {
     "data": {
      "text/plain": [
       "<AxesSubplot:>"
      ]
     },
     "execution_count": 125,
     "metadata": {},
     "output_type": "execute_result"
    },
    {
     "data": {
      "image/png": "[encoded data removed]",
      "text/plain": [
       "<Figure size 864x576 with 2 Axes>"
      ]
     },
     "metadata": {
      "needs_background": "light"
     },
     "output_type": "display_data"
    }
   ],
   "source": [
    "# Gradient Boosting confusion matrix\n",
    "cmap1 = sns.diverging_palette(260,-10,s=50,l=75,n=5, as_cmap=True)\n",
    "plt.subplots(figsize=(12,8))\n",
    "cf_matrix = confusion_matrix(Y_test,Y_pred_test_XGB)\n",
    "sns.heatmap(cf_matrix/np.sum(cf_matrix), cmap = cmap1, annot = True, annot_kws = {'size':25})"
   ]
  },
  {
   "cell_type": "code",
   "execution_count": 71,
   "metadata": {},
   "outputs": [
    {
     "name": "stdout",
     "output_type": "stream",
     "text": [
      "Time taken : 0.627784013748169\n",
      "BernoulliNBModel accuracy score is 0.7635\n",
      "F1 score for BernoulliNBModel is 0.4769\n",
      "Cohen Kappa score for BernoulliNB Model is 0.3241\n"
     ]
    }
   ],
   "source": [
    "# Bernoulli Naive Bayes Model\n",
    "t0=time.time()\n",
    "BNBmodel = BernoulliNB()\n",
    "BNBmodel.fit(X_train, Y_train)\n",
    "print('Time taken :' , time.time()-t0)\n",
    "Y_pred_test_BNB = BNBmodel.predict(X_test)\n",
    "\n",
    "acs_bnb=accuracy_score(Y_test, Y_pred_test_BNB)\n",
    "f1_bnb=f1_score(Y_test, Y_pred_test_BNB,pos_label=\"Yes\")\n",
    "ck_bnb=cohen_kappa_score(Y_test, Y_pred_test_BNB)\n",
    "print('BernoulliNBModel accuracy score is {0:0.4f}'. format(acs_bnb))\n",
    "print(\"F1 score for BernoulliNBModel is {0:0.4f}\". format(f1_bnb))\n",
    "print(\"Cohen Kappa score for BernoulliNB Model is {0:0.4f}\". format(ck_bnb))"
   ]
  },
  {
   "cell_type": "code",
   "execution_count": 72,
   "metadata": {},
   "outputs": [],
   "source": [
    "aclist.append(acs_bnb)\n",
    "f1list.append(f1_bnb)\n",
    "cklist.append(ck_bnb)"
   ]
  },
  {
   "cell_type": "code",
   "execution_count": 73,
   "metadata": {},
   "outputs": [
    {
     "data": {
      "text/plain": [
       "<AxesSubplot:>"
      ]
     },
     "execution_count": 73,
     "metadata": {},
     "output_type": "execute_result"
    },
    {
     "data": {
      "image/png": "[encoded data removed]",
      "text/plain": [
       "<Figure size 864x576 with 2 Axes>"
      ]
     },
     "metadata": {
      "needs_background": "light"
     },
     "output_type": "display_data"
    }
   ],
   "source": [
    "# Bernoulli Naive Bayes confusion matrix\n",
    "cmap1 = sns.diverging_palette(260,-10,s=50,l=75,n=5, as_cmap=True)\n",
    "plt.subplots(figsize=(12,8))\n",
    "cf_matrix = confusion_matrix(Y_test,Y_pred_test_BNB )\n",
    "sns.heatmap(cf_matrix/np.sum(cf_matrix), cmap = cmap1, annot = True, annot_kws = {'size':25})"
   ]
  },
  {
   "cell_type": "code",
   "execution_count": 74,
   "metadata": {},
   "outputs": [
    {
     "name": "stdout",
     "output_type": "stream",
     "text": [
      "Time taken : 0.48722410202026367\n",
      "GaussianNB accuracy score is 0.6511\n",
      "F1 score for GaussianNB is 0.4856\n",
      "Cohen Kappa score for GaussianNB Model is 0.2651\n"
     ]
    }
   ],
   "source": [
    "# Gaussian Naive Bayes Model\n",
    "t0=time.time()\n",
    "GNBmodel = GaussianNB()\n",
    "GNBmodel.fit(X_train, Y_train)\n",
    "print('Time taken :' , time.time()-t0)\n",
    "Y_pred_test_GNB = GNBmodel.predict(X_test)\n",
    "\n",
    "acs_gnb=accuracy_score(Y_test, Y_pred_test_GNB)\n",
    "f1_gnb=f1_score(Y_test, Y_pred_test_GNB,pos_label=\"Yes\")\n",
    "ck_gnb=cohen_kappa_score(Y_test, Y_pred_test_GNB)\n",
    "print('GaussianNB accuracy score is {0:0.4f}'. format(acs_gnb))\n",
    "print(\"F1 score for GaussianNB is {0:0.4f}\". format(f1_gnb))\n",
    "print(\"Cohen Kappa score for GaussianNB Model is {0:0.4f}\". format(ck_gnb))"
   ]
  },
  {
   "cell_type": "code",
   "execution_count": 75,
   "metadata": {},
   "outputs": [],
   "source": [
    "aclist.append(acs_gnb)\n",
    "f1list.append(f1_gnb)\n",
    "cklist.append(ck_gnb)"
   ]
  },
  {
   "cell_type": "code",
   "execution_count": 76,
   "metadata": {},
   "outputs": [
    {
     "data": {
      "text/plain": [
       "<AxesSubplot:>"
      ]
     },
     "execution_count": 76,
     "metadata": {},
     "output_type": "execute_result"
    },
    {
     "data": {
      "image/png": "[encoded data removed]",
      "text/plain": [
       "<Figure size 864x576 with 2 Axes>"
      ]
     },
     "metadata": {
      "needs_background": "light"
     },
     "output_type": "display_data"
    }
   ],
   "source": [
    "# Gaussian Naive Bayes confusion matrix\n",
    "cmap1 = sns.diverging_palette(260,-10,s=50,l=75,n=5, as_cmap=True)\n",
    "plt.subplots(figsize=(12,8))\n",
    "cf_matrix = confusion_matrix(Y_test,Y_pred_test_GNB)\n",
    "sns.heatmap(cf_matrix/np.sum(cf_matrix), cmap = cmap1, annot = True, annot_kws = {'size':25})"
   ]
  },
  {
   "cell_type": "code",
   "execution_count": 77,
   "metadata": {},
   "outputs": [],
   "source": [
    "le = preprocessing.LabelEncoder()\n",
    "Y_train_0_1  = le.fit_transform(Y_train)\n",
    "Y_test_0_1 = le.fit_transform(Y_test)"
   ]
  },
  {
   "cell_type": "code",
   "execution_count": 78,
   "metadata": {},
   "outputs": [
    {
     "name": "stdout",
     "output_type": "stream",
     "text": [
      "Time taken : 221.12426352500916\n",
      "Random Forest Regressor accuracy score is 0.8587\n",
      "F1 score for Random Forest Regressor is 0.6269\n",
      "Cohen Kappa score for Random Forest Regressor Model is 0.5434\n"
     ]
    }
   ],
   "source": [
    "# Random Forest Regressor\n",
    "t0=time.time()\n",
    "RFRmodel = RandomForestRegressor(n_estimators = 100, random_state = 0)  \n",
    "RFRmodel.fit(X_train, Y_train_0_1)  \n",
    "print('Time taken :' , time.time()-t0)\n",
    "Y_pred_test_RFR = RFRmodel.predict(X_test)\n",
    "                                                                  \n",
    "acs_rfr=accuracy_score(Y_test_0_1, np.round(Y_pred_test_RFR,0))\n",
    "f1_rfr=f1_score(Y_test_0_1, np.round(Y_pred_test_RFR,0),)\n",
    "ck_rfr=cohen_kappa_score(Y_test_0_1, np.round(Y_pred_test_RFR,0))\n",
    "print('Random Forest Regressor accuracy score is {0:0.4f}'. format(acs_rfr))\n",
    "print(\"F1 score for Random Forest Regressor is {0:0.4f}\". format(f1_rfr))\n",
    "print(\"Cohen Kappa score for Random Forest Regressor Model is {0:0.4f}\". format(ck_rfr))"
   ]
  },
  {
   "cell_type": "code",
   "execution_count": 79,
   "metadata": {},
   "outputs": [],
   "source": [
    "aclist.append(acs_rfr)\n",
    "f1list.append(f1_rfr)\n",
    "cklist.append(ck_rfr)"
   ]
  },
  {
   "cell_type": "code",
   "execution_count": 80,
   "metadata": {},
   "outputs": [
    {
     "data": {
      "text/plain": [
       "<AxesSubplot:>"
      ]
     },
     "execution_count": 80,
     "metadata": {},
     "output_type": "execute_result"
    },
    {
     "data": {
      "image/png": "[encoded data removed]",
      "text/plain": [
       "<Figure size 864x576 with 2 Axes>"
      ]
     },
     "metadata": {
      "needs_background": "light"
     },
     "output_type": "display_data"
    }
   ],
   "source": [
    "# Random Forest Regressor confusion matrix\n",
    "cmap1 = sns.diverging_palette(260,-10,s=50,l=75,n=5, as_cmap=True)\n",
    "plt.subplots(figsize=(12,8))\n",
    "cf_matrix = confusion_matrix(Y_test_0_1,np.round(Y_pred_test_RFR,0))\n",
    "sns.heatmap(cf_matrix/np.sum(cf_matrix), cmap = cmap1, annot = True, annot_kws = {'size':25})"
   ]
  },
  {
   "cell_type": "code",
   "execution_count": 81,
   "metadata": {},
   "outputs": [
    {
     "name": "stdout",
     "output_type": "stream",
     "text": [
      "Time taken : 8.89998483657837\n",
      "Random Forest Regressor accuracy score is 0.8227\n",
      "F1 score for Random Forest Regressor is 0.3975\n",
      "Cohen Kappa score for Random Forest Regressor Model is 0.3254\n"
     ]
    }
   ],
   "source": [
    "# Random Forest Classifier Model\n",
    "t0=time.time()\n",
    "RFCmodel = RandomForestClassifier(n_estimators=150, max_depth=5,random_state=0)\n",
    "RFCmodel.fit(X_train,Y_train)\n",
    "print('Time taken :' , time.time()-t0)\n",
    "Y_pred_test_RFC = RFCmodel.predict(X_test)\n",
    "\n",
    "acs_rfc=accuracy_score(Y_test, Y_pred_test_RFC)\n",
    "f1_rfc=f1_score(Y_test, Y_pred_test_RFC,pos_label=\"Yes\")\n",
    "ck_rfc=cohen_kappa_score(Y_test, Y_pred_test_RFC)\n",
    "print('Random Forest Regressor accuracy score is {0:0.4f}'. format(acs_rfc))\n",
    "print(\"F1 score for Random Forest Regressor is {0:0.4f}\". format(f1_rfc))\n",
    "print(\"Cohen Kappa score for Random Forest Regressor Model is {0:0.4f}\". format(ck_rfc))"
   ]
  },
  {
   "cell_type": "code",
   "execution_count": 82,
   "metadata": {},
   "outputs": [],
   "source": [
    "aclist.append(acs_rfc)\n",
    "f1list.append(f1_rfc)\n",
    "cklist.append(ck_rfc)"
   ]
  },
  {
   "cell_type": "code",
   "execution_count": 83,
   "metadata": {},
   "outputs": [
    {
     "data": {
      "text/plain": [
       "<AxesSubplot:>"
      ]
     },
     "execution_count": 83,
     "metadata": {},
     "output_type": "execute_result"
    },
    {
     "data": {
      "image/png": "[encoded data removed]",
      "text/plain": [
       "<Figure size 864x576 with 2 Axes>"
      ]
     },
     "metadata": {
      "needs_background": "light"
     },
     "output_type": "display_data"
    }
   ],
   "source": [
    "# Random Forest Classifier confusion matrix\n",
    "cmap1 = sns.diverging_palette(260,-10,s=50,l=75,n=5, as_cmap=True)\n",
    "plt.subplots(figsize=(12,8))\n",
    "cf_matrix = confusion_matrix(Y_test,Y_pred_test_RFC)\n",
    "sns.heatmap(cf_matrix/np.sum(cf_matrix), cmap = cmap1, annot = True, annot_kws = {'size':25})"
   ]
  },
  {
   "cell_type": "code",
   "execution_count": 84,
   "metadata": {},
   "outputs": [
    {
     "name": "stdout",
     "output_type": "stream",
     "text": [
      "Time taken : 1626.0284190177917\n",
      "SVM accuracy score is 0.8505\n",
      "F1 score for SVM is 0.5939\n",
      "Cohen Kappa score for SVM Model is 0.5075\n"
     ]
    }
   ],
   "source": [
    "#Suppor Vector Machine Model\n",
    "t0=time.time()\n",
    "SVMmodel = svm.SVC(kernel='linear')\n",
    "SVMmodel.fit(X_train,Y_train)\n",
    "print('Time taken :' , time.time()-t0)\n",
    "Y_pred_test_SVM = SVMmodel.predict(X_test)\n",
    "\n",
    "acs_svm=accuracy_score(Y_test, Y_pred_test_SVM)\n",
    "f1_svm=f1_score(Y_test, Y_pred_test_SVM,pos_label=\"Yes\")\n",
    "ck_svm=cohen_kappa_score(Y_test, Y_pred_test_SVM)\n",
    "print('SVM accuracy score is {0:0.4f}'. format(acs_svm))\n",
    "print(\"F1 score for SVM is {0:0.4f}\". format(f1_svm))\n",
    "print(\"Cohen Kappa score for SVM Model is {0:0.4f}\". format(ck_svm))"
   ]
  },
  {
   "cell_type": "code",
   "execution_count": 85,
   "metadata": {},
   "outputs": [],
   "source": [
    "aclist.append(acs_svm)\n",
    "f1list.append(f1_svm)\n",
    "cklist.append(ck_svm)"
   ]
  },
  {
   "cell_type": "code",
   "execution_count": 86,
   "metadata": {},
   "outputs": [
    {
     "data": {
      "text/plain": [
       "<AxesSubplot:>"
      ]
     },
     "execution_count": 86,
     "metadata": {},
     "output_type": "execute_result"
    },
    {
     "data": {
      "image/png": "[encoded data removed]",
      "text/plain": [
       "<Figure size 864x576 with 2 Axes>"
      ]
     },
     "metadata": {
      "needs_background": "light"
     },
     "output_type": "display_data"
    }
   ],
   "source": [
    "# SVM confusion matrix\n",
    "cmap1 = sns.diverging_palette(260,-10,s=50,l=75,n=5, as_cmap=True)\n",
    "plt.subplots(figsize=(12,8))\n",
    "cf_matrix = confusion_matrix(Y_test,Y_pred_test_SVM)\n",
    "sns.heatmap(cf_matrix/np.sum(cf_matrix), cmap = cmap1, annot = True, annot_kws = {'size':15})\n"
   ]
  },
  {
   "cell_type": "code",
   "execution_count": 87,
   "metadata": {},
   "outputs": [],
   "source": [
    "early_stopping = callbacks.EarlyStopping(\n",
    "    min_delta=0.001, #minimum amount of change to count as an improvement\n",
    "    patience=20, # how many epochs to wait before stopping\n",
    "    restore_best_weights=True,\n",
    ")\n",
    "\n",
    "# Initialising the NN\n",
    "NNmodel = Sequential()\n",
    "\n",
    "# Layers\n",
    "NNmodel.add(Dense(units = 32, kernel_initializer = 'uniform', activation = 'relu', input_dim = 118))\n",
    "NNmodel.add(Dense(units = 32, kernel_initializer = 'uniform', activation = 'relu'))\n",
    "NNmodel.add(Dense(units = 16, kernel_initializer = 'uniform', activation = 'relu'))\n",
    "NNmodel.add(Dropout(0.25))\n",
    "NNmodel.add(Dense(units = 8, kernel_initializer = 'uniform', activation = 'relu'))\n",
    "NNmodel.add(Dropout(0.5))\n",
    "NNmodel.add(Dense(units = 1, kernel_initializer = 'uniform', activation = 'sigmoid'))\n",
    "\n",
    "# Compiling the ANN\n",
    "opt = Adam(learning_rate=0.00009)\n",
    "NNmodel.compile(optimizer = opt, loss = 'binary_crossentropy', metrics = ['accuracy'])"
   ]
  },
  {
   "cell_type": "code",
   "execution_count": 88,
   "metadata": {},
   "outputs": [
    {
     "data": {
      "text/plain": [
       "(113754, 118)"
      ]
     },
     "execution_count": 88,
     "metadata": {},
     "output_type": "execute_result"
    }
   ],
   "source": [
    "X_train.shape"
   ]
  },
  {
   "cell_type": "code",
   "execution_count": 89,
   "metadata": {},
   "outputs": [
    {
     "name": "stdout",
     "output_type": "stream",
     "text": [
      "Epoch 1/150\n",
      "2844/2844 [==============================] - 8s 3ms/step - loss: 0.5854 - accuracy: 0.7744 - val_loss: 0.4435 - val_accuracy: 0.7763\n",
      "Epoch 2/150\n",
      "2844/2844 [==============================] - 6s 2ms/step - loss: 0.4541 - accuracy: 0.7759 - val_loss: 0.4052 - val_accuracy: 0.7763\n",
      "Epoch 3/150\n",
      "2844/2844 [==============================] - 6s 2ms/step - loss: 0.4246 - accuracy: 0.7753 - val_loss: 0.3933 - val_accuracy: 0.7763\n",
      "Epoch 4/150\n",
      "2844/2844 [==============================] - 6s 2ms/step - loss: 0.4134 - accuracy: 0.7756 - val_loss: 0.3883 - val_accuracy: 0.7763\n",
      "Epoch 5/150\n",
      "2844/2844 [==============================] - 6s 2ms/step - loss: 0.4075 - accuracy: 0.8142 - val_loss: 0.3838 - val_accuracy: 0.8397\n",
      "Epoch 6/150\n",
      "2844/2844 [==============================] - 6s 2ms/step - loss: 0.4041 - accuracy: 0.8378 - val_loss: 0.3815 - val_accuracy: 0.8423\n",
      "Epoch 7/150\n",
      "2844/2844 [==============================] - 6s 2ms/step - loss: 0.4032 - accuracy: 0.8400 - val_loss: 0.3795 - val_accuracy: 0.8430\n",
      "Epoch 8/150\n",
      "2844/2844 [==============================] - 6s 2ms/step - loss: 0.3973 - accuracy: 0.8433 - val_loss: 0.3758 - val_accuracy: 0.8435\n",
      "Epoch 9/150\n",
      "2844/2844 [==============================] - 7s 2ms/step - loss: 0.3977 - accuracy: 0.8449 - val_loss: 0.3744 - val_accuracy: 0.8452\n",
      "Epoch 10/150\n",
      "2844/2844 [==============================] - 6s 2ms/step - loss: 0.3935 - accuracy: 0.8463 - val_loss: 0.3724 - val_accuracy: 0.8473\n",
      "Epoch 11/150\n",
      "2844/2844 [==============================] - 7s 2ms/step - loss: 0.3924 - accuracy: 0.8477 - val_loss: 0.3725 - val_accuracy: 0.8476\n",
      "Epoch 12/150\n",
      "2844/2844 [==============================] - 6s 2ms/step - loss: 0.3886 - accuracy: 0.8465 - val_loss: 0.3677 - val_accuracy: 0.8491\n",
      "Epoch 13/150\n",
      "2844/2844 [==============================] - 6s 2ms/step - loss: 0.3899 - accuracy: 0.8473 - val_loss: 0.3663 - val_accuracy: 0.8503\n",
      "Epoch 14/150\n",
      "2844/2844 [==============================] - 6s 2ms/step - loss: 0.3877 - accuracy: 0.8481 - val_loss: 0.3649 - val_accuracy: 0.8500\n",
      "Epoch 15/150\n",
      "2844/2844 [==============================] - 6s 2ms/step - loss: 0.3805 - accuracy: 0.8510 - val_loss: 0.3639 - val_accuracy: 0.8494\n",
      "Epoch 16/150\n",
      "2844/2844 [==============================] - 6s 2ms/step - loss: 0.3853 - accuracy: 0.8475 - val_loss: 0.3637 - val_accuracy: 0.8498\n",
      "Epoch 17/150\n",
      "2844/2844 [==============================] - 6s 2ms/step - loss: 0.3821 - accuracy: 0.8497 - val_loss: 0.3621 - val_accuracy: 0.8503\n",
      "Epoch 18/150\n",
      "2844/2844 [==============================] - 7s 2ms/step - loss: 0.3851 - accuracy: 0.8497 - val_loss: 0.3616 - val_accuracy: 0.8513\n",
      "Epoch 19/150\n",
      "2844/2844 [==============================] - 6s 2ms/step - loss: 0.3778 - accuracy: 0.8499 - val_loss: 0.3614 - val_accuracy: 0.8502\n",
      "Epoch 20/150\n",
      "2844/2844 [==============================] - 6s 2ms/step - loss: 0.3819 - accuracy: 0.8479 - val_loss: 0.3604 - val_accuracy: 0.8511\n",
      "Epoch 21/150\n",
      "2844/2844 [==============================] - 6s 2ms/step - loss: 0.3747 - accuracy: 0.8526 - val_loss: 0.3604 - val_accuracy: 0.8512\n",
      "Epoch 22/150\n",
      "2844/2844 [==============================] - 6s 2ms/step - loss: 0.3770 - accuracy: 0.8520 - val_loss: 0.3605 - val_accuracy: 0.8504\n",
      "Epoch 23/150\n",
      "2844/2844 [==============================] - 6s 2ms/step - loss: 0.3752 - accuracy: 0.8506 - val_loss: 0.3604 - val_accuracy: 0.8506\n",
      "Epoch 24/150\n",
      "2844/2844 [==============================] - 7s 2ms/step - loss: 0.3772 - accuracy: 0.8513 - val_loss: 0.3608 - val_accuracy: 0.8485\n",
      "Epoch 25/150\n",
      "2844/2844 [==============================] - 6s 2ms/step - loss: 0.3759 - accuracy: 0.8519 - val_loss: 0.3604 - val_accuracy: 0.8498\n",
      "Epoch 26/150\n",
      "2844/2844 [==============================] - 6s 2ms/step - loss: 0.3729 - accuracy: 0.8544 - val_loss: 0.3591 - val_accuracy: 0.8508\n",
      "Epoch 27/150\n",
      "2844/2844 [==============================] - 6s 2ms/step - loss: 0.3782 - accuracy: 0.8522 - val_loss: 0.3589 - val_accuracy: 0.8498\n",
      "Epoch 28/150\n",
      "2844/2844 [==============================] - 6s 2ms/step - loss: 0.3712 - accuracy: 0.8512 - val_loss: 0.3584 - val_accuracy: 0.8507\n",
      "Epoch 29/150\n",
      "2844/2844 [==============================] - 6s 2ms/step - loss: 0.3737 - accuracy: 0.8522 - val_loss: 0.3588 - val_accuracy: 0.8499\n",
      "Epoch 30/150\n",
      "2844/2844 [==============================] - 6s 2ms/step - loss: 0.3720 - accuracy: 0.8537 - val_loss: 0.3591 - val_accuracy: 0.8497\n",
      "Epoch 31/150\n",
      "2844/2844 [==============================] - 6s 2ms/step - loss: 0.3737 - accuracy: 0.8521 - val_loss: 0.3606 - val_accuracy: 0.8521\n",
      "Epoch 32/150\n",
      "2844/2844 [==============================] - 6s 2ms/step - loss: 0.3729 - accuracy: 0.8537 - val_loss: 0.3582 - val_accuracy: 0.8502\n",
      "Epoch 33/150\n",
      "2844/2844 [==============================] - 6s 2ms/step - loss: 0.3678 - accuracy: 0.8558 - val_loss: 0.3585 - val_accuracy: 0.8497\n",
      "Epoch 34/150\n",
      "2844/2844 [==============================] - 6s 2ms/step - loss: 0.3694 - accuracy: 0.8533 - val_loss: 0.3611 - val_accuracy: 0.8515\n",
      "Epoch 35/150\n",
      "2844/2844 [==============================] - 6s 2ms/step - loss: 0.3698 - accuracy: 0.8545 - val_loss: 0.3570 - val_accuracy: 0.8504\n",
      "Epoch 36/150\n",
      "2844/2844 [==============================] - 6s 2ms/step - loss: 0.3649 - accuracy: 0.8567 - val_loss: 0.3586 - val_accuracy: 0.8513\n",
      "Epoch 37/150\n",
      "2844/2844 [==============================] - 6s 2ms/step - loss: 0.3704 - accuracy: 0.8553 - val_loss: 0.3585 - val_accuracy: 0.8484\n",
      "Epoch 38/150\n",
      "2844/2844 [==============================] - 6s 2ms/step - loss: 0.3719 - accuracy: 0.8534 - val_loss: 0.3585 - val_accuracy: 0.8490\n",
      "Epoch 39/150\n",
      "2844/2844 [==============================] - 6s 2ms/step - loss: 0.3717 - accuracy: 0.8525 - val_loss: 0.3577 - val_accuracy: 0.8513\n",
      "Epoch 40/150\n",
      "2844/2844 [==============================] - 6s 2ms/step - loss: 0.3670 - accuracy: 0.8560 - val_loss: 0.3591 - val_accuracy: 0.8480\n",
      "Epoch 41/150\n",
      "2844/2844 [==============================] - 6s 2ms/step - loss: 0.3671 - accuracy: 0.8559 - val_loss: 0.3617 - val_accuracy: 0.8458\n",
      "Epoch 42/150\n",
      "2844/2844 [==============================] - 6s 2ms/step - loss: 0.3680 - accuracy: 0.8525 - val_loss: 0.3582 - val_accuracy: 0.8506\n",
      "Epoch 43/150\n",
      "2844/2844 [==============================] - 6s 2ms/step - loss: 0.3609 - accuracy: 0.8574 - val_loss: 0.3582 - val_accuracy: 0.8517\n",
      "Epoch 44/150\n",
      "2844/2844 [==============================] - 6s 2ms/step - loss: 0.3634 - accuracy: 0.8587 - val_loss: 0.3620 - val_accuracy: 0.8448\n",
      "Epoch 45/150\n",
      "2844/2844 [==============================] - 6s 2ms/step - loss: 0.3684 - accuracy: 0.8559 - val_loss: 0.3585 - val_accuracy: 0.8519\n",
      "Epoch 46/150\n",
      "2844/2844 [==============================] - 6s 2ms/step - loss: 0.3645 - accuracy: 0.8560 - val_loss: 0.3577 - val_accuracy: 0.8506\n",
      "Epoch 47/150\n",
      "2844/2844 [==============================] - 6s 2ms/step - loss: 0.3630 - accuracy: 0.8574 - val_loss: 0.3584 - val_accuracy: 0.8491\n",
      "Epoch 48/150\n",
      "2844/2844 [==============================] - 6s 2ms/step - loss: 0.3638 - accuracy: 0.8584 - val_loss: 0.3586 - val_accuracy: 0.8523\n",
      "Epoch 49/150\n",
      "2844/2844 [==============================] - 6s 2ms/step - loss: 0.3633 - accuracy: 0.8571 - val_loss: 0.3598 - val_accuracy: 0.8528\n",
      "Epoch 50/150\n",
      "2844/2844 [==============================] - 6s 2ms/step - loss: 0.3650 - accuracy: 0.8561 - val_loss: 0.3578 - val_accuracy: 0.8502\n",
      "Epoch 51/150\n",
      "2844/2844 [==============================] - 6s 2ms/step - loss: 0.3647 - accuracy: 0.8584 - val_loss: 0.3578 - val_accuracy: 0.8533\n",
      "Epoch 52/150\n",
      "2844/2844 [==============================] - 6s 2ms/step - loss: 0.3617 - accuracy: 0.8574 - val_loss: 0.3587 - val_accuracy: 0.8506\n",
      "Epoch 53/150\n",
      "2844/2844 [==============================] - 6s 2ms/step - loss: 0.3610 - accuracy: 0.8598 - val_loss: 0.3587 - val_accuracy: 0.8479\n",
      "Epoch 54/150\n",
      "2844/2844 [==============================] - 6s 2ms/step - loss: 0.3636 - accuracy: 0.8584 - val_loss: 0.3625 - val_accuracy: 0.8433\n",
      "Epoch 55/150\n",
      "2844/2844 [==============================] - 6s 2ms/step - loss: 0.3635 - accuracy: 0.8573 - val_loss: 0.3578 - val_accuracy: 0.8507\n",
      "Time taken : 343.76868653297424\n"
     ]
    }
   ],
   "source": [
    "t0=time.time()\n",
    "history = NNmodel.fit(X_train, Y_train_0_1, batch_size = 32, epochs = 150, callbacks=[early_stopping], validation_split=0.2)\n",
    "print('Time taken :' , time.time()-t0)"
   ]
  },
  {
   "cell_type": "code",
   "execution_count": 90,
   "metadata": {},
   "outputs": [
    {
     "data": {
      "image/png": "[encoded data removed]",
      "text/plain": [
       "<Figure size 432x288 with 1 Axes>"
      ]
     },
     "metadata": {
      "needs_background": "light"
     },
     "output_type": "display_data"
    }
   ],
   "source": [
    "history_df = pd.DataFrame(history.history)\n",
    "\n",
    "plt.plot(history_df.loc[:, ['loss']], \"#BDE2E2\", label='Training loss')\n",
    "plt.plot(history_df.loc[:, ['val_loss']],\"#C2C4E2\", label='Validation loss')\n",
    "plt.title('Training and Validation loss')\n",
    "plt.xlabel('Epochs')\n",
    "plt.ylabel('Loss')\n",
    "plt.legend(loc=\"best\")\n",
    "\n",
    "plt.show()"
   ]
  },
  {
   "cell_type": "code",
   "execution_count": 91,
   "metadata": {},
   "outputs": [
    {
     "data": {
      "image/png": "[encoded data removed]",
      "text/plain": [
       "<Figure size 432x288 with 1 Axes>"
      ]
     },
     "metadata": {
      "needs_background": "light"
     },
     "output_type": "display_data"
    }
   ],
   "source": [
    "history_df = pd.DataFrame(history.history)\n",
    "\n",
    "plt.plot(history_df.loc[:, ['accuracy']], \"#BDE2E2\", label='Training accuracy')\n",
    "plt.plot(history_df.loc[:, ['val_accuracy']], \"#C2C4E2\", label='Validation accuracy')\n",
    "\n",
    "plt.title('Training and Validation accuracy')\n",
    "plt.xlabel('Epochs')\n",
    "plt.ylabel('Accuracy')\n",
    "plt.legend()\n",
    "plt.show()"
   ]
  },
  {
   "cell_type": "code",
   "execution_count": 92,
   "metadata": {},
   "outputs": [],
   "source": [
    "Y_pred_test_NN = NNmodel.predict(X_test)"
   ]
  },
  {
   "cell_type": "code",
   "execution_count": 124,
   "metadata": {},
   "outputs": [
    {
     "data": {
      "text/plain": [
       "<AxesSubplot:>"
      ]
     },
     "execution_count": 124,
     "metadata": {},
     "output_type": "execute_result"
    },
    {
     "data": {
      "image/png": "[encoded data removed]",
      "text/plain": [
       "<Figure size 864x576 with 2 Axes>"
      ]
     },
     "metadata": {
      "needs_background": "light"
     },
     "output_type": "display_data"
    }
   ],
   "source": [
    "# NN confusion matrix\n",
    "cmap1 = sns.diverging_palette(260,-10,s=50,l=75,n=5, as_cmap=True)\n",
    "plt.subplots(figsize=(12,8))\n",
    "cf_matrix = confusion_matrix(Y_test_0_1,np.round(Y_pred_test_NN,0))\n",
    "sns.heatmap(cf_matrix/np.sum(cf_matrix), cmap = cmap1, annot = True, annot_kws = {'size':25})"
   ]
  },
  {
   "cell_type": "code",
   "execution_count": 94,
   "metadata": {},
   "outputs": [
    {
     "name": "stdout",
     "output_type": "stream",
     "text": [
      "              precision    recall  f1-score   support\n",
      "\n",
      "           0       0.88      0.93      0.91     22067\n",
      "           1       0.71      0.58      0.64      6372\n",
      "\n",
      "    accuracy                           0.85     28439\n",
      "   macro avg       0.80      0.76      0.77     28439\n",
      "weighted avg       0.85      0.85      0.85     28439\n",
      "\n"
     ]
    }
   ],
   "source": [
    "print(classification_report(Y_test_0_1, np.round(Y_pred_test_NN,0)))"
   ]
  },
  {
   "cell_type": "code",
   "execution_count": 95,
   "metadata": {},
   "outputs": [
    {
     "name": "stdout",
     "output_type": "stream",
     "text": [
      "NN Model  accuracy score is 0.8533\n",
      "F1 score for NN Model is 0.6384\n",
      "Cohen Kappa score for NN Model  is 0.5477\n"
     ]
    }
   ],
   "source": [
    "acs_nn=accuracy_score(Y_test_0_1,np.round(Y_pred_test_NN,0))\n",
    "f1_nn=f1_score(Y_test_0_1, np.round(Y_pred_test_NN,0),)\n",
    "ck_nn=cohen_kappa_score(Y_test_0_1, np.round(Y_pred_test_NN,0))\n",
    "print('NN Model  accuracy score is {0:0.4f}'. format(acs_nn))\n",
    "print(\"F1 score for NN Model is {0:0.4f}\". format(f1_nn))\n",
    "print(\"Cohen Kappa score for NN Model  is {0:0.4f}\". format(ck_nn))"
   ]
  },
  {
   "cell_type": "code",
   "execution_count": 96,
   "metadata": {},
   "outputs": [],
   "source": [
    "aclist.append(acs_nn)\n",
    "f1list.append(f1_nn)\n",
    "cklist.append(ck_nn)"
   ]
  },
  {
   "cell_type": "code",
   "execution_count": 97,
   "metadata": {},
   "outputs": [
    {
     "name": "stdout",
     "output_type": "stream",
     "text": [
      "Learning rate set to 0.5\n",
      "0:\tlearn: 0.4156320\ttotal: 3.1s\tremaining: 2m 32s\n",
      "1:\tlearn: 0.3396715\ttotal: 6.29s\tremaining: 2m 30s\n",
      "2:\tlearn: 0.3108002\ttotal: 9.89s\tremaining: 2m 35s\n",
      "3:\tlearn: 0.2964252\ttotal: 13.1s\tremaining: 2m 31s\n",
      "4:\tlearn: 0.2798230\ttotal: 16.9s\tremaining: 2m 31s\n",
      "5:\tlearn: 0.2711716\ttotal: 20.5s\tremaining: 2m 30s\n",
      "6:\tlearn: 0.2536914\ttotal: 24.1s\tremaining: 2m 28s\n",
      "7:\tlearn: 0.2443716\ttotal: 27.6s\tremaining: 2m 24s\n",
      "8:\tlearn: 0.2348222\ttotal: 31s\tremaining: 2m 21s\n",
      "9:\tlearn: 0.2268653\ttotal: 34.9s\tremaining: 2m 19s\n",
      "10:\tlearn: 0.2200568\ttotal: 38.2s\tremaining: 2m 15s\n",
      "11:\tlearn: 0.2076248\ttotal: 41.7s\tremaining: 2m 12s\n",
      "12:\tlearn: 0.2017805\ttotal: 45.1s\tremaining: 2m 8s\n",
      "13:\tlearn: 0.1940050\ttotal: 48.9s\tremaining: 2m 5s\n",
      "14:\tlearn: 0.1859581\ttotal: 52.7s\tremaining: 2m 3s\n",
      "15:\tlearn: 0.1779981\ttotal: 56.4s\tremaining: 1m 59s\n",
      "16:\tlearn: 0.1744344\ttotal: 59.7s\tremaining: 1m 55s\n",
      "17:\tlearn: 0.1682608\ttotal: 1m 3s\tremaining: 1m 52s\n",
      "18:\tlearn: 0.1581309\ttotal: 1m 6s\tremaining: 1m 48s\n",
      "19:\tlearn: 0.1534915\ttotal: 1m 9s\tremaining: 1m 44s\n",
      "20:\tlearn: 0.1475285\ttotal: 1m 13s\tremaining: 1m 41s\n",
      "21:\tlearn: 0.1412801\ttotal: 1m 16s\tremaining: 1m 37s\n",
      "22:\tlearn: 0.1359882\ttotal: 1m 20s\tremaining: 1m 34s\n",
      "23:\tlearn: 0.1332943\ttotal: 1m 23s\tremaining: 1m 30s\n",
      "24:\tlearn: 0.1296730\ttotal: 1m 27s\tremaining: 1m 27s\n",
      "25:\tlearn: 0.1262681\ttotal: 1m 30s\tremaining: 1m 23s\n",
      "26:\tlearn: 0.1228789\ttotal: 1m 34s\tremaining: 1m 20s\n",
      "27:\tlearn: 0.1183444\ttotal: 1m 37s\tremaining: 1m 16s\n",
      "28:\tlearn: 0.1142295\ttotal: 1m 40s\tremaining: 1m 13s\n",
      "29:\tlearn: 0.1110252\ttotal: 1m 44s\tremaining: 1m 9s\n",
      "30:\tlearn: 0.1076449\ttotal: 1m 48s\tremaining: 1m 6s\n",
      "31:\tlearn: 0.1045449\ttotal: 1m 51s\tremaining: 1m 2s\n",
      "32:\tlearn: 0.1010375\ttotal: 1m 54s\tremaining: 59.2s\n",
      "33:\tlearn: 0.0983958\ttotal: 1m 58s\tremaining: 55.7s\n",
      "34:\tlearn: 0.0955570\ttotal: 2m 1s\tremaining: 52.1s\n",
      "35:\tlearn: 0.0916352\ttotal: 2m 4s\tremaining: 48.6s\n",
      "36:\tlearn: 0.0888139\ttotal: 2m 8s\tremaining: 45.1s\n",
      "37:\tlearn: 0.0858824\ttotal: 2m 11s\tremaining: 41.5s\n",
      "38:\tlearn: 0.0831867\ttotal: 2m 14s\tremaining: 38s\n",
      "39:\tlearn: 0.0795902\ttotal: 2m 18s\tremaining: 34.6s\n",
      "40:\tlearn: 0.0774394\ttotal: 2m 21s\tremaining: 31.2s\n",
      "41:\tlearn: 0.0754837\ttotal: 2m 25s\tremaining: 27.7s\n",
      "42:\tlearn: 0.0728151\ttotal: 2m 28s\tremaining: 24.2s\n",
      "43:\tlearn: 0.0701026\ttotal: 2m 32s\tremaining: 20.8s\n",
      "44:\tlearn: 0.0677213\ttotal: 2m 36s\tremaining: 17.3s\n",
      "45:\tlearn: 0.0653809\ttotal: 2m 39s\tremaining: 13.9s\n",
      "46:\tlearn: 0.0638039\ttotal: 2m 42s\tremaining: 10.4s\n",
      "47:\tlearn: 0.0616660\ttotal: 2m 45s\tremaining: 6.91s\n",
      "48:\tlearn: 0.0606454\ttotal: 2m 49s\tremaining: 3.45s\n",
      "49:\tlearn: 0.0583379\ttotal: 2m 52s\tremaining: 0us\n",
      "Time taken : 173.40926098823547\n",
      "Cat Boost Model accuracy score is 0.8499\n",
      "CB Model  accuracy score is 0.8499\n",
      "F1 score for CB Model is 0.6215\n",
      "Cohen Kappa score for CB Model  is 0.5299\n"
     ]
    }
   ],
   "source": [
    "\n",
    "params_cb ={'iterations': 50,\n",
    "            'max_depth': 16}\n",
    "t0=time.time()\n",
    "model_cb = cb.CatBoostClassifier(**params_cb)\n",
    "model_cb.fit(X_train,Y_train)\n",
    "print('Time taken :' , time.time()-t0)\n",
    "Y_pred_test_CBOOST = model_cb.predict(X_test)\n",
    "\n",
    "print('Cat Boost Model accuracy score is {0:0.4f}'. format(accuracy_score(Y_test, Y_pred_test_CBOOST)))\n",
    "\n",
    "acs_cb=accuracy_score(Y_test,Y_pred_test_CBOOST)\n",
    "f1_cb=f1_score(Y_test, Y_pred_test_CBOOST,pos_label=\"Yes\")\n",
    "ck_cb=cohen_kappa_score(Y_test, Y_pred_test_CBOOST)\n",
    "print('CB Model  accuracy score is {0:0.4f}'. format(acs_cb))\n",
    "print(\"F1 score for CB Model is {0:0.4f}\". format(f1_cb))\n",
    "print(\"Cohen Kappa score for CB Model  is {0:0.4f}\". format(ck_cb))"
   ]
  },
  {
   "cell_type": "code",
   "execution_count": 98,
   "metadata": {},
   "outputs": [],
   "source": [
    "aclist.append(acs_cb)\n",
    "f1list.append(f1_cb)\n",
    "cklist.append(ck_cb)"
   ]
  },
  {
   "cell_type": "code",
   "execution_count": 99,
   "metadata": {},
   "outputs": [
    {
     "data": {
      "text/plain": [
       "<AxesSubplot:>"
      ]
     },
     "execution_count": 99,
     "metadata": {},
     "output_type": "execute_result"
    },
    {
     "data": {
      "image/png": "[encoded data removed]",
      "text/plain": [
       "<Figure size 864x576 with 2 Axes>"
      ]
     },
     "metadata": {
      "needs_background": "light"
     },
     "output_type": "display_data"
    }
   ],
   "source": [
    "# Cat Boost confusion matrix\n",
    "cmap1 = sns.diverging_palette(260,-10,s=50,l=75,n=5, as_cmap=True)\n",
    "plt.subplots(figsize=(12,8))\n",
    "cf_matrix = confusion_matrix(Y_test,Y_pred_test_CBOOST)\n",
    "sns.heatmap(cf_matrix/np.sum(cf_matrix), cmap = cmap1, annot = True, annot_kws = {'size':25})"
   ]
  },
  {
   "cell_type": "code",
   "execution_count": 100,
   "metadata": {},
   "outputs": [],
   "source": [
    "kappa_scorer = make_scorer(cohen_kappa_score)\n",
    "\n",
    "scoring = {'acc': 'accuracy',\n",
    "           'cohen_kappa': kappa_scorer}"
   ]
  },
  {
   "cell_type": "code",
   "execution_count": 101,
   "metadata": {},
   "outputs": [
    {
     "name": "stdout",
     "output_type": "stream",
     "text": [
      "Corss-vallidation scores for Logistic Regression model:{'fit_time': array([1.65250587, 1.79609227, 2.13935423, 1.73487043, 1.75125575]), 'score_time': array([0.27406669, 0.27038884, 0.25602865, 0.33272552, 0.24426603]), 'test_acc': array([0.84686387, 0.84624852, 0.84633642, 0.84963298, 0.84773626]), 'test_cohen_kappa': array([0.5087946 , 0.50443136, 0.50409467, 0.51408706, 0.51000911])}\n",
      "Mean accuracuy cross-validation score for Logistic Regression: 0.8474\n",
      "Mean cohen kappa cross-validation score for Logistic Regression: 0.5083\n"
     ]
    }
   ],
   "source": [
    "lregscores=cross_validate(lreg,X_train,Y_train,cv=5,scoring=scoring)\n",
    "print(\"Corss-vallidation scores for Logistic Regression model:{}\".format(lregscores))\n",
    "print(\"Mean accuracuy cross-validation score for Logistic Regression: {:.4f}\".format(lregscores[\"test_acc\"].mean()))\n",
    "print(\"Mean cohen kappa cross-validation score for Logistic Regression: {:.4f}\".format(lregscores[\"test_cohen_kappa\"].mean()))"
   ]
  },
  {
   "cell_type": "code",
   "execution_count": 102,
   "metadata": {},
   "outputs": [
    {
     "name": "stdout",
     "output_type": "stream",
     "text": [
      "Corss-vallidation scores for XGboost:{'fit_time': array([566.93919969, 566.0372498 , 563.52771592, 567.77534986,\n",
      "       596.14270759]), 'score_time': array([2.95248532, 3.28672171, 3.01872921, 3.16025782, 3.19419575]), 'test_acc': array([0.86374225, 0.862072  , 0.86150059, 0.86237968, 0.86698901]), 'test_cohen_kappa': array([0.56644086, 0.56455261, 0.5631833 , 0.56608857, 0.58021852])}\n",
      "Mean accuracuy cross-validation score for XGboost: 0.8633\n",
      "Mean cohen kappa cross-validation score for XGboost: 0.5681\n"
     ]
    }
   ],
   "source": [
    "xgbscores=cross_validate(XGBmodel,X_train,Y_train,cv=5,scoring=scoring)\n",
    "print(\"Corss-vallidation scores for XGboost:{}\".format(xgbscores))\n",
    "print(\"Mean accuracuy cross-validation score for XGboost: {:.4f}\".format(xgbscores[\"test_acc\"].mean()))\n",
    "print(\"Mean cohen kappa cross-validation score for XGboost: {:.4f}\".format(xgbscores[\"test_cohen_kappa\"].mean()))"
   ]
  },
  {
   "cell_type": "code",
   "execution_count": 103,
   "metadata": {},
   "outputs": [
    {
     "name": "stdout",
     "output_type": "stream",
     "text": [
      "Corss-vallidation scores for Beruli Naive Bayes:{'fit_time': array([0.52566314, 0.50924349, 0.60872817, 0.48324251, 0.61026621]), 'score_time': array([0.50426316, 0.47879267, 0.41423011, 0.47037768, 0.42554212]), 'test_acc': array([0.75996659, 0.76255989, 0.76154894, 0.76721902, 0.76123077]), 'train_acc': array([0.76326055, 0.76272211, 0.76283199, 0.76152435, 0.76263681]), 'test_cohen_kappa': array([0.30841974, 0.32049558, 0.31850086, 0.33151   , 0.32132768]), 'train_cohen_kappa': array([0.32278793, 0.32121236, 0.32030104, 0.31758473, 0.32046818])}\n",
      "Mean cross-validation score for Bernuli Naive Bayes: 0.7625\n",
      "Mean cohen kappa cross-validation score for Naive Bayes: 0.3201\n"
     ]
    }
   ],
   "source": [
    "bnbscores=cross_validate(BNBmodel,X_train.values,Y_train.values,cv=5,scoring=scoring, return_train_score=True)\n",
    "print(\"Corss-vallidation scores for Beruli Naive Bayes:{}\".format(bnbscores))\n",
    "print(\"Mean cross-validation score for Bernuli Naive Bayes: {:.4f}\".format(bnbscores[\"test_acc\"].mean()))\n",
    "print(\"Mean cohen kappa cross-validation score for Naive Bayes: {:.4f}\".format(bnbscores[\"test_cohen_kappa\"].mean()))"
   ]
  },
  {
   "cell_type": "code",
   "execution_count": 104,
   "metadata": {},
   "outputs": [
    {
     "name": "stdout",
     "output_type": "stream",
     "text": [
      "Corss-vallidation scores for Gaussian Naive Bayes:{'fit_time': array([0.51194572, 0.52224755, 0.53324676, 0.53941846, 0.56418991]), 'score_time': array([0.13015437, 0.13054299, 0.12508059, 0.12696958, 0.14104629]), 'test_acc': array([0.64379588, 0.64287284, 0.65500418, 0.64480682, 0.64584615]), 'test_cohen_kappa': array([0.25165016, 0.2482943 , 0.26942993, 0.25228877, 0.25258813])}\n",
      "Mean accuracuy cross-validation score for Gaussian Navive Bayes: 0.6465\n",
      "Mean cross-validation score for Gaussian Navive Bayes: 0.6465\n",
      "Mean cohen kappa cross-validation score for Gaussian Navive Bayes: 0.2549\n"
     ]
    }
   ],
   "source": [
    "gnbscores=cross_validate(GNBmodel,X_train,Y_train,cv=5,scoring=scoring)\n",
    "print(\"Corss-vallidation scores for Gaussian Naive Bayes:{}\".format(gnbscores))\n",
    "print(\"Mean accuracuy cross-validation score for Gaussian Navive Bayes: {:.4f}\".format(gnbscores[\"test_acc\"].mean()))\n",
    "print(\"Mean cross-validation score for Gaussian Navive Bayes: {:.4f}\".format(gnbscores[\"test_acc\"].mean()))\n",
    "print(\"Mean cohen kappa cross-validation score for Gaussian Navive Bayes: {:.4f}\".format(gnbscores[\"test_cohen_kappa\"].mean()))"
   ]
  },
  {
   "cell_type": "code",
   "execution_count": 105,
   "metadata": {},
   "outputs": [
    {
     "name": "stdout",
     "output_type": "stream",
     "text": [
      "Corss-vallidation scores for Random Forest Regressor:{'fit_time': array([147.07431841, 151.22470617, 145.54719949, 151.49334002,\n",
      "       148.27774739]), 'score_time': array([0.52387714, 0.53205991, 0.48228836, 0.47831535, 0.47474527]), 'test_acc': array([nan, nan, nan, nan, nan]), 'test_cohen_kappa': array([nan, nan, nan, nan, nan])}\n",
      "Mean cross-validation score for Random Forest Regressor: nan\n",
      "Mean cohen kappa cross-validation score for Random Forest Regressor: nan\n"
     ]
    }
   ],
   "source": [
    "rfrscores=cross_validate(RFRmodel,X_train,Y_train_0_1,cv=5,scoring=scoring)\n",
    "print(\"Corss-vallidation scores for Random Forest Regressor:{}\".format(rfrscores))\n",
    "print(\"Mean cross-validation score for Random Forest Regressor: {:.4f}\".format(rfrscores[\"test_acc\"].mean()))\n",
    "print(\"Mean cohen kappa cross-validation score for Random Forest Regressor: {:.4f}\".format(rfrscores[\"test_cohen_kappa\"].mean()))"
   ]
  },
  {
   "cell_type": "code",
   "execution_count": 106,
   "metadata": {},
   "outputs": [
    {
     "name": "stdout",
     "output_type": "stream",
     "text": [
      "Corss-vallidation scores for Random Forest Classifier:{'fit_time': array([6.7600832 , 6.62220621, 6.7451551 , 7.09310961, 6.77547169]), 'score_time': array([0.31156206, 0.34338164, 0.37976193, 0.31817365, 0.30450654]), 'test_acc': array([0.81987605, 0.82013977, 0.82009582, 0.82035954, 0.82404396]), 'test_cohen_kappa': array([0.31060773, 0.31441618, 0.3134238 , 0.31239442, 0.33160932])}\n",
      "Mean accuracuy cross-validation score for Random Forest Classifier: 0.8209\n",
      "Mean cohen kappa cross-validation score for Random Forest Classifier: 0.3165\n"
     ]
    }
   ],
   "source": [
    "rfcscores=cross_validate(RFCmodel,X_train,Y_train,cv=5,scoring=scoring)\n",
    "print(\"Corss-vallidation scores for Random Forest Classifier:{}\".format(rfcscores))\n",
    "print(\"Mean accuracuy cross-validation score for Random Forest Classifier: {:.4f}\".format(rfcscores[\"test_acc\"].mean()))\n",
    "print(\"Mean cohen kappa cross-validation score for Random Forest Classifier: {:.4f}\".format(rfcscores[\"test_cohen_kappa\"].mean()))"
   ]
  },
  {
   "cell_type": "code",
   "execution_count": 107,
   "metadata": {},
   "outputs": [
    {
     "name": "stdout",
     "output_type": "stream",
     "text": [
      "Corss-vallidation scores for SVM:{'fit_time': array([1033.92803955, 1076.95098233, 1044.87245059, 1072.47128677,\n",
      "       1114.6756351 ]), 'score_time': array([74.26402926, 74.78875804, 76.68806839, 84.04536629, 77.45561528]), 'test_acc': array([0.84756714, 0.84686387, 0.84422663, 0.84919344, 0.84764835]), 'test_cohen_kappa': array([0.49953014, 0.49658002, 0.48594374, 0.50261292, 0.49941559])}\n",
      "Mean accuracuy cross-validation score for SVM: 0.8471\n",
      "Mean cohen kappa cross-validation score for SVM: 0.4968\n"
     ]
    }
   ],
   "source": [
    "svmscores=cross_validate(SVMmodel,X_train,Y_train,cv=5,scoring=scoring)\n",
    "print(\"Corss-vallidation scores for SVM:{}\".format(svmscores))\n",
    "print(\"Mean accuracuy cross-validation score for SVM: {:.4f}\".format(svmscores[\"test_acc\"].mean()))\n",
    "print(\"Mean cohen kappa cross-validation score for SVM: {:.4f}\".format(svmscores[\"test_cohen_kappa\"].mean()))"
   ]
  },
  {
   "cell_type": "code",
   "execution_count": null,
   "metadata": {},
   "outputs": [],
   "source": [
    "#nnscores=cross_validate(NNmodel,X_train,Y_train_0_1,cv=5,scoring=scoring)\n",
    "#print(\"Corss-vallidation scores for Neural Networks:{}\".format(nnscores))\n",
    "#print(\"Mean accuracuy cross-validation score for Neural Networks: {:.4f}\".format(nnscores[\"test_acc\"].mean()))\n",
    "#print(\"Mean cohen kappa cross-validation score for Neural Networks: {:.4f}\".format(nnscores[\"test_cohen_kappa\"].mean()))"
   ]
  },
  {
   "cell_type": "code",
   "execution_count": 109,
   "metadata": {},
   "outputs": [
    {
     "name": "stdout",
     "output_type": "stream",
     "text": [
      "Learning rate set to 0.5\n",
      "0:\tlearn: 0.4220176\ttotal: 3.36s\tremaining: 2m 44s\n",
      "1:\tlearn: 0.3395678\ttotal: 6.72s\tremaining: 2m 41s\n",
      "2:\tlearn: 0.3013736\ttotal: 9.86s\tremaining: 2m 34s\n",
      "3:\tlearn: 0.2887865\ttotal: 12.9s\tremaining: 2m 28s\n",
      "4:\tlearn: 0.2715159\ttotal: 16.5s\tremaining: 2m 28s\n",
      "5:\tlearn: 0.2536162\ttotal: 19.7s\tremaining: 2m 24s\n",
      "6:\tlearn: 0.2436285\ttotal: 22.9s\tremaining: 2m 20s\n",
      "7:\tlearn: 0.2354606\ttotal: 26.1s\tremaining: 2m 17s\n",
      "8:\tlearn: 0.2229338\ttotal: 29.3s\tremaining: 2m 13s\n",
      "9:\tlearn: 0.2128845\ttotal: 32.4s\tremaining: 2m 9s\n",
      "10:\tlearn: 0.2082225\ttotal: 35.7s\tremaining: 2m 6s\n",
      "11:\tlearn: 0.1965758\ttotal: 38.8s\tremaining: 2m 2s\n",
      "12:\tlearn: 0.1877906\ttotal: 42s\tremaining: 1m 59s\n",
      "13:\tlearn: 0.1834421\ttotal: 45.2s\tremaining: 1m 56s\n",
      "14:\tlearn: 0.1757921\ttotal: 48.5s\tremaining: 1m 53s\n",
      "15:\tlearn: 0.1676494\ttotal: 51.7s\tremaining: 1m 49s\n",
      "16:\tlearn: 0.1629525\ttotal: 55s\tremaining: 1m 46s\n",
      "17:\tlearn: 0.1590837\ttotal: 58.2s\tremaining: 1m 43s\n",
      "18:\tlearn: 0.1541282\ttotal: 1m 1s\tremaining: 1m 40s\n",
      "19:\tlearn: 0.1484198\ttotal: 1m 4s\tremaining: 1m 37s\n",
      "20:\tlearn: 0.1441635\ttotal: 1m 8s\tremaining: 1m 34s\n",
      "21:\tlearn: 0.1362601\ttotal: 1m 11s\tremaining: 1m 30s\n",
      "22:\tlearn: 0.1332241\ttotal: 1m 14s\tremaining: 1m 27s\n",
      "23:\tlearn: 0.1273572\ttotal: 1m 17s\tremaining: 1m 24s\n",
      "24:\tlearn: 0.1209059\ttotal: 1m 21s\tremaining: 1m 21s\n",
      "25:\tlearn: 0.1153133\ttotal: 1m 24s\tremaining: 1m 17s\n",
      "26:\tlearn: 0.1104737\ttotal: 1m 27s\tremaining: 1m 14s\n",
      "27:\tlearn: 0.1050765\ttotal: 1m 30s\tremaining: 1m 11s\n",
      "28:\tlearn: 0.1029960\ttotal: 1m 34s\tremaining: 1m 8s\n",
      "29:\tlearn: 0.0986103\ttotal: 1m 37s\tremaining: 1m 5s\n",
      "30:\tlearn: 0.0944279\ttotal: 1m 40s\tremaining: 1m 1s\n",
      "31:\tlearn: 0.0916338\ttotal: 1m 44s\tremaining: 58.7s\n",
      "32:\tlearn: 0.0879543\ttotal: 1m 47s\tremaining: 55.4s\n",
      "33:\tlearn: 0.0838199\ttotal: 1m 51s\tremaining: 52.3s\n",
      "34:\tlearn: 0.0818557\ttotal: 1m 54s\tremaining: 49s\n",
      "35:\tlearn: 0.0794160\ttotal: 1m 57s\tremaining: 45.7s\n",
      "36:\tlearn: 0.0775721\ttotal: 2m\tremaining: 42.3s\n",
      "37:\tlearn: 0.0754494\ttotal: 2m 3s\tremaining: 39.1s\n",
      "38:\tlearn: 0.0722342\ttotal: 2m 6s\tremaining: 35.8s\n",
      "39:\tlearn: 0.0688185\ttotal: 2m 10s\tremaining: 32.6s\n",
      "40:\tlearn: 0.0662685\ttotal: 2m 13s\tremaining: 29.4s\n",
      "41:\tlearn: 0.0638784\ttotal: 2m 16s\tremaining: 26.1s\n",
      "42:\tlearn: 0.0612432\ttotal: 2m 20s\tremaining: 22.8s\n",
      "43:\tlearn: 0.0594587\ttotal: 2m 23s\tremaining: 19.5s\n",
      "44:\tlearn: 0.0574608\ttotal: 2m 27s\tremaining: 16.3s\n",
      "45:\tlearn: 0.0552614\ttotal: 2m 30s\tremaining: 13.1s\n",
      "46:\tlearn: 0.0537261\ttotal: 2m 33s\tremaining: 9.81s\n",
      "47:\tlearn: 0.0524392\ttotal: 2m 36s\tremaining: 6.54s\n",
      "48:\tlearn: 0.0512115\ttotal: 2m 40s\tremaining: 3.27s\n",
      "49:\tlearn: 0.0501501\ttotal: 2m 43s\tremaining: 0us\n",
      "Learning rate set to 0.5\n",
      "0:\tlearn: 0.4229975\ttotal: 3.76s\tremaining: 3m 4s\n",
      "1:\tlearn: 0.3538093\ttotal: 7.03s\tremaining: 2m 48s\n",
      "2:\tlearn: 0.3232258\ttotal: 10.3s\tremaining: 2m 41s\n",
      "3:\tlearn: 0.3035775\ttotal: 13.6s\tremaining: 2m 36s\n",
      "4:\tlearn: 0.2841146\ttotal: 17.4s\tremaining: 2m 36s\n",
      "5:\tlearn: 0.2642818\ttotal: 21s\tremaining: 2m 33s\n",
      "6:\tlearn: 0.2501842\ttotal: 24.4s\tremaining: 2m 29s\n",
      "7:\tlearn: 0.2396475\ttotal: 27.5s\tremaining: 2m 24s\n",
      "8:\tlearn: 0.2339338\ttotal: 31.1s\tremaining: 2m 21s\n",
      "9:\tlearn: 0.2255436\ttotal: 34.4s\tremaining: 2m 17s\n",
      "10:\tlearn: 0.2141081\ttotal: 37.8s\tremaining: 2m 13s\n",
      "11:\tlearn: 0.2068007\ttotal: 40.9s\tremaining: 2m 9s\n",
      "12:\tlearn: 0.2015349\ttotal: 43.9s\tremaining: 2m 4s\n",
      "13:\tlearn: 0.1957467\ttotal: 46.9s\tremaining: 2m\n",
      "14:\tlearn: 0.1817731\ttotal: 50s\tremaining: 1m 56s\n",
      "15:\tlearn: 0.1736743\ttotal: 53.3s\tremaining: 1m 53s\n",
      "16:\tlearn: 0.1702527\ttotal: 56.6s\tremaining: 1m 49s\n",
      "17:\tlearn: 0.1664577\ttotal: 59.7s\tremaining: 1m 46s\n",
      "18:\tlearn: 0.1620973\ttotal: 1m 2s\tremaining: 1m 42s\n",
      "19:\tlearn: 0.1579503\ttotal: 1m 6s\tremaining: 1m 39s\n",
      "20:\tlearn: 0.1492043\ttotal: 1m 9s\tremaining: 1m 35s\n",
      "21:\tlearn: 0.1411068\ttotal: 1m 12s\tremaining: 1m 32s\n",
      "22:\tlearn: 0.1381904\ttotal: 1m 15s\tremaining: 1m 28s\n",
      "23:\tlearn: 0.1337315\ttotal: 1m 18s\tremaining: 1m 25s\n",
      "24:\tlearn: 0.1286194\ttotal: 1m 22s\tremaining: 1m 22s\n",
      "25:\tlearn: 0.1218128\ttotal: 1m 25s\tremaining: 1m 18s\n",
      "26:\tlearn: 0.1171919\ttotal: 1m 28s\tremaining: 1m 15s\n",
      "27:\tlearn: 0.1118091\ttotal: 1m 31s\tremaining: 1m 11s\n",
      "28:\tlearn: 0.1059912\ttotal: 1m 34s\tremaining: 1m 8s\n",
      "29:\tlearn: 0.1022480\ttotal: 1m 37s\tremaining: 1m 5s\n",
      "30:\tlearn: 0.0985112\ttotal: 1m 41s\tremaining: 1m 1s\n",
      "31:\tlearn: 0.0954645\ttotal: 1m 44s\tremaining: 58.6s\n",
      "32:\tlearn: 0.0928385\ttotal: 1m 47s\tremaining: 55.3s\n",
      "33:\tlearn: 0.0897379\ttotal: 1m 50s\tremaining: 51.9s\n",
      "34:\tlearn: 0.0865316\ttotal: 1m 53s\tremaining: 48.7s\n",
      "35:\tlearn: 0.0816144\ttotal: 1m 57s\tremaining: 45.5s\n",
      "36:\tlearn: 0.0769686\ttotal: 2m\tremaining: 42.3s\n",
      "37:\tlearn: 0.0747481\ttotal: 2m 3s\tremaining: 39s\n",
      "38:\tlearn: 0.0724291\ttotal: 2m 6s\tremaining: 35.7s\n",
      "39:\tlearn: 0.0700523\ttotal: 2m 9s\tremaining: 32.5s\n",
      "40:\tlearn: 0.0674927\ttotal: 2m 13s\tremaining: 29.2s\n",
      "41:\tlearn: 0.0649482\ttotal: 2m 16s\tremaining: 26s\n",
      "42:\tlearn: 0.0634441\ttotal: 2m 19s\tremaining: 22.7s\n",
      "43:\tlearn: 0.0616304\ttotal: 2m 22s\tremaining: 19.5s\n",
      "44:\tlearn: 0.0601154\ttotal: 2m 25s\tremaining: 16.2s\n",
      "45:\tlearn: 0.0577417\ttotal: 2m 28s\tremaining: 12.9s\n",
      "46:\tlearn: 0.0559845\ttotal: 2m 32s\tremaining: 9.74s\n",
      "47:\tlearn: 0.0536330\ttotal: 2m 35s\tremaining: 6.5s\n",
      "48:\tlearn: 0.0513090\ttotal: 2m 39s\tremaining: 3.25s\n",
      "49:\tlearn: 0.0501810\ttotal: 2m 42s\tremaining: 0us\n",
      "Learning rate set to 0.5\n",
      "0:\tlearn: 0.4206552\ttotal: 3.29s\tremaining: 2m 41s\n",
      "1:\tlearn: 0.3502344\ttotal: 6.37s\tremaining: 2m 32s\n",
      "2:\tlearn: 0.3191598\ttotal: 9.41s\tremaining: 2m 27s\n",
      "3:\tlearn: 0.3009302\ttotal: 12.4s\tremaining: 2m 22s\n",
      "4:\tlearn: 0.2852971\ttotal: 15.9s\tremaining: 2m 22s\n",
      "5:\tlearn: 0.2707316\ttotal: 19s\tremaining: 2m 19s\n",
      "6:\tlearn: 0.2571249\ttotal: 22s\tremaining: 2m 15s\n",
      "7:\tlearn: 0.2486302\ttotal: 25.3s\tremaining: 2m 12s\n",
      "8:\tlearn: 0.2378174\ttotal: 28.2s\tremaining: 2m 8s\n",
      "9:\tlearn: 0.2280189\ttotal: 31.2s\tremaining: 2m 4s\n",
      "10:\tlearn: 0.2154919\ttotal: 34.4s\tremaining: 2m 1s\n",
      "11:\tlearn: 0.2050822\ttotal: 37.6s\tremaining: 1m 59s\n",
      "12:\tlearn: 0.1990466\ttotal: 40.9s\tremaining: 1m 56s\n",
      "13:\tlearn: 0.1923040\ttotal: 44.1s\tremaining: 1m 53s\n",
      "14:\tlearn: 0.1833492\ttotal: 47.2s\tremaining: 1m 50s\n",
      "15:\tlearn: 0.1765166\ttotal: 50.5s\tremaining: 1m 47s\n",
      "16:\tlearn: 0.1718643\ttotal: 53.7s\tremaining: 1m 44s\n",
      "17:\tlearn: 0.1679296\ttotal: 56.9s\tremaining: 1m 41s\n",
      "18:\tlearn: 0.1630712\ttotal: 59.9s\tremaining: 1m 37s\n",
      "19:\tlearn: 0.1563048\ttotal: 1m 3s\tremaining: 1m 34s\n",
      "20:\tlearn: 0.1508126\ttotal: 1m 6s\tremaining: 1m 31s\n",
      "21:\tlearn: 0.1449118\ttotal: 1m 9s\tremaining: 1m 28s\n",
      "22:\tlearn: 0.1412524\ttotal: 1m 12s\tremaining: 1m 25s\n",
      "23:\tlearn: 0.1338319\ttotal: 1m 15s\tremaining: 1m 22s\n",
      "24:\tlearn: 0.1304938\ttotal: 1m 19s\tremaining: 1m 19s\n",
      "25:\tlearn: 0.1265773\ttotal: 1m 22s\tremaining: 1m 15s\n",
      "26:\tlearn: 0.1194633\ttotal: 1m 25s\tremaining: 1m 12s\n",
      "27:\tlearn: 0.1146804\ttotal: 1m 28s\tremaining: 1m 9s\n",
      "28:\tlearn: 0.1078277\ttotal: 1m 31s\tremaining: 1m 6s\n",
      "29:\tlearn: 0.1032691\ttotal: 1m 34s\tremaining: 1m 3s\n",
      "30:\tlearn: 0.0985941\ttotal: 1m 37s\tremaining: 59.9s\n",
      "31:\tlearn: 0.0941189\ttotal: 1m 40s\tremaining: 56.7s\n",
      "32:\tlearn: 0.0900680\ttotal: 1m 43s\tremaining: 53.5s\n",
      "33:\tlearn: 0.0875158\ttotal: 1m 46s\tremaining: 50.3s\n",
      "34:\tlearn: 0.0840412\ttotal: 1m 50s\tremaining: 47.2s\n",
      "35:\tlearn: 0.0821194\ttotal: 1m 53s\tremaining: 44s\n",
      "36:\tlearn: 0.0796017\ttotal: 1m 56s\tremaining: 40.8s\n",
      "37:\tlearn: 0.0763799\ttotal: 1m 59s\tremaining: 37.7s\n",
      "38:\tlearn: 0.0735379\ttotal: 2m 2s\tremaining: 34.5s\n",
      "39:\tlearn: 0.0719020\ttotal: 2m 5s\tremaining: 31.3s\n",
      "40:\tlearn: 0.0692000\ttotal: 2m 8s\tremaining: 28.2s\n",
      "41:\tlearn: 0.0667525\ttotal: 2m 11s\tremaining: 25.1s\n",
      "42:\tlearn: 0.0640611\ttotal: 2m 14s\tremaining: 21.9s\n",
      "43:\tlearn: 0.0621886\ttotal: 2m 18s\tremaining: 18.8s\n",
      "44:\tlearn: 0.0598750\ttotal: 2m 21s\tremaining: 15.7s\n",
      "45:\tlearn: 0.0580548\ttotal: 2m 24s\tremaining: 12.5s\n",
      "46:\tlearn: 0.0568045\ttotal: 2m 27s\tremaining: 9.39s\n",
      "47:\tlearn: 0.0554074\ttotal: 2m 30s\tremaining: 6.26s\n",
      "48:\tlearn: 0.0542827\ttotal: 2m 33s\tremaining: 3.13s\n",
      "49:\tlearn: 0.0527755\ttotal: 2m 36s\tremaining: 0us\n",
      "Learning rate set to 0.5\n",
      "0:\tlearn: 0.4232646\ttotal: 3.09s\tremaining: 2m 31s\n",
      "1:\tlearn: 0.3467434\ttotal: 6.19s\tremaining: 2m 28s\n",
      "2:\tlearn: 0.3168809\ttotal: 9.41s\tremaining: 2m 27s\n",
      "3:\tlearn: 0.2989879\ttotal: 12.4s\tremaining: 2m 22s\n",
      "4:\tlearn: 0.2844820\ttotal: 15.5s\tremaining: 2m 19s\n",
      "5:\tlearn: 0.2653349\ttotal: 18.6s\tremaining: 2m 16s\n",
      "6:\tlearn: 0.2501982\ttotal: 21.8s\tremaining: 2m 13s\n",
      "7:\tlearn: 0.2385390\ttotal: 24.8s\tremaining: 2m 10s\n",
      "8:\tlearn: 0.2215025\ttotal: 28s\tremaining: 2m 7s\n",
      "9:\tlearn: 0.2116504\ttotal: 31.1s\tremaining: 2m 4s\n",
      "10:\tlearn: 0.1983160\ttotal: 34.1s\tremaining: 2m\n",
      "11:\tlearn: 0.1908364\ttotal: 37.4s\tremaining: 1m 58s\n",
      "12:\tlearn: 0.1859619\ttotal: 40.3s\tremaining: 1m 54s\n",
      "13:\tlearn: 0.1810135\ttotal: 43.3s\tremaining: 1m 51s\n",
      "14:\tlearn: 0.1737401\ttotal: 46.8s\tremaining: 1m 49s\n",
      "15:\tlearn: 0.1674613\ttotal: 50.1s\tremaining: 1m 46s\n",
      "16:\tlearn: 0.1613706\ttotal: 53.4s\tremaining: 1m 43s\n",
      "17:\tlearn: 0.1573860\ttotal: 56.5s\tremaining: 1m 40s\n",
      "18:\tlearn: 0.1525390\ttotal: 59.7s\tremaining: 1m 37s\n",
      "19:\tlearn: 0.1476774\ttotal: 1m 2s\tremaining: 1m 34s\n",
      "20:\tlearn: 0.1401841\ttotal: 1m 6s\tremaining: 1m 31s\n",
      "21:\tlearn: 0.1364306\ttotal: 1m 9s\tremaining: 1m 28s\n",
      "22:\tlearn: 0.1305235\ttotal: 1m 12s\tremaining: 1m 25s\n",
      "23:\tlearn: 0.1254308\ttotal: 1m 16s\tremaining: 1m 22s\n",
      "24:\tlearn: 0.1204733\ttotal: 1m 19s\tremaining: 1m 19s\n",
      "25:\tlearn: 0.1143487\ttotal: 1m 22s\tremaining: 1m 16s\n",
      "26:\tlearn: 0.1098208\ttotal: 1m 25s\tremaining: 1m 12s\n",
      "27:\tlearn: 0.1052520\ttotal: 1m 28s\tremaining: 1m 9s\n",
      "28:\tlearn: 0.1024618\ttotal: 1m 31s\tremaining: 1m 6s\n",
      "29:\tlearn: 0.0992214\ttotal: 1m 34s\tremaining: 1m 3s\n",
      "30:\tlearn: 0.0942787\ttotal: 1m 37s\tremaining: 60s\n",
      "31:\tlearn: 0.0913903\ttotal: 1m 40s\tremaining: 56.7s\n",
      "32:\tlearn: 0.0875749\ttotal: 1m 44s\tremaining: 53.6s\n",
      "33:\tlearn: 0.0845688\ttotal: 1m 47s\tremaining: 50.5s\n",
      "34:\tlearn: 0.0814152\ttotal: 1m 50s\tremaining: 47.4s\n",
      "35:\tlearn: 0.0786586\ttotal: 1m 53s\tremaining: 44.3s\n",
      "36:\tlearn: 0.0754188\ttotal: 1m 57s\tremaining: 41.1s\n",
      "37:\tlearn: 0.0725379\ttotal: 2m\tremaining: 37.9s\n",
      "38:\tlearn: 0.0712212\ttotal: 2m 3s\tremaining: 34.8s\n",
      "39:\tlearn: 0.0693920\ttotal: 2m 6s\tremaining: 31.6s\n",
      "40:\tlearn: 0.0668315\ttotal: 2m 9s\tremaining: 28.4s\n",
      "41:\tlearn: 0.0639649\ttotal: 2m 13s\tremaining: 25.4s\n",
      "42:\tlearn: 0.0626473\ttotal: 2m 16s\tremaining: 22.2s\n",
      "43:\tlearn: 0.0607543\ttotal: 2m 19s\tremaining: 19s\n",
      "44:\tlearn: 0.0576196\ttotal: 2m 22s\tremaining: 15.8s\n",
      "45:\tlearn: 0.0555110\ttotal: 2m 25s\tremaining: 12.7s\n",
      "46:\tlearn: 0.0536053\ttotal: 2m 29s\tremaining: 9.52s\n",
      "47:\tlearn: 0.0518582\ttotal: 2m 32s\tremaining: 6.34s\n",
      "48:\tlearn: 0.0504004\ttotal: 2m 35s\tremaining: 3.17s\n",
      "49:\tlearn: 0.0487528\ttotal: 2m 38s\tremaining: 0us\n",
      "Learning rate set to 0.5\n",
      "0:\tlearn: 0.4219758\ttotal: 3.01s\tremaining: 2m 27s\n",
      "1:\tlearn: 0.3515920\ttotal: 6.26s\tremaining: 2m 30s\n",
      "2:\tlearn: 0.3208507\ttotal: 9.44s\tremaining: 2m 27s\n",
      "3:\tlearn: 0.3038979\ttotal: 12.4s\tremaining: 2m 22s\n",
      "4:\tlearn: 0.2831136\ttotal: 15.6s\tremaining: 2m 20s\n",
      "5:\tlearn: 0.2651630\ttotal: 19s\tremaining: 2m 19s\n",
      "6:\tlearn: 0.2544740\ttotal: 22.5s\tremaining: 2m 18s\n",
      "7:\tlearn: 0.2493510\ttotal: 25.9s\tremaining: 2m 15s\n",
      "8:\tlearn: 0.2396282\ttotal: 29s\tremaining: 2m 12s\n",
      "9:\tlearn: 0.2276827\ttotal: 32.1s\tremaining: 2m 8s\n",
      "10:\tlearn: 0.2174419\ttotal: 35.2s\tremaining: 2m 4s\n",
      "11:\tlearn: 0.2081738\ttotal: 38.2s\tremaining: 2m 1s\n",
      "12:\tlearn: 0.1978841\ttotal: 41.4s\tremaining: 1m 57s\n",
      "13:\tlearn: 0.1907117\ttotal: 44.7s\tremaining: 1m 54s\n",
      "14:\tlearn: 0.1846718\ttotal: 47.7s\tremaining: 1m 51s\n",
      "15:\tlearn: 0.1782153\ttotal: 51s\tremaining: 1m 48s\n",
      "16:\tlearn: 0.1736482\ttotal: 54.2s\tremaining: 1m 45s\n",
      "17:\tlearn: 0.1693375\ttotal: 57.3s\tremaining: 1m 41s\n",
      "18:\tlearn: 0.1630935\ttotal: 1m\tremaining: 1m 38s\n",
      "19:\tlearn: 0.1570308\ttotal: 1m 3s\tremaining: 1m 35s\n",
      "20:\tlearn: 0.1527787\ttotal: 1m 6s\tremaining: 1m 32s\n",
      "21:\tlearn: 0.1498233\ttotal: 1m 10s\tremaining: 1m 29s\n",
      "22:\tlearn: 0.1437070\ttotal: 1m 13s\tremaining: 1m 25s\n",
      "23:\tlearn: 0.1362041\ttotal: 1m 16s\tremaining: 1m 22s\n",
      "24:\tlearn: 0.1300357\ttotal: 1m 19s\tremaining: 1m 19s\n",
      "25:\tlearn: 0.1249929\ttotal: 1m 22s\tremaining: 1m 16s\n",
      "26:\tlearn: 0.1190564\ttotal: 1m 25s\tremaining: 1m 13s\n",
      "27:\tlearn: 0.1146647\ttotal: 1m 29s\tremaining: 1m 10s\n",
      "28:\tlearn: 0.1102061\ttotal: 1m 32s\tremaining: 1m 6s\n",
      "29:\tlearn: 0.1047917\ttotal: 1m 35s\tremaining: 1m 3s\n",
      "30:\tlearn: 0.1033437\ttotal: 1m 39s\tremaining: 1m\n",
      "31:\tlearn: 0.1000200\ttotal: 1m 42s\tremaining: 57.4s\n",
      "32:\tlearn: 0.0971039\ttotal: 1m 45s\tremaining: 54.1s\n",
      "33:\tlearn: 0.0947282\ttotal: 1m 48s\tremaining: 50.9s\n",
      "34:\tlearn: 0.0906076\ttotal: 1m 51s\tremaining: 47.8s\n",
      "35:\tlearn: 0.0867866\ttotal: 1m 54s\tremaining: 44.6s\n",
      "36:\tlearn: 0.0833547\ttotal: 1m 57s\tremaining: 41.4s\n",
      "37:\tlearn: 0.0807774\ttotal: 2m\tremaining: 38.2s\n",
      "38:\tlearn: 0.0784584\ttotal: 2m 3s\tremaining: 35s\n",
      "39:\tlearn: 0.0759076\ttotal: 2m 6s\tremaining: 31.7s\n",
      "40:\tlearn: 0.0730420\ttotal: 2m 9s\tremaining: 28.5s\n",
      "41:\tlearn: 0.0706832\ttotal: 2m 12s\tremaining: 25.3s\n",
      "42:\tlearn: 0.0685906\ttotal: 2m 15s\tremaining: 22.1s\n",
      "43:\tlearn: 0.0664557\ttotal: 2m 18s\tremaining: 18.9s\n",
      "44:\tlearn: 0.0648015\ttotal: 2m 22s\tremaining: 15.8s\n",
      "45:\tlearn: 0.0622353\ttotal: 2m 25s\tremaining: 12.7s\n",
      "46:\tlearn: 0.0605363\ttotal: 2m 28s\tremaining: 9.51s\n",
      "47:\tlearn: 0.0584489\ttotal: 2m 31s\tremaining: 6.33s\n",
      "48:\tlearn: 0.0566539\ttotal: 2m 35s\tremaining: 3.17s\n",
      "49:\tlearn: 0.0552007\ttotal: 2m 38s\tremaining: 0us\n",
      "Corss-vallidation scores for Cat boost:{'fit_time': array([164.30051661, 163.44249392, 157.66863894, 159.60546207,\n",
      "       159.02526402]), 'score_time': array([0.15864944, 0.14862514, 0.15285063, 0.15486979, 0.16049218]), 'test_acc': array([0.84097402, 0.84466617, 0.84303987, 0.84506176, 0.84496703]), 'test_cohen_kappa': array([0.49932457, 0.51005132, 0.50699521, 0.51356812, 0.51557301])}\n",
      "Mean accuracuy cross-validation score for CatBoost: 0.8437\n",
      "Mean cohen kappa cross-validation score for CatBoost: 0.5681\n"
     ]
    }
   ],
   "source": [
    "cbscores=cross_validate(model_cb,X_train,Y_train,cv=5,scoring=scoring)\n",
    "print(\"Corss-vallidation scores for Cat boost:{}\".format(cbscores))\n",
    "print(\"Mean accuracuy cross-validation score for CatBoost: {:.4f}\".format(cbscores[\"test_acc\"].mean()))\n",
    "print(\"Mean cohen kappa cross-validation score for CatBoost: {:.4f}\".format(xgbscores[\"test_cohen_kappa\"].mean()))"
   ]
  },
  {
   "cell_type": "code",
   "execution_count": 119,
   "metadata": {},
   "outputs": [
    {
     "data": {
      "image/png": "[encoded data removed]",
      "text/plain": [
       "<Figure size 1080x720 with 1 Axes>"
      ]
     },
     "metadata": {
      "needs_background": "light"
     },
     "output_type": "display_data"
    }
   ],
   "source": [
    "data = [aclist,\n",
    "        f1list,\n",
    "        cklist]\n",
    "labels = ['Logistic Regression', 'Gradient Boosting', 'Naive Bayes (Bernoulli)', 'Naive Bayes (Gaussian)', 'Random Forest Regressor'\n",
    "         , 'Random Forest Classifier', 'SVM', 'Neural Networks','Cat Boost']\n",
    "\n",
    "X = np.arange(len(labels))\n",
    "ind = range(2, len(labels))\n",
    "fig = plt.figure()\n",
    "ax = fig.add_axes([0,0,1,1])\n",
    "rects1 = ax.bar(X - 0.25, data[0], color = 'tab:blue', width = 0.25, align=\"center\")\n",
    "rects2 = ax.bar(X + 0.00, data[1], color = 'tab:green', width = 0.25, align=\"center\")\n",
    "rects3 = ax.bar(X + 0.25, data[2], color = 'tab:red', width = 0.25, align=\"center\")\n",
    "ax.legend(labels=[\"Accuracy\",'F1 Score','Cohen Kappa'], fontsize='medium')\n",
    "ax.set_ylabel('Scores')\n",
    "ax.set_xlabel('Models')\n",
    "ax.set_title('Models Performance by Evaluation Measures')\n",
    "\n",
    "# ax.bar_label(rects1, padding=3)\n",
    "# ax.bar_label(rects2, padding=3)\n",
    "# ax.bar_label(rects3, padding=3)\n",
    "\n",
    "ax.set_xticks(X)\n",
    "ax.set_xticklabels(labels,rotation=-45)\n",
    "\n",
    "fig.set_size_inches(15, 10)\n"
   ]
  },
  {
   "cell_type": "code",
   "execution_count": 117,
   "metadata": {},
   "outputs": [],
   "source": [
    "tlist=[1.64,638.82,0.57,0.32,186.19,8.33,1660.7,1031.64,175.55]"
   ]
  },
  {
   "cell_type": "code",
   "execution_count": 120,
   "metadata": {},
   "outputs": [
    {
     "data": {
      "image/png": "[encoded data removed]",
      "text/plain": [
       "<Figure size 1080x720 with 1 Axes>"
      ]
     },
     "metadata": {
      "needs_background": "light"
     },
     "output_type": "display_data"
    }
   ],
   "source": [
    "x1 = tlist[0]\n",
    "y1 = aclist[0]\n",
    "x2 = tlist[1]\n",
    "y2 = aclist[1]\n",
    "x3 = tlist[2]\n",
    "y3 = aclist[2]\n",
    "x4 = tlist[3]\n",
    "y4 = aclist[3]\n",
    "x5 = tlist[4]\n",
    "y5 = aclist[4]\n",
    "x6 = tlist[5]\n",
    "y6 = aclist[5]\n",
    "x7 = tlist[6]\n",
    "y7 = aclist[6]\n",
    "x8 = tlist[7]\n",
    "y8 = aclist[7]\n",
    "x9 = tlist[8]\n",
    "y9 = aclist[8]\n",
    "\n",
    "plt.scatter(x1,y1, label=labels[0],color='r')\n",
    "plt.scatter(x2,y2,label=labels[1],color='b')\n",
    "plt.scatter(x3,y3,label=labels[2],color='g')\n",
    "plt.scatter(x4,y4,label=labels[3],color='c')\n",
    "plt.scatter(x5,y5,label=labels[4],color='m')\n",
    "plt.scatter(x6,y6,label=labels[5],color='y')\n",
    "plt.scatter(x7,y7,label=labels[6],color='k')\n",
    "plt.scatter(x8,y8,label=labels[7],color='purple')\n",
    "plt.scatter(x9,y9,label=labels[8],color='darkred')\n",
    "\n",
    "\n",
    "plt.title('Accuracy - Training Time Comparison')\n",
    "plt.xlabel('Training Time (s)')\n",
    "plt.ylabel('Accuracy')\n",
    "plt.legend()\n",
    "plt.rcParams[\"figure.figsize\"]=(15,10)\n",
    "\n",
    "plt.show()"
   ]
  },
  {
   "cell_type": "code",
   "execution_count": 113,
   "metadata": {},
   "outputs": [],
   "source": [
    "fivefoldaclist=[.8474,.8633,.7625,.6465,.8209,.8471,.8437]\n",
    "fivefoldcklist=[.5083,.5681,.3201,.2449,.3165,.4968,.5681]"
   ]
  },
  {
   "cell_type": "code",
   "execution_count": 123,
   "metadata": {},
   "outputs": [
    {
     "data": {
      "image/png": "[encoded data removed]",
      "text/plain": [
       "<Figure size 1080x720 with 1 Axes>"
      ]
     },
     "metadata": {
      "needs_background": "light"
     },
     "output_type": "display_data"
    }
   ],
   "source": [
    "data = [fivefoldaclist,\n",
    "        fivefoldcklist]\n",
    "labels = ['Logistic Regression', 'Gradient Boosting', 'Naive Bayes (Bernoulli)', 'Naive Bayes (Gaussian)'\n",
    "         ,'Random Forest Classifier', 'SVM','Cat Boost']\n",
    "\n",
    "X = np.arange(len(labels))\n",
    "ind = range(2, len(labels))\n",
    "fig = plt.figure()\n",
    "ax = fig.add_axes([0,0,1,1])\n",
    "rects2 = ax.bar(X - 0.125, data[0], color = 'tab:blue', width = 0.25, align=\"center\")\n",
    "rects3 = ax.bar(X + 0.125, data[1], color = 'tab:red', width = 0.25, align=\"center\")\n",
    "ax.legend(labels=['Accuracy','Cohen Kappa'], fontsize='medium')\n",
    "ax.set_ylabel('Scores')\n",
    "ax.set_xlabel('Models')\n",
    "ax.set_title('5-Fold Cross Validation Accuracy')\n",
    "\n",
    "ax.set_xticks(X)\n",
    "ax.set_xticklabels(labels,rotation=-45)\n",
    "\n",
    "fig.set_size_inches(15, 10)\n"
   ]
  },
  {
   "cell_type": "code",
   "execution_count": 4,
   "metadata": {},
   "outputs": [
    {
     "data": {
      "text/plain": [
       "0         0.6\n",
       "1         0.0\n",
       "2         0.0\n",
       "3         0.0\n",
       "4         1.0\n",
       "         ... \n",
       "145455    0.0\n",
       "145456    0.0\n",
       "145457    0.0\n",
       "145458    0.0\n",
       "145459    0.0\n",
       "Name: Rainfall, Length: 145460, dtype: float64"
      ]
     },
     "execution_count": 4,
     "metadata": {},
     "output_type": "execute_result"
    }
   ],
   "source": [
    "data['Rainfall']"
   ]
  },
  {
   "cell_type": "code",
   "execution_count": 5,
   "metadata": {},
   "outputs": [
    {
     "data": {
      "text/plain": [
       "array(['Albury', 'BadgerysCreek', 'Cobar', 'CoffsHarbour', 'Moree',\n",
       "       'Newcastle', 'NorahHead', 'NorfolkIsland', 'Penrith', 'Richmond',\n",
       "       'Sydney', 'SydneyAirport', 'WaggaWagga', 'Williamtown',\n",
       "       'Wollongong', 'Canberra', 'Tuggeranong', 'MountGinini', 'Ballarat',\n",
       "       'Bendigo', 'Sale', 'MelbourneAirport', 'Melbourne', 'Mildura',\n",
       "       'Nhil', 'Portland', 'Watsonia', 'Dartmoor', 'Brisbane', 'Cairns',\n",
       "       'GoldCoast', 'Townsville', 'Adelaide', 'MountGambier', 'Nuriootpa',\n",
       "       'Woomera', 'Albany', 'Witchcliffe', 'PearceRAAF', 'PerthAirport',\n",
       "       'Perth', 'SalmonGums', 'Walpole', 'Hobart', 'Launceston',\n",
       "       'AliceSprings', 'Darwin', 'Katherine', 'Uluru'], dtype=object)"
      ]
     },
     "execution_count": 5,
     "metadata": {},
     "output_type": "execute_result"
    }
   ],
   "source": [
    "data.Location.unique()"
   ]
  },
  {
   "cell_type": "code",
   "execution_count": 6,
   "metadata": {},
   "outputs": [],
   "source": [
    "# List of most popular Australian cities and villages\n",
    "australian_cities = ['Albury','CoffsHarbour','Newcastle','Sydney','WaggaWagga',\n",
    "'Wollongong','Canberra','Ballarat','Bendigo','Melbourne','Portland','Brisbane','Cairns','GoldCoast','Townsville','Adelaide',\n",
    "'Albany','Perth','Hobart','Launceston','AliceSprings','Darwin','Katherine','Uluru']"
   ]
  },
  {
   "cell_type": "code",
   "execution_count": 7,
   "metadata": {},
   "outputs": [],
   "source": [
    "australian_weather = data[data.Location.isin(australian_cities)]"
   ]
  },
  {
   "cell_type": "code",
   "execution_count": 8,
   "metadata": {},
   "outputs": [],
   "source": [
    "australian_weather['Date']=pd.to_datetime(australian_weather['Date'])"
   ]
  },
  {
   "cell_type": "code",
   "execution_count": 9,
   "metadata": {},
   "outputs": [],
   "source": [
    "#Day, Month, Year\n",
    "australian_weather['day'] = australian_weather['Date'].dt.day\n",
    "australian_weather['month'] = australian_weather['Date'].dt.month\n",
    "australian_weather['year'] = australian_weather['Date'].dt.year"
   ]
  },
  {
   "cell_type": "code",
   "execution_count": 10,
   "metadata": {},
   "outputs": [],
   "source": [
    "latitude=[]\n",
    "for row in australian_weather['Location']:\n",
    "    if row == 'Albury':\n",
    "        latitude.append(-36.073730)\n",
    "    elif row == 'CoffsHarbour':\n",
    "        latitude.append(-30.296350)\n",
    "    elif row == 'Newcastle':\n",
    "        latitude.append(-32.926670)\n",
    "    elif row == 'Sydney':\n",
    "        latitude.append(-33.868820)\n",
    "    elif row == 'WaggaWagga':\n",
    "        latitude.append(-35.114750)\n",
    "    elif row == 'Wollongong':\n",
    "        latitude.append(-34.424179)\n",
    "    elif row == 'Canberra':\n",
    "        latitude.append(-35.282001)\n",
    "    elif row == 'Ballarat':\n",
    "        latitude.append(-37.549999)\n",
    "    elif row == 'Bendigo':\n",
    "        latitude.append(-36.757786)\n",
    "    elif row == 'Melbourne':\n",
    "        latitude.append(-37.840935)\n",
    "    elif row == 'Portland':\n",
    "        latitude.append(-38.346345)\n",
    "    elif row == 'Brisbane':\n",
    "        latitude.append(-27.470125)\n",
    "    elif row == 'Cairns':\n",
    "        latitude.append(-16.925491)\n",
    "    elif row == 'GoldCoast':\n",
    "        latitude.append(-28.016666)\n",
    "    elif row == 'Townsville':\n",
    "        latitude.append(-19.258965)\n",
    "    elif row == 'Adelaide':\n",
    "        latitude.append(-34.921230)\n",
    "    elif row == 'Albany':\n",
    "        latitude.append(-35.022778)\n",
    "    elif row == 'Perth':\n",
    "        latitude.append(-31.953512)\n",
    "    elif row == 'Hobart':\n",
    "        latitude.append(-42.880554)\n",
    "    elif row == 'Launceston':\n",
    "        latitude.append(-41.429825)\n",
    "    elif row == 'AliceSprings':\n",
    "        latitude.append(-23.700552)\n",
    "    elif row == 'Darwin':\n",
    "        latitude.append(-12.462827)\n",
    "    elif row == 'Katherine':\n",
    "        latitude.append(-14.46517)\n",
    "    elif row == 'Uluru':\n",
    "        latitude.append(-25.344490)\n",
    "    else:\n",
    "        latitude.append('Not Defined')\n",
    "        "
   ]
  },
  {
   "cell_type": "code",
   "execution_count": 11,
   "metadata": {},
   "outputs": [],
   "source": [
    "longitude=[]\n",
    "for row in australian_weather['Location']:\n",
    "    if row == 'Albury':\n",
    "        longitude.append(146.913544)\n",
    "    elif row == 'CoffsHarbour':\n",
    "        longitude.append(153.115692)\n",
    "    elif row == 'Newcastle':\n",
    "        longitude.append(151.780014)\n",
    "    elif row == 'Sydney':\n",
    "        longitude.append(151.209290)\n",
    "    elif row == 'WaggaWagga':\n",
    "        longitude.append(147.369620)\n",
    "    elif row == 'Wollongong':\n",
    "        longitude.append(150.893555)\n",
    "    elif row == 'Canberra':\n",
    "        longitude.append(149.128998)\n",
    "    elif row == 'Ballarat':\n",
    "        longitude.append(143.850006)\n",
    "    elif row == 'Bendigo':\n",
    "        longitude.append(144.278702)\n",
    "    elif row == 'Melbourne':\n",
    "        longitude.append(144.946457)\n",
    "    elif row == 'Portland':\n",
    "        longitude.append(141.60421)\n",
    "    elif row == 'Brisbane':\n",
    "        longitude.append(153.021072)\n",
    "    elif row == 'Cairns':\n",
    "        longitude.append(145.754120)\n",
    "    elif row == 'GoldCoast':\n",
    "        longitude.append(153.399994)\n",
    "    elif row == 'Townsville':\n",
    "        longitude.append(146.816956)\n",
    "    elif row == 'Adelaide':\n",
    "        longitude.append(138.599503)\n",
    "    elif row == 'Albany':\n",
    "        longitude.append(117.881386)\n",
    "    elif row == 'Perth':\n",
    "        longitude.append(115.857048)\n",
    "    elif row == 'Hobart':\n",
    "        longitude.append(147.324997)\n",
    "    elif row == 'Launceston':\n",
    "        longitude.append(147.157135)\n",
    "    elif row == 'AliceSprings':\n",
    "        longitude.append(133.882675)\n",
    "    elif row == 'Darwin':\n",
    "        longitude.append(130.841782)\n",
    "    elif row == 'Katherine':\n",
    "        longitude.append(132.26347)\n",
    "    elif row == 'Uluru':\n",
    "        longitude.append(131.035431)\n",
    "    else:\n",
    "        longitude.append('Not Defined')"
   ]
  },
  {
   "cell_type": "code",
   "execution_count": 12,
   "metadata": {},
   "outputs": [],
   "source": [
    "# Add geographic location\n",
    "australian_weather['Latitude'] = latitude\n",
    "australian_weather['Longitude'] = longitude"
   ]
  },
  {
   "cell_type": "code",
   "execution_count": 13,
   "metadata": {},
   "outputs": [
    {
     "data": {
      "text/html": [
       "<div>\n",
       "<style scoped>\n",
       "    .dataframe tbody tr th:only-of-type {\n",
       "        vertical-align: middle;\n",
       "    }\n",
       "\n",
       "    .dataframe tbody tr th {\n",
       "        vertical-align: top;\n",
       "    }\n",
       "\n",
       "    .dataframe thead th {\n",
       "        text-align: right;\n",
       "    }\n",
       "</style>\n",
       "<table border=\"1\" class=\"dataframe\">\n",
       "  <thead>\n",
       "    <tr style=\"text-align: right;\">\n",
       "      <th></th>\n",
       "      <th>Location</th>\n",
       "      <th>month</th>\n",
       "      <th>Latitude</th>\n",
       "      <th>Longitude</th>\n",
       "      <th>Rainfall</th>\n",
       "    </tr>\n",
       "  </thead>\n",
       "  <tbody>\n",
       "    <tr>\n",
       "      <th>287</th>\n",
       "      <td>Wollongong</td>\n",
       "      <td>12</td>\n",
       "      <td>-34.424179</td>\n",
       "      <td>150.893555</td>\n",
       "      <td>3.218182</td>\n",
       "    </tr>\n",
       "  </tbody>\n",
       "</table>\n",
       "</div>"
      ],
      "text/plain": [
       "       Location  month   Latitude   Longitude  Rainfall\n",
       "287  Wollongong     12 -34.424179  150.893555  3.218182"
      ]
     },
     "execution_count": 13,
     "metadata": {},
     "output_type": "execute_result"
    }
   ],
   "source": [
    "average_rainfall_aus = australian_weather.groupby(['Location','month','Latitude','Longitude']).Rainfall.mean().reset_index()\n",
    "average_rainfall_aus.tail(1)"
   ]
  },
  {
   "cell_type": "code",
   "execution_count": 14,
   "metadata": {},
   "outputs": [],
   "source": [
    "#Average Rainfall by month\n",
    "rainfall_jan = average_rainfall_aus[average_rainfall_aus.month == 1]\n",
    "rainfall_feb = average_rainfall_aus[average_rainfall_aus.month == 2]\n",
    "rainfall_spring = average_rainfall_aus[average_rainfall_aus.month == 3]\n",
    "rainfall_apr = average_rainfall_aus[average_rainfall_aus.month == 4]\n",
    "rainfall_may = average_rainfall_aus[average_rainfall_aus.month == 5]\n",
    "rainfall_summer = average_rainfall_aus[average_rainfall_aus.month == 6]\n",
    "rainfall_jul = average_rainfall_aus[average_rainfall_aus.month == 7]\n",
    "rainfall_aug = average_rainfall_aus[average_rainfall_aus.month == 8]\n",
    "rainfall_fall = average_rainfall_aus[average_rainfall_aus.month == 9]\n",
    "rainfall_oct = average_rainfall_aus[average_rainfall_aus.month == 10]\n",
    "rainfall_nov = average_rainfall_aus[average_rainfall_aus.month == 11]\n",
    "rainfall_winter = average_rainfall_aus[average_rainfall_aus.month == 12]"
   ]
  },
  {
   "cell_type": "code",
   "execution_count": 15,
   "metadata": {},
   "outputs": [
    {
     "data": {
      "text/html": [
       "<div>\n",
       "<style scoped>\n",
       "    .dataframe tbody tr th:only-of-type {\n",
       "        vertical-align: middle;\n",
       "    }\n",
       "\n",
       "    .dataframe tbody tr th {\n",
       "        vertical-align: top;\n",
       "    }\n",
       "\n",
       "    .dataframe thead th {\n",
       "        text-align: right;\n",
       "    }\n",
       "</style>\n",
       "<table border=\"1\" class=\"dataframe\">\n",
       "  <thead>\n",
       "    <tr style=\"text-align: right;\">\n",
       "      <th></th>\n",
       "      <th>Location</th>\n",
       "      <th>month</th>\n",
       "      <th>Latitude</th>\n",
       "      <th>Longitude</th>\n",
       "      <th>Rainfall</th>\n",
       "    </tr>\n",
       "  </thead>\n",
       "  <tbody>\n",
       "    <tr>\n",
       "      <th>8</th>\n",
       "      <td>Adelaide</td>\n",
       "      <td>9</td>\n",
       "      <td>-34.921230</td>\n",
       "      <td>138.599503</td>\n",
       "      <td>1.809125</td>\n",
       "    </tr>\n",
       "    <tr>\n",
       "      <th>20</th>\n",
       "      <td>Albany</td>\n",
       "      <td>9</td>\n",
       "      <td>-35.022778</td>\n",
       "      <td>117.881386</td>\n",
       "      <td>3.594167</td>\n",
       "    </tr>\n",
       "    <tr>\n",
       "      <th>32</th>\n",
       "      <td>Albury</td>\n",
       "      <td>9</td>\n",
       "      <td>-36.073730</td>\n",
       "      <td>146.913544</td>\n",
       "      <td>2.121552</td>\n",
       "    </tr>\n",
       "    <tr>\n",
       "      <th>44</th>\n",
       "      <td>AliceSprings</td>\n",
       "      <td>9</td>\n",
       "      <td>-23.700552</td>\n",
       "      <td>133.882675</td>\n",
       "      <td>0.451667</td>\n",
       "    </tr>\n",
       "    <tr>\n",
       "      <th>56</th>\n",
       "      <td>Ballarat</td>\n",
       "      <td>9</td>\n",
       "      <td>-37.549999</td>\n",
       "      <td>143.850006</td>\n",
       "      <td>2.632911</td>\n",
       "    </tr>\n",
       "    <tr>\n",
       "      <th>...</th>\n",
       "      <td>...</td>\n",
       "      <td>...</td>\n",
       "      <td>...</td>\n",
       "      <td>...</td>\n",
       "      <td>...</td>\n",
       "    </tr>\n",
       "    <tr>\n",
       "      <th>238</th>\n",
       "      <td>Sydney</td>\n",
       "      <td>11</td>\n",
       "      <td>-33.868820</td>\n",
       "      <td>151.209290</td>\n",
       "      <td>2.913534</td>\n",
       "    </tr>\n",
       "    <tr>\n",
       "      <th>250</th>\n",
       "      <td>Townsville</td>\n",
       "      <td>11</td>\n",
       "      <td>-19.258965</td>\n",
       "      <td>146.816956</td>\n",
       "      <td>1.815833</td>\n",
       "    </tr>\n",
       "    <tr>\n",
       "      <th>262</th>\n",
       "      <td>Uluru</td>\n",
       "      <td>11</td>\n",
       "      <td>-25.344490</td>\n",
       "      <td>131.035431</td>\n",
       "      <td>0.489076</td>\n",
       "    </tr>\n",
       "    <tr>\n",
       "      <th>274</th>\n",
       "      <td>WaggaWagga</td>\n",
       "      <td>11</td>\n",
       "      <td>-35.114750</td>\n",
       "      <td>147.369620</td>\n",
       "      <td>2.069492</td>\n",
       "    </tr>\n",
       "    <tr>\n",
       "      <th>286</th>\n",
       "      <td>Wollongong</td>\n",
       "      <td>11</td>\n",
       "      <td>-34.424179</td>\n",
       "      <td>150.893555</td>\n",
       "      <td>4.034454</td>\n",
       "    </tr>\n",
       "  </tbody>\n",
       "</table>\n",
       "<p>72 rows × 5 columns</p>\n",
       "</div>"
      ],
      "text/plain": [
       "         Location  month   Latitude   Longitude  Rainfall\n",
       "8        Adelaide      9 -34.921230  138.599503  1.809125\n",
       "20         Albany      9 -35.022778  117.881386  3.594167\n",
       "32         Albury      9 -36.073730  146.913544  2.121552\n",
       "44   AliceSprings      9 -23.700552  133.882675  0.451667\n",
       "56       Ballarat      9 -37.549999  143.850006  2.632911\n",
       "..            ...    ...        ...         ...       ...\n",
       "238        Sydney     11 -33.868820  151.209290  2.913534\n",
       "250    Townsville     11 -19.258965  146.816956  1.815833\n",
       "262         Uluru     11 -25.344490  131.035431  0.489076\n",
       "274    WaggaWagga     11 -35.114750  147.369620  2.069492\n",
       "286    Wollongong     11 -34.424179  150.893555  4.034454\n",
       "\n",
       "[72 rows x 5 columns]"
      ]
     },
     "execution_count": 15,
     "metadata": {},
     "output_type": "execute_result"
    }
   ],
   "source": [
    "rainfall_winter.append(rainfall_jan).append(rainfall_feb)\n",
    "rainfall_spring.append(rainfall_apr).append(rainfall_may)\n",
    "rainfall_summer.append(rainfall_jul).append(rainfall_aug)\n",
    "rainfall_fall.append(rainfall_oct).append(rainfall_nov)"
   ]
  },
  {
   "cell_type": "code",
   "execution_count": 17,
   "metadata": {},
   "outputs": [
    {
     "data": {
      "image/png": "[encoded data removed]",
      "text/plain": [
       "<Figure size 1440x1080 with 5 Axes>"
      ]
     },
     "metadata": {
      "needs_background": "light"
     },
     "output_type": "display_data"
    }
   ],
   "source": [
    "fig = plt.figure(figsize=(20,15))\n",
    "\n",
    "fig.suptitle(\"Rain in Australia\",fontsize=10)\n",
    "\n",
    "ax = fig.add_subplot(141)\n",
    "ax.set_title(\"Winter Rainfall\", fontsize=20)\n",
    "# Make the background map\n",
    "m=Basemap(projection = 'mill', llcrnrlat = -50, urcrnrlat = -5, llcrnrlon = 100, urcrnrlon = 160, resolution = 'h')\n",
    "m.drawmapboundary(fill_color='#A6CAE0', linewidth=0);\n",
    "m.fillcontinents(color='grey', alpha=0.3);\n",
    "m.drawcoastlines(linewidth=0.1, color=\"white\");\n",
    "\n",
    "lon = list(rainfall_winter[\"Longitude\"].astype(float))\n",
    "lat = list(rainfall_winter[\"Latitude\"].astype(float))\n",
    "rainfall = list((rainfall_winter['Rainfall']).astype(float))\n",
    "\n",
    "#add scatterplot\n",
    "m.scatter(lon, lat, latlon=True,\n",
    "          c=rainfall, \n",
    "          cmap='YlOrRd', alpha=0.9)\n",
    "\n",
    "#legend\n",
    "# c = plt.colorbar(orientation='vertical', shrink = 0.5)\n",
    "# c.set_label(\"Rainfall\")\n",
    "# plt.clim(0, 18)\n",
    "\n",
    "ax = fig.add_subplot(142)\n",
    "ax.set_title(\"Spring Rainfall\",fontsize=20)\n",
    "# Make the background map\n",
    "m=Basemap(projection = 'mill', llcrnrlat = -50, urcrnrlat = -5, llcrnrlon = 100, urcrnrlon = 160, resolution = 'h')\n",
    "m.drawmapboundary(fill_color='#A6CAE0', linewidth=0);\n",
    "m.fillcontinents(color='grey', alpha=0.3);\n",
    "m.drawcoastlines(linewidth=0.1, color=\"white\");\n",
    "\n",
    "lon = list(rainfall_spring[\"Longitude\"].astype(float))\n",
    "lat = list(rainfall_spring[\"Latitude\"].astype(float))\n",
    "rainfall = list((rainfall_spring['Rainfall']).astype(float))\n",
    "\n",
    "#add scatterplot\n",
    "m.scatter(lon, lat, latlon=True,\n",
    "          c=rainfall, \n",
    "          cmap='YlOrRd', alpha=0.9)\n",
    "\n",
    "#legend\n",
    "# c = plt.colorbar(orientation='vertical', shrink = 0.5)\n",
    "# c.set_label(\"Rainfall\")\n",
    "# plt.clim(0, 18)\n",
    "\n",
    "ax = fig.add_subplot(143)\n",
    "ax.set_title(\"Summer Rainfall\", fontsize=20)\n",
    "# Make the background map\n",
    "m=Basemap(projection = 'mill', llcrnrlat = -50, urcrnrlat = -5, llcrnrlon = 100, urcrnrlon = 160, resolution = 'h')\n",
    "m.drawmapboundary(fill_color='#A6CAE0', linewidth=0);\n",
    "m.fillcontinents(color='grey', alpha=0.3);\n",
    "m.drawcoastlines(linewidth=0.1, color=\"white\");\n",
    "\n",
    "lon = list(rainfall_summer[\"Longitude\"].astype(float))\n",
    "lat = list(rainfall_summer[\"Latitude\"].astype(float))\n",
    "rainfall = list((rainfall_summer['Rainfall']).astype(float))\n",
    "\n",
    "#add scatterplot\n",
    "m.scatter(lon, lat, latlon=True,\n",
    "          c=rainfall, \n",
    "          cmap='YlOrRd', alpha=0.9)\n",
    "\n",
    "#legend\n",
    "# c = plt.colorbar(orientation='vertical', shrink = 0.5)\n",
    "# c.set_label(\"Rainfall\")\n",
    "# plt.clim(0, 18)\n",
    "\n",
    "\n",
    "ax = fig.add_subplot(144)\n",
    "ax.set_title(\"Fall Rainfall\", fontsize=20)\n",
    "\n",
    "# Make the background map\n",
    "m=Basemap(projection = 'mill', llcrnrlat = -50, urcrnrlat = -5, llcrnrlon = 100, urcrnrlon = 160, resolution = 'h')\n",
    "m.drawmapboundary(fill_color='#A6CAE0', linewidth=0);\n",
    "m.fillcontinents(color='grey', alpha=0.3);\n",
    "m.drawcoastlines(linewidth=0.1, color=\"white\");\n",
    "\n",
    "lon = list(rainfall_fall[\"Longitude\"].astype(float))\n",
    "lat = list(rainfall_fall[\"Latitude\"].astype(float))\n",
    "rainfall = list((rainfall_fall['Rainfall']).astype(float))\n",
    "\n",
    "#add scatterplot\n",
    "m.scatter(lon, lat, latlon=True,\n",
    "          c=rainfall, \n",
    "          cmap='YlOrRd', alpha=0.9)\n",
    "\n",
    "#legend\n",
    "c = plt.colorbar(orientation='vertical', shrink = 0.5)\n",
    "c.set_label(\"Rainfall\")\n",
    "plt.clim(0, 18)"
   ]
  }
 ],
 "metadata": {
  "kernelspec": {
   "display_name": "Python 3",
   "language": "python",
   "name": "python3"
  },
  "language_info": {
   "codemirror_mode": {
    "name": "ipython",
    "version": 3
   },
   "file_extension": ".py",
   "mimetype": "text/x-python",
   "name": "python",
   "nbconvert_exporter": "python",
   "pygments_lexer": "ipython3",
   "version": "3.8.6"
  }
 },
 "nbformat": 4,
 "nbformat_minor": 2
}
